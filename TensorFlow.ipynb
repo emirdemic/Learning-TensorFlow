{
  "nbformat": 4,
  "nbformat_minor": 0,
  "metadata": {
    "colab": {
      "name": "TensorFlow.ipynb",
      "provenance": [],
      "collapsed_sections": [
        "FpAFduYWbqjH"
      ],
      "toc_visible": true,
      "authorship_tag": "ABX9TyOeXwUBcK6L9V9CgfHnPtK6",
      "include_colab_link": true
    },
    "kernelspec": {
      "name": "python3",
      "display_name": "Python 3"
    },
    "language_info": {
      "name": "python"
    }
  },
  "cells": [
    {
      "cell_type": "markdown",
      "metadata": {
        "id": "view-in-github",
        "colab_type": "text"
      },
      "source": [
        "<a href=\"https://colab.research.google.com/github/emirdemic/Learning-TensorFlow/blob/main/TensorFlow.ipynb\" target=\"_parent\"><img src=\"https://colab.research.google.com/assets/colab-badge.svg\" alt=\"Open In Colab\"/></a>"
      ]
    },
    {
      "cell_type": "markdown",
      "metadata": {
        "id": "LW4TltI3ZTTk"
      },
      "source": [
        "# **TensorFlow Tutorial**\n",
        "\n",
        "\n",
        "\n",
        "This notebook contains practices and notes from Daniel Bourke's 14 hours long tutorial on TensorFlow 2.0. This notebook is separated into different parts in accordance to how Daniel's video is split. \n",
        "\n",
        "Note that this notebook also contains some trivial theory and/or code, but I've decided to insert that as well since I wanted the notebook to be as representative of the tutorial as possible.\n",
        "\n",
        "If you want to run some chunk of code, please run all the code included in that section.\n",
        "\n",
        "\n",
        "---\n",
        "\n",
        "\n",
        "\n",
        "\n"
      ]
    },
    {
      "cell_type": "markdown",
      "metadata": {
        "id": "W__oxrb8cS1_"
      },
      "source": [
        "## Introduction to DL"
      ]
    },
    {
      "cell_type": "code",
      "metadata": {
        "id": "o7jan22S0VMc"
      },
      "source": [
        "import numpy as np \n",
        "import pandas as pd\n",
        "import tensorflow as ts \n",
        "from tensorflow.keras.utils import plot_model\n",
        "import plotly.express as px \n",
        "from sklearn.model_selection import train_test_split \n",
        "from sklearn.compose import make_column_transformer\n",
        "from sklearn.preprocessing import MinMaxScaler, OneHotEncoder "
      ],
      "execution_count": 12,
      "outputs": []
    },
    {
      "cell_type": "markdown",
      "metadata": {
        "id": "-Adb-jnSaES1"
      },
      "source": [
        "### Deap Learning\n",
        "\n",
        "\n",
        "Deep learning is a type of machine learning based on artificial neural networks in which multiple layers of processing are used to extract progressively higher level features from data. \n",
        "\n",
        "So what is the difference between a traditional programming and machine learning programmings? In a traditional programming, we have some inputs, then we establish some rules in order to get the output. However, in machine learning, we start with inputs and the ideal outputs and then we try to find some rules between inputs and outputs. How do we find those rules? Well, we use machine learning algorithms such as linear regression, logistic regression, SVM, etc. "
      ]
    },
    {
      "cell_type": "markdown",
      "metadata": {
        "id": "FpAFduYWbqjH"
      },
      "source": [
        "### Why Should We Use Deep learning?\n",
        "\n",
        "For complex problems, thinking about all the rules is nearly impossible. Furthermore, when we take into account that those rule might change in different situations, it becomes impossible to solve some problems using traditional programming paradigms. However, if we can build a simple rule-based system that doesn't require deep learning, then don't use deep learning. If a problem is completely deterministic with a finite set of rules, deep learning is a over-kill or could even underperform in comparison to a traditional programming paradigm. \n",
        "\n",
        "Deep learning is useful when we have problems with long lists of rules, when we are continually chaning environments, or when we want to discover insights within large collections of data.\n",
        "\n",
        "In which situations *deep learning* is typically not that good for? The first one is when we need explainability of our model. Futhermore, deep learning is probably not a best option when the traditional approach is a better option, when errors are unacceptable, or when we don't have much data. \n",
        "<br></br>\n",
        "So, when to use traditional ML algorithms and when to use DL algorithms? Traditional ML algorithms are often the best choice for structured data, while DL algorithms often outperform traditional ML algorithms on unstructured data (pictures, videos, sentences, etc.). "
      ]
    },
    {
      "cell_type": "markdown",
      "metadata": {
        "id": "E6wFK_L7rWDC"
      },
      "source": [
        "### What are Neural Networks?\n",
        "\n"
      ]
    },
    {
      "cell_type": "markdown",
      "metadata": {
        "id": "-PYKDD9-jsfc"
      },
      "source": [
        "A neural network is a network or circuit of neurons, or in a modern sense, an artificial neural network composed of artificial neurons or nodes. \n",
        "<br></br>\n",
        "\n",
        "<div style=\"text-align:center\"><img src=\"https://www.nicepng.com/png/detail/880-8805864_neural-networks-are-a-set-of-algorithms-which.png\" /></div>\n",
        "\n",
        "\n",
        "In the picture above, the first column represent the input data, while the last column represent the output. Everything in between those columns are *hideen layers*. Each node in a hidden layer is an activation of combination of nodes in the previous layer. \n",
        "\n",
        "What does that mean? Let's say that in this example, we have four input variables. All those four input variables are combined in order to get the first node of the first hidden layer, as well as the second, third and fourth node of the first hidden layer.\n",
        "\n",
        "How do we combine nodes from the previous layer? We use a simple linear combination. For example, the linear combination for the first node in the first hidden layer is given by:\n",
        "\n",
        "$$\n",
        "\\begin{aligned}\n",
        "z_{1}^{[1]} = w_{1}^{[1]T}x + b_{1}^{[1]}\n",
        "\\end{aligned}\n",
        "$$\n",
        "\n",
        "where $w_{1}^{[1]T}$ is the vector with adequate weights, $x$ are features from the previous layer, and $b_{1}^{[1]}$ is the bias for that node. In this notation, subscripts refer to the specific node, while the superscripts refer to the specific hidden layer. After we get the linear combination, we need to have some kind of *activation function* in order to approximate more complicated function. If we do not apply some activation function, our neural network will always approcimate linear functions regardless of the number of hidden layers.\n",
        "\n",
        "Some popular choices for activation functions are sigmoid function, hyperbolic tangent function, rectified lienar unit (ReLU), and leaky rectified linear unit (LReLU):\n",
        "\n",
        "$$\n",
        "\\begin{aligned}\n",
        "sigmoid = \\frac{1}{1 + e^{-z}}\n",
        "\\end{aligned}\n",
        "$$\n",
        "<br>\n",
        "$$\n",
        "\\begin{aligned}\n",
        "hyperbolic = \\frac{e^z - e^{-z}}{e^z + e^{-z}}\n",
        "\\end{aligned}\n",
        "$$\n",
        "<br>\n",
        "$$\n",
        "\\begin{aligned}\n",
        "ReLU = max(0, z)\n",
        "\\end{aligned}\n",
        "$$\n",
        "<br>\n",
        "$$\n",
        "\\begin{aligned}\n",
        "LReLU = max(0.01 * z, z)\n",
        "\\end{aligned}\n",
        "$$\n",
        "<br>\n",
        "After we choose a specific activation function, all that we need to do for the specific node of the specific hidden layer is to calculate:\n",
        "\n",
        "$$\n",
        "\\begin{aligned}\n",
        "a_{1}^{[1]} = g(z)\n",
        "\\end{aligned}\n",
        "$$\n",
        "\n",
        "where *g* is the activation function. After that, we do the same calculation for each node of the first hidden layer and we get the activation of the first hidden layer. Now, combinations of activations of the first hidden layers are inputs for the second layer, and so on until we get to the final layer - the output layer.\n",
        "\n",
        "Having that in mind, the first thing that we would be tempted to do is to create a `for loop` in order to calculate the activations of the first hidden layer. However, that would be computationally inefficient since we can combine all nodes of one hidden layer, weights, and biases into a matrix representation which significantly speeds up our process. In this case, the activation of one *whole* hidden layer $l$ is given by:\n",
        "\n",
        "\n",
        "$$\n",
        "\\begin{aligned}\n",
        "A^{[l]} = g(W^{[l]}A^{l-1} + b^{[l]})\n",
        "\\end{aligned}\n",
        "$$\n",
        "\n",
        "where superscript $l$ refers to the specific hidden layer, and $A^{l-1}$ are the activations from the previous layer. This means that we have only one computation per one hidden layer, instead of $n$ computations, where $n$ is the number of nodes in a hidden layer. \n",
        "\n",
        "In order to train a neural network, we firstly initiate some random values for $W^{[l]}$ and $b^{[l]}$, and go through the first step of *forward propagation*, until we come to the final output. This means that we will go through the process of calcualting the activation of each hidden layer with some randomly intitiated numbers until we come to the output, i.e. until we produce some numbers as the output. Since (in supervised learning) our data already has the correct output values, we can compare the predictions of our neural network with the correct output values and determine how bad is our neural network. We formalize how bad the neural network is by defining a *loss function* which entirely depends on the nature of the problem. For example, if our output is a binary variable, then we model output with Bernoulli distribution and apply Maximum Likelihood Estimation which gives us:\n",
        "\n",
        "$$\n",
        "\\begin{aligned}\n",
        "L(\\hat{y}, y) = -(ylog\\hat{y} + (1-y)log(1-\\hat{y}))\n",
        "\\end{aligned}\n",
        "$$\n",
        "\n",
        "Now we have a way to formalize the error of our neural network. Now, in order to improve our neural network, we would apply a *gradient descent algorithm* which changes weights and biases so that the loss function is smaller. The gradient descent algorithm is not that complicated, although it is really elegant. However, I am not going to show it here."
      ]
    },
    {
      "cell_type": "markdown",
      "metadata": {
        "id": "g2tF-H0muVj2"
      },
      "source": [
        "### What is DL Actually Used For?"
      ]
    },
    {
      "cell_type": "markdown",
      "metadata": {
        "id": "Y-jfcQfouYYQ"
      },
      "source": [
        "Let's take a look at some common deep learning use cases. \n",
        "Some of them are recommendation systems, language translations, computer vision, speech recognition, natural language processing, etc. Language translation and speech recognition are oftern referred to as *sequence to sequence* problems. "
      ]
    },
    {
      "cell_type": "markdown",
      "metadata": {
        "id": "qxKH1ol7wlZE"
      },
      "source": [
        "## Introduction to TensorFlow"
      ]
    },
    {
      "cell_type": "markdown",
      "metadata": {
        "id": "8t4iK2m5wrOo"
      },
      "source": [
        "### What is TensorFlow? What are Tensors?"
      ]
    },
    {
      "cell_type": "markdown",
      "metadata": {
        "id": "igzewRtRw8Z4"
      },
      "source": [
        "TensorFlow (TF) is end-to-end platform for machine learning. We can write fast deep learning code in Python and run it on GPU. With TF we are also able to access many pre-built deep learning models. Furthermore, it offers a whole stack: preprocessing data, model data, and deploy the model in your application. In the end, TF was originally designed and used in-house by Google and is now open-source. \n",
        "<br></br>\n",
        "What exactly is a tensor? In mathematics, a tensor is an algebraic object that describes a relationship between sets of algebraic objects related to a vector space. Objects that tensors may map between include vectors and scalars, and even other tensors. "
      ]
    },
    {
      "cell_type": "markdown",
      "metadata": {
        "id": "85ZeSrbo0qT-"
      },
      "source": [
        "A TF workflow typically includes:\n",
        "\n",
        "\n",
        "1.   Getting data ready\n",
        "2.   Building or picking a pretrained model\n",
        "3.   Fitting the model to the data and making predictions\n",
        "4.   Evaluating the model\n",
        "5.   Improving the model through the experimentation\n",
        "6.   Saving and reloading trained models \n",
        "\n"
      ]
    },
    {
      "cell_type": "markdown",
      "metadata": {
        "id": "HJyI4vxC1CRk"
      },
      "source": [
        "## Tensors in TensorFlow"
      ]
    },
    {
      "cell_type": "markdown",
      "metadata": {
        "id": "aRNzDzru2VTl"
      },
      "source": [
        "In this part, we are going to cover some of the most fundamental concepts of tensors using TensorFlow. \n",
        "\n",
        "More specifically, this part will cover:\n",
        "* Introduction to tensors\n",
        "* Getting information from tensors\n",
        "* Maniuplating tensors\n",
        "* Tensors and NumPy\n",
        "* Using @tf.function\n",
        "* Using GPUs with TensorFlow (or TPUs)\n",
        "* A few exercises"
      ]
    },
    {
      "cell_type": "markdown",
      "metadata": {
        "id": "OExcAoxQ2gdY"
      },
      "source": [
        "### Introduction to Tensors"
      ]
    },
    {
      "cell_type": "code",
      "metadata": {
        "colab": {
          "base_uri": "https://localhost:8080/"
        },
        "id": "xNUS_rEy3QxP",
        "outputId": "6eae24c9-ee22-4224-97b3-bdc7162add54"
      },
      "source": [
        "# Import TensorFlow\n",
        "import tensorflow as tf \n",
        "import numpy as np\n",
        "print(tf.__version__)"
      ],
      "execution_count": null,
      "outputs": [
        {
          "output_type": "stream",
          "text": [
            "2.4.1\n"
          ],
          "name": "stdout"
        }
      ]
    },
    {
      "cell_type": "code",
      "metadata": {
        "colab": {
          "base_uri": "https://localhost:8080/"
        },
        "id": "A6n-6vr93h93",
        "outputId": "51e0d139-837f-4ed9-d85d-8af49fb8e04b"
      },
      "source": [
        "# Create tensor with tf.constant()\n",
        "scalar = tf.constant(7)\n",
        "print(scalar)"
      ],
      "execution_count": null,
      "outputs": [
        {
          "output_type": "stream",
          "text": [
            "tf.Tensor(7, shape=(), dtype=int32)\n"
          ],
          "name": "stdout"
        }
      ]
    },
    {
      "cell_type": "code",
      "metadata": {
        "colab": {
          "base_uri": "https://localhost:8080/"
        },
        "id": "dVhscXJo3ykn",
        "outputId": "f35a71fe-ac66-419a-b654-ec81b028da09"
      },
      "source": [
        "# Check the number of dimensions of a tensor\n",
        "print(\"Dimensions of scalar:\\n\", scalar.ndim)"
      ],
      "execution_count": null,
      "outputs": [
        {
          "output_type": "stream",
          "text": [
            "Dimensions of scalar:\n",
            " 0\n"
          ],
          "name": "stdout"
        }
      ]
    },
    {
      "cell_type": "code",
      "metadata": {
        "colab": {
          "base_uri": "https://localhost:8080/"
        },
        "id": "NyksXL134R-e",
        "outputId": "0a6baeea-1aae-4c82-8edf-c7bb7a41fabb"
      },
      "source": [
        "# Create a vector\n",
        "vector = tf.constant([1, 2, 3, 4, 5])\n",
        "print(\"Vector:\\n\", vector)\n",
        "print(\"\\nDimensions:\\n\", vector.ndim)"
      ],
      "execution_count": null,
      "outputs": [
        {
          "output_type": "stream",
          "text": [
            "Vector:\n",
            " tf.Tensor([1 2 3 4 5], shape=(5,), dtype=int32)\n",
            "\n",
            "Dimensions:\n",
            " 1\n"
          ],
          "name": "stdout"
        }
      ]
    },
    {
      "cell_type": "code",
      "metadata": {
        "colab": {
          "base_uri": "https://localhost:8080/"
        },
        "id": "cs-f20YG4fQH",
        "outputId": "93e50b11-00d4-4551-f911-a509ac678123"
      },
      "source": [
        "# Create a matrix\n",
        "matrix = tf.constant([\n",
        "                      [1, 2, 3, 4, 5], \n",
        "                      [3, 4, 5, 6, 7]\n",
        "                      ]\n",
        "                     )\n",
        "print(\"Matrix:\\n\", matrix)\n",
        "print(\"\\nDimensions:\\n\", matrix.ndim)"
      ],
      "execution_count": null,
      "outputs": [
        {
          "output_type": "stream",
          "text": [
            "Matrix:\n",
            " tf.Tensor(\n",
            "[[1 2 3 4 5]\n",
            " [3 4 5 6 7]], shape=(2, 5), dtype=int32)\n",
            "\n",
            "Dimensions:\n",
            " 2\n"
          ],
          "name": "stdout"
        }
      ]
    },
    {
      "cell_type": "code",
      "metadata": {
        "colab": {
          "base_uri": "https://localhost:8080/"
        },
        "id": "KFtNTPYL4zXY",
        "outputId": "0184ccbd-6fa5-4870-8c71-c1d8cb4934b6"
      },
      "source": [
        "# Let's formally use args of tf.constant()\n",
        "matrix1 = tf.constant(value = [[1, 2, 3, 4], [2, 2, 2, 2]], dtype = tf.float16)\n",
        "print(\"Matrix:\\n\", matrix1)\n",
        "print(\"\\nDimensions:\\n\", matrix1.ndim)\n",
        "print(\"\\nType:\\n\", matrix1.dtype)\n",
        "print(\"\\nShape:\\n\", matrix1.shape)"
      ],
      "execution_count": null,
      "outputs": [
        {
          "output_type": "stream",
          "text": [
            "Matrix:\n",
            " tf.Tensor(\n",
            "[[1. 2. 3. 4.]\n",
            " [2. 2. 2. 2.]], shape=(2, 4), dtype=float16)\n",
            "\n",
            "Dimensions:\n",
            " 2\n",
            "\n",
            "Type:\n",
            " <dtype: 'float16'>\n",
            "\n",
            "Shape:\n",
            " (2, 4)\n"
          ],
          "name": "stdout"
        }
      ]
    },
    {
      "cell_type": "code",
      "metadata": {
        "colab": {
          "base_uri": "https://localhost:8080/"
        },
        "id": "AjTaG5yK5dJk",
        "outputId": "b261ebb4-6c1c-4b67-b045-4bf84ade0987"
      },
      "source": [
        "tensor = tf.constant([[\n",
        "                       [1, 2, 3], \n",
        "                       [4, 5, 6]], \n",
        "                      [[7, 8, 9], \n",
        "                       [10, 11, 12]],\n",
        "                      [[13, 14, 15], \n",
        "                       [16, 17, 18]]] ,dtype = tf.float16)\n",
        "print(\"Tensor:\\n\", tensor)\n",
        "print(\"\\nDimensions:\\n\", tensor.ndim)\n",
        "print(\"\\nShape:\\n\", tensor.shape)"
      ],
      "execution_count": null,
      "outputs": [
        {
          "output_type": "stream",
          "text": [
            "Tensor:\n",
            " tf.Tensor(\n",
            "[[[ 1.  2.  3.]\n",
            "  [ 4.  5.  6.]]\n",
            "\n",
            " [[ 7.  8.  9.]\n",
            "  [10. 11. 12.]]\n",
            "\n",
            " [[13. 14. 15.]\n",
            "  [16. 17. 18.]]], shape=(3, 2, 3), dtype=float16)\n",
            "\n",
            "Dimensions:\n",
            " 3\n",
            "\n",
            "Shape:\n",
            " (3, 2, 3)\n"
          ],
          "name": "stdout"
        }
      ]
    },
    {
      "cell_type": "markdown",
      "metadata": {
        "id": "UV_H-Eme6Tos"
      },
      "source": [
        "What have we created so far?\n",
        "* Scalar: a single number\n",
        "* Vector: a number with direction\n",
        "* Matrix: a 2-dimensional array of numbers\n",
        "* Tensor: an n-dimensional array of numbers (where $n\\ge 0$)"
      ]
    },
    {
      "cell_type": "markdown",
      "metadata": {
        "id": "0W6brOEW75YQ"
      },
      "source": [
        "### Creating Tensors with tf.Variable()"
      ]
    },
    {
      "cell_type": "code",
      "metadata": {
        "colab": {
          "base_uri": "https://localhost:8080/"
        },
        "id": "HMJZYWbg7mLu",
        "outputId": "3b2b1816-bbb6-4561-9b9f-9bbda10d2933"
      },
      "source": [
        "# So far, we have created tensors with tf.constant(), but we can do it with tf.Variable() as well\n",
        "# The difference between tf.Variable() and tf.constant() is that tf.Variable() creates a changeable tensor\n",
        "changeable_tensor = tf.Variable([10, 7])\n",
        "unchangeable_tensor = tf.constant([10, 7])\n",
        "print(changeable_tensor)\n",
        "print(unchangeable_tensor)"
      ],
      "execution_count": null,
      "outputs": [
        {
          "output_type": "stream",
          "text": [
            "<tf.Variable 'Variable:0' shape=(2,) dtype=int32, numpy=array([10,  7], dtype=int32)>\n",
            "tf.Tensor([10  7], shape=(2,), dtype=int32)\n"
          ],
          "name": "stdout"
        }
      ]
    },
    {
      "cell_type": "code",
      "metadata": {
        "colab": {
          "base_uri": "https://localhost:8080/"
        },
        "id": "n03IcMA_8bVA",
        "outputId": "7d9573c6-29ef-4a39-96b7-d183d0415a17"
      },
      "source": [
        "# Try to change one of the elements in our changeable tensor\n",
        "try:\n",
        "  changeable_tensor[0].assign(99)\n",
        "  print('Changing value was successful')\n",
        "  print(changeable_tensor)\n",
        "except:\n",
        "  print('Changing value was not succesful')"
      ],
      "execution_count": null,
      "outputs": [
        {
          "output_type": "stream",
          "text": [
            "Changing value was successful\n",
            "<tf.Variable 'Variable:0' shape=(2,) dtype=int32, numpy=array([99,  7], dtype=int32)>\n"
          ],
          "name": "stdout"
        }
      ]
    },
    {
      "cell_type": "code",
      "metadata": {
        "colab": {
          "base_uri": "https://localhost:8080/"
        },
        "id": "YzhZncCz8yj-",
        "outputId": "40dc0669-3908-4321-dd28-448babb24655"
      },
      "source": [
        "# Now let's try to change value in unchangeable tensor\n",
        "try:\n",
        "  unchangeable_tensor[0].assign(99)\n",
        "  print('Changing value was successful')\n",
        "  print(unchangeable_tensor)\n",
        "except Exception as e:\n",
        "  print('Changing value was not succesful')\n",
        "  print(e)"
      ],
      "execution_count": null,
      "outputs": [
        {
          "output_type": "stream",
          "text": [
            "Changing value was not succesful\n",
            "'tensorflow.python.framework.ops.EagerTensor' object has no attribute 'assign'\n"
          ],
          "name": "stdout"
        }
      ]
    },
    {
      "cell_type": "markdown",
      "metadata": {
        "id": "aj9eRs8W9Yln"
      },
      "source": [
        "### Creating Random Tensors "
      ]
    },
    {
      "cell_type": "markdown",
      "metadata": {
        "id": "AR_CFLtX9CYl"
      },
      "source": [
        "Random tensors are tensors of some arbitrary size which contain random numbers. We need random tensors when initializing weights and biasis in neural networks (or, more generally, in any other machine learning algorithm which requires some beginning random numbers). "
      ]
    },
    {
      "cell_type": "code",
      "metadata": {
        "colab": {
          "base_uri": "https://localhost:8080/"
        },
        "id": "IZN-0uMV3dvR",
        "outputId": "b344be93-ffef-4c06-9618-40f27aa8955b"
      },
      "source": [
        "# Let's create two random (but same) tensors\n",
        "random1 = tf.random.Generator.from_seed(42) # set seed for reproducibility\n",
        "random1 = random1.normal(shape = (3, 2))\n",
        "print(random1)"
      ],
      "execution_count": null,
      "outputs": [
        {
          "output_type": "stream",
          "text": [
            "tf.Tensor(\n",
            "[[-0.7565803  -0.06854702]\n",
            " [ 0.07595026 -1.2573844 ]\n",
            " [-0.23193763 -1.8107855 ]], shape=(3, 2), dtype=float32)\n"
          ],
          "name": "stdout"
        }
      ]
    },
    {
      "cell_type": "code",
      "metadata": {
        "colab": {
          "base_uri": "https://localhost:8080/"
        },
        "id": "hjuQkEeW5oox",
        "outputId": "e389a1e2-f2bb-47a4-b38f-4b93a785fe4a"
      },
      "source": [
        "random_2 = tf.random.Generator.from_seed(41)\n",
        "random_2 = random_2.normal(shape = (3, 2))\n",
        "print(random_2)"
      ],
      "execution_count": null,
      "outputs": [
        {
          "output_type": "stream",
          "text": [
            "tf.Tensor(\n",
            "[[ 0.31662667 -1.4391748 ]\n",
            " [ 0.58923835 -1.4268045 ]\n",
            " [-0.7565803  -0.06854702]], shape=(3, 2), dtype=float32)\n"
          ],
          "name": "stdout"
        }
      ]
    },
    {
      "cell_type": "code",
      "metadata": {
        "colab": {
          "base_uri": "https://localhost:8080/"
        },
        "id": "VMJeERMJ6GUX",
        "outputId": "a3cd6c2e-f306-4162-f8de-500a1d1c4b9d"
      },
      "source": [
        "# Are they equal?\n",
        "print(random1 == random_2)"
      ],
      "execution_count": null,
      "outputs": [
        {
          "output_type": "stream",
          "text": [
            "tf.Tensor(\n",
            "[[False False]\n",
            " [False False]\n",
            " [False False]], shape=(3, 2), dtype=bool)\n"
          ],
          "name": "stdout"
        }
      ]
    },
    {
      "cell_type": "code",
      "metadata": {
        "colab": {
          "base_uri": "https://localhost:8080/"
        },
        "id": "bfF9zjcs6cKW",
        "outputId": "43f0a185-df9c-4051-d3db-ea4dc7bb595f"
      },
      "source": [
        "# What if we want to shuffle the order of rows?\n",
        "tf.random.set_seed(42) # setting a general? seed\n",
        "print(tf.random.shuffle(random1)) # It doesn't shuffle inplace, you have to assign to a variable\n",
        "print(\"\\n\", random1)"
      ],
      "execution_count": null,
      "outputs": [
        {
          "output_type": "stream",
          "text": [
            "tf.Tensor(\n",
            "[[ 0.07595026 -1.2573844 ]\n",
            " [-0.23193763 -1.8107855 ]\n",
            " [-0.7565803  -0.06854702]], shape=(3, 2), dtype=float32)\n",
            "\n",
            " tf.Tensor(\n",
            "[[-0.7565803  -0.06854702]\n",
            " [ 0.07595026 -1.2573844 ]\n",
            " [-0.23193763 -1.8107855 ]], shape=(3, 2), dtype=float32)\n"
          ],
          "name": "stdout"
        }
      ]
    },
    {
      "cell_type": "code",
      "metadata": {
        "colab": {
          "base_uri": "https://localhost:8080/"
        },
        "id": "X94BXpnJ6vcu",
        "outputId": "02f4106b-7e25-4603-dc34-6663d6b5e5ff"
      },
      "source": [
        "# Creating a transpose of a tensor\n",
        "print(tf.transpose(random1))"
      ],
      "execution_count": null,
      "outputs": [
        {
          "output_type": "stream",
          "text": [
            "tf.Tensor(\n",
            "[[-0.7565803   0.07595026 -0.23193763]\n",
            " [-0.06854702 -1.2573844  -1.8107855 ]], shape=(2, 3), dtype=float32)\n"
          ],
          "name": "stdout"
        }
      ]
    },
    {
      "cell_type": "markdown",
      "metadata": {
        "id": "AhYKDTPx_V9i"
      },
      "source": [
        "### Other Ways to Create Tensors"
      ]
    },
    {
      "cell_type": "code",
      "metadata": {
        "colab": {
          "base_uri": "https://localhost:8080/"
        },
        "id": "6SL5rwbf_c1K",
        "outputId": "e4053a5b-dc3e-42e6-f4cd-87ed00a830a4"
      },
      "source": [
        "np_x = np.random.normal(size = (5, 5))\n",
        "print(np_x)"
      ],
      "execution_count": null,
      "outputs": [
        {
          "output_type": "stream",
          "text": [
            "[[ 0.61376625  0.17567101 -0.37463976 -0.57743222 -1.25069587]\n",
            " [-0.76320526  1.50980614 -1.25074362 -0.33863673  0.40279063]\n",
            " [-0.5509734   0.39784563 -1.95222535 -1.28737578 -0.20740423]\n",
            " [-0.56241199  1.31378423  0.91515086  0.07982129  1.28257355]\n",
            " [ 0.58298645  0.82893871  0.04984181 -1.62783812 -1.41289967]]\n"
          ],
          "name": "stdout"
        }
      ]
    },
    {
      "cell_type": "code",
      "metadata": {
        "colab": {
          "base_uri": "https://localhost:8080/"
        },
        "id": "WLH34KxX_ic6",
        "outputId": "3effcc26-5be8-496d-bd1c-059a2b16c2dd"
      },
      "source": [
        "tensor_np = tf.convert_to_tensor(np_x)\n",
        "print(tensor_np)"
      ],
      "execution_count": null,
      "outputs": [
        {
          "output_type": "stream",
          "text": [
            "tf.Tensor(\n",
            "[[ 0.61376625  0.17567101 -0.37463976 -0.57743222 -1.25069587]\n",
            " [-0.76320526  1.50980614 -1.25074362 -0.33863673  0.40279063]\n",
            " [-0.5509734   0.39784563 -1.95222535 -1.28737578 -0.20740423]\n",
            " [-0.56241199  1.31378423  0.91515086  0.07982129  1.28257355]\n",
            " [ 0.58298645  0.82893871  0.04984181 -1.62783812 -1.41289967]], shape=(5, 5), dtype=float64)\n"
          ],
          "name": "stdout"
        }
      ]
    },
    {
      "cell_type": "markdown",
      "metadata": {
        "id": "xXJnhJnrB0rz"
      },
      "source": [
        "> But you can also just input NumPy array into tf.constant() or tf.Variable()!"
      ]
    },
    {
      "cell_type": "code",
      "metadata": {
        "colab": {
          "base_uri": "https://localhost:8080/"
        },
        "id": "jq9VBGZv_z9i",
        "outputId": "873b21d7-1e89-44cd-8772-be5ed1802cf4"
      },
      "source": [
        "ones = tf.ones(shape = (7, 6), dtype = tf.int32)\n",
        "zeros = tf.zeros(shape = (3, 3), dtype = tf.int16)\n",
        "print(\"Tensor of ones:\\n\", ones)\n",
        "print(\"\\nTensor of zeros:\\n\", zeros)"
      ],
      "execution_count": null,
      "outputs": [
        {
          "output_type": "stream",
          "text": [
            "Tensor of ones:\n",
            " tf.Tensor(\n",
            "[[1 1 1 1 1 1]\n",
            " [1 1 1 1 1 1]\n",
            " [1 1 1 1 1 1]\n",
            " [1 1 1 1 1 1]\n",
            " [1 1 1 1 1 1]\n",
            " [1 1 1 1 1 1]\n",
            " [1 1 1 1 1 1]], shape=(7, 6), dtype=int32)\n",
            "\n",
            "Tensor of zeros:\n",
            " tf.Tensor(\n",
            "[[0 0 0]\n",
            " [0 0 0]\n",
            " [0 0 0]], shape=(3, 3), dtype=int16)\n"
          ],
          "name": "stdout"
        }
      ]
    },
    {
      "cell_type": "markdown",
      "metadata": {
        "id": "EdBGqgy9AqW9"
      },
      "source": [
        "> The main difference between NumPy arrays and TensorFlow tensors is that tensors can be run on a GPU (much faster for numerical computing)."
      ]
    },
    {
      "cell_type": "markdown",
      "metadata": {
        "id": "0dZk7avkBKF3"
      },
      "source": [
        "### Getting Information from Tensors"
      ]
    },
    {
      "cell_type": "markdown",
      "metadata": {
        "id": "VeKrt_1BDOJv"
      },
      "source": [
        "The most frequently used information from tensors are:\n",
        "* shape\n",
        "* rank (n of dimensinos)\n",
        "* axis or dimension\n",
        "* size"
      ]
    },
    {
      "cell_type": "code",
      "metadata": {
        "id": "DnRqr_1iEQIF"
      },
      "source": [
        "tensor_A = tf.constant([\n",
        "                        [1, 2, 3, 4],\n",
        "                        [3, 2, 2, 2],\n",
        "                        [3, 2, 1, 3],\n",
        "                        [5, 4, 3, 2]\n",
        "                        ])"
      ],
      "execution_count": null,
      "outputs": []
    },
    {
      "cell_type": "code",
      "metadata": {
        "colab": {
          "base_uri": "https://localhost:8080/"
        },
        "id": "difCmsx5EYm0",
        "outputId": "ce79fbf1-21a0-4faa-e19c-d033d5a20c9c"
      },
      "source": [
        "print('Shape of tensor:', tensor_A.shape)\n",
        "print('Rank of tensor:', tensor_A.ndim)\n",
        "print('Size of tensor:', tf.size(tensor_A))"
      ],
      "execution_count": null,
      "outputs": [
        {
          "output_type": "stream",
          "text": [
            "Shape of tensor: (4, 4)\n",
            "Rank of tensor: 2\n",
            "Size of tensor: tf.Tensor(16, shape=(), dtype=int32)\n"
          ],
          "name": "stdout"
        }
      ]
    },
    {
      "cell_type": "code",
      "metadata": {
        "colab": {
          "base_uri": "https://localhost:8080/"
        },
        "id": "FC7kJCY9ElOE",
        "outputId": "ab441cdc-9c4d-4c7d-d840-130fb13d387d"
      },
      "source": [
        "print('The first column:')\n",
        "print(tensor_A[:, 0])"
      ],
      "execution_count": null,
      "outputs": [
        {
          "output_type": "stream",
          "text": [
            "The first column:\n",
            "tf.Tensor([1 3 3 5], shape=(4,), dtype=int32)\n"
          ],
          "name": "stdout"
        }
      ]
    },
    {
      "cell_type": "code",
      "metadata": {
        "colab": {
          "base_uri": "https://localhost:8080/"
        },
        "id": "2pvSu0XpFVBc",
        "outputId": "ccc59c24-43b4-4ba4-b133-217a0ce60553"
      },
      "source": [
        "# Get various attributes of our tensor\n",
        "print(\"Datatype of every element:\", tensor_A.dtype)\n",
        "print(\"Number of dimensions:\", tensor_A.ndim)\n",
        "print(\"The size of tensor:\", tf.size(tensor_A))\n",
        "print(\"The shape of tensor:\", tensor_A.shape)\n",
        "print(\"Elements along 0 axis:\", tensor_A.shape[0])\n",
        "print(\"Elements along 1 axis:\", tensor_A.shape[1])"
      ],
      "execution_count": null,
      "outputs": [
        {
          "output_type": "stream",
          "text": [
            "Datatype of every element: <dtype: 'int32'>\n",
            "Number of dimensions: 2\n",
            "The size of tensor: tf.Tensor(16, shape=(), dtype=int32)\n",
            "The shape of tensor: (4, 4)\n",
            "Elements along 0 axis: 4\n",
            "Elements along 1 axis: 4\n"
          ],
          "name": "stdout"
        }
      ]
    },
    {
      "cell_type": "markdown",
      "metadata": {
        "id": "buPnfGknMuNE"
      },
      "source": [
        "### Indexing Tensors"
      ]
    },
    {
      "cell_type": "markdown",
      "metadata": {
        "id": "yJlraNG9MLQB"
      },
      "source": [
        "> Tensors can be indexed just like NumPy arrays."
      ]
    },
    {
      "cell_type": "code",
      "metadata": {
        "colab": {
          "base_uri": "https://localhost:8080/"
        },
        "id": "ZyLoeH3b-Lhy",
        "outputId": "b07e14c3-eb1c-4ae9-d137-2646cafdd585"
      },
      "source": [
        "# Get the first 2 elements of each dimension\n",
        "print(tensor_A[:2, :2])"
      ],
      "execution_count": null,
      "outputs": [
        {
          "output_type": "stream",
          "text": [
            "tf.Tensor(\n",
            "[[1 2]\n",
            " [3 2]], shape=(2, 2), dtype=int32)\n"
          ],
          "name": "stdout"
        }
      ]
    },
    {
      "cell_type": "code",
      "metadata": {
        "colab": {
          "base_uri": "https://localhost:8080/"
        },
        "id": "gV61vpDK-V1q",
        "outputId": "5eb4d2cf-5210-4327-e4c0-336a31ef49e1"
      },
      "source": [
        "# Get the first element from each dimencion from each index except for the final one\n",
        "print(tensor_A[:1, :])"
      ],
      "execution_count": null,
      "outputs": [
        {
          "output_type": "stream",
          "text": [
            "tf.Tensor([[1 2 3 4]], shape=(1, 4), dtype=int32)\n"
          ],
          "name": "stdout"
        }
      ]
    },
    {
      "cell_type": "code",
      "metadata": {
        "colab": {
          "base_uri": "https://localhost:8080/"
        },
        "id": "kCQm5tH6-zQB",
        "outputId": "6bbf1b64-e47a-433b-8fa8-5b2de251a780"
      },
      "source": [
        "# Let's create a rank 2 tensor (2 dimensions)\n",
        "rank_2_tensor = tf.constant(np.random.normal(size = (3, 4)))\n",
        "print(rank_2_tensor)"
      ],
      "execution_count": null,
      "outputs": [
        {
          "output_type": "stream",
          "text": [
            "tf.Tensor(\n",
            "[[ 1.1199121  -0.77232915 -0.00597473 -0.02029698]\n",
            " [-0.64639537 -0.43004214  2.32853803 -0.65769914]\n",
            " [ 0.59995455  0.79706359  0.51199312  0.26268593]], shape=(3, 4), dtype=float64)\n"
          ],
          "name": "stdout"
        }
      ]
    },
    {
      "cell_type": "code",
      "metadata": {
        "colab": {
          "base_uri": "https://localhost:8080/"
        },
        "id": "VnEueHSe_9la",
        "outputId": "8aaffa34-83cd-407e-ede3-77cda10fc5bf"
      },
      "source": [
        "# Get the last item of each row of our tensor\n",
        "print(rank_2_tensor[:, -1])"
      ],
      "execution_count": null,
      "outputs": [
        {
          "output_type": "stream",
          "text": [
            "tf.Tensor([-0.02029698 -0.65769914  0.26268593], shape=(3,), dtype=float64)\n"
          ],
          "name": "stdout"
        }
      ]
    },
    {
      "cell_type": "code",
      "metadata": {
        "colab": {
          "base_uri": "https://localhost:8080/"
        },
        "id": "3SXpHQGtAJHT",
        "outputId": "91de6233-16ec-4e18-90dd-f664a4b1f956"
      },
      "source": [
        "# Add in extra dimension to our rank 2 tensor\n",
        "rank_3_tensor = rank_2_tensor[..., tf.newaxis] # three dots mean include all other axes\n",
        "print(rank_3_tensor)"
      ],
      "execution_count": null,
      "outputs": [
        {
          "output_type": "stream",
          "text": [
            "tf.Tensor(\n",
            "[[[ 1.1199121 ]\n",
            "  [-0.77232915]\n",
            "  [-0.00597473]\n",
            "  [-0.02029698]]\n",
            "\n",
            " [[-0.64639537]\n",
            "  [-0.43004214]\n",
            "  [ 2.32853803]\n",
            "  [-0.65769914]]\n",
            "\n",
            " [[ 0.59995455]\n",
            "  [ 0.79706359]\n",
            "  [ 0.51199312]\n",
            "  [ 0.26268593]]], shape=(3, 4, 1), dtype=float64)\n"
          ],
          "name": "stdout"
        }
      ]
    },
    {
      "cell_type": "code",
      "metadata": {
        "colab": {
          "base_uri": "https://localhost:8080/"
        },
        "id": "khbfM-ZlJuAB",
        "outputId": "3f683fe9-7b6a-4c2b-95c8-5cc5030c9750"
      },
      "source": [
        "# Alternative to tf.newaxis\n",
        "tf.expand_dims(rank_2_tensor, axis = - 1) # expand on final axis"
      ],
      "execution_count": null,
      "outputs": [
        {
          "output_type": "execute_result",
          "data": {
            "text/plain": [
              "<tf.Tensor: shape=(3, 4, 1), dtype=float64, numpy=\n",
              "array([[[ 1.1199121 ],\n",
              "        [-0.77232915],\n",
              "        [-0.00597473],\n",
              "        [-0.02029698]],\n",
              "\n",
              "       [[-0.64639537],\n",
              "        [-0.43004214],\n",
              "        [ 2.32853803],\n",
              "        [-0.65769914]],\n",
              "\n",
              "       [[ 0.59995455],\n",
              "        [ 0.79706359],\n",
              "        [ 0.51199312],\n",
              "        [ 0.26268593]]])>"
            ]
          },
          "metadata": {
            "tags": []
          },
          "execution_count": 16
        }
      ]
    },
    {
      "cell_type": "code",
      "metadata": {
        "colab": {
          "base_uri": "https://localhost:8080/"
        },
        "id": "8iaJox-LKHsX",
        "outputId": "408a7287-477a-4d05-a328-d14043d2ddf5"
      },
      "source": [
        "tf.expand_dims(rank_2_tensor, axis = 0)"
      ],
      "execution_count": null,
      "outputs": [
        {
          "output_type": "execute_result",
          "data": {
            "text/plain": [
              "<tf.Tensor: shape=(1, 3, 4), dtype=float64, numpy=\n",
              "array([[[ 1.1199121 , -0.77232915, -0.00597473, -0.02029698],\n",
              "        [-0.64639537, -0.43004214,  2.32853803, -0.65769914],\n",
              "        [ 0.59995455,  0.79706359,  0.51199312,  0.26268593]]])>"
            ]
          },
          "metadata": {
            "tags": []
          },
          "execution_count": 17
        }
      ]
    },
    {
      "cell_type": "markdown",
      "metadata": {
        "id": "k-bvO3TvKU1Z"
      },
      "source": [
        "Note that the numbers always stay the same, but the shape of a tensor is changed."
      ]
    },
    {
      "cell_type": "markdown",
      "metadata": {
        "id": "56icp9QuKk09"
      },
      "source": [
        "### Tensor Operations"
      ]
    },
    {
      "cell_type": "markdown",
      "metadata": {
        "id": "7wWPResf5vle"
      },
      "source": [
        "**Basic Operations**"
      ]
    },
    {
      "cell_type": "code",
      "metadata": {
        "colab": {
          "base_uri": "https://localhost:8080/"
        },
        "id": "HqNiN_tF52jc",
        "outputId": "9a2e6086-54bb-4a5d-88cf-b41aa1369ca3"
      },
      "source": [
        "# We can add values to a tensor using the addition operators\n",
        "tensor = tf.constant(np.arange(10), shape = (2, 5))\n",
        "print(tensor)\n",
        "print('Addition')\n",
        "print(tensor + 10) # the original tensor is not changed, we didn't assign the values"
      ],
      "execution_count": null,
      "outputs": [
        {
          "output_type": "stream",
          "text": [
            "tf.Tensor(\n",
            "[[0 1 2 3 4]\n",
            " [5 6 7 8 9]], shape=(2, 5), dtype=int64)\n",
            "Addition\n",
            "tf.Tensor(\n",
            "[[10 11 12 13 14]\n",
            " [15 16 17 18 19]], shape=(2, 5), dtype=int64)\n"
          ],
          "name": "stdout"
        }
      ]
    },
    {
      "cell_type": "code",
      "metadata": {
        "colab": {
          "base_uri": "https://localhost:8080/"
        },
        "id": "YPHfM-KN6ABt",
        "outputId": "3a78eb75-9579-47b4-8d7d-f76999800127"
      },
      "source": [
        "# Multiplication\n",
        "print(tensor * 7)"
      ],
      "execution_count": null,
      "outputs": [
        {
          "output_type": "stream",
          "text": [
            "tf.Tensor(\n",
            "[[ 0  7 14 21 28]\n",
            " [35 42 49 56 63]], shape=(2, 5), dtype=int64)\n"
          ],
          "name": "stdout"
        }
      ]
    },
    {
      "cell_type": "code",
      "metadata": {
        "colab": {
          "base_uri": "https://localhost:8080/"
        },
        "id": "pAGXrFgN6Tf0",
        "outputId": "8e4530e1-ac7d-459c-e2e6-312dfb8fe5b2"
      },
      "source": [
        "# Substraction\n",
        "print(tensor - 5)"
      ],
      "execution_count": null,
      "outputs": [
        {
          "output_type": "stream",
          "text": [
            "tf.Tensor(\n",
            "[[-5 -4 -3 -2 -1]\n",
            " [ 0  1  2  3  4]], shape=(2, 5), dtype=int64)\n"
          ],
          "name": "stdout"
        }
      ]
    },
    {
      "cell_type": "code",
      "metadata": {
        "colab": {
          "base_uri": "https://localhost:8080/"
        },
        "id": "wdjDUy2N6XAF",
        "outputId": "bc3df3cc-a60d-4b06-80b7-47b673170110"
      },
      "source": [
        "# We can also use TensorFlow functions for addition, substraction, division and multiplication (like in NumPy)\n",
        "print('Multiplication')\n",
        "print(tf.multiply(tensor, 5))\n",
        "print('Addition')\n",
        "print(tf.add(tensor, 10))"
      ],
      "execution_count": null,
      "outputs": [
        {
          "output_type": "stream",
          "text": [
            "Multiplication\n",
            "tf.Tensor(\n",
            "[[ 0  5 10 15 20]\n",
            " [25 30 35 40 45]], shape=(2, 5), dtype=int64)\n",
            "Addition\n",
            "tf.Tensor(\n",
            "[[10 11 12 13 14]\n",
            " [15 16 17 18 19]], shape=(2, 5), dtype=int64)\n"
          ],
          "name": "stdout"
        }
      ]
    },
    {
      "cell_type": "markdown",
      "metadata": {
        "id": "krxZ8dQM6fsF"
      },
      "source": [
        "**Matrix Multiplication**"
      ]
    },
    {
      "cell_type": "code",
      "metadata": {
        "colab": {
          "base_uri": "https://localhost:8080/"
        },
        "id": "yaGJ0xv7688j",
        "outputId": "9a78c570-42cc-4326-ab20-b6ca8a5c857e"
      },
      "source": [
        "# Matrix multiplication\n",
        "A = tf.constant([[3, 2, 2], [3, 1, 7]])\n",
        "B = tf.constant([[1, 2], [3, 3], [4, 5]])\n",
        "print(tf.linalg.matmul(A, B))"
      ],
      "execution_count": null,
      "outputs": [
        {
          "output_type": "stream",
          "text": [
            "tf.Tensor(\n",
            "[[17 22]\n",
            " [34 44]], shape=(2, 2), dtype=int32)\n"
          ],
          "name": "stdout"
        }
      ]
    },
    {
      "cell_type": "markdown",
      "metadata": {
        "id": "oUt2z_XC7esc"
      },
      "source": [
        "As a quick reminder, in order to multiply matrices, the first matrix should be \n",
        "$A^{m_{*}n}$, while the second should be $B^{n_{*}p}$. The resulting matrix is then of shape $m*p$.\n",
        "\n",
        "There are multiple ways to multiply matrices. One of them is to use dot product of rows of first matrix and columns of the second matrix. In other words, for matrices $A \\in {\\rm I\\!R}^{m*n}, B \\in {\\rm I\\!R}^{n*p}$, the elements $c_{ij}$ of the product $ C=AB \\in  {\\rm I\\!R}^{m*p}$ are computed as:\n",
        "\n",
        "$$\n",
        "\\begin{aligned}\n",
        "c_{ij} = \\sum_{l = 1}^{n}a_{il}b_{lj}\\\\\n",
        "i = 1, ..., m\\\\ \n",
        "j = 1, ..., k\n",
        "\\end{aligned}\n",
        "$$"
      ]
    },
    {
      "cell_type": "code",
      "metadata": {
        "colab": {
          "base_uri": "https://localhost:8080/"
        },
        "id": "VrY5mR1P9wwh",
        "outputId": "886e7a4e-d547-4038-b2a7-dd84f23dad9c"
      },
      "source": [
        "# Python has operator @ for matrix multiplication, but it is slower\n",
        "print(A@B)"
      ],
      "execution_count": null,
      "outputs": [
        {
          "output_type": "stream",
          "text": [
            "tf.Tensor(\n",
            "[[17 22]\n",
            " [34 44]], shape=(2, 2), dtype=int32)\n"
          ],
          "name": "stdout"
        }
      ]
    },
    {
      "cell_type": "markdown",
      "metadata": {
        "id": "-iXPgHxq91Hi"
      },
      "source": [
        "Let's find a inverse of a matrix. Remember that only square matrices can have regular inverses, but not all of them will actually have it. Rectangular matrices (more frequent than square matrices in practice) have pseudo-inverse. \n",
        "First of all, let's define the regular inverse of a matrix:\n",
        "\n",
        "$$\n",
        "\\begin{aligned}\n",
        "AA^{-1} = I\n",
        "\\end{aligned}\n",
        "$$\n",
        "\n",
        "In other words, the matrix multiplied by its inverse gives us the identity matrix, i.e. we are back to the beginning. In other words, if we multiply some vector with a matrix, and then multiply it with the matrix inverse, we get to the starting point. The inverse of a matrix can be found using different algorithms, but the most simple one is Gaussian elimination.\n",
        "\n",
        "Now, as we have said, rectangular matrices do not have regular inverse. For them, we often use *Moore-Penrose pseudo-inverse*, which is $(A^{T}A)^{-1}A^{T}$. How do we get that? Well, let's consider a linear equation given by $Ax = b$. We get to the pseudo-inverse by doing a bit of algebra:\n",
        "\n",
        "$$\n",
        "\\begin{aligned}\n",
        "Ax = b \\iff A^{T}Ax = A^{T}b \\iff x = (A^{T}A)^{-1}A^{T}b\n",
        "\\end{aligned}\n",
        "$$\n",
        "\n",
        "This equation is actually used to get the optimal parameters for linear regression."
      ]
    },
    {
      "cell_type": "code",
      "metadata": {
        "colab": {
          "base_uri": "https://localhost:8080/"
        },
        "id": "4n36WS0gCLb9",
        "outputId": "158405ee-bc90-4203-8afb-59ae96793daa"
      },
      "source": [
        "A"
      ],
      "execution_count": null,
      "outputs": [
        {
          "output_type": "execute_result",
          "data": {
            "text/plain": [
              "<tf.Tensor: shape=(2, 3), dtype=int32, numpy=\n",
              "array([[3, 2, 2],\n",
              "       [3, 1, 7]], dtype=int32)>"
            ]
          },
          "metadata": {
            "tags": []
          },
          "execution_count": 34
        }
      ]
    },
    {
      "cell_type": "code",
      "metadata": {
        "colab": {
          "base_uri": "https://localhost:8080/"
        },
        "id": "j1Idr-XI_hug",
        "outputId": "c32cfcd2-24f4-4c4f-bbb1-05bd4f8986c4"
      },
      "source": [
        "# Finding the inverse of a matrix\n",
        "# You must have float32 or float64 dtypes, cannot be calculated on int dtypes\n",
        "A = tf.constant([\n",
        "                 [1, 0, 2, 0], \n",
        "                 [1, 1, 0, 0],\n",
        "                 [1, 2, 0, 1],\n",
        "                 [1, 1, 1, 1]\n",
        "                 ], \n",
        "                dtype = tf.float32\n",
        "                )\n",
        "\n",
        "print(tf.linalg.inv(A))"
      ],
      "execution_count": null,
      "outputs": [
        {
          "output_type": "stream",
          "text": [
            "tf.Tensor(\n",
            "[[-1.  2. -2.  2.]\n",
            " [ 1. -1.  2. -2.]\n",
            " [ 1. -1.  1. -1.]\n",
            " [-1.  0. -1.  2.]], shape=(4, 4), dtype=float32)\n"
          ],
          "name": "stdout"
        }
      ]
    },
    {
      "cell_type": "code",
      "metadata": {
        "colab": {
          "base_uri": "https://localhost:8080/"
        },
        "id": "y_0QZdozCHnu",
        "outputId": "b0bdda4e-10dc-47c7-a975-a47afa86b57d"
      },
      "source": [
        "# Now let's get pseudo-inverse with the tf.linalg.pinv() functino\n",
        "A = tf.constant([\n",
        "                 [1, 0, 1, 2],\n",
        "                 [1, 1, 0, 0],\n",
        "                 [1, 2, 0, 1]\n",
        "                 ],\n",
        "                dtype = tf.float64)\n",
        "\n",
        "print(tf.linalg.pinv(A))"
      ],
      "execution_count": null,
      "outputs": [
        {
          "output_type": "stream",
          "text": [
            "tf.Tensor(\n",
            "[[ 0.25        1.25       -0.58333333]\n",
            " [-0.25       -0.25        0.58333333]\n",
            " [ 0.25        0.25       -0.25      ]\n",
            " [ 0.25       -0.75        0.41666667]], shape=(4, 3), dtype=float64)\n"
          ],
          "name": "stdout"
        }
      ]
    },
    {
      "cell_type": "markdown",
      "metadata": {
        "id": "f-PqrLOGDXht"
      },
      "source": [
        "In a nutshell, we can perform matrix multiplication using:\n",
        "\n",
        "\n",
        "*   `tf.matmul()`\n",
        "*   `tf.tensordot()`\n",
        "\n"
      ]
    },
    {
      "cell_type": "markdown",
      "metadata": {
        "id": "Tmyq8FXcgxoO"
      },
      "source": [
        "### Changing the Datatype of a Tensor"
      ]
    },
    {
      "cell_type": "code",
      "metadata": {
        "id": "gDM8IJ6mE_nK",
        "colab": {
          "base_uri": "https://localhost:8080/"
        },
        "outputId": "02d7f8d1-f258-4997-b1c1-ad0ef62f77af"
      },
      "source": [
        "B = tf.constant([1, 3]) # if we populate the function with integers, dtype will be int32\n",
        "print(B.dtype)"
      ],
      "execution_count": null,
      "outputs": [
        {
          "output_type": "stream",
          "text": [
            "<dtype: 'int32'>\n"
          ],
          "name": "stdout"
        }
      ]
    },
    {
      "cell_type": "code",
      "metadata": {
        "colab": {
          "base_uri": "https://localhost:8080/"
        },
        "id": "WLwbAeuAg3jZ",
        "outputId": "102092c3-4fc1-4671-b74b-7beeb813d8be"
      },
      "source": [
        "# Let's change it to int16 (reduced precision)\n",
        "B = tf.cast(B, dtype = tf.int16)\n",
        "print(B.dtype)"
      ],
      "execution_count": null,
      "outputs": [
        {
          "output_type": "stream",
          "text": [
            "<dtype: 'int16'>\n"
          ],
          "name": "stdout"
        }
      ]
    },
    {
      "cell_type": "code",
      "metadata": {
        "colab": {
          "base_uri": "https://localhost:8080/"
        },
        "id": "oCHuT4hOhm1M",
        "outputId": "5474689d-0d55-4eb0-a507-ed94867928d8"
      },
      "source": [
        "# Change from int16 to float32\n",
        "B = tf.cast(B, dtype = tf.float32)\n",
        "print(B.numpy(), B.dtype)"
      ],
      "execution_count": null,
      "outputs": [
        {
          "output_type": "stream",
          "text": [
            "[1. 3.] <dtype: 'float32'>\n"
          ],
          "name": "stdout"
        }
      ]
    },
    {
      "cell_type": "markdown",
      "metadata": {
        "id": "jBbCnp4oiOkU"
      },
      "source": [
        "### Aggregating Tensors"
      ]
    },
    {
      "cell_type": "markdown",
      "metadata": {
        "id": "1KrevdBsjOtj"
      },
      "source": [
        "Aggregating tensors means condensing them from multiple values down to a smaller amount of values.\n",
        "\n",
        "*   Get the minimum\n",
        "*   Get the maximum\n",
        "*   Get the mean\n",
        "*   Get the sum\n",
        "*   Get the variance\n",
        "*   Get the standard deviation\n",
        "\n"
      ]
    },
    {
      "cell_type": "code",
      "metadata": {
        "colab": {
          "base_uri": "https://localhost:8080/"
        },
        "id": "xNc5Eembh-9t",
        "outputId": "ab47cbfa-9d1a-4914-8c27-21b8f8469542"
      },
      "source": [
        "# Get the absolute values\n",
        "D = tf.constant([-7, -10, -3], dtype = tf.float16)\n",
        "print(tf.abs(D))"
      ],
      "execution_count": null,
      "outputs": [
        {
          "output_type": "stream",
          "text": [
            "tf.Tensor([ 7. 10.  3.], shape=(3,), dtype=float16)\n"
          ],
          "name": "stdout"
        }
      ]
    },
    {
      "cell_type": "code",
      "metadata": {
        "colab": {
          "base_uri": "https://localhost:8080/"
        },
        "id": "gpQgnME_jhLp",
        "outputId": "5833734d-071e-4731-a302-f4c7c1566868"
      },
      "source": [
        "# Aggregation measures\n",
        "# TF puts reduce_ before the actual agg measure\n",
        "D = tf.constant(np.random.normal(size = (10, 30)))\n",
        "print('Minimum value:', tf.reduce_min(D, axis = 1))\n",
        "print('\\mMaximum value:', tf.reduce_max(D, axis = 1))\n",
        "print('\\mMean value:', tf.reduce_mean(D, axis = 1))\n",
        "print('\\mSum:', tf.reduce_sum(D, axis = 1))\n",
        "print('\\nStandard deviation:', tf.math.reduce_std(D, axis = 1))\n",
        "print('\\nVariance:', tf.math.reduce_variance(D, axis = 1))"
      ],
      "execution_count": null,
      "outputs": [
        {
          "output_type": "stream",
          "text": [
            "Minimum value: tf.Tensor(\n",
            "[-2.17696675 -2.47799107 -1.89561998 -2.64350557 -2.39673651 -2.53152494\n",
            " -2.87685239 -2.35533785 -1.82363282 -2.83924328], shape=(10,), dtype=float64)\n",
            "\\mMaximum value: tf.Tensor(\n",
            "[1.97744048 1.62590541 1.68575292 2.30097726 2.13002513 1.70544056\n",
            " 2.89826085 2.22187413 2.43368277 2.65404179], shape=(10,), dtype=float64)\n",
            "\\mMean value: tf.Tensor(\n",
            "[ 0.06484969 -0.20251058 -0.14801486 -0.12010113 -0.01909641  0.2058323\n",
            " -0.08053196 -0.10432362  0.02662925  0.0316522 ], shape=(10,), dtype=float64)\n",
            "\\mSum: tf.Tensor(\n",
            "[ 1.94549081 -6.07531731 -4.44044589 -3.60303376 -0.57289234  6.17496896\n",
            " -2.41595869 -3.12970873  0.79887754  0.94956612], shape=(10,), dtype=float64)\n",
            "\n",
            "Standard deviation: tf.Tensor(\n",
            "[0.96806799 0.94715972 0.93983136 1.18008852 1.12927685 0.93201016\n",
            " 1.1897983  1.05433726 0.95927192 1.34017171], shape=(10,), dtype=float64)\n",
            "\n",
            "Variance: tf.Tensor(\n",
            "[0.93715562 0.89711153 0.88328298 1.39260891 1.27526619 0.86864293\n",
            " 1.41562    1.11162705 0.92020261 1.79606021], shape=(10,), dtype=float64)\n"
          ],
          "name": "stdout"
        }
      ]
    },
    {
      "cell_type": "markdown",
      "metadata": {
        "id": "ZJJFnisCmJcL"
      },
      "source": [
        "### Indices of Minimum and Maximum; Squeezing a Tensor"
      ]
    },
    {
      "cell_type": "code",
      "metadata": {
        "colab": {
          "base_uri": "https://localhost:8080/"
        },
        "id": "JEQBU2u6kCLz",
        "outputId": "0c996256-4781-442b-e893-703378af0a12"
      },
      "source": [
        "x = tf.constant([3, 2, 1, 5, 4, 2], dtype = tf.float16)\n",
        "print ('Index of minimum:', tf.argmin(x))\n",
        "print('The minimum value:', x[tf.argmin(x)])\n",
        "print('\\nIndex of maximum:', tf.argmax(x))\n",
        "print('The maximum value:', x[tf.argmax(x)])"
      ],
      "execution_count": null,
      "outputs": [
        {
          "output_type": "stream",
          "text": [
            "Index of minimum: tf.Tensor(2, shape=(), dtype=int64)\n",
            "The minimum value: tf.Tensor(1.0, shape=(), dtype=float16)\n",
            "\n",
            "Index of maximum: tf.Tensor(3, shape=(), dtype=int64)\n",
            "The maximum value: tf.Tensor(5.0, shape=(), dtype=float16)\n"
          ],
          "name": "stdout"
        }
      ]
    },
    {
      "cell_type": "code",
      "metadata": {
        "id": "JyO-ujFen4qs",
        "colab": {
          "base_uri": "https://localhost:8080/"
        },
        "outputId": "1147daca-f46b-4735-f8df-bb9e70128e91"
      },
      "source": [
        "# Squeezing a tensor - removes dimensions of size 1 from tensor!\n",
        "x = tf.constant([3, 2, 1, 4, 2, 1], shape = (6, 1, 1, 1, 1))\n",
        "print(x.ndim)\n",
        "print(tf.squeeze(x))\n",
        "print(tf.squeeze(x).ndim)"
      ],
      "execution_count": null,
      "outputs": [
        {
          "output_type": "stream",
          "text": [
            "5\n",
            "tf.Tensor([3 2 1 4 2 1], shape=(6,), dtype=int32)\n",
            "1\n"
          ],
          "name": "stdout"
        }
      ]
    },
    {
      "cell_type": "markdown",
      "metadata": {
        "id": "IQwByCs3reSI"
      },
      "source": [
        "### One-Hot Encoding with Tensors"
      ]
    },
    {
      "cell_type": "code",
      "metadata": {
        "colab": {
          "base_uri": "https://localhost:8080/"
        },
        "id": "pn82XQitq4YT",
        "outputId": "f7c047c4-96c0-4096-f33b-35cab3fb9f8d"
      },
      "source": [
        "# We need to define indices of values which will take values of 1 in each row\n",
        "some_list = [0, 1, 2, 1, 3, 2, 3, 0] \n",
        "tf.one_hot(some_list, depth = 4) # depth is the number of unique values"
      ],
      "execution_count": null,
      "outputs": [
        {
          "output_type": "execute_result",
          "data": {
            "text/plain": [
              "<tf.Tensor: shape=(8, 4), dtype=float32, numpy=\n",
              "array([[1., 0., 0., 0.],\n",
              "       [0., 1., 0., 0.],\n",
              "       [0., 0., 1., 0.],\n",
              "       [0., 1., 0., 0.],\n",
              "       [0., 0., 0., 1.],\n",
              "       [0., 0., 1., 0.],\n",
              "       [0., 0., 0., 1.],\n",
              "       [1., 0., 0., 0.]], dtype=float32)>"
            ]
          },
          "metadata": {
            "tags": []
          },
          "execution_count": 36
        }
      ]
    },
    {
      "cell_type": "code",
      "metadata": {
        "colab": {
          "base_uri": "https://localhost:8080/"
        },
        "id": "w3BaIG9isNHa",
        "outputId": "6b37b46c-c081-4564-ed60-e52ee20abe41"
      },
      "source": [
        "# Specify custom values for one hot encoding, but you'll rarely use this\n",
        "tf.one_hot(some_list, depth = 4, on_value = 'huehue', off_value = 'auau')"
      ],
      "execution_count": null,
      "outputs": [
        {
          "output_type": "execute_result",
          "data": {
            "text/plain": [
              "<tf.Tensor: shape=(8, 4), dtype=string, numpy=\n",
              "array([[b'huehue', b'auau', b'auau', b'auau'],\n",
              "       [b'auau', b'huehue', b'auau', b'auau'],\n",
              "       [b'auau', b'auau', b'huehue', b'auau'],\n",
              "       [b'auau', b'huehue', b'auau', b'auau'],\n",
              "       [b'auau', b'auau', b'auau', b'huehue'],\n",
              "       [b'auau', b'auau', b'huehue', b'auau'],\n",
              "       [b'auau', b'auau', b'auau', b'huehue'],\n",
              "       [b'huehue', b'auau', b'auau', b'auau']], dtype=object)>"
            ]
          },
          "metadata": {
            "tags": []
          },
          "execution_count": 38
        }
      ]
    },
    {
      "cell_type": "markdown",
      "metadata": {
        "id": "K1ZvLqBCtBQk"
      },
      "source": [
        "### Square, log, Square Root"
      ]
    },
    {
      "cell_type": "code",
      "metadata": {
        "colab": {
          "base_uri": "https://localhost:8080/"
        },
        "id": "OAq6EbxysgEB",
        "outputId": "c8f0bfc3-c659-4526-a237-36ac290dae24"
      },
      "source": [
        "h = tf.range(1, 10, dtype = tf.float32)\n",
        "print(h)"
      ],
      "execution_count": null,
      "outputs": [
        {
          "output_type": "stream",
          "text": [
            "tf.Tensor([1. 2. 3. 4. 5. 6. 7. 8. 9.], shape=(9,), dtype=float32)\n"
          ],
          "name": "stdout"
        }
      ]
    },
    {
      "cell_type": "code",
      "metadata": {
        "colab": {
          "base_uri": "https://localhost:8080/"
        },
        "id": "RkbGtAVOtIOA",
        "outputId": "7e58a9f2-c397-44ad-bd35-9118db2f7313"
      },
      "source": [
        "print('Squared:', tf.square(h))\n",
        "print('\\nSquare root:', tf.math.sqrt(h))\n",
        "print('\\nLog:', tf.math.log(h))"
      ],
      "execution_count": null,
      "outputs": [
        {
          "output_type": "stream",
          "text": [
            "Squared: tf.Tensor([ 1.  4.  9. 16. 25. 36. 49. 64. 81.], shape=(9,), dtype=float32)\n",
            "\n",
            "Square root: tf.Tensor(\n",
            "[0.99999994 1.4142134  1.7320508  1.9999999  2.236068   2.4494896\n",
            " 2.6457512  2.8284268  3.        ], shape=(9,), dtype=float32)\n",
            "\n",
            "Log: tf.Tensor(\n",
            "[0.        0.6931472 1.0986123 1.3862944 1.609438  1.7917595 1.9459102\n",
            " 2.0794415 2.1972246], shape=(9,), dtype=float32)\n"
          ],
          "name": "stdout"
        }
      ]
    },
    {
      "cell_type": "markdown",
      "metadata": {
        "id": "sFDHBCWzt9kJ"
      },
      "source": [
        "### Tensors and NumPy"
      ]
    },
    {
      "cell_type": "markdown",
      "metadata": {
        "id": "At8uYDSNuFPf"
      },
      "source": [
        "> TensorFlow interacts beautifully and naturally with NumPy arrays."
      ]
    },
    {
      "cell_type": "code",
      "metadata": {
        "colab": {
          "base_uri": "https://localhost:8080/"
        },
        "id": "4DTlyWYLtL83",
        "outputId": "b5cf6541-91d8-4850-dd8a-3b81af71246c"
      },
      "source": [
        "# Create a tensor directly from a NumPy array\n",
        "print(tf.constant(np.arange(12, dtype = np.float32)))"
      ],
      "execution_count": null,
      "outputs": [
        {
          "output_type": "stream",
          "text": [
            "tf.Tensor([ 0.  1.  2.  3.  4.  5.  6.  7.  8.  9. 10. 11.], shape=(12,), dtype=float32)\n"
          ],
          "name": "stdout"
        }
      ]
    },
    {
      "cell_type": "code",
      "metadata": {
        "colab": {
          "base_uri": "https://localhost:8080/"
        },
        "id": "K33HezwTuMXP",
        "outputId": "84b6a8a1-d558-4606-ce36-e1f41790c42a"
      },
      "source": [
        "# Convert a tensor into a NumPy array\n",
        "x = tf.constant([1, 3, 2])\n",
        "x.numpy()"
      ],
      "execution_count": null,
      "outputs": [
        {
          "output_type": "execute_result",
          "data": {
            "text/plain": [
              "array([1, 3, 2], dtype=int32)"
            ]
          },
          "metadata": {
            "tags": []
          },
          "execution_count": 53
        }
      ]
    },
    {
      "cell_type": "markdown",
      "metadata": {
        "id": "XCQc_cEWvTVe"
      },
      "source": [
        "---------\n"
      ]
    },
    {
      "cell_type": "markdown",
      "metadata": {
        "id": "_bp4lmLTvVZZ"
      },
      "source": [
        "## Neural Networks for Regression Problems"
      ]
    },
    {
      "cell_type": "code",
      "metadata": {
        "id": "uzwXgUtIwK9A"
      },
      "source": [
        "import tensorflow as tf \n",
        "import numpy as np \n",
        "import matplotlib.pyplot as plt "
      ],
      "execution_count": null,
      "outputs": []
    },
    {
      "cell_type": "code",
      "metadata": {
        "id": "YF0OLx-2crO_"
      },
      "source": [
        "x = np.random.normal(size = 15)\n",
        "y = 0.56*x + 3.85 + np.random.normal(size = 15, scale = 0.5)"
      ],
      "execution_count": null,
      "outputs": []
    },
    {
      "cell_type": "code",
      "metadata": {
        "colab": {
          "base_uri": "https://localhost:8080/",
          "height": 265
        },
        "id": "NF-Jab7tcyMi",
        "outputId": "aab70d0e-262b-47f1-9a9e-93214f595a29"
      },
      "source": [
        "plt.scatter(x, y);"
      ],
      "execution_count": null,
      "outputs": [
        {
          "output_type": "display_data",
          "data": {
            "image/png": "[encoded data removed]",
            "text/plain": [
              "<Figure size 432x288 with 1 Axes>"
            ]
          },
          "metadata": {
            "tags": [],
            "needs_background": "light"
          }
        }
      ]
    },
    {
      "cell_type": "code",
      "metadata": {
        "colab": {
          "base_uri": "https://localhost:8080/"
        },
        "id": "Fcb_V7MBc7BA",
        "outputId": "22d4dd16-8bd1-420d-aeef-dbdacb8f4b03"
      },
      "source": [
        "# Let's take a look at input and output shapes\n",
        "print('Shape of x:', np.shape(x))\n",
        "print('Shape of y:', np.shape(y))"
      ],
      "execution_count": null,
      "outputs": [
        {
          "output_type": "stream",
          "text": [
            "Shape of x: (15,)\n",
            "Shape of y: (15,)\n"
          ],
          "name": "stdout"
        }
      ]
    },
    {
      "cell_type": "code",
      "metadata": {
        "colab": {
          "base_uri": "https://localhost:8080/"
        },
        "id": "ezAASEvVfYDc",
        "outputId": "e1dc0312-969b-4047-ab6a-f168849b5ba4"
      },
      "source": [
        "x = tf.constant(x)\n",
        "y = tf.constant(y)\n",
        "x"
      ],
      "execution_count": null,
      "outputs": [
        {
          "output_type": "execute_result",
          "data": {
            "text/plain": [
              "<tf.Tensor: shape=(15,), dtype=float64, numpy=\n",
              "array([ 0.81933341, -1.71696563, -0.19239266, -1.49843236,  0.25757779,\n",
              "        1.97890409, -0.60671208, -0.30636852,  1.00076431, -0.19206979,\n",
              "        0.21764501, -0.07436424, -0.29292656,  0.09538418,  0.3150241 ])>"
            ]
          },
          "metadata": {
            "tags": []
          },
          "execution_count": 5
        }
      ]
    },
    {
      "cell_type": "markdown",
      "metadata": {
        "id": "H340jvJNg2Bj"
      },
      "source": [
        "### Steps in Modelling with TensorFlow"
      ]
    },
    {
      "cell_type": "markdown",
      "metadata": {
        "id": "9ZpDQBQ0giCB"
      },
      "source": [
        "We have a few steps in modelling the relationship between input and output variables. The steps are:\n",
        "\n",
        "\n",
        "1.   Create a model - define the input, hidden, and output layers\n",
        "2.   Compile a model - define the loss function, the optimizer, and evaluation metric\n",
        "3.   Fitting a model\n",
        "\n"
      ]
    },
    {
      "cell_type": "code",
      "metadata": {
        "colab": {
          "base_uri": "https://localhost:8080/"
        },
        "id": "C5v2dTLWgosJ",
        "outputId": "3e4dfb78-6a76-4bcb-ffc5-a00fed8a335f"
      },
      "source": [
        "# Set random seed\n",
        "tf.random.set_seed(42)\n",
        "\n",
        "# 1. Create a model using the sequential API\n",
        "model = tf.keras.Sequential(\n",
        "    layers = [tf.keras.layers.Dense(1)]  # the output layer, outputs one number\n",
        "    )\n",
        "\n",
        "# 2. Compile the model\n",
        "model.compile(\n",
        "    loss = tf.keras.losses.mse, \n",
        "    optimizer = tf.keras.optimizers.SGD(), \n",
        "    metrics = ['mse']\n",
        "    )\n",
        "\n",
        "# 3. Fit the model\n",
        "model.fit(x, y, epochs = 10) # ten runs through the dataset"
      ],
      "execution_count": null,
      "outputs": [
        {
          "output_type": "stream",
          "text": [
            "Epoch 1/10\n",
            "1/1 [==============================] - 1s 515ms/step - loss: 14.7855 - mse: 14.7855\n",
            "Epoch 2/10\n",
            "1/1 [==============================] - 0s 4ms/step - loss: 14.2097 - mse: 14.2097\n",
            "Epoch 3/10\n",
            "1/1 [==============================] - 0s 4ms/step - loss: 13.6568 - mse: 13.6568\n",
            "Epoch 4/10\n",
            "1/1 [==============================] - 0s 4ms/step - loss: 13.1257 - mse: 13.1257\n",
            "Epoch 5/10\n",
            "1/1 [==============================] - 0s 10ms/step - loss: 12.6158 - mse: 12.6158\n",
            "Epoch 6/10\n",
            "1/1 [==============================] - 0s 11ms/step - loss: 12.1260 - mse: 12.1260\n",
            "Epoch 7/10\n",
            "1/1 [==============================] - 0s 10ms/step - loss: 11.6556 - mse: 11.6556\n",
            "Epoch 8/10\n",
            "1/1 [==============================] - 0s 6ms/step - loss: 11.2038 - mse: 11.2038\n",
            "Epoch 9/10\n",
            "1/1 [==============================] - 0s 6ms/step - loss: 10.7700 - mse: 10.7700\n",
            "Epoch 10/10\n",
            "1/1 [==============================] - 0s 6ms/step - loss: 10.3533 - mse: 10.3533\n"
          ],
          "name": "stdout"
        },
        {
          "output_type": "execute_result",
          "data": {
            "text/plain": [
              "<tensorflow.python.keras.callbacks.History at 0x7f564d0832d0>"
            ]
          },
          "metadata": {
            "tags": []
          },
          "execution_count": 6
        }
      ]
    },
    {
      "cell_type": "code",
      "metadata": {
        "colab": {
          "base_uri": "https://localhost:8080/"
        },
        "id": "pt7bk9HIuHSz",
        "outputId": "86ae363d-52cb-4a2e-ddfc-9b67f596df9a"
      },
      "source": [
        "model.predict(x)"
      ],
      "execution_count": null,
      "outputs": [
        {
          "output_type": "execute_result",
          "data": {
            "text/plain": [
              "array([[ 1.1542649 ],\n",
              "       [-0.26008832],\n",
              "       [ 0.59008145],\n",
              "       [-0.13822442],\n",
              "       [ 0.84100497],\n",
              "       [ 1.8008931 ],\n",
              "       [ 0.35903847],\n",
              "       [ 0.5265234 ],\n",
              "       [ 1.2554388 ],\n",
              "       [ 0.59026146],\n",
              "       [ 0.8187367 ],\n",
              "       [ 0.65589935],\n",
              "       [ 0.5340193 ],\n",
              "       [ 0.7505586 ],\n",
              "       [ 0.8730396 ]], dtype=float32)"
            ]
          },
          "metadata": {
            "tags": []
          },
          "execution_count": 7
        }
      ]
    },
    {
      "cell_type": "markdown",
      "metadata": {
        "id": "VkquIZb020dn"
      },
      "source": [
        "### Improving the Model"
      ]
    },
    {
      "cell_type": "markdown",
      "metadata": {
        "id": "N1lZ5i-L5mux"
      },
      "source": [
        "The previous model was not that good - predictions were significantly off. However, we can improve the model by adding new hidden layers, apply different activation functions, increasing the number of epochs, etc."
      ]
    },
    {
      "cell_type": "code",
      "metadata": {
        "id": "lf_cUqgq3FbW",
        "colab": {
          "base_uri": "https://localhost:8080/"
        },
        "outputId": "0e06e699-40bc-4adb-d63c-d4c8f798236a"
      },
      "source": [
        "tf.random.set_seed(42)\n",
        "\n",
        "model = tf.keras.Sequential()\n",
        "model.add(tf.keras.layers.Dense(100, activation = 'relu')) # First hidden layes has 100 neurons\n",
        "model.add(tf.keras.layers.Dense(50, activation = 'relu')) # The second hidden layer has 50 neurons\n",
        "model.add(tf.keras.layers.Dense(50, activation = 'relu')) # The third hidden layer has 30 neurons\n",
        "model.add(tf.keras.layers.Dense(1)) # default activation is linear activation\n",
        "\n",
        "# adam optimizer; you can experiment with learning rate as well\n",
        "model.compile(optimizer = tf.keras.optimizers.Adam(), loss = 'mse', metrics = ['mse', 'mae']) \n",
        "\n",
        "model.fit(x, y, epochs = 100) # 100 epochs"
      ],
      "execution_count": null,
      "outputs": [
        {
          "output_type": "stream",
          "text": [
            "Epoch 1/100\n",
            "1/1 [==============================] - 1s 549ms/step - loss: 14.8359 - mse: 14.8359 - mae: 3.7941\n",
            "Epoch 2/100\n",
            "1/1 [==============================] - 0s 5ms/step - loss: 14.6364 - mse: 14.6364 - mae: 3.7671\n",
            "Epoch 3/100\n",
            "1/1 [==============================] - 0s 7ms/step - loss: 14.4504 - mse: 14.4504 - mae: 3.7418\n",
            "Epoch 4/100\n",
            "1/1 [==============================] - 0s 5ms/step - loss: 14.2699 - mse: 14.2699 - mae: 3.7169\n",
            "Epoch 5/100\n",
            "1/1 [==============================] - 0s 6ms/step - loss: 14.0889 - mse: 14.0889 - mae: 3.6918\n",
            "Epoch 6/100\n",
            "1/1 [==============================] - 0s 9ms/step - loss: 13.9083 - mse: 13.9083 - mae: 3.6666\n",
            "Epoch 7/100\n",
            "1/1 [==============================] - 0s 4ms/step - loss: 13.7271 - mse: 13.7271 - mae: 3.6411\n",
            "Epoch 8/100\n",
            "1/1 [==============================] - 0s 7ms/step - loss: 13.5445 - mse: 13.5445 - mae: 3.6152\n",
            "Epoch 9/100\n",
            "1/1 [==============================] - 0s 6ms/step - loss: 13.3595 - mse: 13.3595 - mae: 3.5887\n",
            "Epoch 10/100\n",
            "1/1 [==============================] - 0s 7ms/step - loss: 13.1722 - mse: 13.1722 - mae: 3.5617\n",
            "Epoch 11/100\n",
            "1/1 [==============================] - 0s 4ms/step - loss: 12.9794 - mse: 12.9794 - mae: 3.5337\n",
            "Epoch 12/100\n",
            "1/1 [==============================] - 0s 5ms/step - loss: 12.7789 - mse: 12.7789 - mae: 3.5044\n",
            "Epoch 13/100\n",
            "1/1 [==============================] - 0s 8ms/step - loss: 12.5718 - mse: 12.5718 - mae: 3.4740\n",
            "Epoch 14/100\n",
            "1/1 [==============================] - 0s 9ms/step - loss: 12.3564 - mse: 12.3564 - mae: 3.4419\n",
            "Epoch 15/100\n",
            "1/1 [==============================] - 0s 11ms/step - loss: 12.1341 - mse: 12.1341 - mae: 3.4085\n",
            "Epoch 16/100\n",
            "1/1 [==============================] - 0s 9ms/step - loss: 11.9008 - mse: 11.9008 - mae: 3.3731\n",
            "Epoch 17/100\n",
            "1/1 [==============================] - 0s 5ms/step - loss: 11.6532 - mse: 11.6532 - mae: 3.3349\n",
            "Epoch 18/100\n",
            "1/1 [==============================] - 0s 8ms/step - loss: 11.3926 - mse: 11.3926 - mae: 3.2940\n",
            "Epoch 19/100\n",
            "1/1 [==============================] - 0s 6ms/step - loss: 11.1199 - mse: 11.1199 - mae: 3.2505\n",
            "Epoch 20/100\n",
            "1/1 [==============================] - 0s 6ms/step - loss: 10.8358 - mse: 10.8358 - mae: 3.2043\n",
            "Epoch 21/100\n",
            "1/1 [==============================] - 0s 6ms/step - loss: 10.5394 - mse: 10.5394 - mae: 3.1550\n",
            "Epoch 22/100\n",
            "1/1 [==============================] - 0s 5ms/step - loss: 10.2317 - mse: 10.2317 - mae: 3.1027\n",
            "Epoch 23/100\n",
            "1/1 [==============================] - 0s 5ms/step - loss: 9.9105 - mse: 9.9105 - mae: 3.0467\n",
            "Epoch 24/100\n",
            "1/1 [==============================] - 0s 7ms/step - loss: 9.5774 - mse: 9.5774 - mae: 2.9871\n",
            "Epoch 25/100\n",
            "1/1 [==============================] - 0s 22ms/step - loss: 9.2326 - mse: 9.2326 - mae: 2.9237\n",
            "Epoch 26/100\n",
            "1/1 [==============================] - 0s 5ms/step - loss: 8.8753 - mse: 8.8753 - mae: 2.8553\n",
            "Epoch 27/100\n",
            "1/1 [==============================] - 0s 10ms/step - loss: 8.5074 - mse: 8.5074 - mae: 2.7825\n",
            "Epoch 28/100\n",
            "1/1 [==============================] - 0s 8ms/step - loss: 8.1322 - mse: 8.1322 - mae: 2.7054\n",
            "Epoch 29/100\n",
            "1/1 [==============================] - 0s 11ms/step - loss: 7.7527 - mse: 7.7527 - mae: 2.6241\n",
            "Epoch 30/100\n",
            "1/1 [==============================] - 0s 4ms/step - loss: 7.3693 - mse: 7.3693 - mae: 2.5383\n",
            "Epoch 31/100\n",
            "1/1 [==============================] - 0s 11ms/step - loss: 6.9838 - mse: 6.9838 - mae: 2.4525\n",
            "Epoch 32/100\n",
            "1/1 [==============================] - 0s 9ms/step - loss: 6.5989 - mse: 6.5989 - mae: 2.3831\n",
            "Epoch 33/100\n",
            "1/1 [==============================] - 0s 15ms/step - loss: 6.2155 - mse: 6.2155 - mae: 2.3096\n",
            "Epoch 34/100\n",
            "1/1 [==============================] - 0s 9ms/step - loss: 5.8376 - mse: 5.8376 - mae: 2.2398\n",
            "Epoch 35/100\n",
            "1/1 [==============================] - 0s 9ms/step - loss: 5.4680 - mse: 5.4680 - mae: 2.1836\n",
            "Epoch 36/100\n",
            "1/1 [==============================] - 0s 12ms/step - loss: 5.1096 - mse: 5.1096 - mae: 2.1235\n",
            "Epoch 37/100\n",
            "1/1 [==============================] - 0s 12ms/step - loss: 4.7655 - mse: 4.7655 - mae: 2.0595\n",
            "Epoch 38/100\n",
            "1/1 [==============================] - 0s 11ms/step - loss: 4.4384 - mse: 4.4384 - mae: 1.9914\n",
            "Epoch 39/100\n",
            "1/1 [==============================] - 0s 7ms/step - loss: 4.1312 - mse: 4.1312 - mae: 1.9187\n",
            "Epoch 40/100\n",
            "1/1 [==============================] - 0s 5ms/step - loss: 3.8481 - mse: 3.8481 - mae: 1.8416\n",
            "Epoch 41/100\n",
            "1/1 [==============================] - 0s 8ms/step - loss: 3.5940 - mse: 3.5940 - mae: 1.7610\n",
            "Epoch 42/100\n",
            "1/1 [==============================] - 0s 8ms/step - loss: 3.3727 - mse: 3.3727 - mae: 1.6776\n",
            "Epoch 43/100\n",
            "1/1 [==============================] - 0s 10ms/step - loss: 3.1827 - mse: 3.1827 - mae: 1.6201\n",
            "Epoch 44/100\n",
            "1/1 [==============================] - 0s 15ms/step - loss: 3.0239 - mse: 3.0239 - mae: 1.5699\n",
            "Epoch 45/100\n",
            "1/1 [==============================] - 0s 5ms/step - loss: 2.8946 - mse: 2.8946 - mae: 1.5176\n",
            "Epoch 46/100\n",
            "1/1 [==============================] - 0s 9ms/step - loss: 2.7926 - mse: 2.7926 - mae: 1.4841\n",
            "Epoch 47/100\n",
            "1/1 [==============================] - 0s 12ms/step - loss: 2.7126 - mse: 2.7126 - mae: 1.4514\n",
            "Epoch 48/100\n",
            "1/1 [==============================] - 0s 13ms/step - loss: 2.6486 - mse: 2.6486 - mae: 1.4264\n",
            "Epoch 49/100\n",
            "1/1 [==============================] - 0s 5ms/step - loss: 2.5937 - mse: 2.5937 - mae: 1.4114\n",
            "Epoch 50/100\n",
            "1/1 [==============================] - 0s 6ms/step - loss: 2.5401 - mse: 2.5401 - mae: 1.3937\n",
            "Epoch 51/100\n",
            "1/1 [==============================] - 0s 7ms/step - loss: 2.4821 - mse: 2.4821 - mae: 1.3736\n",
            "Epoch 52/100\n",
            "1/1 [==============================] - 0s 8ms/step - loss: 2.4155 - mse: 2.4155 - mae: 1.3512\n",
            "Epoch 53/100\n",
            "1/1 [==============================] - 0s 7ms/step - loss: 2.3384 - mse: 2.3384 - mae: 1.3270\n",
            "Epoch 54/100\n",
            "1/1 [==============================] - 0s 8ms/step - loss: 2.2507 - mse: 2.2507 - mae: 1.3015\n",
            "Epoch 55/100\n",
            "1/1 [==============================] - 0s 8ms/step - loss: 2.1557 - mse: 2.1557 - mae: 1.2752\n",
            "Epoch 56/100\n",
            "1/1 [==============================] - 0s 8ms/step - loss: 2.0551 - mse: 2.0551 - mae: 1.2483\n",
            "Epoch 57/100\n",
            "1/1 [==============================] - 0s 9ms/step - loss: 1.9516 - mse: 1.9516 - mae: 1.2212\n",
            "Epoch 58/100\n",
            "1/1 [==============================] - 0s 10ms/step - loss: 1.8482 - mse: 1.8482 - mae: 1.1940\n",
            "Epoch 59/100\n",
            "1/1 [==============================] - 0s 7ms/step - loss: 1.7486 - mse: 1.7486 - mae: 1.1671\n",
            "Epoch 60/100\n",
            "1/1 [==============================] - 0s 9ms/step - loss: 1.6540 - mse: 1.6540 - mae: 1.1404\n",
            "Epoch 61/100\n",
            "1/1 [==============================] - 0s 10ms/step - loss: 1.5665 - mse: 1.5665 - mae: 1.1142\n",
            "Epoch 62/100\n",
            "1/1 [==============================] - 0s 11ms/step - loss: 1.4868 - mse: 1.4868 - mae: 1.0884\n",
            "Epoch 63/100\n",
            "1/1 [==============================] - 0s 17ms/step - loss: 1.4139 - mse: 1.4139 - mae: 1.0629\n",
            "Epoch 64/100\n",
            "1/1 [==============================] - 0s 7ms/step - loss: 1.3477 - mse: 1.3477 - mae: 1.0378\n",
            "Epoch 65/100\n",
            "1/1 [==============================] - 0s 10ms/step - loss: 1.2881 - mse: 1.2881 - mae: 1.0134\n",
            "Epoch 66/100\n",
            "1/1 [==============================] - 0s 10ms/step - loss: 1.2330 - mse: 1.2330 - mae: 0.9893\n",
            "Epoch 67/100\n",
            "1/1 [==============================] - 0s 12ms/step - loss: 1.1827 - mse: 1.1827 - mae: 0.9656\n",
            "Epoch 68/100\n",
            "1/1 [==============================] - 0s 10ms/step - loss: 1.1353 - mse: 1.1353 - mae: 0.9422\n",
            "Epoch 69/100\n",
            "1/1 [==============================] - 0s 5ms/step - loss: 1.0898 - mse: 1.0898 - mae: 0.9190\n",
            "Epoch 70/100\n",
            "1/1 [==============================] - 0s 13ms/step - loss: 1.0453 - mse: 1.0453 - mae: 0.8957\n",
            "Epoch 71/100\n",
            "1/1 [==============================] - 0s 8ms/step - loss: 1.0013 - mse: 1.0013 - mae: 0.8722\n",
            "Epoch 72/100\n",
            "1/1 [==============================] - 0s 11ms/step - loss: 0.9577 - mse: 0.9577 - mae: 0.8486\n",
            "Epoch 73/100\n",
            "1/1 [==============================] - 0s 6ms/step - loss: 0.9148 - mse: 0.9148 - mae: 0.8249\n",
            "Epoch 74/100\n",
            "1/1 [==============================] - 0s 8ms/step - loss: 0.8727 - mse: 0.8727 - mae: 0.8011\n",
            "Epoch 75/100\n",
            "1/1 [==============================] - 0s 5ms/step - loss: 0.8317 - mse: 0.8317 - mae: 0.7770\n",
            "Epoch 76/100\n",
            "1/1 [==============================] - 0s 8ms/step - loss: 0.7921 - mse: 0.7921 - mae: 0.7529\n",
            "Epoch 77/100\n",
            "1/1 [==============================] - 0s 8ms/step - loss: 0.7542 - mse: 0.7542 - mae: 0.7288\n",
            "Epoch 78/100\n",
            "1/1 [==============================] - 0s 6ms/step - loss: 0.7184 - mse: 0.7184 - mae: 0.7046\n",
            "Epoch 79/100\n",
            "1/1 [==============================] - 0s 9ms/step - loss: 0.6848 - mse: 0.6848 - mae: 0.6806\n",
            "Epoch 80/100\n",
            "1/1 [==============================] - 0s 9ms/step - loss: 0.6536 - mse: 0.6536 - mae: 0.6568\n",
            "Epoch 81/100\n",
            "1/1 [==============================] - 0s 5ms/step - loss: 0.6247 - mse: 0.6247 - mae: 0.6374\n",
            "Epoch 82/100\n",
            "1/1 [==============================] - 0s 10ms/step - loss: 0.5982 - mse: 0.5982 - mae: 0.6214\n",
            "Epoch 83/100\n",
            "1/1 [==============================] - 0s 6ms/step - loss: 0.5741 - mse: 0.5741 - mae: 0.6087\n",
            "Epoch 84/100\n",
            "1/1 [==============================] - 0s 9ms/step - loss: 0.5517 - mse: 0.5517 - mae: 0.5960\n",
            "Epoch 85/100\n",
            "1/1 [==============================] - 0s 6ms/step - loss: 0.5307 - mse: 0.5307 - mae: 0.5833\n",
            "Epoch 86/100\n",
            "1/1 [==============================] - 0s 9ms/step - loss: 0.5110 - mse: 0.5110 - mae: 0.5714\n",
            "Epoch 87/100\n",
            "1/1 [==============================] - 0s 8ms/step - loss: 0.4922 - mse: 0.4922 - mae: 0.5619\n",
            "Epoch 88/100\n",
            "1/1 [==============================] - 0s 9ms/step - loss: 0.4739 - mse: 0.4739 - mae: 0.5519\n",
            "Epoch 89/100\n",
            "1/1 [==============================] - 0s 7ms/step - loss: 0.4564 - mse: 0.4564 - mae: 0.5417\n",
            "Epoch 90/100\n",
            "1/1 [==============================] - 0s 11ms/step - loss: 0.4393 - mse: 0.4393 - mae: 0.5313\n",
            "Epoch 91/100\n",
            "1/1 [==============================] - 0s 6ms/step - loss: 0.4228 - mse: 0.4228 - mae: 0.5207\n",
            "Epoch 92/100\n",
            "1/1 [==============================] - 0s 9ms/step - loss: 0.4070 - mse: 0.4070 - mae: 0.5107\n",
            "Epoch 93/100\n",
            "1/1 [==============================] - 0s 6ms/step - loss: 0.3920 - mse: 0.3920 - mae: 0.5011\n",
            "Epoch 94/100\n",
            "1/1 [==============================] - 0s 9ms/step - loss: 0.3779 - mse: 0.3779 - mae: 0.4915\n",
            "Epoch 95/100\n",
            "1/1 [==============================] - 0s 5ms/step - loss: 0.3648 - mse: 0.3648 - mae: 0.4820\n",
            "Epoch 96/100\n",
            "1/1 [==============================] - 0s 9ms/step - loss: 0.3527 - mse: 0.3527 - mae: 0.4725\n",
            "Epoch 97/100\n",
            "1/1 [==============================] - 0s 6ms/step - loss: 0.3414 - mse: 0.3414 - mae: 0.4633\n",
            "Epoch 98/100\n",
            "1/1 [==============================] - 0s 9ms/step - loss: 0.3312 - mse: 0.3312 - mae: 0.4545\n",
            "Epoch 99/100\n",
            "1/1 [==============================] - 0s 5ms/step - loss: 0.3221 - mse: 0.3221 - mae: 0.4463\n",
            "Epoch 100/100\n",
            "1/1 [==============================] - 0s 8ms/step - loss: 0.3139 - mse: 0.3139 - mae: 0.4386\n"
          ],
          "name": "stdout"
        },
        {
          "output_type": "execute_result",
          "data": {
            "text/plain": [
              "<tensorflow.python.keras.callbacks.History at 0x7f564c91cf50>"
            ]
          },
          "metadata": {
            "tags": []
          },
          "execution_count": 8
        }
      ]
    },
    {
      "cell_type": "code",
      "metadata": {
        "colab": {
          "base_uri": "https://localhost:8080/",
          "height": 282
        },
        "id": "J_-zYEwT7PZ6",
        "outputId": "57df0af6-1cab-4b7b-8b88-b8136c0ea5fe"
      },
      "source": [
        "plt.scatter(x, model.predict(x))"
      ],
      "execution_count": null,
      "outputs": [
        {
          "output_type": "execute_result",
          "data": {
            "text/plain": [
              "<matplotlib.collections.PathCollection at 0x7f56466106d0>"
            ]
          },
          "metadata": {
            "tags": []
          },
          "execution_count": 9
        },
        {
          "output_type": "display_data",
          "data": {
            "image/png": "[encoded data removed]",
            "text/plain": [
              "<Figure size 432x288 with 1 Axes>"
            ]
          },
          "metadata": {
            "tags": [],
            "needs_background": "light"
          }
        }
      ]
    },
    {
      "cell_type": "code",
      "metadata": {
        "colab": {
          "base_uri": "https://localhost:8080/",
          "height": 282
        },
        "id": "cV_qBvtw734T",
        "outputId": "4ce2d1c0-abb2-4a58-9aad-579effebf9a2"
      },
      "source": [
        "plt.scatter(x, y)"
      ],
      "execution_count": null,
      "outputs": [
        {
          "output_type": "execute_result",
          "data": {
            "text/plain": [
              "<matplotlib.collections.PathCollection at 0x7f564c95be90>"
            ]
          },
          "metadata": {
            "tags": []
          },
          "execution_count": 10
        },
        {
          "output_type": "display_data",
          "data": {
            "image/png": "[encoded data removed]",
            "text/plain": [
              "<Figure size 432x288 with 1 Axes>"
            ]
          },
          "metadata": {
            "tags": [],
            "needs_background": "light"
          }
        }
      ]
    },
    {
      "cell_type": "markdown",
      "metadata": {
        "id": "qGFCy85D_dTz"
      },
      "source": [
        "### Summarizing and Visualizing the Model"
      ]
    },
    {
      "cell_type": "markdown",
      "metadata": {
        "id": "q-dxsaWRfSyU"
      },
      "source": [
        "In practice, a typical workflow you'll go through when building neural network is:\n",
        "\n",
        "```\n",
        "Build a model -> fit it -> evaluate it -> tweak a model -> \n",
        "fit it -> evaluate it -> tweak a model -> fit it -> evaluate it ...\n",
        "```"
      ]
    },
    {
      "cell_type": "markdown",
      "metadata": {
        "id": "hUIkfdecDYjZ"
      },
      "source": [
        "A good way to evaluate model is to visualize it. It's generally a good idea to visualize:\n",
        "*  The data - what data are we working with? What does it look like?\n",
        "*  The model - what does our model look like?\n",
        "*  The training of a model - how does a model perform whilte it learns?\n",
        "*  The predictions o the model - how do the predictions of a model line up against the true values?"
      ]
    },
    {
      "cell_type": "code",
      "metadata": {
        "colab": {
          "base_uri": "https://localhost:8080/",
          "height": 265
        },
        "id": "xmhwrT2hgM9e",
        "outputId": "4243da71-812b-4a46-a5f4-173a5a54d59c"
      },
      "source": [
        "# Let's create a bigger dataset\n",
        "np.random.seed(42)\n",
        "x = np.random.normal(size = 250)\n",
        "y = 5.123 + 1.869 * x + 1.3*np.square(x) + np.random.normal(size = 250, scale = 1.852)\n",
        "plt.scatter(x, y);"
      ],
      "execution_count": null,
      "outputs": [
        {
          "output_type": "display_data",
          "data": {
            "image/png": "[encoded data removed]",
            "text/plain": [
              "<Figure size 432x288 with 1 Axes>"
            ]
          },
          "metadata": {
            "tags": [],
            "needs_background": "light"
          }
        }
      ]
    },
    {
      "cell_type": "code",
      "metadata": {
        "colab": {
          "base_uri": "https://localhost:8080/"
        },
        "id": "1KCEnDlgghnw",
        "outputId": "5f37e0c8-b301-4354-d7ce-d555a5397df8"
      },
      "source": [
        "# Now let's split x and y into training and testing set (let's skip validation set)\n",
        "print('Length of data:', len(x))\n",
        "\n",
        "# Split the data into train and test sets\n",
        "x_train = x[:200] # The first 200 samples \n",
        "x_test = x[200:] # The last 50 samples\n",
        "\n",
        "y_train = y[:200]\n",
        "y_test = y[200:]\n",
        "\n",
        "print('Length of x train:', len(x_train))\n",
        "print('Length of x test:', len(x_test))\n",
        "print('Length of y train:', len(y_train))\n",
        "print('Length of y test:', len(y_test))"
      ],
      "execution_count": null,
      "outputs": [
        {
          "output_type": "stream",
          "text": [
            "Length of data: 250\n",
            "Length of x train: 200\n",
            "Length of x test: 50\n",
            "Length of y train: 200\n",
            "Length of y test: 50\n"
          ],
          "name": "stdout"
        }
      ]
    },
    {
      "cell_type": "code",
      "metadata": {
        "colab": {
          "base_uri": "https://localhost:8080/",
          "height": 428
        },
        "id": "vkLyUgZiiLOp",
        "outputId": "f229ab62-3c2e-4143-b954-00448f605417"
      },
      "source": [
        "# Let's plot two sets of data\n",
        "plt.figure(figsize = (10, 7))\n",
        "plt.scatter(x_train, y_train, c = 'b', label = 'Training data')\n",
        "plt.scatter(x_test, y_test, c = 'g', label = 'Testing data')\n",
        "plt.legend()\n",
        "plt.show();"
      ],
      "execution_count": null,
      "outputs": [
        {
          "output_type": "display_data",
          "data": {
            "image/png": "[encoded data removed]",
            "text/plain": [
              "<Figure size 720x504 with 1 Axes>"
            ]
          },
          "metadata": {
            "tags": [],
            "needs_background": "light"
          }
        }
      ]
    },
    {
      "cell_type": "code",
      "metadata": {
        "id": "jG7k-nBojzI1"
      },
      "source": [
        "# Let's build a model in order to figure out the relationship between train and test data\n",
        "# Let's first visualize the model itself before fitting it\n",
        "# We need to define the model and build it or fit it\n",
        "# Alternatively, we can specify input_shape argument in the first layer and it will build automatically\n",
        "\n",
        "model = tf.keras.Sequential(name = 'Network1')\n",
        "model.add(\n",
        "    tf.keras.layers.Dense(\n",
        "        units = 50, \n",
        "        input_shape = [1],  # figure out the input_shape\n",
        "        activation = 'relu', \n",
        "        use_bias = True,\n",
        "        name = 'Layer1'\n",
        "        )\n",
        "    )\n",
        "model.add(\n",
        "    tf.keras.layers.Dense(\n",
        "        50, \n",
        "        activation = 'relu', \n",
        "        use_bias = True, \n",
        "        kernel_regularizer = tf.keras.regularizers.L2(),\n",
        "        name = 'Layer2'\n",
        "        )\n",
        "    ) \n",
        "model.add(tf.keras.layers.Dense(1, name = 'Output'))\n",
        "\n",
        "model.compile(\n",
        "    loss = tf.keras.losses.mse, \n",
        "    optimizer = tf.keras.optimizers.Adam(lr = 0.0001), \n",
        "    metrics = ['mse', 'mae']\n",
        "    )"
      ],
      "execution_count": null,
      "outputs": []
    },
    {
      "cell_type": "code",
      "metadata": {
        "colab": {
          "base_uri": "https://localhost:8080/"
        },
        "id": "gFAKfqNlk6CM",
        "outputId": "d7720ed9-e59d-4f49-c528-45f5559b40de"
      },
      "source": [
        "model.summary()"
      ],
      "execution_count": null,
      "outputs": [
        {
          "output_type": "stream",
          "text": [
            "Model: \"Network1\"\n",
            "_________________________________________________________________\n",
            "Layer (type)                 Output Shape              Param #   \n",
            "=================================================================\n",
            "Layer1 (Dense)               (None, 50)                100       \n",
            "_________________________________________________________________\n",
            "Layer2 (Dense)               (None, 50)                2550      \n",
            "_________________________________________________________________\n",
            "Output (Dense)               (None, 1)                 51        \n",
            "=================================================================\n",
            "Total params: 2,701\n",
            "Trainable params: 2,701\n",
            "Non-trainable params: 0\n",
            "_________________________________________________________________\n"
          ],
          "name": "stdout"
        }
      ]
    },
    {
      "cell_type": "markdown",
      "metadata": {
        "id": "UQr73VONlcAm"
      },
      "source": [
        "In the previous table, the total parameters indicates the total number of parameters in the model. Trainable parameters are those the model can update as it trains. Nontrainable parameters aren't updated during training (this is typicall when we bring in already trained parameters from other models during *transfer learning*). "
      ]
    },
    {
      "cell_type": "code",
      "metadata": {
        "colab": {
          "base_uri": "https://localhost:8080/"
        },
        "id": "d5zjvWl0nX9k",
        "outputId": "8e518e3e-c581-42d3-b070-b1b131ff6280"
      },
      "source": [
        "model.fit(x_train, y_train, epochs = 200)"
      ],
      "execution_count": null,
      "outputs": [
        {
          "output_type": "stream",
          "text": [
            "Epoch 1/200\n",
            "7/7 [==============================] - 0s 3ms/step - loss: 48.8328 - mse: 48.3271 - mae: 6.2444\n",
            "Epoch 2/200\n",
            "7/7 [==============================] - 0s 2ms/step - loss: 47.6184 - mse: 47.1151 - mae: 6.2070\n",
            "Epoch 3/200\n",
            "7/7 [==============================] - 0s 2ms/step - loss: 46.4226 - mse: 45.9216 - mae: 6.1003\n",
            "Epoch 4/200\n",
            "7/7 [==============================] - 0s 2ms/step - loss: 46.2813 - mse: 45.7826 - mae: 6.1084\n",
            "Epoch 5/200\n",
            "7/7 [==============================] - 0s 3ms/step - loss: 47.9337 - mse: 47.4373 - mae: 6.2708\n",
            "Epoch 6/200\n",
            "7/7 [==============================] - 0s 4ms/step - loss: 47.3536 - mse: 46.8595 - mae: 6.1135\n",
            "Epoch 7/200\n",
            "7/7 [==============================] - 0s 2ms/step - loss: 46.8866 - mse: 46.3948 - mae: 6.1635\n",
            "Epoch 8/200\n",
            "7/7 [==============================] - 0s 3ms/step - loss: 48.6287 - mse: 48.1390 - mae: 6.2848\n",
            "Epoch 9/200\n",
            "7/7 [==============================] - 0s 2ms/step - loss: 48.6016 - mse: 48.1140 - mae: 6.2029\n",
            "Epoch 10/200\n",
            "7/7 [==============================] - 0s 3ms/step - loss: 48.6026 - mse: 48.1170 - mae: 6.2673\n",
            "Epoch 11/200\n",
            "7/7 [==============================] - 0s 2ms/step - loss: 41.9024 - mse: 41.4187 - mae: 5.8239\n",
            "Epoch 12/200\n",
            "7/7 [==============================] - 0s 3ms/step - loss: 43.9487 - mse: 43.4670 - mae: 6.0196\n",
            "Epoch 13/200\n",
            "7/7 [==============================] - 0s 4ms/step - loss: 48.0052 - mse: 47.5253 - mae: 6.1821\n",
            "Epoch 14/200\n",
            "7/7 [==============================] - 0s 3ms/step - loss: 46.2428 - mse: 45.7647 - mae: 6.0802\n",
            "Epoch 15/200\n",
            "7/7 [==============================] - 0s 4ms/step - loss: 42.6687 - mse: 42.1924 - mae: 5.8945\n",
            "Epoch 16/200\n",
            "7/7 [==============================] - 0s 3ms/step - loss: 42.5980 - mse: 42.1235 - mae: 5.8821\n",
            "Epoch 17/200\n",
            "7/7 [==============================] - 0s 2ms/step - loss: 45.1512 - mse: 44.6783 - mae: 5.9750\n",
            "Epoch 18/200\n",
            "7/7 [==============================] - 0s 3ms/step - loss: 46.5921 - mse: 46.1209 - mae: 6.1416\n",
            "Epoch 19/200\n",
            "7/7 [==============================] - 0s 3ms/step - loss: 45.3340 - mse: 44.8644 - mae: 6.0414\n",
            "Epoch 20/200\n",
            "7/7 [==============================] - 0s 3ms/step - loss: 44.9250 - mse: 44.4570 - mae: 5.9209\n",
            "Epoch 21/200\n",
            "7/7 [==============================] - 0s 2ms/step - loss: 41.0054 - mse: 40.5389 - mae: 5.7444\n",
            "Epoch 22/200\n",
            "7/7 [==============================] - 0s 3ms/step - loss: 44.2687 - mse: 43.8037 - mae: 5.8975\n",
            "Epoch 23/200\n",
            "7/7 [==============================] - 0s 3ms/step - loss: 44.4244 - mse: 43.9608 - mae: 5.9487\n",
            "Epoch 24/200\n",
            "7/7 [==============================] - 0s 3ms/step - loss: 46.0182 - mse: 45.5561 - mae: 5.9714\n",
            "Epoch 25/200\n",
            "7/7 [==============================] - 0s 3ms/step - loss: 41.0878 - mse: 40.6270 - mae: 5.7212\n",
            "Epoch 26/200\n",
            "7/7 [==============================] - 0s 3ms/step - loss: 41.6950 - mse: 41.2355 - mae: 5.8153\n",
            "Epoch 27/200\n",
            "7/7 [==============================] - 0s 3ms/step - loss: 39.6295 - mse: 39.1713 - mae: 5.6282\n",
            "Epoch 28/200\n",
            "7/7 [==============================] - 0s 3ms/step - loss: 40.7728 - mse: 40.3158 - mae: 5.7550\n",
            "Epoch 29/200\n",
            "7/7 [==============================] - 0s 3ms/step - loss: 43.8604 - mse: 43.4045 - mae: 5.8250\n",
            "Epoch 30/200\n",
            "7/7 [==============================] - 0s 3ms/step - loss: 41.3943 - mse: 40.9396 - mae: 5.7243\n",
            "Epoch 31/200\n",
            "7/7 [==============================] - 0s 3ms/step - loss: 43.7318 - mse: 43.2781 - mae: 5.9327\n",
            "Epoch 32/200\n",
            "7/7 [==============================] - 0s 2ms/step - loss: 39.0298 - mse: 38.5771 - mae: 5.5502\n",
            "Epoch 33/200\n",
            "7/7 [==============================] - 0s 4ms/step - loss: 39.3853 - mse: 38.9336 - mae: 5.5553\n",
            "Epoch 34/200\n",
            "7/7 [==============================] - 0s 3ms/step - loss: 38.9720 - mse: 38.5212 - mae: 5.5671\n",
            "Epoch 35/200\n",
            "7/7 [==============================] - 0s 3ms/step - loss: 39.7059 - mse: 39.2561 - mae: 5.6504\n",
            "Epoch 36/200\n",
            "7/7 [==============================] - 0s 2ms/step - loss: 38.2478 - mse: 37.7987 - mae: 5.4396\n",
            "Epoch 37/200\n",
            "7/7 [==============================] - 0s 3ms/step - loss: 37.1163 - mse: 36.6681 - mae: 5.4164\n",
            "Epoch 38/200\n",
            "7/7 [==============================] - 0s 3ms/step - loss: 38.2997 - mse: 37.8523 - mae: 5.5272\n",
            "Epoch 39/200\n",
            "7/7 [==============================] - 0s 2ms/step - loss: 38.9161 - mse: 38.4694 - mae: 5.4847\n",
            "Epoch 40/200\n",
            "7/7 [==============================] - 0s 3ms/step - loss: 39.9535 - mse: 39.5075 - mae: 5.6020\n",
            "Epoch 41/200\n",
            "7/7 [==============================] - 0s 4ms/step - loss: 36.8176 - mse: 36.3722 - mae: 5.4424\n",
            "Epoch 42/200\n",
            "7/7 [==============================] - 0s 3ms/step - loss: 34.5193 - mse: 34.0745 - mae: 5.2924\n",
            "Epoch 43/200\n",
            "7/7 [==============================] - 0s 3ms/step - loss: 34.7750 - mse: 34.3307 - mae: 5.2384\n",
            "Epoch 44/200\n",
            "7/7 [==============================] - 0s 3ms/step - loss: 35.6233 - mse: 35.1796 - mae: 5.2981\n",
            "Epoch 45/200\n",
            "7/7 [==============================] - 0s 2ms/step - loss: 36.3592 - mse: 35.9159 - mae: 5.3025\n",
            "Epoch 46/200\n",
            "7/7 [==============================] - 0s 3ms/step - loss: 39.0837 - mse: 38.6409 - mae: 5.5061\n",
            "Epoch 47/200\n",
            "7/7 [==============================] - 0s 4ms/step - loss: 32.5877 - mse: 32.1454 - mae: 5.0799\n",
            "Epoch 48/200\n",
            "7/7 [==============================] - 0s 3ms/step - loss: 35.9490 - mse: 35.5070 - mae: 5.2505\n",
            "Epoch 49/200\n",
            "7/7 [==============================] - 0s 2ms/step - loss: 33.5237 - mse: 33.0821 - mae: 5.1418\n",
            "Epoch 50/200\n",
            "7/7 [==============================] - 0s 3ms/step - loss: 32.4005 - mse: 31.9594 - mae: 5.0295\n",
            "Epoch 51/200\n",
            "7/7 [==============================] - 0s 3ms/step - loss: 29.7535 - mse: 29.3126 - mae: 4.8528\n",
            "Epoch 52/200\n",
            "7/7 [==============================] - 0s 3ms/step - loss: 29.4290 - mse: 28.9885 - mae: 4.7713\n",
            "Epoch 53/200\n",
            "7/7 [==============================] - 0s 2ms/step - loss: 34.2610 - mse: 33.8208 - mae: 5.1864\n",
            "Epoch 54/200\n",
            "7/7 [==============================] - 0s 3ms/step - loss: 32.0712 - mse: 31.6312 - mae: 5.0019\n",
            "Epoch 55/200\n",
            "7/7 [==============================] - 0s 3ms/step - loss: 33.0804 - mse: 32.6406 - mae: 5.0494\n",
            "Epoch 56/200\n",
            "7/7 [==============================] - 0s 2ms/step - loss: 31.0838 - mse: 30.6442 - mae: 4.9389\n",
            "Epoch 57/200\n",
            "7/7 [==============================] - 0s 2ms/step - loss: 30.3566 - mse: 29.9172 - mae: 4.8483\n",
            "Epoch 58/200\n",
            "7/7 [==============================] - 0s 2ms/step - loss: 31.7789 - mse: 31.3397 - mae: 4.8897\n",
            "Epoch 59/200\n",
            "7/7 [==============================] - 0s 2ms/step - loss: 29.8291 - mse: 29.3900 - mae: 4.7547\n",
            "Epoch 60/200\n",
            "7/7 [==============================] - 0s 2ms/step - loss: 25.9363 - mse: 25.4972 - mae: 4.4693\n",
            "Epoch 61/200\n",
            "7/7 [==============================] - 0s 2ms/step - loss: 27.3818 - mse: 26.9428 - mae: 4.6074\n",
            "Epoch 62/200\n",
            "7/7 [==============================] - 0s 2ms/step - loss: 29.8986 - mse: 29.4596 - mae: 4.8318\n",
            "Epoch 63/200\n",
            "7/7 [==============================] - 0s 2ms/step - loss: 27.7903 - mse: 27.3513 - mae: 4.5627\n",
            "Epoch 64/200\n",
            "7/7 [==============================] - 0s 3ms/step - loss: 25.8926 - mse: 25.4536 - mae: 4.4404\n",
            "Epoch 65/200\n",
            "7/7 [==============================] - 0s 3ms/step - loss: 26.4448 - mse: 26.0058 - mae: 4.4595\n",
            "Epoch 66/200\n",
            "7/7 [==============================] - 0s 3ms/step - loss: 26.3621 - mse: 25.9230 - mae: 4.5013\n",
            "Epoch 67/200\n",
            "7/7 [==============================] - 0s 3ms/step - loss: 24.5698 - mse: 24.1307 - mae: 4.3291\n",
            "Epoch 68/200\n",
            "7/7 [==============================] - 0s 3ms/step - loss: 26.2457 - mse: 25.8064 - mae: 4.4550\n",
            "Epoch 69/200\n",
            "7/7 [==============================] - 0s 2ms/step - loss: 22.9902 - mse: 22.5508 - mae: 4.1352\n",
            "Epoch 70/200\n",
            "7/7 [==============================] - 0s 3ms/step - loss: 22.9132 - mse: 22.4737 - mae: 4.1507\n",
            "Epoch 71/200\n",
            "7/7 [==============================] - 0s 3ms/step - loss: 23.5784 - mse: 23.1387 - mae: 4.1630\n",
            "Epoch 72/200\n",
            "7/7 [==============================] - 0s 4ms/step - loss: 24.0222 - mse: 23.5824 - mae: 4.2178\n",
            "Epoch 73/200\n",
            "7/7 [==============================] - 0s 3ms/step - loss: 21.6324 - mse: 21.1925 - mae: 4.0259\n",
            "Epoch 74/200\n",
            "7/7 [==============================] - 0s 5ms/step - loss: 20.4116 - mse: 19.9715 - mae: 3.9196\n",
            "Epoch 75/200\n",
            "7/7 [==============================] - 0s 3ms/step - loss: 22.0314 - mse: 21.5911 - mae: 4.0364\n",
            "Epoch 76/200\n",
            "7/7 [==============================] - 0s 3ms/step - loss: 20.5638 - mse: 20.1234 - mae: 3.8681\n",
            "Epoch 77/200\n",
            "7/7 [==============================] - 0s 3ms/step - loss: 20.9460 - mse: 20.5053 - mae: 3.9010\n",
            "Epoch 78/200\n",
            "7/7 [==============================] - 0s 2ms/step - loss: 21.4042 - mse: 20.9633 - mae: 3.9753\n",
            "Epoch 79/200\n",
            "7/7 [==============================] - 0s 3ms/step - loss: 19.5222 - mse: 19.0812 - mae: 3.7423\n",
            "Epoch 80/200\n",
            "7/7 [==============================] - 0s 3ms/step - loss: 18.5329 - mse: 18.0916 - mae: 3.6689\n",
            "Epoch 81/200\n",
            "7/7 [==============================] - 0s 4ms/step - loss: 20.6297 - mse: 20.1881 - mae: 3.8615\n",
            "Epoch 82/200\n",
            "7/7 [==============================] - 0s 3ms/step - loss: 19.0825 - mse: 18.6407 - mae: 3.6950\n",
            "Epoch 83/200\n",
            "7/7 [==============================] - 0s 3ms/step - loss: 17.1441 - mse: 16.7021 - mae: 3.4720\n",
            "Epoch 84/200\n",
            "7/7 [==============================] - 0s 2ms/step - loss: 18.6122 - mse: 18.1699 - mae: 3.6143\n",
            "Epoch 85/200\n",
            "7/7 [==============================] - 0s 3ms/step - loss: 15.9538 - mse: 15.5112 - mae: 3.3715\n",
            "Epoch 86/200\n",
            "7/7 [==============================] - 0s 3ms/step - loss: 19.1804 - mse: 18.7374 - mae: 3.6850\n",
            "Epoch 87/200\n",
            "7/7 [==============================] - 0s 2ms/step - loss: 16.6316 - mse: 16.1884 - mae: 3.4213\n",
            "Epoch 88/200\n",
            "7/7 [==============================] - 0s 3ms/step - loss: 16.0977 - mse: 15.6542 - mae: 3.3210\n",
            "Epoch 89/200\n",
            "7/7 [==============================] - 0s 4ms/step - loss: 16.1181 - mse: 15.6742 - mae: 3.3775\n",
            "Epoch 90/200\n",
            "7/7 [==============================] - 0s 2ms/step - loss: 15.5771 - mse: 15.1329 - mae: 3.3084\n",
            "Epoch 91/200\n",
            "7/7 [==============================] - 0s 3ms/step - loss: 17.6172 - mse: 17.1727 - mae: 3.5068\n",
            "Epoch 92/200\n",
            "7/7 [==============================] - 0s 3ms/step - loss: 13.7616 - mse: 13.3168 - mae: 3.0533\n",
            "Epoch 93/200\n",
            "7/7 [==============================] - 0s 3ms/step - loss: 13.2214 - mse: 12.7763 - mae: 3.0140\n",
            "Epoch 94/200\n",
            "7/7 [==============================] - 0s 2ms/step - loss: 13.7117 - mse: 13.2663 - mae: 3.0565\n",
            "Epoch 95/200\n",
            "7/7 [==============================] - 0s 2ms/step - loss: 13.9201 - mse: 13.4744 - mae: 3.0534\n",
            "Epoch 96/200\n",
            "7/7 [==============================] - 0s 2ms/step - loss: 12.8424 - mse: 12.3963 - mae: 2.9364\n",
            "Epoch 97/200\n",
            "7/7 [==============================] - 0s 3ms/step - loss: 13.5687 - mse: 13.1223 - mae: 3.0311\n",
            "Epoch 98/200\n",
            "7/7 [==============================] - 0s 3ms/step - loss: 12.2159 - mse: 11.7690 - mae: 2.8396\n",
            "Epoch 99/200\n",
            "7/7 [==============================] - 0s 2ms/step - loss: 13.9257 - mse: 13.4785 - mae: 3.1012\n",
            "Epoch 100/200\n",
            "7/7 [==============================] - 0s 2ms/step - loss: 12.6954 - mse: 12.2478 - mae: 2.8931\n",
            "Epoch 101/200\n",
            "7/7 [==============================] - 0s 2ms/step - loss: 12.6759 - mse: 12.2280 - mae: 2.8954\n",
            "Epoch 102/200\n",
            "7/7 [==============================] - 0s 3ms/step - loss: 11.0048 - mse: 10.5565 - mae: 2.6822\n",
            "Epoch 103/200\n",
            "7/7 [==============================] - 0s 3ms/step - loss: 10.7941 - mse: 10.3455 - mae: 2.6659\n",
            "Epoch 104/200\n",
            "7/7 [==============================] - 0s 2ms/step - loss: 10.9039 - mse: 10.4551 - mae: 2.6524\n",
            "Epoch 105/200\n",
            "7/7 [==============================] - 0s 2ms/step - loss: 11.2669 - mse: 10.8178 - mae: 2.7106\n",
            "Epoch 106/200\n",
            "7/7 [==============================] - 0s 3ms/step - loss: 10.3265 - mse: 9.8771 - mae: 2.6038\n",
            "Epoch 107/200\n",
            "7/7 [==============================] - 0s 2ms/step - loss: 9.7076 - mse: 9.2579 - mae: 2.4854\n",
            "Epoch 108/200\n",
            "7/7 [==============================] - 0s 2ms/step - loss: 10.6093 - mse: 10.1593 - mae: 2.5792\n",
            "Epoch 109/200\n",
            "7/7 [==============================] - 0s 3ms/step - loss: 10.9594 - mse: 10.5090 - mae: 2.6299\n",
            "Epoch 110/200\n",
            "7/7 [==============================] - 0s 2ms/step - loss: 9.6838 - mse: 9.2332 - mae: 2.4629\n",
            "Epoch 111/200\n",
            "7/7 [==============================] - 0s 5ms/step - loss: 8.8626 - mse: 8.4117 - mae: 2.3096\n",
            "Epoch 112/200\n",
            "7/7 [==============================] - 0s 2ms/step - loss: 8.5295 - mse: 8.0784 - mae: 2.2847\n",
            "Epoch 113/200\n",
            "7/7 [==============================] - 0s 2ms/step - loss: 8.6208 - mse: 8.1695 - mae: 2.3138\n",
            "Epoch 114/200\n",
            "7/7 [==============================] - 0s 4ms/step - loss: 8.7178 - mse: 8.2664 - mae: 2.3546\n",
            "Epoch 115/200\n",
            "7/7 [==============================] - 0s 3ms/step - loss: 8.4856 - mse: 8.0340 - mae: 2.2552\n",
            "Epoch 116/200\n",
            "7/7 [==============================] - 0s 3ms/step - loss: 7.7118 - mse: 7.2600 - mae: 2.1657\n",
            "Epoch 117/200\n",
            "7/7 [==============================] - 0s 3ms/step - loss: 8.0910 - mse: 7.6391 - mae: 2.2120\n",
            "Epoch 118/200\n",
            "7/7 [==============================] - 0s 3ms/step - loss: 7.5041 - mse: 7.0520 - mae: 2.1309\n",
            "Epoch 119/200\n",
            "7/7 [==============================] - 0s 2ms/step - loss: 8.1953 - mse: 7.7430 - mae: 2.2622\n",
            "Epoch 120/200\n",
            "7/7 [==============================] - 0s 3ms/step - loss: 6.9618 - mse: 6.5094 - mae: 2.0474\n",
            "Epoch 121/200\n",
            "7/7 [==============================] - 0s 2ms/step - loss: 7.6265 - mse: 7.1739 - mae: 2.1728\n",
            "Epoch 122/200\n",
            "7/7 [==============================] - 0s 3ms/step - loss: 6.7849 - mse: 6.3322 - mae: 2.0133\n",
            "Epoch 123/200\n",
            "7/7 [==============================] - 0s 3ms/step - loss: 7.0973 - mse: 6.6445 - mae: 2.0516\n",
            "Epoch 124/200\n",
            "7/7 [==============================] - 0s 3ms/step - loss: 6.5888 - mse: 6.1360 - mae: 1.9642\n",
            "Epoch 125/200\n",
            "7/7 [==============================] - 0s 3ms/step - loss: 6.9252 - mse: 6.4723 - mae: 2.0368\n",
            "Epoch 126/200\n",
            "7/7 [==============================] - 0s 3ms/step - loss: 6.3363 - mse: 5.8832 - mae: 1.9394\n",
            "Epoch 127/200\n",
            "7/7 [==============================] - 0s 2ms/step - loss: 5.8419 - mse: 5.3888 - mae: 1.8394\n",
            "Epoch 128/200\n",
            "7/7 [==============================] - 0s 3ms/step - loss: 6.1680 - mse: 5.7149 - mae: 1.9017\n",
            "Epoch 129/200\n",
            "7/7 [==============================] - 0s 4ms/step - loss: 6.0351 - mse: 5.5820 - mae: 1.8828\n",
            "Epoch 130/200\n",
            "7/7 [==============================] - 0s 3ms/step - loss: 6.1832 - mse: 5.7300 - mae: 1.8816\n",
            "Epoch 131/200\n",
            "7/7 [==============================] - 0s 3ms/step - loss: 5.6915 - mse: 5.2383 - mae: 1.8111\n",
            "Epoch 132/200\n",
            "7/7 [==============================] - 0s 3ms/step - loss: 5.8068 - mse: 5.3536 - mae: 1.8596\n",
            "Epoch 133/200\n",
            "7/7 [==============================] - 0s 3ms/step - loss: 5.3665 - mse: 4.9133 - mae: 1.7350\n",
            "Epoch 134/200\n",
            "7/7 [==============================] - 0s 3ms/step - loss: 5.3927 - mse: 4.9395 - mae: 1.7330\n",
            "Epoch 135/200\n",
            "7/7 [==============================] - 0s 3ms/step - loss: 5.3310 - mse: 4.8777 - mae: 1.7130\n",
            "Epoch 136/200\n",
            "7/7 [==============================] - 0s 2ms/step - loss: 5.1450 - mse: 4.6918 - mae: 1.6876\n",
            "Epoch 137/200\n",
            "7/7 [==============================] - 0s 2ms/step - loss: 5.8877 - mse: 5.4346 - mae: 1.8230\n",
            "Epoch 138/200\n",
            "7/7 [==============================] - 0s 3ms/step - loss: 5.0870 - mse: 4.6339 - mae: 1.7084\n",
            "Epoch 139/200\n",
            "7/7 [==============================] - 0s 3ms/step - loss: 5.4908 - mse: 5.0378 - mae: 1.7623\n",
            "Epoch 140/200\n",
            "7/7 [==============================] - 0s 3ms/step - loss: 4.7184 - mse: 4.2655 - mae: 1.6318\n",
            "Epoch 141/200\n",
            "7/7 [==============================] - 0s 3ms/step - loss: 5.0439 - mse: 4.5910 - mae: 1.6832\n",
            "Epoch 142/200\n",
            "7/7 [==============================] - 0s 3ms/step - loss: 5.2202 - mse: 4.7675 - mae: 1.7215\n",
            "Epoch 143/200\n",
            "7/7 [==============================] - 0s 3ms/step - loss: 4.8213 - mse: 4.3687 - mae: 1.6412\n",
            "Epoch 144/200\n",
            "7/7 [==============================] - 0s 3ms/step - loss: 4.6141 - mse: 4.1617 - mae: 1.5995\n",
            "Epoch 145/200\n",
            "7/7 [==============================] - 0s 3ms/step - loss: 4.9330 - mse: 4.4807 - mae: 1.6639\n",
            "Epoch 146/200\n",
            "7/7 [==============================] - 0s 2ms/step - loss: 4.3710 - mse: 3.9189 - mae: 1.5093\n",
            "Epoch 147/200\n",
            "7/7 [==============================] - 0s 3ms/step - loss: 4.4331 - mse: 3.9813 - mae: 1.5299\n",
            "Epoch 148/200\n",
            "7/7 [==============================] - 0s 3ms/step - loss: 4.8202 - mse: 4.3686 - mae: 1.6334\n",
            "Epoch 149/200\n",
            "7/7 [==============================] - 0s 3ms/step - loss: 4.8747 - mse: 4.4232 - mae: 1.6570\n",
            "Epoch 150/200\n",
            "7/7 [==============================] - 0s 3ms/step - loss: 4.2640 - mse: 3.8128 - mae: 1.5124\n",
            "Epoch 151/200\n",
            "7/7 [==============================] - 0s 3ms/step - loss: 4.6364 - mse: 4.1855 - mae: 1.5807\n",
            "Epoch 152/200\n",
            "7/7 [==============================] - 0s 4ms/step - loss: 4.2824 - mse: 3.8316 - mae: 1.5032\n",
            "Epoch 153/200\n",
            "7/7 [==============================] - 0s 3ms/step - loss: 4.3119 - mse: 3.8614 - mae: 1.5305\n",
            "Epoch 154/200\n",
            "7/7 [==============================] - 0s 3ms/step - loss: 4.2604 - mse: 3.8102 - mae: 1.5223\n",
            "Epoch 155/200\n",
            "7/7 [==============================] - 0s 3ms/step - loss: 4.2403 - mse: 3.7905 - mae: 1.5136\n",
            "Epoch 156/200\n",
            "7/7 [==============================] - 0s 3ms/step - loss: 4.9636 - mse: 4.5140 - mae: 1.6698\n",
            "Epoch 157/200\n",
            "7/7 [==============================] - 0s 3ms/step - loss: 4.1155 - mse: 3.6662 - mae: 1.4695\n",
            "Epoch 158/200\n",
            "7/7 [==============================] - 0s 3ms/step - loss: 4.2506 - mse: 3.8016 - mae: 1.5009\n",
            "Epoch 159/200\n",
            "7/7 [==============================] - 0s 3ms/step - loss: 4.0750 - mse: 3.6264 - mae: 1.4640\n",
            "Epoch 160/200\n",
            "7/7 [==============================] - 0s 3ms/step - loss: 4.3908 - mse: 3.9424 - mae: 1.5307\n",
            "Epoch 161/200\n",
            "7/7 [==============================] - 0s 3ms/step - loss: 4.4219 - mse: 3.9738 - mae: 1.5387\n",
            "Epoch 162/200\n",
            "7/7 [==============================] - 0s 2ms/step - loss: 4.4418 - mse: 3.9941 - mae: 1.5669\n",
            "Epoch 163/200\n",
            "7/7 [==============================] - 0s 2ms/step - loss: 3.5618 - mse: 3.1145 - mae: 1.3476\n",
            "Epoch 164/200\n",
            "7/7 [==============================] - 0s 3ms/step - loss: 4.3552 - mse: 3.9083 - mae: 1.5417\n",
            "Epoch 165/200\n",
            "7/7 [==============================] - 0s 3ms/step - loss: 4.1681 - mse: 3.7215 - mae: 1.5300\n",
            "Epoch 166/200\n",
            "7/7 [==============================] - 0s 2ms/step - loss: 4.1321 - mse: 3.6859 - mae: 1.4647\n",
            "Epoch 167/200\n",
            "7/7 [==============================] - 0s 3ms/step - loss: 3.4875 - mse: 3.0418 - mae: 1.3354\n",
            "Epoch 168/200\n",
            "7/7 [==============================] - 0s 3ms/step - loss: 4.1062 - mse: 3.6610 - mae: 1.5113\n",
            "Epoch 169/200\n",
            "7/7 [==============================] - 0s 3ms/step - loss: 4.2454 - mse: 3.8006 - mae: 1.5415\n",
            "Epoch 170/200\n",
            "7/7 [==============================] - 0s 2ms/step - loss: 4.0593 - mse: 3.6148 - mae: 1.4737\n",
            "Epoch 171/200\n",
            "7/7 [==============================] - 0s 3ms/step - loss: 4.2705 - mse: 3.8263 - mae: 1.5281\n",
            "Epoch 172/200\n",
            "7/7 [==============================] - 0s 3ms/step - loss: 3.8897 - mse: 3.4459 - mae: 1.4646\n",
            "Epoch 173/200\n",
            "7/7 [==============================] - 0s 2ms/step - loss: 4.1224 - mse: 3.6790 - mae: 1.4938\n",
            "Epoch 174/200\n",
            "7/7 [==============================] - 0s 3ms/step - loss: 3.5160 - mse: 3.0731 - mae: 1.3472\n",
            "Epoch 175/200\n",
            "7/7 [==============================] - 0s 2ms/step - loss: 3.7425 - mse: 3.2999 - mae: 1.4202\n",
            "Epoch 176/200\n",
            "7/7 [==============================] - 0s 3ms/step - loss: 3.8400 - mse: 3.3977 - mae: 1.4299\n",
            "Epoch 177/200\n",
            "7/7 [==============================] - 0s 4ms/step - loss: 3.9869 - mse: 3.5449 - mae: 1.4708\n",
            "Epoch 178/200\n",
            "7/7 [==============================] - 0s 3ms/step - loss: 4.0343 - mse: 3.5927 - mae: 1.4808\n",
            "Epoch 179/200\n",
            "7/7 [==============================] - 0s 3ms/step - loss: 4.3647 - mse: 3.9235 - mae: 1.5888\n",
            "Epoch 180/200\n",
            "7/7 [==============================] - 0s 3ms/step - loss: 4.1146 - mse: 3.6737 - mae: 1.5122\n",
            "Epoch 181/200\n",
            "7/7 [==============================] - 0s 3ms/step - loss: 3.7113 - mse: 3.2709 - mae: 1.4362\n",
            "Epoch 182/200\n",
            "7/7 [==============================] - 0s 2ms/step - loss: 4.0205 - mse: 3.5805 - mae: 1.4765\n",
            "Epoch 183/200\n",
            "7/7 [==============================] - 0s 2ms/step - loss: 3.8928 - mse: 3.4532 - mae: 1.4789\n",
            "Epoch 184/200\n",
            "7/7 [==============================] - 0s 3ms/step - loss: 3.5527 - mse: 3.1134 - mae: 1.3909\n",
            "Epoch 185/200\n",
            "7/7 [==============================] - 0s 3ms/step - loss: 4.0345 - mse: 3.5956 - mae: 1.5110\n",
            "Epoch 186/200\n",
            "7/7 [==============================] - 0s 3ms/step - loss: 3.9859 - mse: 3.5474 - mae: 1.4639\n",
            "Epoch 187/200\n",
            "7/7 [==============================] - 0s 3ms/step - loss: 3.6647 - mse: 3.2265 - mae: 1.4104\n",
            "Epoch 188/200\n",
            "7/7 [==============================] - 0s 3ms/step - loss: 4.0711 - mse: 3.6333 - mae: 1.4809\n",
            "Epoch 189/200\n",
            "7/7 [==============================] - 0s 2ms/step - loss: 3.6842 - mse: 3.2468 - mae: 1.4104\n",
            "Epoch 190/200\n",
            "7/7 [==============================] - 0s 3ms/step - loss: 3.4156 - mse: 2.9787 - mae: 1.3449\n",
            "Epoch 191/200\n",
            "7/7 [==============================] - 0s 3ms/step - loss: 3.9544 - mse: 3.5179 - mae: 1.4965\n",
            "Epoch 192/200\n",
            "7/7 [==============================] - 0s 3ms/step - loss: 3.9409 - mse: 3.5049 - mae: 1.4806\n",
            "Epoch 193/200\n",
            "7/7 [==============================] - 0s 2ms/step - loss: 4.1705 - mse: 3.7349 - mae: 1.5132\n",
            "Epoch 194/200\n",
            "7/7 [==============================] - 0s 3ms/step - loss: 3.8380 - mse: 3.4028 - mae: 1.4249\n",
            "Epoch 195/200\n",
            "7/7 [==============================] - 0s 3ms/step - loss: 4.0958 - mse: 3.6609 - mae: 1.4966\n",
            "Epoch 196/200\n",
            "7/7 [==============================] - 0s 3ms/step - loss: 4.0907 - mse: 3.6562 - mae: 1.5280\n",
            "Epoch 197/200\n",
            "7/7 [==============================] - 0s 4ms/step - loss: 4.1258 - mse: 3.6917 - mae: 1.5078\n",
            "Epoch 198/200\n",
            "7/7 [==============================] - 0s 3ms/step - loss: 3.9365 - mse: 3.5028 - mae: 1.4877\n",
            "Epoch 199/200\n",
            "7/7 [==============================] - 0s 3ms/step - loss: 3.6447 - mse: 3.2114 - mae: 1.4434\n",
            "Epoch 200/200\n",
            "7/7 [==============================] - 0s 3ms/step - loss: 3.7347 - mse: 3.3019 - mae: 1.4203\n"
          ],
          "name": "stdout"
        },
        {
          "output_type": "execute_result",
          "data": {
            "text/plain": [
              "<tensorflow.python.keras.callbacks.History at 0x7f564780da90>"
            ]
          },
          "metadata": {
            "tags": []
          },
          "execution_count": 16
        }
      ]
    },
    {
      "cell_type": "code",
      "metadata": {
        "colab": {
          "base_uri": "https://localhost:8080/",
          "height": 265
        },
        "id": "zFBQZ79ontDV",
        "outputId": "956396e5-443b-4ace-95a5-2fbdff5582e3"
      },
      "source": [
        "plt.scatter(x_test, model.predict(x_test));"
      ],
      "execution_count": null,
      "outputs": [
        {
          "output_type": "display_data",
          "data": {
            "image/png": "[encoded data removed]",
            "text/plain": [
              "<Figure size 432x288 with 1 Axes>"
            ]
          },
          "metadata": {
            "tags": [],
            "needs_background": "light"
          }
        }
      ]
    },
    {
      "cell_type": "code",
      "metadata": {
        "colab": {
          "base_uri": "https://localhost:8080/",
          "height": 265
        },
        "id": "gOvhyGHvpWKE",
        "outputId": "f7117d6c-ad1b-4f29-d3a1-3a3ec5ee0be6"
      },
      "source": [
        "plt.scatter(x_test, y_test);"
      ],
      "execution_count": null,
      "outputs": [
        {
          "output_type": "display_data",
          "data": {
            "image/png": "[encoded data removed]",
            "text/plain": [
              "<Figure size 432x288 with 1 Axes>"
            ]
          },
          "metadata": {
            "tags": [],
            "needs_background": "light"
          }
        }
      ]
    },
    {
      "cell_type": "code",
      "metadata": {
        "colab": {
          "base_uri": "https://localhost:8080/",
          "height": 422
        },
        "id": "Cpnr9saSvhVk",
        "outputId": "ee34b5ae-fd9f-486c-f07e-31549b4655da"
      },
      "source": [
        "# Another way to visualize the mode\n",
        "from tensorflow.keras.utils import plot_model, Progbar\n",
        "plot_model(model, show_shapes = True, show_dtype = True, )"
      ],
      "execution_count": null,
      "outputs": [
        {
          "output_type": "execute_result",
          "data": {
            "image/png": "[encoded data removed]",
            "text/plain": [
              "<IPython.core.display.Image object>"
            ]
          },
          "metadata": {
            "tags": []
          },
          "execution_count": 19
        }
      ]
    },
    {
      "cell_type": "markdown",
      "metadata": {
        "id": "gsNbS_Fnx8fk"
      },
      "source": [
        "### Visualizing Model's Predictions"
      ]
    },
    {
      "cell_type": "markdown",
      "metadata": {
        "id": "ToRAMsj8ystn"
      },
      "source": [
        "To visualize predictions, it's a good idea to plot them against the ground truth labels. \n",
        "\n",
        "Often you'll see this in the form of `y_test` or `y_true` versus `y_pred` (ground truth versus our model's predictions). "
      ]
    },
    {
      "cell_type": "code",
      "metadata": {
        "colab": {
          "base_uri": "https://localhost:8080/"
        },
        "id": "j07A0_pmFV9m",
        "outputId": "cec769b2-2778-4431-9306-f7973f54af3e"
      },
      "source": [
        "# Make some predictions\n",
        "y_pred = model.predict(x_test)\n",
        "y_pred.T"
      ],
      "execution_count": null,
      "outputs": [
        {
          "output_type": "execute_result",
          "data": {
            "text/plain": [
              "array([[ 5.717956 ,  6.598944 ,  9.324403 ,  9.166467 ,  5.7066064,\n",
              "         4.676074 ,  6.381048 ,  6.3750978,  6.381108 , 24.559025 ,\n",
              "         6.647077 ,  9.607966 ,  8.629879 ,  7.0536933,  3.827784 ,\n",
              "         7.6097975,  4.307942 ,  4.0103793,  3.822743 ,  4.8910975,\n",
              "        16.034634 ,  6.9313803,  7.231827 ,  6.294599 ,  3.8146334,\n",
              "         9.356259 ,  4.8408656,  4.987948 ,  4.1804194,  7.1977906,\n",
              "         4.213164 ,  5.2782826,  4.787457 ,  4.0470285, 15.091164 ,\n",
              "         6.964433 ,  7.326327 ,  5.191854 ,  4.0683575,  8.098561 ,\n",
              "         4.3519063,  4.34045  ,  6.3331914,  8.168226 ,  5.2705827,\n",
              "         3.7985678,  3.816453 ,  4.050648 , 13.015759 ,  5.8992724]],\n",
              "      dtype=float32)"
            ]
          },
          "metadata": {
            "tags": []
          },
          "execution_count": 20
        }
      ]
    },
    {
      "cell_type": "code",
      "metadata": {
        "id": "BxHD2vYSFn7p"
      },
      "source": [
        "def plot_predictions(train_data, train_labels, test_data, test_labels, predictions):\n",
        "  \"\"\"\n",
        "  Plots training data, test data and compares predictions to ground truth labels.\n",
        "  \"\"\"\n",
        "  plt.figure(figsize = (10, 7))\n",
        "  # Plot training data in blue\n",
        "  plt.scatter(train_data, train_labels, c = 'b', label = 'Train data')\n",
        "  # Plot test data in green\n",
        "  plt.scatter(test_data, test_labels, c = 'g', label = 'Test data')\n",
        "  # Plot model's predictions\n",
        "  plt.scatter(test_data, predictions, c = 'r', label = 'Predictions')\n",
        "  # show the legend\n",
        "  plt.legend()\n",
        "  return plt"
      ],
      "execution_count": null,
      "outputs": []
    },
    {
      "cell_type": "code",
      "metadata": {
        "colab": {
          "base_uri": "https://localhost:8080/",
          "height": 428
        },
        "id": "-kojgwQoG2-Z",
        "outputId": "2bc0b772-616e-4c15-9a26-29d6c6ad88b3"
      },
      "source": [
        "plot_predictions(x_train, y_train, x_test, y_test, y_pred);"
      ],
      "execution_count": null,
      "outputs": [
        {
          "output_type": "display_data",
          "data": {
            "image/png": "[encoded data removed]",
            "text/plain": [
              "<Figure size 720x504 with 1 Axes>"
            ]
          },
          "metadata": {
            "tags": [],
            "needs_background": "light"
          }
        }
      ]
    },
    {
      "cell_type": "markdown",
      "metadata": {
        "id": "cLOZqq7CG7Vn"
      },
      "source": [
        "### Evaluating the Model with Evaluation Metrics"
      ]
    },
    {
      "cell_type": "markdown",
      "metadata": {
        "id": "6ipaQfBoHhfn"
      },
      "source": [
        "Depending on the problem we are working on, there will be different evaluation metrics to evaluate the model's performance.\n",
        "\n",
        "In the regression problems, three most frequently used metrics are:\n",
        "\n",
        "\n",
        "*   Mean Absolute Error (MAE)\n",
        "*   Mean Squared Error (MSE)\n",
        "*   Huber (combination of MAE and MSE; less sensitive to outliers)\n",
        "  *  Huber approaches MSE when $\\delta$ aproaches 0, while it approaches MAE when $\\delta\\$ approaches infinity \n",
        "\n",
        "\n",
        "The MAE is given by:\n",
        "\n",
        "$$\n",
        "\\begin{aligned}\n",
        "MAE = \\frac{1}{N}\\sum_{i = 1}^{N}|y_{i} - \\hat{y_{i}}|\n",
        "\\end{aligned}\n",
        "$$\n",
        "\n",
        "The MSE is given by:\n",
        "\n",
        "$$\n",
        "\\begin{aligned}\n",
        "MSE = \\frac{1}{N}\\sum_{i = 1}^{N}(y_{i} - \\hat{y_{i}})^{2}\n",
        "\\end{aligned}\n",
        "$$\n",
        "\n",
        "The Huber is given by:\n",
        "\n",
        "$$\n",
        "\\begin{equation}\n",
        "    L_{\\delta}(y, f(x)) =\n",
        "    \\left\\{\n",
        "        \\begin{array}{cc}\n",
        "                \\frac{1}{2}(y - f(x))^2 & \\mathrm{if\\ } |y - f(X)| \\le \\delta \\\\\n",
        "                \\delta|y - f(x)|-\\frac{1}{2}\\delta^2 & \\mathrm{otherwise\\ } \\\\\n",
        "        \\end{array} \n",
        "    \\right.\n",
        "\\end{equation}\n",
        "$$\n",
        "<br>\n",
        "MAE in TF is represented by `tf.keras.losses.MAE()` or `tf.metrics.mean_absolute_error()`. MSE is represented by `tf.keras.losses.MSE()` or `tf.metrics.mean_squared_error()`. Huber is represented by `tf.keras.losses.huber()`.\n"
      ]
    },
    {
      "cell_type": "code",
      "metadata": {
        "colab": {
          "base_uri": "https://localhost:8080/"
        },
        "id": "z6FlhlfmJEhP",
        "outputId": "dd8e57af-c6ef-4c8e-8b55-2cd2d7cacd8d"
      },
      "source": [
        "# Evaluate the model on the test set the quick way\n",
        "model.evaluate(x_test, y_test)"
      ],
      "execution_count": null,
      "outputs": [
        {
          "output_type": "stream",
          "text": [
            "2/2 [==============================] - 0s 5ms/step - loss: 5.1528 - mse: 4.7203 - mae: 1.6990\n"
          ],
          "name": "stdout"
        },
        {
          "output_type": "execute_result",
          "data": {
            "text/plain": [
              "[5.152801513671875, 4.720340251922607, 1.6989610195159912]"
            ]
          },
          "metadata": {
            "tags": []
          },
          "execution_count": 23
        }
      ]
    },
    {
      "cell_type": "code",
      "metadata": {
        "colab": {
          "base_uri": "https://localhost:8080/"
        },
        "id": "F8jP8jaFLbDs",
        "outputId": "38a28019-3b5f-4f6c-eca7-aa9ed8060a3e"
      },
      "source": [
        "model_mae = tf.keras.losses.MAE(y_test, tf.squeeze(y_pred)) # you need to squeeze the predictions because of the dimensions problem\n",
        "model_mse = tf.keras.losses.MSE(y_test, tf.squeeze(y_pred))\n",
        "model_huber = tf.keras.losses.huber(y_test, tf.squeeze(y_pred), delta = 1.0)\n",
        "\n",
        "for i in [model_mae, model_mse, model_huber]:\n",
        "  print(i)\n",
        "  print(i.numpy())\n",
        "  print('--------')"
      ],
      "execution_count": null,
      "outputs": [
        {
          "output_type": "stream",
          "text": [
            "tf.Tensor(1.698961, shape=(), dtype=float32)\n",
            "1.698961\n",
            "--------\n",
            "tf.Tensor(4.7203403, shape=(), dtype=float32)\n",
            "4.7203403\n",
            "--------\n",
            "tf.Tensor(1.2821245, shape=(), dtype=float32)\n",
            "1.2821245\n",
            "--------\n"
          ],
          "name": "stdout"
        }
      ]
    },
    {
      "cell_type": "markdown",
      "metadata": {
        "id": "F_90o9UZNOmV"
      },
      "source": [
        "### Experimenting with the Model"
      ]
    },
    {
      "cell_type": "markdown",
      "metadata": {
        "id": "36Dz35EWkt4g"
      },
      "source": [
        "In essence, in order to improve the model, we should make it bigger or train it for longer time. Let's do three \"experiments\". The first one should be the base model with only one layer and trained for 300 epochs. The second one could be with two layers and trained for 300 epochs. The final one could have two layers and be trained for 500 epochs. \n",
        "\n",
        "Let's create some data and try it!"
      ]
    },
    {
      "cell_type": "code",
      "metadata": {
        "id": "6XTw7cKQnCu6"
      },
      "source": [
        "# Before tackling \"experiments\", let's create some quick functions for getting evaluation metrics\n",
        "\n",
        "def evaluate_nn(y_test, y_pred):\n",
        "  mae = tf.keras.losses.MAE(y_test, y_pred).numpy()\n",
        "  mse = tf.keras.losses.MSE(y_test, y_pred).numpy()\n",
        "  huber = tf.keras.losses.huber(y_test, y_pred, delta = 1.0).numpy()\n",
        "  return mae, mse, huber"
      ],
      "execution_count": null,
      "outputs": []
    },
    {
      "cell_type": "code",
      "metadata": {
        "id": "ZVJiibXRijHg"
      },
      "source": [
        "# First experiment\n",
        "tf.random.set_seed(42)\n",
        "model1 = tf.keras.Sequential()\n",
        "model1.add(tf.keras.layers.Dense(1))\n",
        "\n",
        "model1.compile(\n",
        "    loss = tf.keras.losses.mse,\n",
        "    optimizer = tf.keras.optimizers.SGD(),\n",
        "    metrics = ['mse', 'mae']\n",
        ")\n",
        "\n",
        "model1.fit(x_train, y_train, epochs = 300, verbose = 0);"
      ],
      "execution_count": null,
      "outputs": []
    },
    {
      "cell_type": "code",
      "metadata": {
        "id": "F3SMpmT0inva",
        "colab": {
          "base_uri": "https://localhost:8080/",
          "height": 428
        },
        "outputId": "99ed482b-685a-4d9b-8c63-467f270ec3f8"
      },
      "source": [
        "model1_pred = model1.predict(x_test)\n",
        "plot_predictions(x_train, y_train, x_test, y_test, model1_pred);"
      ],
      "execution_count": null,
      "outputs": [
        {
          "output_type": "display_data",
          "data": {
            "image/png": "[encoded data removed]",
            "text/plain": [
              "<Figure size 720x504 with 1 Axes>"
            ]
          },
          "metadata": {
            "tags": [],
            "needs_background": "light"
          }
        }
      ]
    },
    {
      "cell_type": "markdown",
      "metadata": {
        "id": "5Vk9OKC_mMP1"
      },
      "source": [
        "We can see that the learned relationship is linear since we have only one layer and it's activation is linear activation. Let's evaluate it and try another model."
      ]
    },
    {
      "cell_type": "code",
      "metadata": {
        "colab": {
          "base_uri": "https://localhost:8080/"
        },
        "id": "REgQSZjZnYhp",
        "outputId": "9f151e2e-e677-46b6-f150-98419957006e"
      },
      "source": [
        "results1 = evaluate_nn(y_test, tf.squeeze(model1_pred))\n",
        "print('MAE:', results1[0])\n",
        "print('MSE:', results1[1])\n",
        "print('Huber:', results1[2])"
      ],
      "execution_count": null,
      "outputs": [
        {
          "output_type": "stream",
          "text": [
            "MAE: 2.1142788\n",
            "MSE: 9.882532\n",
            "Huber: 1.6682762\n"
          ],
          "name": "stdout"
        }
      ]
    },
    {
      "cell_type": "code",
      "metadata": {
        "id": "j3DJNBKqmb7L"
      },
      "source": [
        "# Experiment 2\n",
        "model2 = tf.keras.Sequential()\n",
        "model2.add(tf.keras.layers.Dense(100, activation = 'relu'))\n",
        "model2.add(tf.keras.layers.Dense(100, activation = 'relu'))\n",
        "model2.add(tf.keras.layers.Dense(1))\n",
        "\n",
        "model2.compile(loss = tf.keras.losses.mse,\n",
        "               optimizer = tf.keras.optimizers.SGD(),\n",
        "               metrics = ['mse', 'mae'])\n",
        "\n",
        "model2.fit(x_train, y_train, epochs = 300, verbose = 0);"
      ],
      "execution_count": null,
      "outputs": []
    },
    {
      "cell_type": "code",
      "metadata": {
        "colab": {
          "base_uri": "https://localhost:8080/",
          "height": 465
        },
        "id": "q6bOBpkDm1x8",
        "outputId": "1a8c80c0-9424-4638-9a50-bc28e63bb939"
      },
      "source": [
        "model2_pred = model2.predict(x_test)\n",
        "plot_predictions(x_train, y_train, x_test, y_test, model2_pred);"
      ],
      "execution_count": null,
      "outputs": [
        {
          "output_type": "stream",
          "text": [
            "WARNING:tensorflow:5 out of the last 9 calls to <function Model.make_predict_function.<locals>.predict_function at 0x7f568be50c20> triggered tf.function retracing. Tracing is expensive and the excessive number of tracings could be due to (1) creating @tf.function repeatedly in a loop, (2) passing tensors with different shapes, (3) passing Python objects instead of tensors. For (1), please define your @tf.function outside of the loop. For (2), @tf.function has experimental_relax_shapes=True option that relaxes argument shapes that can avoid unnecessary retracing. For (3), please refer to https://www.tensorflow.org/guide/function#controlling_retracing and https://www.tensorflow.org/api_docs/python/tf/function for  more details.\n"
          ],
          "name": "stdout"
        },
        {
          "output_type": "display_data",
          "data": {
            "image/png": "[encoded data removed]",
            "text/plain": [
              "<Figure size 720x504 with 1 Axes>"
            ]
          },
          "metadata": {
            "tags": [],
            "needs_background": "light"
          }
        }
      ]
    },
    {
      "cell_type": "code",
      "metadata": {
        "colab": {
          "base_uri": "https://localhost:8080/"
        },
        "id": "SK7aDdqam7Iq",
        "outputId": "121fcdfc-6089-4d5c-e2be-b180f7a0dbf7"
      },
      "source": [
        "results2 = evaluate_nn(y_test, tf.squeeze(model2_pred))\n",
        "print('MAE:', results2[0])\n",
        "print('MSE:', results2[1])\n",
        "print('Huber:', results2[2])"
      ],
      "execution_count": null,
      "outputs": [
        {
          "output_type": "stream",
          "text": [
            "MAE: 1.7854687\n",
            "MSE: 4.648294\n",
            "Huber: 1.3296442\n"
          ],
          "name": "stdout"
        }
      ]
    },
    {
      "cell_type": "markdown",
      "metadata": {
        "id": "88YMy4j_oMkK"
      },
      "source": [
        "> We can see this model is actually better than the previous one! Let's try the third experiment with 500 epochs, Adam optimizer and learning rate of 0.0001."
      ]
    },
    {
      "cell_type": "code",
      "metadata": {
        "id": "sE70JEtBoYCa"
      },
      "source": [
        "# Third experiment\n",
        "model3 = tf.keras.Sequential()\n",
        "\n",
        "model3.add(tf.keras.layers.Dense(100, activation = 'relu'))\n",
        "model3.add(tf.keras.layers.Dense(100, activation = 'relu'))\n",
        "model3.add(tf.keras.layers.Dense(1))\n",
        "\n",
        "model3.compile(\n",
        "    loss = tf.keras.losses.mse,\n",
        "    optimizer = tf.keras.optimizers.Adam(lr = 0.0001),\n",
        "    metrics = ['mse', 'mae']\n",
        ")\n",
        "\n",
        "model3.fit(x_train, y_train, epochs = 500, verbose = 0);"
      ],
      "execution_count": null,
      "outputs": []
    },
    {
      "cell_type": "code",
      "metadata": {
        "colab": {
          "base_uri": "https://localhost:8080/",
          "height": 465
        },
        "id": "J0FIBVOzpDly",
        "outputId": "5b21e2fa-034a-4750-b99d-2beeefed8242"
      },
      "source": [
        "model3_pred = model3.predict(x_test);\n",
        "plot_predictions(x_train, y_train, x_test, y_test, model3_pred);"
      ],
      "execution_count": null,
      "outputs": [
        {
          "output_type": "stream",
          "text": [
            "WARNING:tensorflow:6 out of the last 11 calls to <function Model.make_predict_function.<locals>.predict_function at 0x7f568bf709e0> triggered tf.function retracing. Tracing is expensive and the excessive number of tracings could be due to (1) creating @tf.function repeatedly in a loop, (2) passing tensors with different shapes, (3) passing Python objects instead of tensors. For (1), please define your @tf.function outside of the loop. For (2), @tf.function has experimental_relax_shapes=True option that relaxes argument shapes that can avoid unnecessary retracing. For (3), please refer to https://www.tensorflow.org/guide/function#controlling_retracing and https://www.tensorflow.org/api_docs/python/tf/function for  more details.\n"
          ],
          "name": "stdout"
        },
        {
          "output_type": "display_data",
          "data": {
            "image/png": "[encoded data removed]",
            "text/plain": [
              "<Figure size 720x504 with 1 Axes>"
            ]
          },
          "metadata": {
            "tags": [],
            "needs_background": "light"
          }
        }
      ]
    },
    {
      "cell_type": "code",
      "metadata": {
        "colab": {
          "base_uri": "https://localhost:8080/"
        },
        "id": "zZFt9ICRpJ75",
        "outputId": "13c1d7d7-2a9e-4b47-e689-17e89d21ba23"
      },
      "source": [
        "results3 = evaluate_nn(y_test, tf.squeeze(model3_pred))\n",
        "print('MAE:', results3[0])\n",
        "print('MSE:', results3[1])\n",
        "print('Huber:', results3[2])"
      ],
      "execution_count": null,
      "outputs": [
        {
          "output_type": "stream",
          "text": [
            "MAE: 1.6689774\n",
            "MSE: 4.5595107\n",
            "Huber: 1.2439827\n"
          ],
          "name": "stdout"
        }
      ]
    },
    {
      "cell_type": "markdown",
      "metadata": {
        "id": "Ho8HKzGkpfE5"
      },
      "source": [
        "> This model is also very good. Let us compare the metrics of all three models next to each others."
      ]
    },
    {
      "cell_type": "code",
      "metadata": {
        "colab": {
          "base_uri": "https://localhost:8080/"
        },
        "id": "sW59FrkSpo1A",
        "outputId": "ffe21a5f-98aa-46d5-c2a8-53b6b90c989b"
      },
      "source": [
        "print('MAE Model1:', results1[0], '   MAE Model2:', results2[0], '   MAE Model3:', results3[0])\n",
        "print('MSE Model1:', results1[1], '   MSE Model2:', results2[1], '   MSE Model3:', results3[1])\n",
        "print('Huber Model1:', results1[2], '   Huber Model2:', results2[2], '   Huber Model3:', results3[2])"
      ],
      "execution_count": null,
      "outputs": [
        {
          "output_type": "stream",
          "text": [
            "MAE Model1: 2.1142788    MAE Model2: 1.7854687    MAE Model3: 1.6689774\n",
            "MSE Model1: 9.882532    MSE Model2: 4.648294    MSE Model3: 4.5595107\n",
            "Huber Model1: 1.6682762    Huber Model2: 1.3296442    Huber Model3: 1.2439827\n"
          ],
          "name": "stdout"
        }
      ]
    },
    {
      "cell_type": "markdown",
      "metadata": {
        "id": "2zl6OFWAp584"
      },
      "source": [
        "Base on the previous results, we can conclude that Model 3 is the best one. However, note that the difference is practically negligible. Furthermore, we didn't use validation set as well, which could mean that the possibility of overfitting on the test data exists."
      ]
    },
    {
      "cell_type": "code",
      "metadata": {
        "id": "m7frvhytqRzI"
      },
      "source": [
        "# Let's just create a new model with 5000 epochs, just for fun \n",
        "# although we already approcimated the function really well with model2 and model3 :) \n",
        "\n",
        "model4 = tf.keras.Sequential()\n",
        "\n",
        "model4.add(tf.keras.layers.Dense(100, activation = 'relu'))\n",
        "model4.add(tf.keras.layers.Dense(100, activation = 'relu'))\n",
        "model4.add(tf.keras.layers.Dense(1))\n",
        "\n",
        "model4.compile(\n",
        "    loss = tf.keras.losses.mse,\n",
        "    optimizer = tf.keras.optimizers.Adam(lr = 0.0001),\n",
        "    metrics = ['mse', 'mae']\n",
        ")\n",
        "\n",
        "model4.fit(x_train, y_train, epochs = 5000, verbose = 0);"
      ],
      "execution_count": null,
      "outputs": []
    },
    {
      "cell_type": "code",
      "metadata": {
        "colab": {
          "base_uri": "https://localhost:8080/",
          "height": 465
        },
        "id": "hKWdHBujrEBp",
        "outputId": "296ce94b-991a-4ab3-e835-bf48cc397948"
      },
      "source": [
        "model4_pred = model4.predict(x_test)\n",
        "plot_predictions(x_train, y_train, x_test, y_test, model4_pred);"
      ],
      "execution_count": null,
      "outputs": [
        {
          "output_type": "stream",
          "text": [
            "WARNING:tensorflow:5 out of the last 11 calls to <function Model.make_predict_function.<locals>.predict_function at 0x7f564793f4d0> triggered tf.function retracing. Tracing is expensive and the excessive number of tracings could be due to (1) creating @tf.function repeatedly in a loop, (2) passing tensors with different shapes, (3) passing Python objects instead of tensors. For (1), please define your @tf.function outside of the loop. For (2), @tf.function has experimental_relax_shapes=True option that relaxes argument shapes that can avoid unnecessary retracing. For (3), please refer to https://www.tensorflow.org/guide/function#controlling_retracing and https://www.tensorflow.org/api_docs/python/tf/function for  more details.\n"
          ],
          "name": "stdout"
        },
        {
          "output_type": "display_data",
          "data": {
            "image/png": "[encoded data removed]",
            "text/plain": [
              "<Figure size 720x504 with 1 Axes>"
            ]
          },
          "metadata": {
            "tags": [],
            "needs_background": "light"
          }
        }
      ]
    },
    {
      "cell_type": "code",
      "metadata": {
        "colab": {
          "base_uri": "https://localhost:8080/"
        },
        "id": "no2qepD8rMR_",
        "outputId": "37a5a75b-e185-4296-f753-c488046a6465"
      },
      "source": [
        "results4 = evaluate_nn(y_test, tf.squeeze(model4_pred))\n",
        "print('MAE:', results4[0])\n",
        "print('MSE:', results4[1])\n",
        "print('Huber:', results4[2])"
      ],
      "execution_count": null,
      "outputs": [
        {
          "output_type": "stream",
          "text": [
            "MAE: 1.6369355\n",
            "MSE: 4.4458766\n",
            "Huber: 1.2057524\n"
          ],
          "name": "stdout"
        }
      ]
    },
    {
      "cell_type": "markdown",
      "metadata": {
        "id": "SG77nrifrVHh"
      },
      "source": [
        "Based on these results, we can conclude that training our model for longer will not always lead to better results. In essence, if we can approximate the function really well with 300 or 500 epochs, there is no need to go over that since the results will be the same. Therefore, we can always start with smaller models in order to see if they work and increase the complexity of the model only if it is necessary. "
      ]
    },
    {
      "cell_type": "code",
      "metadata": {
        "colab": {
          "base_uri": "https://localhost:8080/"
        },
        "id": "1lkLybOlrlT-",
        "outputId": "b8a0d02a-aae6-4f7c-c325-eb98813414e4"
      },
      "source": [
        "# Let's put evaluation metrics into a pandas dataframe\n",
        "import pandas as pd \n",
        "\n",
        "model_results = [['model1', results1[0], results1[1], results1[2]],\n",
        "                 ['model2', results2[0], results2[1], results2[2]],\n",
        "                 ['model3', results3[0], results3[1], results3[2]],\n",
        "                 ['model4', results4[0], results4[1], results4[2]]\n",
        "                 ]\n",
        "\n",
        "result_metrics = pd.DataFrame(model_results, columns = ['Model', 'MAE', 'MSE', \"HUBER\"])\n",
        "print(result_metrics)"
      ],
      "execution_count": null,
      "outputs": [
        {
          "output_type": "stream",
          "text": [
            "    Model       MAE       MSE     HUBER\n",
            "0  model1  2.114279  9.882532  1.668276\n",
            "1  model2  1.785469  4.648294  1.329644\n",
            "2  model3  1.668977  4.559511  1.243983\n",
            "3  model4  1.636935  4.445877  1.205752\n"
          ],
          "name": "stdout"
        }
      ]
    },
    {
      "cell_type": "markdown",
      "metadata": {
        "id": "HvMb1stsszs4"
      },
      "source": [
        "<br><br/>\n",
        "Of course, whitle tackling a real-world problem we would experiment with a lot of different models, so tracking their losses this way could become tedious. Obviously, we woudln't do that (this was just for the sake of learning) - we would use some better ways to track our experiments.\n",
        "Those tools are:\n",
        "\n",
        "\n",
        "*   TensorBoard - a component of the TF library to help track modelling experiments\n",
        "*   Weights & Biases - a tool for tracking all kinds of machine learning experimens (plugs straight into TensorBoard)\n",
        "\n",
        "We will cover these soon enough.\n",
        "\n"
      ]
    },
    {
      "cell_type": "markdown",
      "metadata": {
        "id": "zp_ZtxEyuSPC"
      },
      "source": [
        "### Saving and Loading the Model"
      ]
    },
    {
      "cell_type": "markdown",
      "metadata": {
        "id": "bsitvlKaujFl"
      },
      "source": [
        "Let's say that we have tried a few models and we want to save/export the specific one (model3 in this case, since it proved to be the most optimal one). In essence, how do we export a model from Google Colab or Jupyter Notebook?\n",
        "\n",
        "There are a [few ways to save our model](https://www.tensorflow.org/tutorials/keras/save_and_load). \n",
        "\n",
        "\n",
        "1.   We can save checkpoints during training and if something interrupts the training we can pick up where we left off\n",
        "2.   With the SavedModel format (also useful for continuing with training)\n",
        "3.   With HDF5 format (also useful for continuing with training)\n",
        "\n"
      ]
    },
    {
      "cell_type": "code",
      "metadata": {
        "colab": {
          "base_uri": "https://localhost:8080/"
        },
        "id": "c8kGZOohucPs",
        "outputId": "6bfcf3bb-072f-429c-cc13-124ace54094d"
      },
      "source": [
        "# Save the model using the savedmodel format\n",
        "# It saves it in Google Colab!\n",
        "model3.save('best_model')\n",
        "\n",
        "# Let's save it as HDF5 format \n",
        "model3.save('best_model.h5')"
      ],
      "execution_count": null,
      "outputs": [
        {
          "output_type": "stream",
          "text": [
            "INFO:tensorflow:Assets written to: best_model/assets\n"
          ],
          "name": "stdout"
        }
      ]
    },
    {
      "cell_type": "markdown",
      "metadata": {
        "id": "UyeJJdHqxQcE"
      },
      "source": [
        "As a rule of a thumb, if we want to use the model inside TF, when it is better to save it in a SavedModel format, while HDF5 is more suitable for other purposses."
      ]
    },
    {
      "cell_type": "code",
      "metadata": {
        "id": "Hwh76RZAv5-E"
      },
      "source": [
        "# Let's try to load the model, we can load it from both formats\n",
        "loaded_model = tf.keras.models.load_model('best_model.h5')"
      ],
      "execution_count": null,
      "outputs": []
    },
    {
      "cell_type": "code",
      "metadata": {
        "colab": {
          "base_uri": "https://localhost:8080/"
        },
        "id": "TBm9mJYow7-J",
        "outputId": "dd7f93b0-79be-4774-a8bf-00a05c22497c"
      },
      "source": [
        "loaded_model.summary()"
      ],
      "execution_count": null,
      "outputs": [
        {
          "output_type": "stream",
          "text": [
            "Model: \"sequential_4\"\n",
            "_________________________________________________________________\n",
            "Layer (type)                 Output Shape              Param #   \n",
            "=================================================================\n",
            "dense_9 (Dense)              (None, 100)               200       \n",
            "_________________________________________________________________\n",
            "dense_10 (Dense)             (None, 100)               10100     \n",
            "_________________________________________________________________\n",
            "dense_11 (Dense)             (None, 1)                 101       \n",
            "=================================================================\n",
            "Total params: 10,401\n",
            "Trainable params: 10,401\n",
            "Non-trainable params: 0\n",
            "_________________________________________________________________\n"
          ],
          "name": "stdout"
        }
      ]
    },
    {
      "cell_type": "code",
      "metadata": {
        "colab": {
          "base_uri": "https://localhost:8080/",
          "height": 422
        },
        "id": "2NmaFStlw9Sy",
        "outputId": "6494fcd6-8a35-473e-f5ef-3fba2ba3804e"
      },
      "source": [
        "from tensorflow.keras.utils import plot_model\n",
        "plot_model(loaded_model, show_shapes = True)"
      ],
      "execution_count": null,
      "outputs": [
        {
          "output_type": "execute_result",
          "data": {
            "image/png": "[encoded data removed]",
            "text/plain": [
              "<IPython.core.display.Image object>"
            ]
          },
          "metadata": {
            "tags": []
          },
          "execution_count": 46
        }
      ]
    },
    {
      "cell_type": "markdown",
      "metadata": {
        "id": "ZtgrkP2ZwdcH"
      },
      "source": [
        "So, how can we download files from the google colab?\n",
        "\n",
        "\n",
        "\n",
        "1.   We can go to the \"files\" tab and right click on the file we are after and then click \"download\"\n",
        "2.   We can use code (see the cell below)\n",
        "3.   Save to Google Drive by conencting Google Drive and copying there\n",
        "\n",
        "\n"
      ]
    },
    {
      "cell_type": "code",
      "metadata": {
        "colab": {
          "base_uri": "https://localhost:8080/",
          "height": 17
        },
        "id": "c8TYXzcuwnmw",
        "outputId": "1459d924-7cd1-4125-e109-a36be2acdff8"
      },
      "source": [
        "# Download a file from Google Colab\n",
        "from google.colab import files \n",
        "files.download(\"/content/best_model.h5\") # paste the path inside the parentheses"
      ],
      "execution_count": null,
      "outputs": [
        {
          "output_type": "display_data",
          "data": {
            "application/javascript": [
              "\n",
              "    async function download(id, filename, size) {\n",
              "      if (!google.colab.kernel.accessAllowed) {\n",
              "        return;\n",
              "      }\n",
              "      const div = document.createElement('div');\n",
              "      const label = document.createElement('label');\n",
              "      label.textContent = `Downloading \"${filename}\": `;\n",
              "      div.appendChild(label);\n",
              "      const progress = document.createElement('progress');\n",
              "      progress.max = size;\n",
              "      div.appendChild(progress);\n",
              "      document.body.appendChild(div);\n",
              "\n",
              "      const buffers = [];\n",
              "      let downloaded = 0;\n",
              "\n",
              "      const channel = await google.colab.kernel.comms.open(id);\n",
              "      // Send a message to notify the kernel that we're ready.\n",
              "      channel.send({})\n",
              "\n",
              "      for await (const message of channel.messages) {\n",
              "        // Send a message to notify the kernel that we're ready.\n",
              "        channel.send({})\n",
              "        if (message.buffers) {\n",
              "          for (const buffer of message.buffers) {\n",
              "            buffers.push(buffer);\n",
              "            downloaded += buffer.byteLength;\n",
              "            progress.value = downloaded;\n",
              "          }\n",
              "        }\n",
              "      }\n",
              "      const blob = new Blob(buffers, {type: 'application/binary'});\n",
              "      const a = document.createElement('a');\n",
              "      a.href = window.URL.createObjectURL(blob);\n",
              "      a.download = filename;\n",
              "      div.appendChild(a);\n",
              "      a.click();\n",
              "      div.remove();\n",
              "    }\n",
              "  "
            ],
            "text/plain": [
              "<IPython.core.display.Javascript object>"
            ]
          },
          "metadata": {
            "tags": []
          }
        },
        {
          "output_type": "display_data",
          "data": {
            "application/javascript": [
              "download(\"download_9de55dca-b4ae-4037-bc04-5db1402349f1\", \"best_model.h5\", 156672)"
            ],
            "text/plain": [
              "<IPython.core.display.Javascript object>"
            ]
          },
          "metadata": {
            "tags": []
          }
        }
      ]
    },
    {
      "cell_type": "markdown",
      "metadata": {
        "id": "t0lF57Ak1I1O"
      },
      "source": [
        "### Medical Cost Dataset - NN Approach"
      ]
    },
    {
      "cell_type": "code",
      "metadata": {
        "id": "utP8iVcD10wq"
      },
      "source": [
        "# Import libraries\n",
        "import numpy as np \n",
        "import pandas as pd \n",
        "import matplotlib.pyplot as plt\n",
        "import tensorflow as tf "
      ],
      "execution_count": 23,
      "outputs": []
    },
    {
      "cell_type": "code",
      "metadata": {
        "colab": {
          "base_uri": "https://localhost:8080/",
          "height": 142
        },
        "id": "z9ou4n5Vxgv2",
        "outputId": "8453b5ec-bbba-412f-c8e1-b904f3f573e1"
      },
      "source": [
        "# Reading insurance dataset\n",
        "data_url = 'https://raw.githubusercontent.com/stedy/Machine-Learning-with-R-datasets/master/insurance.csv'\n",
        "insurance = pd.read_csv(data_url)\n",
        "insurance.head(3)"
      ],
      "execution_count": 24,
      "outputs": [
        {
          "output_type": "execute_result",
          "data": {
            "text/html": [
              "<div>\n",
              "<style scoped>\n",
              "    .dataframe tbody tr th:only-of-type {\n",
              "        vertical-align: middle;\n",
              "    }\n",
              "\n",
              "    .dataframe tbody tr th {\n",
              "        vertical-align: top;\n",
              "    }\n",
              "\n",
              "    .dataframe thead th {\n",
              "        text-align: right;\n",
              "    }\n",
              "</style>\n",
              "<table border=\"1\" class=\"dataframe\">\n",
              "  <thead>\n",
              "    <tr style=\"text-align: right;\">\n",
              "      <th></th>\n",
              "      <th>age</th>\n",
              "      <th>sex</th>\n",
              "      <th>bmi</th>\n",
              "      <th>children</th>\n",
              "      <th>smoker</th>\n",
              "      <th>region</th>\n",
              "      <th>charges</th>\n",
              "    </tr>\n",
              "  </thead>\n",
              "  <tbody>\n",
              "    <tr>\n",
              "      <th>0</th>\n",
              "      <td>19</td>\n",
              "      <td>female</td>\n",
              "      <td>27.90</td>\n",
              "      <td>0</td>\n",
              "      <td>yes</td>\n",
              "      <td>southwest</td>\n",
              "      <td>16884.9240</td>\n",
              "    </tr>\n",
              "    <tr>\n",
              "      <th>1</th>\n",
              "      <td>18</td>\n",
              "      <td>male</td>\n",
              "      <td>33.77</td>\n",
              "      <td>1</td>\n",
              "      <td>no</td>\n",
              "      <td>southeast</td>\n",
              "      <td>1725.5523</td>\n",
              "    </tr>\n",
              "    <tr>\n",
              "      <th>2</th>\n",
              "      <td>28</td>\n",
              "      <td>male</td>\n",
              "      <td>33.00</td>\n",
              "      <td>3</td>\n",
              "      <td>no</td>\n",
              "      <td>southeast</td>\n",
              "      <td>4449.4620</td>\n",
              "    </tr>\n",
              "  </tbody>\n",
              "</table>\n",
              "</div>"
            ],
            "text/plain": [
              "   age     sex    bmi  children smoker     region     charges\n",
              "0   19  female  27.90         0    yes  southwest  16884.9240\n",
              "1   18    male  33.77         1     no  southeast   1725.5523\n",
              "2   28    male  33.00         3     no  southeast   4449.4620"
            ]
          },
          "metadata": {
            "tags": []
          },
          "execution_count": 24
        }
      ]
    },
    {
      "cell_type": "code",
      "metadata": {
        "colab": {
          "base_uri": "https://localhost:8080/"
        },
        "id": "g7s0UdADxgtU",
        "outputId": "6a757474-2845-4c7c-97dc-3fbfccd888b5"
      },
      "source": [
        "# Let's convert strings into numbers\n",
        "print(insurance['sex'].unique())\n",
        "print(insurance['smoker'].unique())\n",
        "print(insurance['region'].unique())"
      ],
      "execution_count": 25,
      "outputs": [
        {
          "output_type": "stream",
          "text": [
            "['female' 'male']\n",
            "['yes' 'no']\n",
            "['southwest' 'southeast' 'northwest' 'northeast']\n"
          ],
          "name": "stdout"
        }
      ]
    },
    {
      "cell_type": "code",
      "metadata": {
        "colab": {
          "base_uri": "https://localhost:8080/",
          "height": 142
        },
        "id": "wknQnsvuxgrJ",
        "outputId": "acd4f50e-d510-4e0c-d67a-1255015a3637"
      },
      "source": [
        "# One hot encoding\n",
        "insurance_onehot = pd.get_dummies(insurance)\n",
        "insurance_onehot.head(3)"
      ],
      "execution_count": 26,
      "outputs": [
        {
          "output_type": "execute_result",
          "data": {
            "text/html": [
              "<div>\n",
              "<style scoped>\n",
              "    .dataframe tbody tr th:only-of-type {\n",
              "        vertical-align: middle;\n",
              "    }\n",
              "\n",
              "    .dataframe tbody tr th {\n",
              "        vertical-align: top;\n",
              "    }\n",
              "\n",
              "    .dataframe thead th {\n",
              "        text-align: right;\n",
              "    }\n",
              "</style>\n",
              "<table border=\"1\" class=\"dataframe\">\n",
              "  <thead>\n",
              "    <tr style=\"text-align: right;\">\n",
              "      <th></th>\n",
              "      <th>age</th>\n",
              "      <th>bmi</th>\n",
              "      <th>children</th>\n",
              "      <th>charges</th>\n",
              "      <th>sex_female</th>\n",
              "      <th>sex_male</th>\n",
              "      <th>smoker_no</th>\n",
              "      <th>smoker_yes</th>\n",
              "      <th>region_northeast</th>\n",
              "      <th>region_northwest</th>\n",
              "      <th>region_southeast</th>\n",
              "      <th>region_southwest</th>\n",
              "    </tr>\n",
              "  </thead>\n",
              "  <tbody>\n",
              "    <tr>\n",
              "      <th>0</th>\n",
              "      <td>19</td>\n",
              "      <td>27.90</td>\n",
              "      <td>0</td>\n",
              "      <td>16884.9240</td>\n",
              "      <td>1</td>\n",
              "      <td>0</td>\n",
              "      <td>0</td>\n",
              "      <td>1</td>\n",
              "      <td>0</td>\n",
              "      <td>0</td>\n",
              "      <td>0</td>\n",
              "      <td>1</td>\n",
              "    </tr>\n",
              "    <tr>\n",
              "      <th>1</th>\n",
              "      <td>18</td>\n",
              "      <td>33.77</td>\n",
              "      <td>1</td>\n",
              "      <td>1725.5523</td>\n",
              "      <td>0</td>\n",
              "      <td>1</td>\n",
              "      <td>1</td>\n",
              "      <td>0</td>\n",
              "      <td>0</td>\n",
              "      <td>0</td>\n",
              "      <td>1</td>\n",
              "      <td>0</td>\n",
              "    </tr>\n",
              "    <tr>\n",
              "      <th>2</th>\n",
              "      <td>28</td>\n",
              "      <td>33.00</td>\n",
              "      <td>3</td>\n",
              "      <td>4449.4620</td>\n",
              "      <td>0</td>\n",
              "      <td>1</td>\n",
              "      <td>1</td>\n",
              "      <td>0</td>\n",
              "      <td>0</td>\n",
              "      <td>0</td>\n",
              "      <td>1</td>\n",
              "      <td>0</td>\n",
              "    </tr>\n",
              "  </tbody>\n",
              "</table>\n",
              "</div>"
            ],
            "text/plain": [
              "   age    bmi  children  ...  region_northwest  region_southeast  region_southwest\n",
              "0   19  27.90         0  ...                 0                 0                 1\n",
              "1   18  33.77         1  ...                 0                 1                 0\n",
              "2   28  33.00         3  ...                 0                 1                 0\n",
              "\n",
              "[3 rows x 12 columns]"
            ]
          },
          "metadata": {
            "tags": []
          },
          "execution_count": 26
        }
      ]
    },
    {
      "cell_type": "code",
      "metadata": {
        "id": "m6dQ21pZxgm5"
      },
      "source": [
        "# split data into X, Y, and then into training and test sets\n",
        "\n",
        "X = insurance_onehot[insurance_onehot.columns[insurance_onehot.columns != 'charges']]\n",
        "y = insurance_onehot['charges']\n",
        "\n",
        "from sklearn.model_selection import train_test_split \n",
        "X_train, X_test, y_train, y_test = train_test_split(X, y, test_size = 0.2, random_state = 42)"
      ],
      "execution_count": 27,
      "outputs": []
    },
    {
      "cell_type": "code",
      "metadata": {
        "colab": {
          "base_uri": "https://localhost:8080/"
        },
        "id": "GzyGUPysx1NX",
        "outputId": "5c065f3b-7827-4fa5-d5ce-9a66dcac44e9"
      },
      "source": [
        "print(X_train.shape)\n",
        "print(X_test.shape)\n",
        "print(y_train.shape)\n",
        "print(y_test.shape)"
      ],
      "execution_count": 28,
      "outputs": [
        {
          "output_type": "stream",
          "text": [
            "(1070, 11)\n",
            "(268, 11)\n",
            "(1070,)\n",
            "(268,)\n"
          ],
          "name": "stdout"
        }
      ]
    },
    {
      "cell_type": "code",
      "metadata": {
        "colab": {
          "base_uri": "https://localhost:8080/"
        },
        "id": "4qfSIosYwhtu",
        "outputId": "64cbce37-1cc8-4419-99d4-27e5fae1b028"
      },
      "source": [
        "# USING MSE AS THE LOSS FUNCTION\n",
        "tf.random.set_seed(42)\n",
        "insurance_model = tf.keras.Sequential(name = 'Insurance_Model')\n",
        "for i in range(10):\n",
        "  insurance_model.add(tf.keras.layers.Dense(100, activation = 'relu'))\n",
        "insurance_model.add(tf.keras.layers.Dense(1))\n",
        "\n",
        "insurance_model.compile(\n",
        "    loss = tf.keras.losses.mse, \n",
        "    optimizer = tf.keras.optimizers.Adam(learning_rate = 0.0001),\n",
        "    metrics = ['mse', 'mae']\n",
        ")\n",
        "\n",
        "insurance_model.fit(X_train, y_train, epochs = 300, verbose = 0)"
      ],
      "execution_count": 29,
      "outputs": [
        {
          "output_type": "execute_result",
          "data": {
            "text/plain": [
              "<tensorflow.python.keras.callbacks.History at 0x7f5bbf48d390>"
            ]
          },
          "metadata": {
            "tags": []
          },
          "execution_count": 29
        }
      ]
    },
    {
      "cell_type": "code",
      "metadata": {
        "colab": {
          "base_uri": "https://localhost:8080/",
          "height": 265
        },
        "id": "q-UvYnsKwhpI",
        "outputId": "8a119fab-1fbc-4ce6-f12f-1b97bc3e43c2"
      },
      "source": [
        "plt.scatter(insurance_model.predict(X_test), y_test);"
      ],
      "execution_count": 30,
      "outputs": [
        {
          "output_type": "display_data",
          "data": {
            "image/png": "[encoded data removed]",
            "text/plain": [
              "<Figure size 432x288 with 1 Axes>"
            ]
          },
          "metadata": {
            "tags": [],
            "needs_background": "light"
          }
        }
      ]
    },
    {
      "cell_type": "code",
      "metadata": {
        "id": "Cql7XJmBwhko"
      },
      "source": [
        "def evaluate_nn(y_test, y_pred):\n",
        "  mae = tf.keras.losses.MAE(y_test, y_pred).numpy()\n",
        "  mse = tf.keras.losses.MSE(y_test, y_pred).numpy()\n",
        "  huber = tf.keras.losses.huber(y_test, y_pred, delta = 1.0).numpy()\n",
        "  return mae, mse, huber"
      ],
      "execution_count": 31,
      "outputs": []
    },
    {
      "cell_type": "code",
      "metadata": {
        "colab": {
          "base_uri": "https://localhost:8080/"
        },
        "id": "qGbgO6-twhiI",
        "outputId": "d27e7c5f-4573-4067-de2b-d503c5660b16"
      },
      "source": [
        "results = evaluate_nn(y_test, tf.squeeze(insurance_model.predict(X_test)))\n",
        "print('MSE AS THE LOSS FUNCTION:')\n",
        "print('MAE: ', results[0])\n",
        "print('MSE: ', results[1])\n",
        "print('Huber: ', results[2])"
      ],
      "execution_count": 32,
      "outputs": [
        {
          "output_type": "stream",
          "text": [
            "MSE AS THE LOSS FUNCTION:\n",
            "MAE:  2668.7046\n",
            "MSE:  19415746.0\n",
            "Huber:  2668.2046\n"
          ],
          "name": "stdout"
        }
      ]
    },
    {
      "cell_type": "code",
      "metadata": {
        "id": "jyswvjRO1NIQ"
      },
      "source": [
        "# USING MAE AS THE LOSS FUNCTION\n",
        "tf.random.set_seed(42)\n",
        "insurance_model2 = tf.keras.Sequential(name = 'Insurance_Model')\n",
        "for i in range(10):\n",
        "  insurance_model2.add(tf.keras.layers.Dense(100, activation = 'relu'))\n",
        "insurance_model2.add(tf.keras.layers.Dense(1))\n",
        "\n",
        "insurance_model2.compile(\n",
        "    loss = tf.keras.losses.mae, \n",
        "    optimizer = tf.keras.optimizers.Adam(learning_rate = 0.0001),\n",
        "    metrics = ['mae']\n",
        ")\n",
        "\n",
        "history = insurance_model2.fit(X_train, y_train, epochs = 300, verbose = 0) # putting inside history variable so that we can plot the training"
      ],
      "execution_count": 33,
      "outputs": []
    },
    {
      "cell_type": "code",
      "metadata": {
        "colab": {
          "base_uri": "https://localhost:8080/",
          "height": 265
        },
        "id": "ckS4Ctv21M7b",
        "outputId": "f1613cad-66bb-486d-8c9f-f38857ac4bc9"
      },
      "source": [
        "plt.scatter(insurance_model2.predict(X_test), y_test);"
      ],
      "execution_count": 34,
      "outputs": [
        {
          "output_type": "display_data",
          "data": {
            "image/png": "[encoded data removed]",
            "text/plain": [
              "<Figure size 432x288 with 1 Axes>"
            ]
          },
          "metadata": {
            "tags": [],
            "needs_background": "light"
          }
        }
      ]
    },
    {
      "cell_type": "code",
      "metadata": {
        "colab": {
          "base_uri": "https://localhost:8080/"
        },
        "id": "fvyxQuWJ1b-z",
        "outputId": "3f5aff33-0276-4ec8-8c3b-14ac34e5ec01"
      },
      "source": [
        "results = evaluate_nn(y_test, tf.squeeze(insurance_model2.predict(X_test)))\n",
        "print('MAE AS THE LOSS FUNCTION:')\n",
        "print('MAE: ', results[0])\n",
        "print('MSE: ', results[1])\n",
        "print('Huber: ', results[2])"
      ],
      "execution_count": 35,
      "outputs": [
        {
          "output_type": "stream",
          "text": [
            "MAE AS THE LOSS FUNCTION:\n",
            "MAE:  1790.1798\n",
            "MSE:  20962082.0\n",
            "Huber:  1789.6802\n"
          ],
          "name": "stdout"
        }
      ]
    },
    {
      "cell_type": "markdown",
      "metadata": {
        "id": "hZJC5Uaf2gZZ"
      },
      "source": [
        "> We can see that this model is better than the previous one.\n",
        "\n",
        "Therefore, we can use the second model which, on average, makes the mistake of $1790, which is pretty nice."
      ]
    },
    {
      "cell_type": "code",
      "metadata": {
        "colab": {
          "base_uri": "https://localhost:8080/",
          "height": 296
        },
        "id": "40VIRrDL3HMk",
        "outputId": "ee4b41ef-40ed-4fdb-ac6c-8a20631b715f"
      },
      "source": [
        "# Let's plot the history of the second model\n",
        "loss_history = pd.DataFrame(history.history)\n",
        "loss_history.plot()\n",
        "plt.ylabel('Loss')\n",
        "plt.xlabel('Epochs')"
      ],
      "execution_count": 36,
      "outputs": [
        {
          "output_type": "execute_result",
          "data": {
            "text/plain": [
              "Text(0.5, 0, 'Epochs')"
            ]
          },
          "metadata": {
            "tags": []
          },
          "execution_count": 36
        },
        {
          "output_type": "display_data",
          "data": {
            "image/png": "[encoded data removed]",
            "text/plain": [
              "<Figure size 432x288 with 1 Axes>"
            ]
          },
          "metadata": {
            "tags": [],
            "needs_background": "light"
          }
        }
      ]
    },
    {
      "cell_type": "markdown",
      "metadata": {
        "id": "6HqpZCmO5DJF"
      },
      "source": [
        "\"LOSS\" and \"MAE\" are the same line on the previous graph, since MAE was the metric we used as the loss function, and also the metric which we wanted to save."
      ]
    },
    {
      "cell_type": "code",
      "metadata": {
        "colab": {
          "base_uri": "https://localhost:8080/",
          "height": 204
        },
        "id": "SeghbpKG49di",
        "outputId": "963c0910-7e5e-431c-e46e-fd9f806ef965"
      },
      "source": [
        "loss_history.head()"
      ],
      "execution_count": 37,
      "outputs": [
        {
          "output_type": "execute_result",
          "data": {
            "text/html": [
              "<div>\n",
              "<style scoped>\n",
              "    .dataframe tbody tr th:only-of-type {\n",
              "        vertical-align: middle;\n",
              "    }\n",
              "\n",
              "    .dataframe tbody tr th {\n",
              "        vertical-align: top;\n",
              "    }\n",
              "\n",
              "    .dataframe thead th {\n",
              "        text-align: right;\n",
              "    }\n",
              "</style>\n",
              "<table border=\"1\" class=\"dataframe\">\n",
              "  <thead>\n",
              "    <tr style=\"text-align: right;\">\n",
              "      <th></th>\n",
              "      <th>loss</th>\n",
              "      <th>mae</th>\n",
              "    </tr>\n",
              "  </thead>\n",
              "  <tbody>\n",
              "    <tr>\n",
              "      <th>0</th>\n",
              "      <td>13344.616211</td>\n",
              "      <td>13344.616211</td>\n",
              "    </tr>\n",
              "    <tr>\n",
              "      <th>1</th>\n",
              "      <td>13328.547852</td>\n",
              "      <td>13328.547852</td>\n",
              "    </tr>\n",
              "    <tr>\n",
              "      <th>2</th>\n",
              "      <td>13183.995117</td>\n",
              "      <td>13183.995117</td>\n",
              "    </tr>\n",
              "    <tr>\n",
              "      <th>3</th>\n",
              "      <td>11923.255859</td>\n",
              "      <td>11923.255859</td>\n",
              "    </tr>\n",
              "    <tr>\n",
              "      <th>4</th>\n",
              "      <td>7866.587891</td>\n",
              "      <td>7866.587891</td>\n",
              "    </tr>\n",
              "  </tbody>\n",
              "</table>\n",
              "</div>"
            ],
            "text/plain": [
              "           loss           mae\n",
              "0  13344.616211  13344.616211\n",
              "1  13328.547852  13328.547852\n",
              "2  13183.995117  13183.995117\n",
              "3  11923.255859  11923.255859\n",
              "4   7866.587891   7866.587891"
            ]
          },
          "metadata": {
            "tags": []
          },
          "execution_count": 37
        }
      ]
    },
    {
      "cell_type": "code",
      "metadata": {
        "colab": {
          "base_uri": "https://localhost:8080/",
          "height": 542
        },
        "id": "xcW9sAse4ssC",
        "outputId": "2d5184d0-3ef5-425a-e5b0-f40afdc8a506"
      },
      "source": [
        "# Or, alternatively, let's plot it with plotly\n",
        "import plotly.express as px \n",
        "import plotly.io as pio\n",
        "pio.templates.default = 'simple_white'\n",
        "px.line(\n",
        "    loss_history, \n",
        "    x = loss_history.index, \n",
        "    y = 'mae', \n",
        "    labels = {'index' : 'EPOCHS', 'mae' : ' MEAN ABSOLUTE ERROR'}\n",
        "    )"
      ],
      "execution_count": 38,
      "outputs": [
        {
          "output_type": "display_data",
          "data": {
            "text/html": [
              "<html>\n",
              "<head><meta charset=\"utf-8\" /></head>\n",
              "<body>\n",
              "    <div>\n",
              "            <script src=\"https://cdnjs.cloudflare.com/ajax/libs/mathjax/2.7.5/MathJax.js?config=TeX-AMS-MML_SVG\"></script><script type=\"text/javascript\">if (window.MathJax) {MathJax.Hub.Config({SVG: {font: \"STIX-Web\"}});}</script>\n",
              "                <script type=\"text/javascript\">window.PlotlyConfig = {MathJaxConfig: 'local'};</script>\n",
              "        <script src=\"https://cdn.plot.ly/plotly-latest.min.js\"></script>    \n",
              "            <div id=\"f9c11dd0-49da-43eb-b297-88490be8e9ce\" class=\"plotly-graph-div\" style=\"height:525px; width:100%;\"></div>\n",
              "            <script type=\"text/javascript\">\n",
              "                \n",
              "                    window.PLOTLYENV=window.PLOTLYENV || {};\n",
              "                    \n",
              "                if (document.getElementById(\"f9c11dd0-49da-43eb-b297-88490be8e9ce\")) {\n",
              "                    Plotly.newPlot(\n",
              "                        'f9c11dd0-49da-43eb-b297-88490be8e9ce',\n",
              "                        [{\"hoverlabel\": {\"namelength\": 0}, \"hovertemplate\": \"EPOCHS=%{x}<br> MEAN ABSOLUTE ERROR=%{y}\", \"legendgroup\": \"\", \"line\": {\"color\": \"#1F77B4\", \"dash\": \"solid\"}, \"mode\": \"lines\", \"name\": \"\", \"showlegend\": false, \"type\": \"scatter\", \"x\": [0, 1, 2, 3, 4, 5, 6, 7, 8, 9, 10, 11, 12, 13, 14, 15, 16, 17, 18, 19, 20, 21, 22, 23, 24, 25, 26, 27, 28, 29, 30, 31, 32, 33, 34, 35, 36, 37, 38, 39, 40, 41, 42, 43, 44, 45, 46, 47, 48, 49, 50, 51, 52, 53, 54, 55, 56, 57, 58, 59, 60, 61, 62, 63, 64, 65, 66, 67, 68, 69, 70, 71, 72, 73, 74, 75, 76, 77, 78, 79, 80, 81, 82, 83, 84, 85, 86, 87, 88, 89, 90, 91, 92, 93, 94, 95, 96, 97, 98, 99, 100, 101, 102, 103, 104, 105, 106, 107, 108, 109, 110, 111, 112, 113, 114, 115, 116, 117, 118, 119, 120, 121, 122, 123, 124, 125, 126, 127, 128, 129, 130, 131, 132, 133, 134, 135, 136, 137, 138, 139, 140, 141, 142, 143, 144, 145, 146, 147, 148, 149, 150, 151, 152, 153, 154, 155, 156, 157, 158, 159, 160, 161, 162, 163, 164, 165, 166, 167, 168, 169, 170, 171, 172, 173, 174, 175, 176, 177, 178, 179, 180, 181, 182, 183, 184, 185, 186, 187, 188, 189, 190, 191, 192, 193, 194, 195, 196, 197, 198, 199, 200, 201, 202, 203, 204, 205, 206, 207, 208, 209, 210, 211, 212, 213, 214, 215, 216, 217, 218, 219, 220, 221, 222, 223, 224, 225, 226, 227, 228, 229, 230, 231, 232, 233, 234, 235, 236, 237, 238, 239, 240, 241, 242, 243, 244, 245, 246, 247, 248, 249, 250, 251, 252, 253, 254, 255, 256, 257, 258, 259, 260, 261, 262, 263, 264, 265, 266, 267, 268, 269, 270, 271, 272, 273, 274, 275, 276, 277, 278, 279, 280, 281, 282, 283, 284, 285, 286, 287, 288, 289, 290, 291, 292, 293, 294, 295, 296, 297, 298, 299], \"xaxis\": \"x\", \"y\": [13344.6162109375, 13328.5478515625, 13183.9951171875, 11923.255859375, 7866.587890625, 7274.1611328125, 7193.95068359375, 7139.38623046875, 7088.80029296875, 7039.80126953125, 7000.82470703125, 6941.5859375, 6887.7314453125, 6840.884765625, 6803.10888671875, 6779.63916015625, 6753.97509765625, 6739.111328125, 6734.0615234375, 6719.98681640625, 6713.880859375, 6706.76806640625, 6700.78125, 6690.58154296875, 6681.275390625, 6673.42919921875, 6670.17041015625, 6682.42431640625, 6647.85791015625, 6652.82177734375, 6647.3974609375, 6626.1650390625, 6613.55029296875, 6608.11083984375, 6598.58642578125, 6591.326171875, 6597.9111328125, 6577.861328125, 6566.56396484375, 6552.4169921875, 6541.17578125, 6529.0673828125, 6519.513671875, 6496.4072265625, 6480.400390625, 6486.88427734375, 6476.50146484375, 6444.33740234375, 6427.97314453125, 6417.34228515625, 6390.79638671875, 6368.50146484375, 6341.76318359375, 6318.6865234375, 6299.7998046875, 6278.64306640625, 6237.029296875, 6193.869140625, 6137.30859375, 6099.4140625, 6059.34423828125, 5964.93212890625, 5878.9794921875, 5781.85205078125, 5656.85595703125, 5475.208984375, 5216.49169921875, 4796.0087890625, 4227.7490234375, 3846.595458984375, 3833.376953125, 3579.866455078125, 3561.306640625, 3530.0341796875, 3426.4443359375, 3365.548095703125, 3334.38037109375, 3264.781982421875, 3264.64794921875, 3121.346435546875, 3084.31884765625, 3023.05810546875, 2991.335693359375, 3013.759521484375, 2888.923095703125, 2925.4189453125, 2848.4208984375, 2853.358642578125, 2819.552978515625, 2795.43896484375, 2801.058837890625, 2951.931884765625, 2880.917724609375, 2779.026611328125, 2790.329345703125, 2792.20751953125, 2787.5400390625, 2726.333984375, 2711.957763671875, 2701.950927734375, 2671.809326171875, 2704.247314453125, 2682.6005859375, 2700.162109375, 2655.2880859375, 2643.48583984375, 2644.924072265625, 2630.472900390625, 2669.322509765625, 2610.57763671875, 2633.67138671875, 2591.5, 2588.121337890625, 2644.30029296875, 2662.166015625, 2646.919677734375, 2573.59814453125, 2631.264404296875, 2539.052001953125, 2549.60986328125, 2552.91455078125, 2552.33837890625, 2516.03564453125, 2501.890380859375, 2503.927978515625, 2505.71533203125, 2480.5810546875, 2493.093017578125, 2487.007568359375, 2475.327880859375, 2461.150634765625, 2442.295654296875, 2465.993896484375, 2448.17041015625, 2436.194091796875, 2431.2177734375, 2435.829345703125, 2493.79541015625, 2417.39990234375, 2432.36474609375, 2407.30419921875, 2393.453125, 2425.9990234375, 2431.179931640625, 2389.1484375, 2458.470458984375, 2391.875732421875, 2389.12158203125, 2392.552490234375, 2343.35986328125, 2393.523193359375, 2353.936767578125, 2448.78173828125, 2343.934326171875, 2340.56005859375, 2329.142578125, 2341.499755859375, 2331.956298828125, 2323.68701171875, 2370.866943359375, 2304.46240234375, 2292.50341796875, 2330.111572265625, 2314.439453125, 2426.122314453125, 2343.514892578125, 2353.084228515625, 2301.239013671875, 2279.244140625, 2280.759033203125, 2312.0078125, 2277.099853515625, 2285.423583984375, 2282.001953125, 2260.433349609375, 2256.9130859375, 2273.23388671875, 2252.247314453125, 2248.433837890625, 2237.866943359375, 2273.074951171875, 2270.559326171875, 2240.14697265625, 2249.373291015625, 2245.3037109375, 2231.049560546875, 2255.921875, 2224.920654296875, 2217.47021484375, 2235.7744140625, 2223.946533203125, 2238.888916015625, 2210.30078125, 2195.661376953125, 2211.27978515625, 2185.59521484375, 2238.22509765625, 2231.45947265625, 2225.27587890625, 2211.213134765625, 2228.263916015625, 2220.695068359375, 2213.943603515625, 2194.3251953125, 2173.7666015625, 2187.167236328125, 2204.220458984375, 2220.974609375, 2166.493896484375, 2164.72998046875, 2186.747314453125, 2191.957275390625, 2200.656982421875, 2223.677001953125, 2194.21728515625, 2178.266845703125, 2160.30859375, 2153.851806640625, 2139.94677734375, 2177.205810546875, 2181.611328125, 2166.577880859375, 2140.881103515625, 2120.59375, 2142.224609375, 2179.061279296875, 2190.419921875, 2170.057373046875, 2142.665771484375, 2127.18408203125, 2157.357666015625, 2123.13232421875, 2150.405029296875, 2151.891845703125, 2123.597900390625, 2130.89306640625, 2182.456298828125, 2120.83349609375, 2156.765869140625, 2110.042236328125, 2125.44873046875, 2185.13134765625, 2168.27587890625, 2109.801513671875, 2127.769287109375, 2090.211181640625, 2143.399169921875, 2095.25146484375, 2094.002197265625, 2103.292236328125, 2117.427734375, 2221.464599609375, 2105.83154296875, 2192.0869140625, 2109.5693359375, 2130.220703125, 2062.743408203125, 2077.62158203125, 2101.46875, 2105.1279296875, 2121.251708984375, 2141.885986328125, 2060.65771484375, 2069.18408203125, 2088.46484375, 2061.357421875, 2066.263427734375, 2056.72900390625, 2083.290771484375, 2175.521484375, 2197.354736328125, 2043.82568359375, 2085.02197265625, 2119.04296875, 2074.97265625, 2105.36962890625, 2044.413330078125, 2056.977783203125, 2069.283935546875, 2069.2880859375, 2026.7025146484375, 2036.5833740234375, 2058.6083984375, 2074.32470703125, 2063.584228515625, 2010.17529296875, 2080.230712890625, 2092.8115234375, 2030.793212890625, 2032.3287353515625, 2020.3018798828125, 2042.5040283203125, 2079.224365234375, 2051.549560546875, 2058.570068359375, 2086.370361328125, 2078.9072265625, 2158.611572265625, 2040.803955078125, 2024.7415771484375], \"yaxis\": \"y\"}],\n",
              "                        {\"legend\": {\"tracegroupgap\": 0}, \"margin\": {\"t\": 60}, \"template\": {\"data\": {\"bar\": [{\"error_x\": {\"color\": \"rgb(36,36,36)\"}, \"error_y\": {\"color\": \"rgb(36,36,36)\"}, \"marker\": {\"line\": {\"color\": \"white\", \"width\": 0.5}}, \"type\": \"bar\"}], \"barpolar\": [{\"marker\": {\"line\": {\"color\": \"white\", \"width\": 0.5}}, \"type\": \"barpolar\"}], \"carpet\": [{\"aaxis\": {\"endlinecolor\": \"rgb(36,36,36)\", \"gridcolor\": \"white\", \"linecolor\": \"white\", \"minorgridcolor\": \"white\", \"startlinecolor\": \"rgb(36,36,36)\"}, \"baxis\": {\"endlinecolor\": \"rgb(36,36,36)\", \"gridcolor\": \"white\", \"linecolor\": \"white\", \"minorgridcolor\": \"white\", \"startlinecolor\": \"rgb(36,36,36)\"}, \"type\": \"carpet\"}], \"choropleth\": [{\"colorbar\": {\"outlinewidth\": 10, \"tickcolor\": \"rgb(36,36,36)\", \"ticklen\": 8, \"ticks\": \"outside\", \"tickwidth\": 2}, \"type\": \"choropleth\"}], \"contour\": [{\"colorbar\": {\"outlinewidth\": 10, \"tickcolor\": \"rgb(36,36,36)\", \"ticklen\": 8, \"ticks\": \"outside\", \"tickwidth\": 2}, \"colorscale\": [[0.0, \"#440154\"], [0.1111111111111111, \"#482878\"], [0.2222222222222222, \"#3e4989\"], [0.3333333333333333, \"#31688e\"], [0.4444444444444444, \"#26828e\"], [0.5555555555555556, \"#1f9e89\"], [0.6666666666666666, \"#35b779\"], [0.7777777777777778, \"#6ece58\"], [0.8888888888888888, \"#b5de2b\"], [1.0, \"#fde725\"]], \"type\": \"contour\"}], \"contourcarpet\": [{\"colorbar\": {\"outlinewidth\": 10, \"tickcolor\": \"rgb(36,36,36)\", \"ticklen\": 8, \"ticks\": \"outside\", \"tickwidth\": 2}, \"type\": \"contourcarpet\"}], \"heatmap\": [{\"colorbar\": {\"outlinewidth\": 10, \"tickcolor\": \"rgb(36,36,36)\", \"ticklen\": 8, \"ticks\": \"outside\", \"tickwidth\": 2}, \"colorscale\": [[0.0, \"#440154\"], [0.1111111111111111, \"#482878\"], [0.2222222222222222, \"#3e4989\"], [0.3333333333333333, \"#31688e\"], [0.4444444444444444, \"#26828e\"], [0.5555555555555556, \"#1f9e89\"], [0.6666666666666666, \"#35b779\"], [0.7777777777777778, \"#6ece58\"], [0.8888888888888888, \"#b5de2b\"], [1.0, \"#fde725\"]], \"type\": \"heatmap\"}], \"heatmapgl\": [{\"colorbar\": {\"outlinewidth\": 10, \"tickcolor\": \"rgb(36,36,36)\", \"ticklen\": 8, \"ticks\": \"outside\", \"tickwidth\": 2}, \"colorscale\": [[0.0, \"#440154\"], [0.1111111111111111, \"#482878\"], [0.2222222222222222, \"#3e4989\"], [0.3333333333333333, \"#31688e\"], [0.4444444444444444, \"#26828e\"], [0.5555555555555556, \"#1f9e89\"], [0.6666666666666666, \"#35b779\"], [0.7777777777777778, \"#6ece58\"], [0.8888888888888888, \"#b5de2b\"], [1.0, \"#fde725\"]], \"type\": \"heatmapgl\"}], \"histogram\": [{\"marker\": {\"line\": {\"color\": \"white\", \"width\": 0.6}}, \"type\": \"histogram\"}], \"histogram2d\": [{\"colorbar\": {\"outlinewidth\": 10, \"tickcolor\": \"rgb(36,36,36)\", \"ticklen\": 8, \"ticks\": \"outside\", \"tickwidth\": 2}, \"colorscale\": [[0.0, \"#440154\"], [0.1111111111111111, \"#482878\"], [0.2222222222222222, \"#3e4989\"], [0.3333333333333333, \"#31688e\"], [0.4444444444444444, \"#26828e\"], [0.5555555555555556, \"#1f9e89\"], [0.6666666666666666, \"#35b779\"], [0.7777777777777778, \"#6ece58\"], [0.8888888888888888, \"#b5de2b\"], [1.0, \"#fde725\"]], \"type\": \"histogram2d\"}], \"histogram2dcontour\": [{\"colorbar\": {\"outlinewidth\": 10, \"tickcolor\": \"rgb(36,36,36)\", \"ticklen\": 8, \"ticks\": \"outside\", \"tickwidth\": 2}, \"colorscale\": [[0.0, \"#440154\"], [0.1111111111111111, \"#482878\"], [0.2222222222222222, \"#3e4989\"], [0.3333333333333333, \"#31688e\"], [0.4444444444444444, \"#26828e\"], [0.5555555555555556, \"#1f9e89\"], [0.6666666666666666, \"#35b779\"], [0.7777777777777778, \"#6ece58\"], [0.8888888888888888, \"#b5de2b\"], [1.0, \"#fde725\"]], \"type\": \"histogram2dcontour\"}], \"mesh3d\": [{\"colorbar\": {\"outlinewidth\": 10, \"tickcolor\": \"rgb(36,36,36)\", \"ticklen\": 8, \"ticks\": \"outside\", \"tickwidth\": 2}, \"type\": \"mesh3d\"}], \"parcoords\": [{\"line\": {\"colorbar\": {\"outlinewidth\": 10, \"tickcolor\": \"rgb(36,36,36)\", \"ticklen\": 8, \"ticks\": \"outside\", \"tickwidth\": 2}}, \"type\": \"parcoords\"}], \"pie\": [{\"automargin\": true, \"type\": \"pie\"}], \"scatter\": [{\"marker\": {\"colorbar\": {\"outlinewidth\": 10, \"tickcolor\": \"rgb(36,36,36)\", \"ticklen\": 8, \"ticks\": \"outside\", \"tickwidth\": 2}}, \"type\": \"scatter\"}], \"scatter3d\": [{\"line\": {\"colorbar\": {\"outlinewidth\": 10, \"tickcolor\": \"rgb(36,36,36)\", \"ticklen\": 8, \"ticks\": \"outside\", \"tickwidth\": 2}}, \"marker\": {\"colorbar\": {\"outlinewidth\": 10, \"tickcolor\": \"rgb(36,36,36)\", \"ticklen\": 8, \"ticks\": \"outside\", \"tickwidth\": 2}}, \"type\": \"scatter3d\"}], \"scattercarpet\": [{\"marker\": {\"colorbar\": {\"outlinewidth\": 10, \"tickcolor\": \"rgb(36,36,36)\", \"ticklen\": 8, \"ticks\": \"outside\", \"tickwidth\": 2}}, \"type\": \"scattercarpet\"}], \"scattergeo\": [{\"marker\": {\"colorbar\": {\"outlinewidth\": 10, \"tickcolor\": \"rgb(36,36,36)\", \"ticklen\": 8, \"ticks\": \"outside\", \"tickwidth\": 2}}, \"type\": \"scattergeo\"}], \"scattergl\": [{\"marker\": {\"colorbar\": {\"outlinewidth\": 10, \"tickcolor\": \"rgb(36,36,36)\", \"ticklen\": 8, \"ticks\": \"outside\", \"tickwidth\": 2}}, \"type\": \"scattergl\"}], \"scattermapbox\": [{\"marker\": {\"colorbar\": {\"outlinewidth\": 10, \"tickcolor\": \"rgb(36,36,36)\", \"ticklen\": 8, \"ticks\": \"outside\", \"tickwidth\": 2}}, \"type\": \"scattermapbox\"}], \"scatterpolar\": [{\"marker\": {\"colorbar\": {\"outlinewidth\": 10, \"tickcolor\": \"rgb(36,36,36)\", \"ticklen\": 8, \"ticks\": \"outside\", \"tickwidth\": 2}}, \"type\": \"scatterpolar\"}], \"scatterpolargl\": [{\"marker\": {\"colorbar\": {\"outlinewidth\": 10, \"tickcolor\": \"rgb(36,36,36)\", \"ticklen\": 8, \"ticks\": \"outside\", \"tickwidth\": 2}}, \"type\": \"scatterpolargl\"}], \"scatterternary\": [{\"marker\": {\"colorbar\": {\"outlinewidth\": 10, \"tickcolor\": \"rgb(36,36,36)\", \"ticklen\": 8, \"ticks\": \"outside\", \"tickwidth\": 2}}, \"type\": \"scatterternary\"}], \"surface\": [{\"colorbar\": {\"outlinewidth\": 10, \"tickcolor\": \"rgb(36,36,36)\", \"ticklen\": 8, \"ticks\": \"outside\", \"tickwidth\": 2}, \"colorscale\": [[0.0, \"#440154\"], [0.1111111111111111, \"#482878\"], [0.2222222222222222, \"#3e4989\"], [0.3333333333333333, \"#31688e\"], [0.4444444444444444, \"#26828e\"], [0.5555555555555556, \"#1f9e89\"], [0.6666666666666666, \"#35b779\"], [0.7777777777777778, \"#6ece58\"], [0.8888888888888888, \"#b5de2b\"], [1.0, \"#fde725\"]], \"type\": \"surface\"}], \"table\": [{\"cells\": {\"fill\": {\"color\": \"rgb(237,237,237)\"}, \"line\": {\"color\": \"white\"}}, \"header\": {\"fill\": {\"color\": \"rgb(217,217,217)\"}, \"line\": {\"color\": \"white\"}}, \"type\": \"table\"}]}, \"layout\": {\"annotationdefaults\": {\"arrowhead\": 0, \"arrowwidth\": 1}, \"coloraxis\": {\"colorbar\": {\"outlinewidth\": 10, \"tickcolor\": \"rgb(36,36,36)\", \"ticklen\": 8, \"ticks\": \"outside\", \"tickwidth\": 2}}, \"colorscale\": {\"diverging\": [[0.0, \"rgb(103,0,31)\"], [0.1, \"rgb(178,24,43)\"], [0.2, \"rgb(214,96,77)\"], [0.3, \"rgb(244,165,130)\"], [0.4, \"rgb(253,219,199)\"], [0.5, \"rgb(247,247,247)\"], [0.6, \"rgb(209,229,240)\"], [0.7, \"rgb(146,197,222)\"], [0.8, \"rgb(67,147,195)\"], [0.9, \"rgb(33,102,172)\"], [1.0, \"rgb(5,48,97)\"]], \"sequential\": [[0.0, \"#440154\"], [0.1111111111111111, \"#482878\"], [0.2222222222222222, \"#3e4989\"], [0.3333333333333333, \"#31688e\"], [0.4444444444444444, \"#26828e\"], [0.5555555555555556, \"#1f9e89\"], [0.6666666666666666, \"#35b779\"], [0.7777777777777778, \"#6ece58\"], [0.8888888888888888, \"#b5de2b\"], [1.0, \"#fde725\"]], \"sequentialminus\": [[0.0, \"#440154\"], [0.1111111111111111, \"#482878\"], [0.2222222222222222, \"#3e4989\"], [0.3333333333333333, \"#31688e\"], [0.4444444444444444, \"#26828e\"], [0.5555555555555556, \"#1f9e89\"], [0.6666666666666666, \"#35b779\"], [0.7777777777777778, \"#6ece58\"], [0.8888888888888888, \"#b5de2b\"], [1.0, \"#fde725\"]]}, \"colorway\": [\"#1F77B4\", \"#FF7F0E\", \"#2CA02C\", \"#D62728\", \"#9467BD\", \"#8C564B\", \"#E377C2\", \"#7F7F7F\", \"#BCBD22\", \"#17BECF\"], \"font\": {\"color\": \"rgb(36,36,36)\"}, \"geo\": {\"bgcolor\": \"white\", \"lakecolor\": \"white\", \"landcolor\": \"white\", \"showlakes\": true, \"showland\": true, \"subunitcolor\": \"white\"}, \"hoverlabel\": {\"align\": \"left\"}, \"hovermode\": \"closest\", \"mapbox\": {\"style\": \"light\"}, \"paper_bgcolor\": \"white\", \"plot_bgcolor\": \"white\", \"polar\": {\"angularaxis\": {\"gridcolor\": \"rgb(232,232,232)\", \"linecolor\": \"rgb(36,36,36)\", \"showgrid\": false, \"showline\": true, \"ticks\": \"outside\"}, \"bgcolor\": \"white\", \"radialaxis\": {\"gridcolor\": \"rgb(232,232,232)\", \"linecolor\": \"rgb(36,36,36)\", \"showgrid\": false, \"showline\": true, \"ticks\": \"outside\"}}, \"scene\": {\"xaxis\": {\"backgroundcolor\": \"white\", \"gridcolor\": \"rgb(232,232,232)\", \"gridwidth\": 2, \"linecolor\": \"rgb(36,36,36)\", \"showbackground\": true, \"showgrid\": false, \"showline\": true, \"ticks\": \"outside\", \"zeroline\": false, \"zerolinecolor\": \"rgb(36,36,36)\"}, \"yaxis\": {\"backgroundcolor\": \"white\", \"gridcolor\": \"rgb(232,232,232)\", \"gridwidth\": 2, \"linecolor\": \"rgb(36,36,36)\", \"showbackground\": true, \"showgrid\": false, \"showline\": true, \"ticks\": \"outside\", \"zeroline\": false, \"zerolinecolor\": \"rgb(36,36,36)\"}, \"zaxis\": {\"backgroundcolor\": \"white\", \"gridcolor\": \"rgb(232,232,232)\", \"gridwidth\": 2, \"linecolor\": \"rgb(36,36,36)\", \"showbackground\": true, \"showgrid\": false, \"showline\": true, \"ticks\": \"outside\", \"zeroline\": false, \"zerolinecolor\": \"rgb(36,36,36)\"}}, \"shapedefaults\": {\"fillcolor\": \"black\", \"line\": {\"width\": 0}, \"opacity\": 0.3}, \"ternary\": {\"aaxis\": {\"gridcolor\": \"rgb(232,232,232)\", \"linecolor\": \"rgb(36,36,36)\", \"showgrid\": false, \"showline\": true, \"ticks\": \"outside\"}, \"baxis\": {\"gridcolor\": \"rgb(232,232,232)\", \"linecolor\": \"rgb(36,36,36)\", \"showgrid\": false, \"showline\": true, \"ticks\": \"outside\"}, \"bgcolor\": \"white\", \"caxis\": {\"gridcolor\": \"rgb(232,232,232)\", \"linecolor\": \"rgb(36,36,36)\", \"showgrid\": false, \"showline\": true, \"ticks\": \"outside\"}}, \"title\": {\"x\": 0.05}, \"xaxis\": {\"automargin\": true, \"gridcolor\": \"rgb(232,232,232)\", \"linecolor\": \"rgb(36,36,36)\", \"showgrid\": false, \"showline\": true, \"ticks\": \"outside\", \"title\": {\"standoff\": 15}, \"zeroline\": false, \"zerolinecolor\": \"rgb(36,36,36)\"}, \"yaxis\": {\"automargin\": true, \"gridcolor\": \"rgb(232,232,232)\", \"linecolor\": \"rgb(36,36,36)\", \"showgrid\": false, \"showline\": true, \"ticks\": \"outside\", \"title\": {\"standoff\": 15}, \"zeroline\": false, \"zerolinecolor\": \"rgb(36,36,36)\"}}}, \"xaxis\": {\"anchor\": \"y\", \"domain\": [0.0, 1.0], \"title\": {\"text\": \"EPOCHS\"}}, \"yaxis\": {\"anchor\": \"x\", \"domain\": [0.0, 1.0], \"title\": {\"text\": \" MEAN ABSOLUTE ERROR\"}}},\n",
              "                        {\"responsive\": true}\n",
              "                    ).then(function(){\n",
              "                            \n",
              "var gd = document.getElementById('f9c11dd0-49da-43eb-b297-88490be8e9ce');\n",
              "var x = new MutationObserver(function (mutations, observer) {{\n",
              "        var display = window.getComputedStyle(gd).display;\n",
              "        if (!display || display === 'none') {{\n",
              "            console.log([gd, 'removed!']);\n",
              "            Plotly.purge(gd);\n",
              "            observer.disconnect();\n",
              "        }}\n",
              "}});\n",
              "\n",
              "// Listen for the removal of the full notebook cells\n",
              "var notebookContainer = gd.closest('#notebook-container');\n",
              "if (notebookContainer) {{\n",
              "    x.observe(notebookContainer, {childList: true});\n",
              "}}\n",
              "\n",
              "// Listen for the clearing of the current output cell\n",
              "var outputEl = gd.closest('.output');\n",
              "if (outputEl) {{\n",
              "    x.observe(outputEl, {childList: true});\n",
              "}}\n",
              "\n",
              "                        })\n",
              "                };\n",
              "                \n",
              "            </script>\n",
              "        </div>\n",
              "</body>\n",
              "</html>"
            ]
          },
          "metadata": {
            "tags": []
          }
        }
      ]
    },
    {
      "cell_type": "markdown",
      "metadata": {
        "id": "mRUFyir-5N4b"
      },
      "source": [
        "Based on this graph, we can conclude a few things:\n",
        "\n",
        "\n",
        "1.   MAE drops relativelly quickly, which means that everything is okay with this neural network\n",
        "2.   Then it probably gets stuck in some part of the function\n",
        "3.   Then, a new sudden drop occurrs\n",
        "4.   MAE is pretty stable after 100 epochs\n",
        "\n",
        "\n",
        "So, how do we know when to stop the training? The answer to that question is **[early stopping](https://www.tensorflow.org/api_docs/python/tf/keras/callbacks/EarlyStopping)**. In essence, we stop it once it stops improving the certain metric.\n",
        "\n"
      ]
    },
    {
      "cell_type": "markdown",
      "metadata": {
        "id": "Ir7tZxuV63RO"
      },
      "source": [
        "### Preprocessing Data (Normalization and Standardization)"
      ]
    },
    {
      "cell_type": "markdown",
      "metadata": {
        "id": "SUP6_Hnw0kNU"
      },
      "source": [
        "In order to make the training of a neural network faster (and to even get better results) is to scale features. In other words, we can normalize or standardize features. "
      ]
    },
    {
      "cell_type": "code",
      "metadata": {
        "colab": {
          "base_uri": "https://localhost:8080/",
          "height": 282
        },
        "id": "IGajnmtP07pV",
        "outputId": "bd71c8f0-4d85-4339-f672-736d92c4cca9"
      },
      "source": [
        "# Let's create some histograms\n",
        "X['age'].plot(kind = 'hist')\n"
      ],
      "execution_count": 39,
      "outputs": [
        {
          "output_type": "execute_result",
          "data": {
            "text/plain": [
              "<matplotlib.axes._subplots.AxesSubplot at 0x7f5bba90aa90>"
            ]
          },
          "metadata": {
            "tags": []
          },
          "execution_count": 39
        },
        {
          "output_type": "display_data",
          "data": {
            "image/png": "[encoded data removed]",
            "text/plain": [
              "<Figure size 432x288 with 1 Axes>"
            ]
          },
          "metadata": {
            "tags": [],
            "needs_background": "light"
          }
        }
      ]
    },
    {
      "cell_type": "code",
      "metadata": {
        "colab": {
          "base_uri": "https://localhost:8080/",
          "height": 282
        },
        "id": "_QsnrzvP1xkR",
        "outputId": "e1ad96ef-f747-42a3-847f-4c62b24f457d"
      },
      "source": [
        "X['bmi'].plot(kind = 'hist')"
      ],
      "execution_count": 40,
      "outputs": [
        {
          "output_type": "execute_result",
          "data": {
            "text/plain": [
              "<matplotlib.axes._subplots.AxesSubplot at 0x7f5bba88dc90>"
            ]
          },
          "metadata": {
            "tags": []
          },
          "execution_count": 40
        },
        {
          "output_type": "display_data",
          "data": {
            "image/png": "[encoded data removed]",
            "text/plain": [
              "<Figure size 432x288 with 1 Axes>"
            ]
          },
          "metadata": {
            "tags": [],
            "needs_background": "light"
          }
        }
      ]
    },
    {
      "cell_type": "markdown",
      "metadata": {
        "id": "4Q40mUNR1zYN"
      },
      "source": [
        "We can clearly see these variables have completely different scales, which is fine. However, it would be much better if we normalize them, or convert all values to between 0 and 1 while reserving the original distribution of our data. That way, we have the same range of each variable and the training of a neural network would be much faster.\n",
        "\n",
        "We can do that with `MinMaxScaler` from `sklearn` and normalization is used as a default scaler with neural networks. On the other hand, we can standardize variables using `StandardScaler` from `sklearn`. "
      ]
    },
    {
      "cell_type": "code",
      "metadata": {
        "id": "3F6NumjW2R_n"
      },
      "source": [
        "from sklearn.compose import make_column_transformer\n",
        "from sklearn.preprocessing import MinMaxScaler, OneHotEncoder "
      ],
      "execution_count": 41,
      "outputs": []
    },
    {
      "cell_type": "code",
      "metadata": {
        "id": "nYp8LQox3AVL"
      },
      "source": [
        "# Create a column transformer\n",
        "column_transformer = make_column_transformer(\n",
        "    (MinMaxScaler(), ['age', 'bmi', 'children']),\n",
        "    (OneHotEncoder(handle_unknown = 'ignore'), ['sex', 'smoker', 'region']))\n",
        "\n",
        "# Create X and y\n",
        "X = insurance.drop('charges', axis = 1)\n",
        "y = insurance['charges']\n",
        "\n",
        "# Get train and test data\n",
        "from sklearn.model_selection import train_test_split \n",
        "X_train, X_test, y_train, y_test = train_test_split(X, y, test_size = 0.2, random_state = 42)\n",
        "\n",
        "# Fit the column transformer to our training data\n",
        "# We want to fit to training data and use that fit for the test data as well\n",
        "column_transformer.fit(X_train)\n",
        "\n",
        "# Normalize training and test data \n",
        "X_train_normal = column_transformer.transform(X_train)\n",
        "X_test_normal = column_transformer.transform(X_test)"
      ],
      "execution_count": 42,
      "outputs": []
    },
    {
      "cell_type": "code",
      "metadata": {
        "colab": {
          "base_uri": "https://localhost:8080/",
          "height": 204
        },
        "id": "0b0XMvGq31Bt",
        "outputId": "e5a054c0-6a7d-45d0-8f79-f918f6cad10f"
      },
      "source": [
        "X_train.iloc[:5, :]"
      ],
      "execution_count": 43,
      "outputs": [
        {
          "output_type": "execute_result",
          "data": {
            "text/html": [
              "<div>\n",
              "<style scoped>\n",
              "    .dataframe tbody tr th:only-of-type {\n",
              "        vertical-align: middle;\n",
              "    }\n",
              "\n",
              "    .dataframe tbody tr th {\n",
              "        vertical-align: top;\n",
              "    }\n",
              "\n",
              "    .dataframe thead th {\n",
              "        text-align: right;\n",
              "    }\n",
              "</style>\n",
              "<table border=\"1\" class=\"dataframe\">\n",
              "  <thead>\n",
              "    <tr style=\"text-align: right;\">\n",
              "      <th></th>\n",
              "      <th>age</th>\n",
              "      <th>sex</th>\n",
              "      <th>bmi</th>\n",
              "      <th>children</th>\n",
              "      <th>smoker</th>\n",
              "      <th>region</th>\n",
              "    </tr>\n",
              "  </thead>\n",
              "  <tbody>\n",
              "    <tr>\n",
              "      <th>560</th>\n",
              "      <td>46</td>\n",
              "      <td>female</td>\n",
              "      <td>19.95</td>\n",
              "      <td>2</td>\n",
              "      <td>no</td>\n",
              "      <td>northwest</td>\n",
              "    </tr>\n",
              "    <tr>\n",
              "      <th>1285</th>\n",
              "      <td>47</td>\n",
              "      <td>female</td>\n",
              "      <td>24.32</td>\n",
              "      <td>0</td>\n",
              "      <td>no</td>\n",
              "      <td>northeast</td>\n",
              "    </tr>\n",
              "    <tr>\n",
              "      <th>1142</th>\n",
              "      <td>52</td>\n",
              "      <td>female</td>\n",
              "      <td>24.86</td>\n",
              "      <td>0</td>\n",
              "      <td>no</td>\n",
              "      <td>southeast</td>\n",
              "    </tr>\n",
              "    <tr>\n",
              "      <th>969</th>\n",
              "      <td>39</td>\n",
              "      <td>female</td>\n",
              "      <td>34.32</td>\n",
              "      <td>5</td>\n",
              "      <td>no</td>\n",
              "      <td>southeast</td>\n",
              "    </tr>\n",
              "    <tr>\n",
              "      <th>486</th>\n",
              "      <td>54</td>\n",
              "      <td>female</td>\n",
              "      <td>21.47</td>\n",
              "      <td>3</td>\n",
              "      <td>no</td>\n",
              "      <td>northwest</td>\n",
              "    </tr>\n",
              "  </tbody>\n",
              "</table>\n",
              "</div>"
            ],
            "text/plain": [
              "      age     sex    bmi  children smoker     region\n",
              "560    46  female  19.95         2     no  northwest\n",
              "1285   47  female  24.32         0     no  northeast\n",
              "1142   52  female  24.86         0     no  southeast\n",
              "969    39  female  34.32         5     no  southeast\n",
              "486    54  female  21.47         3     no  northwest"
            ]
          },
          "metadata": {
            "tags": []
          },
          "execution_count": 43
        }
      ]
    },
    {
      "cell_type": "code",
      "metadata": {
        "colab": {
          "base_uri": "https://localhost:8080/"
        },
        "id": "H4BI70_-5E5U",
        "outputId": "1e4c5d6b-2392-4582-e237-dcde308f0895"
      },
      "source": [
        "X_train_normal[:5, :]"
      ],
      "execution_count": 44,
      "outputs": [
        {
          "output_type": "execute_result",
          "data": {
            "text/plain": [
              "array([[0.60869565, 0.10734463, 0.4       , 1.        , 0.        ,\n",
              "        1.        , 0.        , 0.        , 1.        , 0.        ,\n",
              "        0.        ],\n",
              "       [0.63043478, 0.22491256, 0.        , 1.        , 0.        ,\n",
              "        1.        , 0.        , 1.        , 0.        , 0.        ,\n",
              "        0.        ],\n",
              "       [0.73913043, 0.23944041, 0.        , 1.        , 0.        ,\n",
              "        1.        , 0.        , 0.        , 0.        , 1.        ,\n",
              "        0.        ],\n",
              "       [0.45652174, 0.49394673, 1.        , 1.        , 0.        ,\n",
              "        1.        , 0.        , 0.        , 0.        , 1.        ,\n",
              "        0.        ],\n",
              "       [0.7826087 , 0.14823783, 0.6       , 1.        , 0.        ,\n",
              "        1.        , 0.        , 0.        , 1.        , 0.        ,\n",
              "        0.        ]])"
            ]
          },
          "metadata": {
            "tags": []
          },
          "execution_count": 44
        }
      ]
    },
    {
      "cell_type": "markdown",
      "metadata": {
        "id": "CkqhfAMO5JMd"
      },
      "source": [
        "Okay, so we have normalized features, Let's build the same neural network model and compare the results!"
      ]
    },
    {
      "cell_type": "code",
      "metadata": {
        "id": "s6S7jdXt5xNw"
      },
      "source": [
        "# USING MAE AS THE LOSS FUNCTION\n",
        "tf.random.set_seed(42)\n",
        "insurance_model3 = tf.keras.Sequential(name = 'Insurance_Model')\n",
        "for i in range(10):\n",
        "  insurance_model3.add(tf.keras.layers.Dense(100, activation = 'relu'))\n",
        "insurance_model3.add(tf.keras.layers.Dense(1))\n",
        "\n",
        "insurance_model3.compile(\n",
        "    loss = tf.keras.losses.mae, \n",
        "    optimizer = tf.keras.optimizers.Adam(learning_rate = 0.0001),\n",
        "    metrics = ['mae']\n",
        ")\n",
        "\n",
        "history = insurance_model3.fit(X_train_normal, y_train, epochs = 300, verbose = 0) # putting inside history variable so that we can plot the training"
      ],
      "execution_count": 46,
      "outputs": []
    },
    {
      "cell_type": "code",
      "metadata": {
        "colab": {
          "base_uri": "https://localhost:8080/",
          "height": 265
        },
        "id": "yETGwrc86ELq",
        "outputId": "beba945d-3c16-4ca8-a43d-aa25d2c6b10a"
      },
      "source": [
        "plt.scatter(insurance_model3.predict(X_test_normal), y_test);"
      ],
      "execution_count": 47,
      "outputs": [
        {
          "output_type": "display_data",
          "data": {
            "image/png": "[encoded data removed]",
            "text/plain": [
              "<Figure size 432x288 with 1 Axes>"
            ]
          },
          "metadata": {
            "tags": [],
            "needs_background": "light"
          }
        }
      ]
    },
    {
      "cell_type": "code",
      "metadata": {
        "colab": {
          "base_uri": "https://localhost:8080/"
        },
        "id": "pM215LQ056b0",
        "outputId": "3d606418-7741-475a-b85b-fe71301924a5"
      },
      "source": [
        "results = evaluate_nn(y_test, tf.squeeze(insurance_model3.predict(X_test_normal)))\n",
        "print('MAE AS THE LOSS FUNCTION:')\n",
        "print('MAE: ', results[0])\n",
        "print('MSE: ', results[1])\n",
        "print('Huber: ', results[2])"
      ],
      "execution_count": 48,
      "outputs": [
        {
          "output_type": "stream",
          "text": [
            "MAE AS THE LOSS FUNCTION:\n",
            "MAE:  1707.9042\n",
            "MSE:  20495986.0\n",
            "Huber:  1707.4065\n"
          ],
          "name": "stdout"
        }
      ]
    },
    {
      "cell_type": "code",
      "metadata": {
        "colab": {
          "base_uri": "https://localhost:8080/",
          "height": 296
        },
        "id": "eps3JxWI5-X8",
        "outputId": "45dab4ca-4b71-4d84-b6b9-6c3f4fffb9be"
      },
      "source": [
        "# Let's plot the history of the second model\n",
        "loss_history = pd.DataFrame(history.history)\n",
        "loss_history.plot()\n",
        "plt.ylabel('Loss')\n",
        "plt.xlabel('Epochs')"
      ],
      "execution_count": 49,
      "outputs": [
        {
          "output_type": "execute_result",
          "data": {
            "text/plain": [
              "Text(0.5, 0, 'Epochs')"
            ]
          },
          "metadata": {
            "tags": []
          },
          "execution_count": 49
        },
        {
          "output_type": "display_data",
          "data": {
            "image/png": "[encoded data removed]",
            "text/plain": [
              "<Figure size 432x288 with 1 Axes>"
            ]
          },
          "metadata": {
            "tags": [],
            "needs_background": "light"
          }
        }
      ]
    },
    {
      "cell_type": "markdown",
      "metadata": {
        "id": "vekcItXR6J0m"
      },
      "source": [
        "Now this is really beautiful! \n",
        "First of all, we can see that the convergence of the algorithm is much smoother - we don't have that plateu we had with non-normalized features! In other words, in this situation the training is much better and faster! Second of all, MAE is a bit lower that in the previous model! More specifically, it is lower by ~$80. \n",
        "\n",
        "This is what we want - to speed up the training of our model and to get even better results with the same configurations!"
      ]
    },
    {
      "cell_type": "code",
      "metadata": {
        "id": "-QkIE5bW6lYq"
      },
      "source": [
        ""
      ],
      "execution_count": 49,
      "outputs": []
    }
  ]
}