{
  "nbformat": 4,
  "nbformat_minor": 0,
  "metadata": {
    "colab": {
      "name": "TensorFlow.ipynb",
      "provenance": [],
      "collapsed_sections": [
        "FpAFduYWbqjH"
      ],
      "toc_visible": true,
      "authorship_tag": "ABX9TyPAsdaASAWXzX0UJE3L/6MQ",
      "include_colab_link": true
    },
    "kernelspec": {
      "name": "python3",
      "display_name": "Python 3"
    },
    "language_info": {
      "name": "python"
    }
  },
  "cells": [
    {
      "cell_type": "markdown",
      "metadata": {
        "id": "view-in-github",
        "colab_type": "text"
      },
      "source": [
        "<a href=\"https://colab.research.google.com/github/emirdemic/Learning-TensorFlow/blob/main/TensorFlow.ipynb\" target=\"_parent\"><img src=\"https://colab.research.google.com/assets/colab-badge.svg\" alt=\"Open In Colab\"/></a>"
      ]
    },
    {
      "cell_type": "markdown",
      "metadata": {
        "id": "LW4TltI3ZTTk"
      },
      "source": [
        "# **TensorFlow Tutorial**\n",
        "\n",
        "\n",
        "\n",
        "This notebook contains practices and notes from Daniel Bourke's 14 hours long tutorial on TensorFlow 2.0. This notebook is separated into different parts in accordance to how Daniel's video is split. \n",
        "\n",
        "Note that this notebook also contains some trivial theory and/or code, but I've decided to insert that as well since I wanted the notebook to be as representative of the tutorial as possible.\n",
        "\n",
        "If you want to run some chunk of code, please run all the code included in that section.\n",
        "\n",
        "\n",
        "---\n",
        "\n",
        "\n",
        "\n",
        "\n"
      ]
    },
    {
      "cell_type": "markdown",
      "metadata": {
        "id": "W__oxrb8cS1_"
      },
      "source": [
        "## Introduction to DL"
      ]
    },
    {
      "cell_type": "markdown",
      "metadata": {
        "id": "-Adb-jnSaES1"
      },
      "source": [
        "### Deap Learning\n",
        "\n",
        "\n",
        "Deep learning is a type of machine learning based on artificial neural networks in which multiple layers of processing are used to extract progressively higher level features from data. \n",
        "\n",
        "So what is the difference between a traditional programming and machine learning programmings? In a traditional programming, we have some inputs, then we establish some rules in order to get the output. However, in machine learning, we start with inputs and the ideal outputs and then we try to find some rules between inputs and outputs. How do we find those rules? Well, we use machine learning algorithms such as linear regression, logistic regression, SVM, etc. "
      ]
    },
    {
      "cell_type": "markdown",
      "metadata": {
        "id": "FpAFduYWbqjH"
      },
      "source": [
        "### Why Should We Use Deep learning?\n",
        "\n",
        "For complex problems, thinking about all the rules is nearly impossible. Furthermore, when we take into account that those rule might change in different situations, it becomes impossible to solve some problems using traditional programming paradigms. However, if we can build a simple rule-based system that doesn't require deep learning, then don't use deep learning. If a problem is completely deterministic with a finite set of rules, deep learning is a over-kill or could even underperform in comparison to a traditional programming paradigm. \n",
        "\n",
        "Deep learning is useful when we have problems with long lists of rules, when we are continually chaning environments, or when we want to discover insights within large collections of data.\n",
        "\n",
        "In which situations *deep learning* is typically not that good for? The first one is when we need explainability of our model. Futhermore, deep learning is probably not a best option when the traditional approach is a better option, when errors are unacceptable, or when we don't have much data. \n",
        "<br></br>\n",
        "So, when to use traditional ML algorithms and when to use DL algorithms? Traditional ML algorithms are often the best choice for structured data, while DL algorithms often outperform traditional ML algorithms on unstructured data (pictures, videos, sentences, etc.). "
      ]
    },
    {
      "cell_type": "markdown",
      "metadata": {
        "id": "E6wFK_L7rWDC"
      },
      "source": [
        "### What are Neural Networks?\n",
        "\n"
      ]
    },
    {
      "cell_type": "markdown",
      "metadata": {
        "id": "-PYKDD9-jsfc"
      },
      "source": [
        "A neural network is a network or circuit of neurons, or in a modern sense, an artificial neural network composed of artificial neurons or nodes. \n",
        "<br></br>\n",
        "\n",
        "<div style=\"text-align:center\"><img src=\"https://www.nicepng.com/png/detail/880-8805864_neural-networks-are-a-set-of-algorithms-which.png\" /></div>\n",
        "\n",
        "\n",
        "In the picture above, the first column represent the input data, while the last column represent the output. Everything in between those columns are *hideen layers*. Each node in a hidden layer is an activation of combination of nodes in the previous layer. \n",
        "\n",
        "What does that mean? Let's say that in this example, we have four input variables. All those four input variables are combined in order to get the first node of the first hidden layer, as well as the second, third and fourth node of the first hidden layer.\n",
        "\n",
        "How do we combine nodes from the previous layer? We use a simple linear combination. For example, the linear combination for the first node in the first hidden layer is given by:\n",
        "\n",
        "$$\n",
        "\\begin{aligned}\n",
        "z_{1}^{[1]} = w_{1}^{[1]T}x + b_{1}^{[1]}\n",
        "\\end{aligned}\n",
        "$$\n",
        "\n",
        "where $w_{1}^{[1]T}$ is the vector with adequate weights, $x$ are features from the previous layer, and $b_{1}^{[1]}$ is the bias for that node. In this notation, subscripts refer to the specific node, while the superscripts refer to the specific hidden layer. After we get the linear combination, we need to have some kind of *activation function* in order to approximate more complicated function. If we do not apply some activation function, our neural network will always approcimate linear functions regardless of the number of hidden layers.\n",
        "\n",
        "Some popular choices for activation functions are sigmoid function, hyperbolic tangent function, rectified lienar unit (ReLU), and leaky rectified linear unit (LReLU):\n",
        "\n",
        "$$\n",
        "\\begin{aligned}\n",
        "sigmoid = \\frac{1}{1 + e^{-z}}\n",
        "\\end{aligned}\n",
        "$$\n",
        "<br>\n",
        "$$\n",
        "\\begin{aligned}\n",
        "hyperbolic = \\frac{e^z - e^{-z}}{e^z + e^{-z}}\n",
        "\\end{aligned}\n",
        "$$\n",
        "<br>\n",
        "$$\n",
        "\\begin{aligned}\n",
        "ReLU = max(0, z)\n",
        "\\end{aligned}\n",
        "$$\n",
        "<br>\n",
        "$$\n",
        "\\begin{aligned}\n",
        "LReLU = max(0.01 * z, z)\n",
        "\\end{aligned}\n",
        "$$\n",
        "<br>\n",
        "After we choose a specific activation function, all that we need to do for the specific node of the specific hidden layer is to calculate:\n",
        "\n",
        "$$\n",
        "\\begin{aligned}\n",
        "a_{1}^{[1]} = g(z)\n",
        "\\end{aligned}\n",
        "$$\n",
        "\n",
        "where *g* is the activation function. After that, we do the same calculation for each node of the first hidden layer and we get the activation of the first hidden layer. Now, combinations of activations of the first hidden layers are inputs for the second layer, and so on until we get to the final layer - the output layer.\n",
        "\n",
        "Having that in mind, the first thing that we would be tempted to do is to create a `for loop` in order to calculate the activations of the first hidden layer. However, that would be computationally inefficient since we can combine all nodes of one hidden layer, weights, and biases into a matrix representation which significantly speeds up our process. In this case, the activation of one *whole* hidden layer $l$ is given by:\n",
        "\n",
        "\n",
        "$$\n",
        "\\begin{aligned}\n",
        "A^{[l]} = g(W^{[l]}A^{l-1} + b^{[l]})\n",
        "\\end{aligned}\n",
        "$$\n",
        "\n",
        "where superscript $l$ refers to the specific hidden layer, and $A^{l-1}$ are the activations from the previous layer. This means that we have only one computation per one hidden layer, instead of $n$ computations, where $n$ is the number of nodes in a hidden layer. \n",
        "\n",
        "In order to train a neural network, we firstly initiate some random values for $W^{[l]}$ and $b^{[l]}$, and go through the first step of *forward propagation*, until we come to the final output. This means that we will go through the process of calcualting the activation of each hidden layer with some randomly intitiated numbers until we come to the output, i.e. until we produce some numbers as the output. Since (in supervised learning) our data already has the correct output values, we can compare the predictions of our neural network with the correct output values and determine how bad is our neural network. We formalize how bad the neural network is by defining a *loss function* which entirely depends on the nature of the problem. For example, if our output is a binary variable, then we model output with Bernoulli distribution and apply Maximum Likelihood Estimation which gives us:\n",
        "\n",
        "$$\n",
        "\\begin{aligned}\n",
        "L(\\hat{y}, y) = -(ylog\\hat{y} + (1-y)log(1-\\hat{y}))\n",
        "\\end{aligned}\n",
        "$$\n",
        "\n",
        "Now we have a way to formalize the error of our neural network. Now, in order to improve our neural network, we would apply a *gradient descent algorithm* which changes weights and biases so that the loss function is smaller. The gradient descent algorithm is not that complicated, although it is really elegant. However, I am not going to show it here."
      ]
    },
    {
      "cell_type": "markdown",
      "metadata": {
        "id": "g2tF-H0muVj2"
      },
      "source": [
        "### What is DL Actually Used For?"
      ]
    },
    {
      "cell_type": "markdown",
      "metadata": {
        "id": "Y-jfcQfouYYQ"
      },
      "source": [
        "Let's take a look at some common deep learning use cases. \n",
        "Some of them are recommendation systems, language translations, computer vision, speech recognition, natural language processing, etc. Language translation and speech recognition are oftern referred to as *sequence to sequence* problems. "
      ]
    },
    {
      "cell_type": "markdown",
      "metadata": {
        "id": "qxKH1ol7wlZE"
      },
      "source": [
        "## Introduction to TensorFlow"
      ]
    },
    {
      "cell_type": "markdown",
      "metadata": {
        "id": "8t4iK2m5wrOo"
      },
      "source": [
        "### What is TensorFlow? What are Tensors?"
      ]
    },
    {
      "cell_type": "markdown",
      "metadata": {
        "id": "igzewRtRw8Z4"
      },
      "source": [
        "TensorFlow (TF) is end-to-end platform for machine learning. We can write fast deep learning code in Python and run it on GPU. With TF we are also able to access many pre-built deep learning models. Furthermore, it offers a whole stack: preprocessing data, model data, and deploy the model in your application. In the end, TF was originally designed and used in-house by Google and is now open-source. \n",
        "<br></br>\n",
        "What exactly is a tensor? In mathematics, a tensor is an algebraic object that describes a relationship between sets of algebraic objects related to a vector space. Objects that tensors may map between include vectors and scalars, and even other tensors. "
      ]
    },
    {
      "cell_type": "markdown",
      "metadata": {
        "id": "85ZeSrbo0qT-"
      },
      "source": [
        "A TF workflow typically includes:\n",
        "\n",
        "\n",
        "1.   Getting data ready\n",
        "2.   Building or picking a pretrained model\n",
        "3.   Fitting the model to the data and making predictions\n",
        "4.   Evaluating the model\n",
        "5.   Improving the model through the experimentation\n",
        "6.   Saving and reloading trained models \n",
        "\n"
      ]
    },
    {
      "cell_type": "markdown",
      "metadata": {
        "id": "HJyI4vxC1CRk"
      },
      "source": [
        "## Tensors in TensorFlow"
      ]
    },
    {
      "cell_type": "markdown",
      "metadata": {
        "id": "aRNzDzru2VTl"
      },
      "source": [
        "In this part, we are going to cover some of the most fundamental concepts of tensors using TensorFlow. \n",
        "\n",
        "More specifically, this part will cover:\n",
        "* Introduction to tensors\n",
        "* Getting information from tensors\n",
        "* Maniuplating tensors\n",
        "* Tensors and NumPy\n",
        "* Using @tf.function\n",
        "* Using GPUs with TensorFlow (or TPUs)\n",
        "* A few exercises"
      ]
    },
    {
      "cell_type": "markdown",
      "metadata": {
        "id": "OExcAoxQ2gdY"
      },
      "source": [
        "### Introduction to Tensors"
      ]
    },
    {
      "cell_type": "code",
      "metadata": {
        "colab": {
          "base_uri": "https://localhost:8080/"
        },
        "id": "xNUS_rEy3QxP",
        "outputId": "6eae24c9-ee22-4224-97b3-bdc7162add54"
      },
      "source": [
        "# Import TensorFlow\n",
        "import tensorflow as tf \n",
        "import numpy as np\n",
        "print(tf.__version__)"
      ],
      "execution_count": null,
      "outputs": [
        {
          "output_type": "stream",
          "text": [
            "2.4.1\n"
          ],
          "name": "stdout"
        }
      ]
    },
    {
      "cell_type": "code",
      "metadata": {
        "colab": {
          "base_uri": "https://localhost:8080/"
        },
        "id": "A6n-6vr93h93",
        "outputId": "51e0d139-837f-4ed9-d85d-8af49fb8e04b"
      },
      "source": [
        "# Create tensor with tf.constant()\n",
        "scalar = tf.constant(7)\n",
        "print(scalar)"
      ],
      "execution_count": null,
      "outputs": [
        {
          "output_type": "stream",
          "text": [
            "tf.Tensor(7, shape=(), dtype=int32)\n"
          ],
          "name": "stdout"
        }
      ]
    },
    {
      "cell_type": "code",
      "metadata": {
        "colab": {
          "base_uri": "https://localhost:8080/"
        },
        "id": "dVhscXJo3ykn",
        "outputId": "f35a71fe-ac66-419a-b654-ec81b028da09"
      },
      "source": [
        "# Check the number of dimensions of a tensor\n",
        "print(\"Dimensions of scalar:\\n\", scalar.ndim)"
      ],
      "execution_count": null,
      "outputs": [
        {
          "output_type": "stream",
          "text": [
            "Dimensions of scalar:\n",
            " 0\n"
          ],
          "name": "stdout"
        }
      ]
    },
    {
      "cell_type": "code",
      "metadata": {
        "colab": {
          "base_uri": "https://localhost:8080/"
        },
        "id": "NyksXL134R-e",
        "outputId": "0a6baeea-1aae-4c82-8edf-c7bb7a41fabb"
      },
      "source": [
        "# Create a vector\n",
        "vector = tf.constant([1, 2, 3, 4, 5])\n",
        "print(\"Vector:\\n\", vector)\n",
        "print(\"\\nDimensions:\\n\", vector.ndim)"
      ],
      "execution_count": null,
      "outputs": [
        {
          "output_type": "stream",
          "text": [
            "Vector:\n",
            " tf.Tensor([1 2 3 4 5], shape=(5,), dtype=int32)\n",
            "\n",
            "Dimensions:\n",
            " 1\n"
          ],
          "name": "stdout"
        }
      ]
    },
    {
      "cell_type": "code",
      "metadata": {
        "colab": {
          "base_uri": "https://localhost:8080/"
        },
        "id": "cs-f20YG4fQH",
        "outputId": "93e50b11-00d4-4551-f911-a509ac678123"
      },
      "source": [
        "# Create a matrix\n",
        "matrix = tf.constant([\n",
        "                      [1, 2, 3, 4, 5], \n",
        "                      [3, 4, 5, 6, 7]\n",
        "                      ]\n",
        "                     )\n",
        "print(\"Matrix:\\n\", matrix)\n",
        "print(\"\\nDimensions:\\n\", matrix.ndim)"
      ],
      "execution_count": null,
      "outputs": [
        {
          "output_type": "stream",
          "text": [
            "Matrix:\n",
            " tf.Tensor(\n",
            "[[1 2 3 4 5]\n",
            " [3 4 5 6 7]], shape=(2, 5), dtype=int32)\n",
            "\n",
            "Dimensions:\n",
            " 2\n"
          ],
          "name": "stdout"
        }
      ]
    },
    {
      "cell_type": "code",
      "metadata": {
        "colab": {
          "base_uri": "https://localhost:8080/"
        },
        "id": "KFtNTPYL4zXY",
        "outputId": "0184ccbd-6fa5-4870-8c71-c1d8cb4934b6"
      },
      "source": [
        "# Let's formally use args of tf.constant()\n",
        "matrix1 = tf.constant(value = [[1, 2, 3, 4], [2, 2, 2, 2]], dtype = tf.float16)\n",
        "print(\"Matrix:\\n\", matrix1)\n",
        "print(\"\\nDimensions:\\n\", matrix1.ndim)\n",
        "print(\"\\nType:\\n\", matrix1.dtype)\n",
        "print(\"\\nShape:\\n\", matrix1.shape)"
      ],
      "execution_count": null,
      "outputs": [
        {
          "output_type": "stream",
          "text": [
            "Matrix:\n",
            " tf.Tensor(\n",
            "[[1. 2. 3. 4.]\n",
            " [2. 2. 2. 2.]], shape=(2, 4), dtype=float16)\n",
            "\n",
            "Dimensions:\n",
            " 2\n",
            "\n",
            "Type:\n",
            " <dtype: 'float16'>\n",
            "\n",
            "Shape:\n",
            " (2, 4)\n"
          ],
          "name": "stdout"
        }
      ]
    },
    {
      "cell_type": "code",
      "metadata": {
        "colab": {
          "base_uri": "https://localhost:8080/"
        },
        "id": "AjTaG5yK5dJk",
        "outputId": "b261ebb4-6c1c-4b67-b045-4bf84ade0987"
      },
      "source": [
        "tensor = tf.constant([[\n",
        "                       [1, 2, 3], \n",
        "                       [4, 5, 6]], \n",
        "                      [[7, 8, 9], \n",
        "                       [10, 11, 12]],\n",
        "                      [[13, 14, 15], \n",
        "                       [16, 17, 18]]] ,dtype = tf.float16)\n",
        "print(\"Tensor:\\n\", tensor)\n",
        "print(\"\\nDimensions:\\n\", tensor.ndim)\n",
        "print(\"\\nShape:\\n\", tensor.shape)"
      ],
      "execution_count": null,
      "outputs": [
        {
          "output_type": "stream",
          "text": [
            "Tensor:\n",
            " tf.Tensor(\n",
            "[[[ 1.  2.  3.]\n",
            "  [ 4.  5.  6.]]\n",
            "\n",
            " [[ 7.  8.  9.]\n",
            "  [10. 11. 12.]]\n",
            "\n",
            " [[13. 14. 15.]\n",
            "  [16. 17. 18.]]], shape=(3, 2, 3), dtype=float16)\n",
            "\n",
            "Dimensions:\n",
            " 3\n",
            "\n",
            "Shape:\n",
            " (3, 2, 3)\n"
          ],
          "name": "stdout"
        }
      ]
    },
    {
      "cell_type": "markdown",
      "metadata": {
        "id": "UV_H-Eme6Tos"
      },
      "source": [
        "What have we created so far?\n",
        "* Scalar: a single number\n",
        "* Vector: a number with direction\n",
        "* Matrix: a 2-dimensional array of numbers\n",
        "* Tensor: an n-dimensional array of numbers (where $n\\ge 0$)"
      ]
    },
    {
      "cell_type": "markdown",
      "metadata": {
        "id": "0W6brOEW75YQ"
      },
      "source": [
        "### Creating Tensors with tf.Variable()"
      ]
    },
    {
      "cell_type": "code",
      "metadata": {
        "colab": {
          "base_uri": "https://localhost:8080/"
        },
        "id": "HMJZYWbg7mLu",
        "outputId": "3b2b1816-bbb6-4561-9b9f-9bbda10d2933"
      },
      "source": [
        "# So far, we have created tensors with tf.constant(), but we can do it with tf.Variable() as well\n",
        "# The difference between tf.Variable() and tf.constant() is that tf.Variable() creates a changeable tensor\n",
        "changeable_tensor = tf.Variable([10, 7])\n",
        "unchangeable_tensor = tf.constant([10, 7])\n",
        "print(changeable_tensor)\n",
        "print(unchangeable_tensor)"
      ],
      "execution_count": null,
      "outputs": [
        {
          "output_type": "stream",
          "text": [
            "<tf.Variable 'Variable:0' shape=(2,) dtype=int32, numpy=array([10,  7], dtype=int32)>\n",
            "tf.Tensor([10  7], shape=(2,), dtype=int32)\n"
          ],
          "name": "stdout"
        }
      ]
    },
    {
      "cell_type": "code",
      "metadata": {
        "colab": {
          "base_uri": "https://localhost:8080/"
        },
        "id": "n03IcMA_8bVA",
        "outputId": "7d9573c6-29ef-4a39-96b7-d183d0415a17"
      },
      "source": [
        "# Try to change one of the elements in our changeable tensor\n",
        "try:\n",
        "  changeable_tensor[0].assign(99)\n",
        "  print('Changing value was successful')\n",
        "  print(changeable_tensor)\n",
        "except:\n",
        "  print('Changing value was not succesful')"
      ],
      "execution_count": null,
      "outputs": [
        {
          "output_type": "stream",
          "text": [
            "Changing value was successful\n",
            "<tf.Variable 'Variable:0' shape=(2,) dtype=int32, numpy=array([99,  7], dtype=int32)>\n"
          ],
          "name": "stdout"
        }
      ]
    },
    {
      "cell_type": "code",
      "metadata": {
        "colab": {
          "base_uri": "https://localhost:8080/"
        },
        "id": "YzhZncCz8yj-",
        "outputId": "40dc0669-3908-4321-dd28-448babb24655"
      },
      "source": [
        "# Now let's try to change value in unchangeable tensor\n",
        "try:\n",
        "  unchangeable_tensor[0].assign(99)\n",
        "  print('Changing value was successful')\n",
        "  print(unchangeable_tensor)\n",
        "except Exception as e:\n",
        "  print('Changing value was not succesful')\n",
        "  print(e)"
      ],
      "execution_count": null,
      "outputs": [
        {
          "output_type": "stream",
          "text": [
            "Changing value was not succesful\n",
            "'tensorflow.python.framework.ops.EagerTensor' object has no attribute 'assign'\n"
          ],
          "name": "stdout"
        }
      ]
    },
    {
      "cell_type": "markdown",
      "metadata": {
        "id": "aj9eRs8W9Yln"
      },
      "source": [
        "### Creating Random Tensors "
      ]
    },
    {
      "cell_type": "markdown",
      "metadata": {
        "id": "AR_CFLtX9CYl"
      },
      "source": [
        "Random tensors are tensors of some arbitrary size which contain random numbers. We need random tensors when initializing weights and biasis in neural networks (or, more generally, in any other machine learning algorithm which requires some beginning random numbers). "
      ]
    },
    {
      "cell_type": "code",
      "metadata": {
        "colab": {
          "base_uri": "https://localhost:8080/"
        },
        "id": "IZN-0uMV3dvR",
        "outputId": "b344be93-ffef-4c06-9618-40f27aa8955b"
      },
      "source": [
        "# Let's create two random (but same) tensors\n",
        "random1 = tf.random.Generator.from_seed(42) # set seed for reproducibility\n",
        "random1 = random1.normal(shape = (3, 2))\n",
        "print(random1)"
      ],
      "execution_count": null,
      "outputs": [
        {
          "output_type": "stream",
          "text": [
            "tf.Tensor(\n",
            "[[-0.7565803  -0.06854702]\n",
            " [ 0.07595026 -1.2573844 ]\n",
            " [-0.23193763 -1.8107855 ]], shape=(3, 2), dtype=float32)\n"
          ],
          "name": "stdout"
        }
      ]
    },
    {
      "cell_type": "code",
      "metadata": {
        "colab": {
          "base_uri": "https://localhost:8080/"
        },
        "id": "hjuQkEeW5oox",
        "outputId": "e389a1e2-f2bb-47a4-b38f-4b93a785fe4a"
      },
      "source": [
        "random_2 = tf.random.Generator.from_seed(41)\n",
        "random_2 = random_2.normal(shape = (3, 2))\n",
        "print(random_2)"
      ],
      "execution_count": null,
      "outputs": [
        {
          "output_type": "stream",
          "text": [
            "tf.Tensor(\n",
            "[[ 0.31662667 -1.4391748 ]\n",
            " [ 0.58923835 -1.4268045 ]\n",
            " [-0.7565803  -0.06854702]], shape=(3, 2), dtype=float32)\n"
          ],
          "name": "stdout"
        }
      ]
    },
    {
      "cell_type": "code",
      "metadata": {
        "colab": {
          "base_uri": "https://localhost:8080/"
        },
        "id": "VMJeERMJ6GUX",
        "outputId": "a3cd6c2e-f306-4162-f8de-500a1d1c4b9d"
      },
      "source": [
        "# Are they equal?\n",
        "print(random1 == random_2)"
      ],
      "execution_count": null,
      "outputs": [
        {
          "output_type": "stream",
          "text": [
            "tf.Tensor(\n",
            "[[False False]\n",
            " [False False]\n",
            " [False False]], shape=(3, 2), dtype=bool)\n"
          ],
          "name": "stdout"
        }
      ]
    },
    {
      "cell_type": "code",
      "metadata": {
        "colab": {
          "base_uri": "https://localhost:8080/"
        },
        "id": "bfF9zjcs6cKW",
        "outputId": "43f0a185-df9c-4051-d3db-ea4dc7bb595f"
      },
      "source": [
        "# What if we want to shuffle the order of rows?\n",
        "tf.random.set_seed(42) # setting a general? seed\n",
        "print(tf.random.shuffle(random1)) # It doesn't shuffle inplace, you have to assign to a variable\n",
        "print(\"\\n\", random1)"
      ],
      "execution_count": null,
      "outputs": [
        {
          "output_type": "stream",
          "text": [
            "tf.Tensor(\n",
            "[[ 0.07595026 -1.2573844 ]\n",
            " [-0.23193763 -1.8107855 ]\n",
            " [-0.7565803  -0.06854702]], shape=(3, 2), dtype=float32)\n",
            "\n",
            " tf.Tensor(\n",
            "[[-0.7565803  -0.06854702]\n",
            " [ 0.07595026 -1.2573844 ]\n",
            " [-0.23193763 -1.8107855 ]], shape=(3, 2), dtype=float32)\n"
          ],
          "name": "stdout"
        }
      ]
    },
    {
      "cell_type": "code",
      "metadata": {
        "colab": {
          "base_uri": "https://localhost:8080/"
        },
        "id": "X94BXpnJ6vcu",
        "outputId": "02f4106b-7e25-4603-dc34-6663d6b5e5ff"
      },
      "source": [
        "# Creating a transpose of a tensor\n",
        "print(tf.transpose(random1))"
      ],
      "execution_count": null,
      "outputs": [
        {
          "output_type": "stream",
          "text": [
            "tf.Tensor(\n",
            "[[-0.7565803   0.07595026 -0.23193763]\n",
            " [-0.06854702 -1.2573844  -1.8107855 ]], shape=(2, 3), dtype=float32)\n"
          ],
          "name": "stdout"
        }
      ]
    },
    {
      "cell_type": "markdown",
      "metadata": {
        "id": "AhYKDTPx_V9i"
      },
      "source": [
        "### Other Ways to Create Tensors"
      ]
    },
    {
      "cell_type": "code",
      "metadata": {
        "colab": {
          "base_uri": "https://localhost:8080/"
        },
        "id": "6SL5rwbf_c1K",
        "outputId": "e4053a5b-dc3e-42e6-f4cd-87ed00a830a4"
      },
      "source": [
        "np_x = np.random.normal(size = (5, 5))\n",
        "print(np_x)"
      ],
      "execution_count": null,
      "outputs": [
        {
          "output_type": "stream",
          "text": [
            "[[ 0.61376625  0.17567101 -0.37463976 -0.57743222 -1.25069587]\n",
            " [-0.76320526  1.50980614 -1.25074362 -0.33863673  0.40279063]\n",
            " [-0.5509734   0.39784563 -1.95222535 -1.28737578 -0.20740423]\n",
            " [-0.56241199  1.31378423  0.91515086  0.07982129  1.28257355]\n",
            " [ 0.58298645  0.82893871  0.04984181 -1.62783812 -1.41289967]]\n"
          ],
          "name": "stdout"
        }
      ]
    },
    {
      "cell_type": "code",
      "metadata": {
        "colab": {
          "base_uri": "https://localhost:8080/"
        },
        "id": "WLH34KxX_ic6",
        "outputId": "3effcc26-5be8-496d-bd1c-059a2b16c2dd"
      },
      "source": [
        "tensor_np = tf.convert_to_tensor(np_x)\n",
        "print(tensor_np)"
      ],
      "execution_count": null,
      "outputs": [
        {
          "output_type": "stream",
          "text": [
            "tf.Tensor(\n",
            "[[ 0.61376625  0.17567101 -0.37463976 -0.57743222 -1.25069587]\n",
            " [-0.76320526  1.50980614 -1.25074362 -0.33863673  0.40279063]\n",
            " [-0.5509734   0.39784563 -1.95222535 -1.28737578 -0.20740423]\n",
            " [-0.56241199  1.31378423  0.91515086  0.07982129  1.28257355]\n",
            " [ 0.58298645  0.82893871  0.04984181 -1.62783812 -1.41289967]], shape=(5, 5), dtype=float64)\n"
          ],
          "name": "stdout"
        }
      ]
    },
    {
      "cell_type": "markdown",
      "metadata": {
        "id": "xXJnhJnrB0rz"
      },
      "source": [
        "> But you can also just input NumPy array into tf.constant() or tf.Variable()!"
      ]
    },
    {
      "cell_type": "code",
      "metadata": {
        "colab": {
          "base_uri": "https://localhost:8080/"
        },
        "id": "jq9VBGZv_z9i",
        "outputId": "873b21d7-1e89-44cd-8772-be5ed1802cf4"
      },
      "source": [
        "ones = tf.ones(shape = (7, 6), dtype = tf.int32)\n",
        "zeros = tf.zeros(shape = (3, 3), dtype = tf.int16)\n",
        "print(\"Tensor of ones:\\n\", ones)\n",
        "print(\"\\nTensor of zeros:\\n\", zeros)"
      ],
      "execution_count": null,
      "outputs": [
        {
          "output_type": "stream",
          "text": [
            "Tensor of ones:\n",
            " tf.Tensor(\n",
            "[[1 1 1 1 1 1]\n",
            " [1 1 1 1 1 1]\n",
            " [1 1 1 1 1 1]\n",
            " [1 1 1 1 1 1]\n",
            " [1 1 1 1 1 1]\n",
            " [1 1 1 1 1 1]\n",
            " [1 1 1 1 1 1]], shape=(7, 6), dtype=int32)\n",
            "\n",
            "Tensor of zeros:\n",
            " tf.Tensor(\n",
            "[[0 0 0]\n",
            " [0 0 0]\n",
            " [0 0 0]], shape=(3, 3), dtype=int16)\n"
          ],
          "name": "stdout"
        }
      ]
    },
    {
      "cell_type": "markdown",
      "metadata": {
        "id": "EdBGqgy9AqW9"
      },
      "source": [
        "> The main difference between NumPy arrays and TensorFlow tensors is that tensors can be run on a GPU (much faster for numerical computing)."
      ]
    },
    {
      "cell_type": "markdown",
      "metadata": {
        "id": "0dZk7avkBKF3"
      },
      "source": [
        "### Getting Information from Tensors"
      ]
    },
    {
      "cell_type": "markdown",
      "metadata": {
        "id": "VeKrt_1BDOJv"
      },
      "source": [
        "The most frequently used information from tensors are:\n",
        "* shape\n",
        "* rank (n of dimensinos)\n",
        "* axis or dimension\n",
        "* size"
      ]
    },
    {
      "cell_type": "code",
      "metadata": {
        "id": "DnRqr_1iEQIF"
      },
      "source": [
        "tensor_A = tf.constant([\n",
        "                        [1, 2, 3, 4],\n",
        "                        [3, 2, 2, 2],\n",
        "                        [3, 2, 1, 3],\n",
        "                        [5, 4, 3, 2]\n",
        "                        ])"
      ],
      "execution_count": null,
      "outputs": []
    },
    {
      "cell_type": "code",
      "metadata": {
        "colab": {
          "base_uri": "https://localhost:8080/"
        },
        "id": "difCmsx5EYm0",
        "outputId": "ce79fbf1-21a0-4faa-e19c-d033d5a20c9c"
      },
      "source": [
        "print('Shape of tensor:', tensor_A.shape)\n",
        "print('Rank of tensor:', tensor_A.ndim)\n",
        "print('Size of tensor:', tf.size(tensor_A))"
      ],
      "execution_count": null,
      "outputs": [
        {
          "output_type": "stream",
          "text": [
            "Shape of tensor: (4, 4)\n",
            "Rank of tensor: 2\n",
            "Size of tensor: tf.Tensor(16, shape=(), dtype=int32)\n"
          ],
          "name": "stdout"
        }
      ]
    },
    {
      "cell_type": "code",
      "metadata": {
        "colab": {
          "base_uri": "https://localhost:8080/"
        },
        "id": "FC7kJCY9ElOE",
        "outputId": "ab441cdc-9c4d-4c7d-d840-130fb13d387d"
      },
      "source": [
        "print('The first column:')\n",
        "print(tensor_A[:, 0])"
      ],
      "execution_count": null,
      "outputs": [
        {
          "output_type": "stream",
          "text": [
            "The first column:\n",
            "tf.Tensor([1 3 3 5], shape=(4,), dtype=int32)\n"
          ],
          "name": "stdout"
        }
      ]
    },
    {
      "cell_type": "code",
      "metadata": {
        "colab": {
          "base_uri": "https://localhost:8080/"
        },
        "id": "2pvSu0XpFVBc",
        "outputId": "ccc59c24-43b4-4ba4-b133-217a0ce60553"
      },
      "source": [
        "# Get various attributes of our tensor\n",
        "print(\"Datatype of every element:\", tensor_A.dtype)\n",
        "print(\"Number of dimensions:\", tensor_A.ndim)\n",
        "print(\"The size of tensor:\", tf.size(tensor_A))\n",
        "print(\"The shape of tensor:\", tensor_A.shape)\n",
        "print(\"Elements along 0 axis:\", tensor_A.shape[0])\n",
        "print(\"Elements along 1 axis:\", tensor_A.shape[1])"
      ],
      "execution_count": null,
      "outputs": [
        {
          "output_type": "stream",
          "text": [
            "Datatype of every element: <dtype: 'int32'>\n",
            "Number of dimensions: 2\n",
            "The size of tensor: tf.Tensor(16, shape=(), dtype=int32)\n",
            "The shape of tensor: (4, 4)\n",
            "Elements along 0 axis: 4\n",
            "Elements along 1 axis: 4\n"
          ],
          "name": "stdout"
        }
      ]
    },
    {
      "cell_type": "markdown",
      "metadata": {
        "id": "buPnfGknMuNE"
      },
      "source": [
        "### Indexing Tensors"
      ]
    },
    {
      "cell_type": "markdown",
      "metadata": {
        "id": "yJlraNG9MLQB"
      },
      "source": [
        "> Tensors can be indexed just like NumPy arrays."
      ]
    },
    {
      "cell_type": "code",
      "metadata": {
        "colab": {
          "base_uri": "https://localhost:8080/"
        },
        "id": "ZyLoeH3b-Lhy",
        "outputId": "b07e14c3-eb1c-4ae9-d137-2646cafdd585"
      },
      "source": [
        "# Get the first 2 elements of each dimension\n",
        "print(tensor_A[:2, :2])"
      ],
      "execution_count": null,
      "outputs": [
        {
          "output_type": "stream",
          "text": [
            "tf.Tensor(\n",
            "[[1 2]\n",
            " [3 2]], shape=(2, 2), dtype=int32)\n"
          ],
          "name": "stdout"
        }
      ]
    },
    {
      "cell_type": "code",
      "metadata": {
        "colab": {
          "base_uri": "https://localhost:8080/"
        },
        "id": "gV61vpDK-V1q",
        "outputId": "5eb4d2cf-5210-4327-e4c0-336a31ef49e1"
      },
      "source": [
        "# Get the first element from each dimencion from each index except for the final one\n",
        "print(tensor_A[:1, :])"
      ],
      "execution_count": null,
      "outputs": [
        {
          "output_type": "stream",
          "text": [
            "tf.Tensor([[1 2 3 4]], shape=(1, 4), dtype=int32)\n"
          ],
          "name": "stdout"
        }
      ]
    },
    {
      "cell_type": "code",
      "metadata": {
        "colab": {
          "base_uri": "https://localhost:8080/"
        },
        "id": "kCQm5tH6-zQB",
        "outputId": "6bbf1b64-e47a-433b-8fa8-5b2de251a780"
      },
      "source": [
        "# Let's create a rank 2 tensor (2 dimensions)\n",
        "rank_2_tensor = tf.constant(np.random.normal(size = (3, 4)))\n",
        "print(rank_2_tensor)"
      ],
      "execution_count": null,
      "outputs": [
        {
          "output_type": "stream",
          "text": [
            "tf.Tensor(\n",
            "[[ 1.1199121  -0.77232915 -0.00597473 -0.02029698]\n",
            " [-0.64639537 -0.43004214  2.32853803 -0.65769914]\n",
            " [ 0.59995455  0.79706359  0.51199312  0.26268593]], shape=(3, 4), dtype=float64)\n"
          ],
          "name": "stdout"
        }
      ]
    },
    {
      "cell_type": "code",
      "metadata": {
        "colab": {
          "base_uri": "https://localhost:8080/"
        },
        "id": "VnEueHSe_9la",
        "outputId": "8aaffa34-83cd-407e-ede3-77cda10fc5bf"
      },
      "source": [
        "# Get the last item of each row of our tensor\n",
        "print(rank_2_tensor[:, -1])"
      ],
      "execution_count": null,
      "outputs": [
        {
          "output_type": "stream",
          "text": [
            "tf.Tensor([-0.02029698 -0.65769914  0.26268593], shape=(3,), dtype=float64)\n"
          ],
          "name": "stdout"
        }
      ]
    },
    {
      "cell_type": "code",
      "metadata": {
        "colab": {
          "base_uri": "https://localhost:8080/"
        },
        "id": "3SXpHQGtAJHT",
        "outputId": "91de6233-16ec-4e18-90dd-f664a4b1f956"
      },
      "source": [
        "# Add in extra dimension to our rank 2 tensor\n",
        "rank_3_tensor = rank_2_tensor[..., tf.newaxis] # three dots mean include all other axes\n",
        "print(rank_3_tensor)"
      ],
      "execution_count": null,
      "outputs": [
        {
          "output_type": "stream",
          "text": [
            "tf.Tensor(\n",
            "[[[ 1.1199121 ]\n",
            "  [-0.77232915]\n",
            "  [-0.00597473]\n",
            "  [-0.02029698]]\n",
            "\n",
            " [[-0.64639537]\n",
            "  [-0.43004214]\n",
            "  [ 2.32853803]\n",
            "  [-0.65769914]]\n",
            "\n",
            " [[ 0.59995455]\n",
            "  [ 0.79706359]\n",
            "  [ 0.51199312]\n",
            "  [ 0.26268593]]], shape=(3, 4, 1), dtype=float64)\n"
          ],
          "name": "stdout"
        }
      ]
    },
    {
      "cell_type": "code",
      "metadata": {
        "colab": {
          "base_uri": "https://localhost:8080/"
        },
        "id": "khbfM-ZlJuAB",
        "outputId": "3f683fe9-7b6a-4c2b-95c8-5cc5030c9750"
      },
      "source": [
        "# Alternative to tf.newaxis\n",
        "tf.expand_dims(rank_2_tensor, axis = - 1) # expand on final axis"
      ],
      "execution_count": null,
      "outputs": [
        {
          "output_type": "execute_result",
          "data": {
            "text/plain": [
              "<tf.Tensor: shape=(3, 4, 1), dtype=float64, numpy=\n",
              "array([[[ 1.1199121 ],\n",
              "        [-0.77232915],\n",
              "        [-0.00597473],\n",
              "        [-0.02029698]],\n",
              "\n",
              "       [[-0.64639537],\n",
              "        [-0.43004214],\n",
              "        [ 2.32853803],\n",
              "        [-0.65769914]],\n",
              "\n",
              "       [[ 0.59995455],\n",
              "        [ 0.79706359],\n",
              "        [ 0.51199312],\n",
              "        [ 0.26268593]]])>"
            ]
          },
          "metadata": {
            "tags": []
          },
          "execution_count": 16
        }
      ]
    },
    {
      "cell_type": "code",
      "metadata": {
        "colab": {
          "base_uri": "https://localhost:8080/"
        },
        "id": "8iaJox-LKHsX",
        "outputId": "408a7287-477a-4d05-a328-d14043d2ddf5"
      },
      "source": [
        "tf.expand_dims(rank_2_tensor, axis = 0)"
      ],
      "execution_count": null,
      "outputs": [
        {
          "output_type": "execute_result",
          "data": {
            "text/plain": [
              "<tf.Tensor: shape=(1, 3, 4), dtype=float64, numpy=\n",
              "array([[[ 1.1199121 , -0.77232915, -0.00597473, -0.02029698],\n",
              "        [-0.64639537, -0.43004214,  2.32853803, -0.65769914],\n",
              "        [ 0.59995455,  0.79706359,  0.51199312,  0.26268593]]])>"
            ]
          },
          "metadata": {
            "tags": []
          },
          "execution_count": 17
        }
      ]
    },
    {
      "cell_type": "markdown",
      "metadata": {
        "id": "k-bvO3TvKU1Z"
      },
      "source": [
        "Note that the numbers always stay the same, but the shape of a tensor is changed."
      ]
    },
    {
      "cell_type": "markdown",
      "metadata": {
        "id": "56icp9QuKk09"
      },
      "source": [
        "### Tensor Operations"
      ]
    },
    {
      "cell_type": "markdown",
      "metadata": {
        "id": "7wWPResf5vle"
      },
      "source": [
        "**Basic Operations**"
      ]
    },
    {
      "cell_type": "code",
      "metadata": {
        "colab": {
          "base_uri": "https://localhost:8080/"
        },
        "id": "HqNiN_tF52jc",
        "outputId": "9a2e6086-54bb-4a5d-88cf-b41aa1369ca3"
      },
      "source": [
        "# We can add values to a tensor using the addition operators\n",
        "tensor = tf.constant(np.arange(10), shape = (2, 5))\n",
        "print(tensor)\n",
        "print('Addition')\n",
        "print(tensor + 10) # the original tensor is not changed, we didn't assign the values"
      ],
      "execution_count": null,
      "outputs": [
        {
          "output_type": "stream",
          "text": [
            "tf.Tensor(\n",
            "[[0 1 2 3 4]\n",
            " [5 6 7 8 9]], shape=(2, 5), dtype=int64)\n",
            "Addition\n",
            "tf.Tensor(\n",
            "[[10 11 12 13 14]\n",
            " [15 16 17 18 19]], shape=(2, 5), dtype=int64)\n"
          ],
          "name": "stdout"
        }
      ]
    },
    {
      "cell_type": "code",
      "metadata": {
        "colab": {
          "base_uri": "https://localhost:8080/"
        },
        "id": "YPHfM-KN6ABt",
        "outputId": "3a78eb75-9579-47b4-8d7d-f76999800127"
      },
      "source": [
        "# Multiplication\n",
        "print(tensor * 7)"
      ],
      "execution_count": null,
      "outputs": [
        {
          "output_type": "stream",
          "text": [
            "tf.Tensor(\n",
            "[[ 0  7 14 21 28]\n",
            " [35 42 49 56 63]], shape=(2, 5), dtype=int64)\n"
          ],
          "name": "stdout"
        }
      ]
    },
    {
      "cell_type": "code",
      "metadata": {
        "colab": {
          "base_uri": "https://localhost:8080/"
        },
        "id": "pAGXrFgN6Tf0",
        "outputId": "8e4530e1-ac7d-459c-e2e6-312dfb8fe5b2"
      },
      "source": [
        "# Substraction\n",
        "print(tensor - 5)"
      ],
      "execution_count": null,
      "outputs": [
        {
          "output_type": "stream",
          "text": [
            "tf.Tensor(\n",
            "[[-5 -4 -3 -2 -1]\n",
            " [ 0  1  2  3  4]], shape=(2, 5), dtype=int64)\n"
          ],
          "name": "stdout"
        }
      ]
    },
    {
      "cell_type": "code",
      "metadata": {
        "colab": {
          "base_uri": "https://localhost:8080/"
        },
        "id": "wdjDUy2N6XAF",
        "outputId": "bc3df3cc-a60d-4b06-80b7-47b673170110"
      },
      "source": [
        "# We can also use TensorFlow functions for addition, substraction, division and multiplication (like in NumPy)\n",
        "print('Multiplication')\n",
        "print(tf.multiply(tensor, 5))\n",
        "print('Addition')\n",
        "print(tf.add(tensor, 10))"
      ],
      "execution_count": null,
      "outputs": [
        {
          "output_type": "stream",
          "text": [
            "Multiplication\n",
            "tf.Tensor(\n",
            "[[ 0  5 10 15 20]\n",
            " [25 30 35 40 45]], shape=(2, 5), dtype=int64)\n",
            "Addition\n",
            "tf.Tensor(\n",
            "[[10 11 12 13 14]\n",
            " [15 16 17 18 19]], shape=(2, 5), dtype=int64)\n"
          ],
          "name": "stdout"
        }
      ]
    },
    {
      "cell_type": "markdown",
      "metadata": {
        "id": "krxZ8dQM6fsF"
      },
      "source": [
        "**Matrix Multiplication**"
      ]
    },
    {
      "cell_type": "code",
      "metadata": {
        "colab": {
          "base_uri": "https://localhost:8080/"
        },
        "id": "yaGJ0xv7688j",
        "outputId": "9a78c570-42cc-4326-ab20-b6ca8a5c857e"
      },
      "source": [
        "# Matrix multiplication\n",
        "A = tf.constant([[3, 2, 2], [3, 1, 7]])\n",
        "B = tf.constant([[1, 2], [3, 3], [4, 5]])\n",
        "print(tf.linalg.matmul(A, B))"
      ],
      "execution_count": null,
      "outputs": [
        {
          "output_type": "stream",
          "text": [
            "tf.Tensor(\n",
            "[[17 22]\n",
            " [34 44]], shape=(2, 2), dtype=int32)\n"
          ],
          "name": "stdout"
        }
      ]
    },
    {
      "cell_type": "markdown",
      "metadata": {
        "id": "oUt2z_XC7esc"
      },
      "source": [
        "As a quick reminder, in order to multiply matrices, the first matrix should be \n",
        "$A^{m_{*}n}$, while the second should be $B^{n_{*}p}$. The resulting matrix is then of shape $m*p$.\n",
        "\n",
        "There are multiple ways to multiply matrices. One of them is to use dot product of rows of first matrix and columns of the second matrix. In other words, for matrices $A \\in {\\rm I\\!R}^{m*n}, B \\in {\\rm I\\!R}^{n*p}$, the elements $c_{ij}$ of the product $ C=AB \\in  {\\rm I\\!R}^{m*p}$ are computed as:\n",
        "\n",
        "$$\n",
        "\\begin{aligned}\n",
        "c_{ij} = \\sum_{l = 1}^{n}a_{il}b_{lj}\\\\\n",
        "i = 1, ..., m\\\\ \n",
        "j = 1, ..., k\n",
        "\\end{aligned}\n",
        "$$"
      ]
    },
    {
      "cell_type": "code",
      "metadata": {
        "colab": {
          "base_uri": "https://localhost:8080/"
        },
        "id": "VrY5mR1P9wwh",
        "outputId": "886e7a4e-d547-4038-b2a7-dd84f23dad9c"
      },
      "source": [
        "# Python has operator @ for matrix multiplication, but it is slower\n",
        "print(A@B)"
      ],
      "execution_count": null,
      "outputs": [
        {
          "output_type": "stream",
          "text": [
            "tf.Tensor(\n",
            "[[17 22]\n",
            " [34 44]], shape=(2, 2), dtype=int32)\n"
          ],
          "name": "stdout"
        }
      ]
    },
    {
      "cell_type": "markdown",
      "metadata": {
        "id": "-iXPgHxq91Hi"
      },
      "source": [
        "Let's find a inverse of a matrix. Remember that only square matrices can have regular inverses, but not all of them will actually have it. Rectangular matrices (more frequent than square matrices in practice) have pseudo-inverse. \n",
        "First of all, let's define the regular inverse of a matrix:\n",
        "\n",
        "$$\n",
        "\\begin{aligned}\n",
        "AA^{-1} = I\n",
        "\\end{aligned}\n",
        "$$\n",
        "\n",
        "In other words, the matrix multiplied by its inverse gives us the identity matrix, i.e. we are back to the beginning. In other words, if we multiply some vector with a matrix, and then multiply it with the matrix inverse, we get to the starting point. The inverse of a matrix can be found using different algorithms, but the most simple one is Gaussian elimination.\n",
        "\n",
        "Now, as we have said, rectangular matrices do not have regular inverse. For them, we often use *Moore-Penrose pseudo-inverse*, which is $(A^{T}A)^{-1}A^{T}$. How do we get that? Well, let's consider a linear equation given by $Ax = b$. We get to the pseudo-inverse by doing a bit of algebra:\n",
        "\n",
        "$$\n",
        "\\begin{aligned}\n",
        "Ax = b \\iff A^{T}Ax = A^{T}b \\iff x = (A^{T}A)^{-1}A^{T}b\n",
        "\\end{aligned}\n",
        "$$\n",
        "\n",
        "This equation is actually used to get the optimal parameters for linear regression."
      ]
    },
    {
      "cell_type": "code",
      "metadata": {
        "colab": {
          "base_uri": "https://localhost:8080/"
        },
        "id": "4n36WS0gCLb9",
        "outputId": "158405ee-bc90-4203-8afb-59ae96793daa"
      },
      "source": [
        "A"
      ],
      "execution_count": null,
      "outputs": [
        {
          "output_type": "execute_result",
          "data": {
            "text/plain": [
              "<tf.Tensor: shape=(2, 3), dtype=int32, numpy=\n",
              "array([[3, 2, 2],\n",
              "       [3, 1, 7]], dtype=int32)>"
            ]
          },
          "metadata": {
            "tags": []
          },
          "execution_count": 34
        }
      ]
    },
    {
      "cell_type": "code",
      "metadata": {
        "colab": {
          "base_uri": "https://localhost:8080/"
        },
        "id": "j1Idr-XI_hug",
        "outputId": "c32cfcd2-24f4-4c4f-bbb1-05bd4f8986c4"
      },
      "source": [
        "# Finding the inverse of a matrix\n",
        "# You must have float32 or float64 dtypes, cannot be calculated on int dtypes\n",
        "A = tf.constant([\n",
        "                 [1, 0, 2, 0], \n",
        "                 [1, 1, 0, 0],\n",
        "                 [1, 2, 0, 1],\n",
        "                 [1, 1, 1, 1]\n",
        "                 ], \n",
        "                dtype = tf.float32\n",
        "                )\n",
        "\n",
        "print(tf.linalg.inv(A))"
      ],
      "execution_count": null,
      "outputs": [
        {
          "output_type": "stream",
          "text": [
            "tf.Tensor(\n",
            "[[-1.  2. -2.  2.]\n",
            " [ 1. -1.  2. -2.]\n",
            " [ 1. -1.  1. -1.]\n",
            " [-1.  0. -1.  2.]], shape=(4, 4), dtype=float32)\n"
          ],
          "name": "stdout"
        }
      ]
    },
    {
      "cell_type": "code",
      "metadata": {
        "colab": {
          "base_uri": "https://localhost:8080/"
        },
        "id": "y_0QZdozCHnu",
        "outputId": "b0bdda4e-10dc-47c7-a975-a47afa86b57d"
      },
      "source": [
        "# Now let's get pseudo-inverse with the tf.linalg.pinv() functino\n",
        "A = tf.constant([\n",
        "                 [1, 0, 1, 2],\n",
        "                 [1, 1, 0, 0],\n",
        "                 [1, 2, 0, 1]\n",
        "                 ],\n",
        "                dtype = tf.float64)\n",
        "\n",
        "print(tf.linalg.pinv(A))"
      ],
      "execution_count": null,
      "outputs": [
        {
          "output_type": "stream",
          "text": [
            "tf.Tensor(\n",
            "[[ 0.25        1.25       -0.58333333]\n",
            " [-0.25       -0.25        0.58333333]\n",
            " [ 0.25        0.25       -0.25      ]\n",
            " [ 0.25       -0.75        0.41666667]], shape=(4, 3), dtype=float64)\n"
          ],
          "name": "stdout"
        }
      ]
    },
    {
      "cell_type": "markdown",
      "metadata": {
        "id": "f-PqrLOGDXht"
      },
      "source": [
        "In a nutshell, we can perform matrix multiplication using:\n",
        "\n",
        "\n",
        "*   `tf.matmul()`\n",
        "*   `tf.tensordot()`\n",
        "\n"
      ]
    },
    {
      "cell_type": "markdown",
      "metadata": {
        "id": "Tmyq8FXcgxoO"
      },
      "source": [
        "### Changing the Datatype of a Tensor"
      ]
    },
    {
      "cell_type": "code",
      "metadata": {
        "id": "gDM8IJ6mE_nK",
        "colab": {
          "base_uri": "https://localhost:8080/"
        },
        "outputId": "02d7f8d1-f258-4997-b1c1-ad0ef62f77af"
      },
      "source": [
        "B = tf.constant([1, 3]) # if we populate the function with integers, dtype will be int32\n",
        "print(B.dtype)"
      ],
      "execution_count": null,
      "outputs": [
        {
          "output_type": "stream",
          "text": [
            "<dtype: 'int32'>\n"
          ],
          "name": "stdout"
        }
      ]
    },
    {
      "cell_type": "code",
      "metadata": {
        "colab": {
          "base_uri": "https://localhost:8080/"
        },
        "id": "WLwbAeuAg3jZ",
        "outputId": "102092c3-4fc1-4671-b74b-7beeb813d8be"
      },
      "source": [
        "# Let's change it to int16 (reduced precision)\n",
        "B = tf.cast(B, dtype = tf.int16)\n",
        "print(B.dtype)"
      ],
      "execution_count": null,
      "outputs": [
        {
          "output_type": "stream",
          "text": [
            "<dtype: 'int16'>\n"
          ],
          "name": "stdout"
        }
      ]
    },
    {
      "cell_type": "code",
      "metadata": {
        "colab": {
          "base_uri": "https://localhost:8080/"
        },
        "id": "oCHuT4hOhm1M",
        "outputId": "5474689d-0d55-4eb0-a507-ed94867928d8"
      },
      "source": [
        "# Change from int16 to float32\n",
        "B = tf.cast(B, dtype = tf.float32)\n",
        "print(B.numpy(), B.dtype)"
      ],
      "execution_count": null,
      "outputs": [
        {
          "output_type": "stream",
          "text": [
            "[1. 3.] <dtype: 'float32'>\n"
          ],
          "name": "stdout"
        }
      ]
    },
    {
      "cell_type": "markdown",
      "metadata": {
        "id": "jBbCnp4oiOkU"
      },
      "source": [
        "### Aggregating Tensors"
      ]
    },
    {
      "cell_type": "markdown",
      "metadata": {
        "id": "1KrevdBsjOtj"
      },
      "source": [
        "Aggregating tensors means condensing them from multiple values down to a smaller amount of values.\n",
        "\n",
        "*   Get the minimum\n",
        "*   Get the maximum\n",
        "*   Get the mean\n",
        "*   Get the sum\n",
        "*   Get the variance\n",
        "*   Get the standard deviation\n",
        "\n"
      ]
    },
    {
      "cell_type": "code",
      "metadata": {
        "colab": {
          "base_uri": "https://localhost:8080/"
        },
        "id": "xNc5Eembh-9t",
        "outputId": "ab47cbfa-9d1a-4914-8c27-21b8f8469542"
      },
      "source": [
        "# Get the absolute values\n",
        "D = tf.constant([-7, -10, -3], dtype = tf.float16)\n",
        "print(tf.abs(D))"
      ],
      "execution_count": null,
      "outputs": [
        {
          "output_type": "stream",
          "text": [
            "tf.Tensor([ 7. 10.  3.], shape=(3,), dtype=float16)\n"
          ],
          "name": "stdout"
        }
      ]
    },
    {
      "cell_type": "code",
      "metadata": {
        "colab": {
          "base_uri": "https://localhost:8080/"
        },
        "id": "gpQgnME_jhLp",
        "outputId": "5833734d-071e-4731-a302-f4c7c1566868"
      },
      "source": [
        "# Aggregation measures\n",
        "# TF puts reduce_ before the actual agg measure\n",
        "D = tf.constant(np.random.normal(size = (10, 30)))\n",
        "print('Minimum value:', tf.reduce_min(D, axis = 1))\n",
        "print('\\mMaximum value:', tf.reduce_max(D, axis = 1))\n",
        "print('\\mMean value:', tf.reduce_mean(D, axis = 1))\n",
        "print('\\mSum:', tf.reduce_sum(D, axis = 1))\n",
        "print('\\nStandard deviation:', tf.math.reduce_std(D, axis = 1))\n",
        "print('\\nVariance:', tf.math.reduce_variance(D, axis = 1))"
      ],
      "execution_count": null,
      "outputs": [
        {
          "output_type": "stream",
          "text": [
            "Minimum value: tf.Tensor(\n",
            "[-2.17696675 -2.47799107 -1.89561998 -2.64350557 -2.39673651 -2.53152494\n",
            " -2.87685239 -2.35533785 -1.82363282 -2.83924328], shape=(10,), dtype=float64)\n",
            "\\mMaximum value: tf.Tensor(\n",
            "[1.97744048 1.62590541 1.68575292 2.30097726 2.13002513 1.70544056\n",
            " 2.89826085 2.22187413 2.43368277 2.65404179], shape=(10,), dtype=float64)\n",
            "\\mMean value: tf.Tensor(\n",
            "[ 0.06484969 -0.20251058 -0.14801486 -0.12010113 -0.01909641  0.2058323\n",
            " -0.08053196 -0.10432362  0.02662925  0.0316522 ], shape=(10,), dtype=float64)\n",
            "\\mSum: tf.Tensor(\n",
            "[ 1.94549081 -6.07531731 -4.44044589 -3.60303376 -0.57289234  6.17496896\n",
            " -2.41595869 -3.12970873  0.79887754  0.94956612], shape=(10,), dtype=float64)\n",
            "\n",
            "Standard deviation: tf.Tensor(\n",
            "[0.96806799 0.94715972 0.93983136 1.18008852 1.12927685 0.93201016\n",
            " 1.1897983  1.05433726 0.95927192 1.34017171], shape=(10,), dtype=float64)\n",
            "\n",
            "Variance: tf.Tensor(\n",
            "[0.93715562 0.89711153 0.88328298 1.39260891 1.27526619 0.86864293\n",
            " 1.41562    1.11162705 0.92020261 1.79606021], shape=(10,), dtype=float64)\n"
          ],
          "name": "stdout"
        }
      ]
    },
    {
      "cell_type": "markdown",
      "metadata": {
        "id": "ZJJFnisCmJcL"
      },
      "source": [
        "### Indices of Minimum and Maximum; Squeezing a Tensor"
      ]
    },
    {
      "cell_type": "code",
      "metadata": {
        "colab": {
          "base_uri": "https://localhost:8080/"
        },
        "id": "JEQBU2u6kCLz",
        "outputId": "0c996256-4781-442b-e893-703378af0a12"
      },
      "source": [
        "x = tf.constant([3, 2, 1, 5, 4, 2], dtype = tf.float16)\n",
        "print ('Index of minimum:', tf.argmin(x))\n",
        "print('The minimum value:', x[tf.argmin(x)])\n",
        "print('\\nIndex of maximum:', tf.argmax(x))\n",
        "print('The maximum value:', x[tf.argmax(x)])"
      ],
      "execution_count": null,
      "outputs": [
        {
          "output_type": "stream",
          "text": [
            "Index of minimum: tf.Tensor(2, shape=(), dtype=int64)\n",
            "The minimum value: tf.Tensor(1.0, shape=(), dtype=float16)\n",
            "\n",
            "Index of maximum: tf.Tensor(3, shape=(), dtype=int64)\n",
            "The maximum value: tf.Tensor(5.0, shape=(), dtype=float16)\n"
          ],
          "name": "stdout"
        }
      ]
    },
    {
      "cell_type": "code",
      "metadata": {
        "id": "JyO-ujFen4qs",
        "colab": {
          "base_uri": "https://localhost:8080/"
        },
        "outputId": "1147daca-f46b-4735-f8df-bb9e70128e91"
      },
      "source": [
        "# Squeezing a tensor - removes dimensions of size 1 from tensor!\n",
        "x = tf.constant([3, 2, 1, 4, 2, 1], shape = (6, 1, 1, 1, 1))\n",
        "print(x.ndim)\n",
        "print(tf.squeeze(x))\n",
        "print(tf.squeeze(x).ndim)"
      ],
      "execution_count": null,
      "outputs": [
        {
          "output_type": "stream",
          "text": [
            "5\n",
            "tf.Tensor([3 2 1 4 2 1], shape=(6,), dtype=int32)\n",
            "1\n"
          ],
          "name": "stdout"
        }
      ]
    },
    {
      "cell_type": "markdown",
      "metadata": {
        "id": "IQwByCs3reSI"
      },
      "source": [
        "### One-Hot Encoding with Tensors"
      ]
    },
    {
      "cell_type": "code",
      "metadata": {
        "colab": {
          "base_uri": "https://localhost:8080/"
        },
        "id": "pn82XQitq4YT",
        "outputId": "f7c047c4-96c0-4096-f33b-35cab3fb9f8d"
      },
      "source": [
        "# We need to define indices of values which will take values of 1 in each row\n",
        "some_list = [0, 1, 2, 1, 3, 2, 3, 0] \n",
        "tf.one_hot(some_list, depth = 4) # depth is the number of unique values"
      ],
      "execution_count": null,
      "outputs": [
        {
          "output_type": "execute_result",
          "data": {
            "text/plain": [
              "<tf.Tensor: shape=(8, 4), dtype=float32, numpy=\n",
              "array([[1., 0., 0., 0.],\n",
              "       [0., 1., 0., 0.],\n",
              "       [0., 0., 1., 0.],\n",
              "       [0., 1., 0., 0.],\n",
              "       [0., 0., 0., 1.],\n",
              "       [0., 0., 1., 0.],\n",
              "       [0., 0., 0., 1.],\n",
              "       [1., 0., 0., 0.]], dtype=float32)>"
            ]
          },
          "metadata": {
            "tags": []
          },
          "execution_count": 36
        }
      ]
    },
    {
      "cell_type": "code",
      "metadata": {
        "colab": {
          "base_uri": "https://localhost:8080/"
        },
        "id": "w3BaIG9isNHa",
        "outputId": "6b37b46c-c081-4564-ed60-e52ee20abe41"
      },
      "source": [
        "# Specify custom values for one hot encoding, but you'll rarely use this\n",
        "tf.one_hot(some_list, depth = 4, on_value = 'huehue', off_value = 'auau')"
      ],
      "execution_count": null,
      "outputs": [
        {
          "output_type": "execute_result",
          "data": {
            "text/plain": [
              "<tf.Tensor: shape=(8, 4), dtype=string, numpy=\n",
              "array([[b'huehue', b'auau', b'auau', b'auau'],\n",
              "       [b'auau', b'huehue', b'auau', b'auau'],\n",
              "       [b'auau', b'auau', b'huehue', b'auau'],\n",
              "       [b'auau', b'huehue', b'auau', b'auau'],\n",
              "       [b'auau', b'auau', b'auau', b'huehue'],\n",
              "       [b'auau', b'auau', b'huehue', b'auau'],\n",
              "       [b'auau', b'auau', b'auau', b'huehue'],\n",
              "       [b'huehue', b'auau', b'auau', b'auau']], dtype=object)>"
            ]
          },
          "metadata": {
            "tags": []
          },
          "execution_count": 38
        }
      ]
    },
    {
      "cell_type": "markdown",
      "metadata": {
        "id": "K1ZvLqBCtBQk"
      },
      "source": [
        "### Square, log, Square Root"
      ]
    },
    {
      "cell_type": "code",
      "metadata": {
        "colab": {
          "base_uri": "https://localhost:8080/"
        },
        "id": "OAq6EbxysgEB",
        "outputId": "c8f0bfc3-c659-4526-a237-36ac290dae24"
      },
      "source": [
        "h = tf.range(1, 10, dtype = tf.float32)\n",
        "print(h)"
      ],
      "execution_count": null,
      "outputs": [
        {
          "output_type": "stream",
          "text": [
            "tf.Tensor([1. 2. 3. 4. 5. 6. 7. 8. 9.], shape=(9,), dtype=float32)\n"
          ],
          "name": "stdout"
        }
      ]
    },
    {
      "cell_type": "code",
      "metadata": {
        "colab": {
          "base_uri": "https://localhost:8080/"
        },
        "id": "RkbGtAVOtIOA",
        "outputId": "7e58a9f2-c397-44ad-bd35-9118db2f7313"
      },
      "source": [
        "print('Squared:', tf.square(h))\n",
        "print('\\nSquare root:', tf.math.sqrt(h))\n",
        "print('\\nLog:', tf.math.log(h))"
      ],
      "execution_count": null,
      "outputs": [
        {
          "output_type": "stream",
          "text": [
            "Squared: tf.Tensor([ 1.  4.  9. 16. 25. 36. 49. 64. 81.], shape=(9,), dtype=float32)\n",
            "\n",
            "Square root: tf.Tensor(\n",
            "[0.99999994 1.4142134  1.7320508  1.9999999  2.236068   2.4494896\n",
            " 2.6457512  2.8284268  3.        ], shape=(9,), dtype=float32)\n",
            "\n",
            "Log: tf.Tensor(\n",
            "[0.        0.6931472 1.0986123 1.3862944 1.609438  1.7917595 1.9459102\n",
            " 2.0794415 2.1972246], shape=(9,), dtype=float32)\n"
          ],
          "name": "stdout"
        }
      ]
    },
    {
      "cell_type": "markdown",
      "metadata": {
        "id": "sFDHBCWzt9kJ"
      },
      "source": [
        "### Tensors and NumPy"
      ]
    },
    {
      "cell_type": "markdown",
      "metadata": {
        "id": "At8uYDSNuFPf"
      },
      "source": [
        "> TensorFlow interacts beautifully and naturally with NumPy arrays."
      ]
    },
    {
      "cell_type": "code",
      "metadata": {
        "colab": {
          "base_uri": "https://localhost:8080/"
        },
        "id": "4DTlyWYLtL83",
        "outputId": "b5cf6541-91d8-4850-dd8a-3b81af71246c"
      },
      "source": [
        "# Create a tensor directly from a NumPy array\n",
        "print(tf.constant(np.arange(12, dtype = np.float32)))"
      ],
      "execution_count": null,
      "outputs": [
        {
          "output_type": "stream",
          "text": [
            "tf.Tensor([ 0.  1.  2.  3.  4.  5.  6.  7.  8.  9. 10. 11.], shape=(12,), dtype=float32)\n"
          ],
          "name": "stdout"
        }
      ]
    },
    {
      "cell_type": "code",
      "metadata": {
        "colab": {
          "base_uri": "https://localhost:8080/"
        },
        "id": "K33HezwTuMXP",
        "outputId": "84b6a8a1-d558-4606-ce36-e1f41790c42a"
      },
      "source": [
        "# Convert a tensor into a NumPy array\n",
        "x = tf.constant([1, 3, 2])\n",
        "x.numpy()"
      ],
      "execution_count": null,
      "outputs": [
        {
          "output_type": "execute_result",
          "data": {
            "text/plain": [
              "array([1, 3, 2], dtype=int32)"
            ]
          },
          "metadata": {
            "tags": []
          },
          "execution_count": 53
        }
      ]
    },
    {
      "cell_type": "markdown",
      "metadata": {
        "id": "XCQc_cEWvTVe"
      },
      "source": [
        "---------\n"
      ]
    },
    {
      "cell_type": "markdown",
      "metadata": {
        "id": "_bp4lmLTvVZZ"
      },
      "source": [
        "## Neural Networks for Regression Problems"
      ]
    },
    {
      "cell_type": "code",
      "metadata": {
        "id": "uzwXgUtIwK9A"
      },
      "source": [
        "import tensorflow as tf \n",
        "import numpy as np \n",
        "import matplotlib.pyplot as plt "
      ],
      "execution_count": null,
      "outputs": []
    },
    {
      "cell_type": "code",
      "metadata": {
        "id": "YF0OLx-2crO_"
      },
      "source": [
        "x = np.random.normal(size = 15)\n",
        "y = 0.56*x + 3.85 + np.random.normal(size = 15, scale = 0.5)"
      ],
      "execution_count": null,
      "outputs": []
    },
    {
      "cell_type": "code",
      "metadata": {
        "colab": {
          "base_uri": "https://localhost:8080/",
          "height": 265
        },
        "id": "NF-Jab7tcyMi",
        "outputId": "f84901bb-07b5-4434-9703-e9607b11ece0"
      },
      "source": [
        "plt.scatter(x, y);"
      ],
      "execution_count": null,
      "outputs": [
        {
          "output_type": "display_data",
          "data": {
            "image/png": "[encoded data removed]",
            "text/plain": [
              "<Figure size 432x288 with 1 Axes>"
            ]
          },
          "metadata": {
            "tags": [],
            "needs_background": "light"
          }
        }
      ]
    },
    {
      "cell_type": "code",
      "metadata": {
        "colab": {
          "base_uri": "https://localhost:8080/"
        },
        "id": "Fcb_V7MBc7BA",
        "outputId": "526b9fdd-4938-4180-d2d5-66723ad812c1"
      },
      "source": [
        "# Let's take a look at input and output shapes\n",
        "print('Shape of x:', np.shape(x))\n",
        "print('Shape of y:', np.shape(y))"
      ],
      "execution_count": null,
      "outputs": [
        {
          "output_type": "stream",
          "text": [
            "Shape of x: (15,)\n",
            "Shape of y: (15,)\n"
          ],
          "name": "stdout"
        }
      ]
    },
    {
      "cell_type": "code",
      "metadata": {
        "colab": {
          "base_uri": "https://localhost:8080/"
        },
        "id": "ezAASEvVfYDc",
        "outputId": "dd7b9b57-f706-438a-d1c7-fe61357953d6"
      },
      "source": [
        "x = tf.constant(x)\n",
        "y = tf.constant(y)\n",
        "x"
      ],
      "execution_count": null,
      "outputs": [
        {
          "output_type": "execute_result",
          "data": {
            "text/plain": [
              "<tf.Tensor: shape=(15,), dtype=float64, numpy=\n",
              "array([ 1.17301847, -0.42344108, -1.31660825,  0.92662454, -1.68854425,\n",
              "       -0.36206493, -1.10371814,  1.88256795, -1.49147019,  1.76330934,\n",
              "       -0.87385565, -0.14716105, -0.18162683, -0.3598732 ,  1.86973568])>"
            ]
          },
          "metadata": {
            "tags": []
          },
          "execution_count": 34
        }
      ]
    },
    {
      "cell_type": "markdown",
      "metadata": {
        "id": "H340jvJNg2Bj"
      },
      "source": [
        "### Steps in Modelling with TensorFlow"
      ]
    },
    {
      "cell_type": "markdown",
      "metadata": {
        "id": "9ZpDQBQ0giCB"
      },
      "source": [
        "We have a few steps in modelling the relationship between input and output variables. The steps are:\n",
        "\n",
        "\n",
        "1.   Create a model - define the input, hidden, and output layers\n",
        "2.   Compile a model - define the loss function, the optimizer, and evaluation metric\n",
        "3.   Fitting a model\n",
        "\n"
      ]
    },
    {
      "cell_type": "code",
      "metadata": {
        "colab": {
          "base_uri": "https://localhost:8080/"
        },
        "id": "C5v2dTLWgosJ",
        "outputId": "9f3a0b26-293a-4691-b374-04e4a20c597c"
      },
      "source": [
        "# Set random seed\n",
        "tf.random.set_seed(42)\n",
        "\n",
        "# 1. Create a model using the sequential API\n",
        "model = tf.keras.Sequential(\n",
        "    layers = [tf.keras.layers.Dense(1)]  # the output layer, outputs one number\n",
        "    )\n",
        "\n",
        "# 2. Compile the model\n",
        "model.compile(\n",
        "    loss = tf.keras.losses.mse, \n",
        "    optimizer = tf.keras.optimizers.SGD(), \n",
        "    metrics = ['mse']\n",
        "    )\n",
        "\n",
        "# 3. Fit the model\n",
        "model.fit(x, y, epochs = 10) # ten runs through the dataset"
      ],
      "execution_count": null,
      "outputs": [
        {
          "output_type": "stream",
          "text": [
            "Epoch 1/10\n",
            "1/1 [==============================] - 0s 330ms/step - loss: 13.9868 - mse: 13.9868\n",
            "Epoch 2/10\n",
            "1/1 [==============================] - 0s 8ms/step - loss: 13.4366 - mse: 13.4366\n",
            "Epoch 3/10\n",
            "1/1 [==============================] - 0s 6ms/step - loss: 12.9083 - mse: 12.9083\n",
            "Epoch 4/10\n",
            "1/1 [==============================] - 0s 10ms/step - loss: 12.4010 - mse: 12.4010\n",
            "Epoch 5/10\n",
            "1/1 [==============================] - 0s 6ms/step - loss: 11.9138 - mse: 11.9138\n",
            "Epoch 6/10\n",
            "1/1 [==============================] - 0s 13ms/step - loss: 11.4460 - mse: 11.4460\n",
            "Epoch 7/10\n",
            "1/1 [==============================] - 0s 6ms/step - loss: 10.9968 - mse: 10.9968\n",
            "Epoch 8/10\n",
            "1/1 [==============================] - 0s 5ms/step - loss: 10.5655 - mse: 10.5655\n",
            "Epoch 9/10\n",
            "1/1 [==============================] - 0s 8ms/step - loss: 10.1513 - mse: 10.1513\n",
            "Epoch 10/10\n",
            "1/1 [==============================] - 0s 6ms/step - loss: 9.7535 - mse: 9.7535\n"
          ],
          "name": "stdout"
        },
        {
          "output_type": "execute_result",
          "data": {
            "text/plain": [
              "<tensorflow.python.keras.callbacks.History at 0x7f559b6f6d90>"
            ]
          },
          "metadata": {
            "tags": []
          },
          "execution_count": 35
        }
      ]
    },
    {
      "cell_type": "code",
      "metadata": {
        "colab": {
          "base_uri": "https://localhost:8080/"
        },
        "id": "pt7bk9HIuHSz",
        "outputId": "31b83a30-209f-4143-c99c-8d2728e6b836"
      },
      "source": [
        "model.predict(x)"
      ],
      "execution_count": null,
      "outputs": [
        {
          "output_type": "stream",
          "text": [
            "WARNING:tensorflow:5 out of the last 9 calls to <function Model.make_predict_function.<locals>.predict_function at 0x7f559b66acb0> triggered tf.function retracing. Tracing is expensive and the excessive number of tracings could be due to (1) creating @tf.function repeatedly in a loop, (2) passing tensors with different shapes, (3) passing Python objects instead of tensors. For (1), please define your @tf.function outside of the loop. For (2), @tf.function has experimental_relax_shapes=True option that relaxes argument shapes that can avoid unnecessary retracing. For (3), please refer to https://www.tensorflow.org/guide/function#controlling_retracing and https://www.tensorflow.org/api_docs/python/tf/function for  more details.\n"
          ],
          "name": "stdout"
        },
        {
          "output_type": "execute_result",
          "data": {
            "text/plain": [
              "array([[ 1.3056273 ],\n",
              "       [ 0.45499268],\n",
              "       [-0.02090973],\n",
              "       [ 1.1743424 ],\n",
              "       [-0.21908683],\n",
              "       [ 0.4876955 ],\n",
              "       [ 0.09252357],\n",
              "       [ 1.6836936 ],\n",
              "       [-0.11408067],\n",
              "       [ 1.6201496 ],\n",
              "       [ 0.21500021],\n",
              "       [ 0.6022018 ],\n",
              "       [ 0.5838375 ],\n",
              "       [ 0.4888633 ],\n",
              "       [ 1.6768563 ]], dtype=float32)"
            ]
          },
          "metadata": {
            "tags": []
          },
          "execution_count": 36
        }
      ]
    },
    {
      "cell_type": "markdown",
      "metadata": {
        "id": "VkquIZb020dn"
      },
      "source": [
        "### Improving the Model"
      ]
    },
    {
      "cell_type": "markdown",
      "metadata": {
        "id": "N1lZ5i-L5mux"
      },
      "source": [
        "The previous model was not that good - predictions were significantly off. However, we can improve the model by adding new hidden layers, apply different activation functions, increasing the number of epochs, etc."
      ]
    },
    {
      "cell_type": "code",
      "metadata": {
        "id": "lf_cUqgq3FbW",
        "colab": {
          "base_uri": "https://localhost:8080/"
        },
        "outputId": "7c4f24cd-af42-4bf1-8c05-54c2694adcfc"
      },
      "source": [
        "tf.random.set_seed(42)\n",
        "\n",
        "model = tf.keras.Sequential()\n",
        "model.add(tf.keras.layers.Dense(100, activation = 'relu')) # First hidden layes has 100 neurons\n",
        "model.add(tf.keras.layers.Dense(50, activation = 'relu')) # The second hidden layer has 50 neurons\n",
        "model.add(tf.keras.layers.Dense(50, activation = 'relu')) # The third hidden layer has 30 neurons\n",
        "model.add(tf.keras.layers.Dense(1)) # default activation is linear activation\n",
        "\n",
        "# adam optimizer; you can experiment with learning rate as well\n",
        "model.compile(optimizer = tf.keras.optimizers.Adam(), loss = 'mse', metrics = ['mse', 'mae']) \n",
        "\n",
        "model.fit(x, y, epochs = 1000) # 1000 epochs"
      ],
      "execution_count": null,
      "outputs": [
        {
          "output_type": "stream",
          "text": [
            "Epoch 1/1000\n",
            "1/1 [==============================] - 1s 612ms/step - loss: 14.0184 - mse: 14.0184 - mae: 3.6909\n",
            "Epoch 2/1000\n",
            "1/1 [==============================] - 0s 8ms/step - loss: 13.7477 - mse: 13.7477 - mae: 3.6520\n",
            "Epoch 3/1000\n",
            "1/1 [==============================] - 0s 6ms/step - loss: 13.4972 - mse: 13.4972 - mae: 3.6159\n",
            "Epoch 4/1000\n",
            "1/1 [==============================] - 0s 14ms/step - loss: 13.2579 - mse: 13.2579 - mae: 3.5807\n",
            "Epoch 5/1000\n",
            "1/1 [==============================] - 0s 6ms/step - loss: 13.0226 - mse: 13.0226 - mae: 3.5457\n",
            "Epoch 6/1000\n",
            "1/1 [==============================] - 0s 7ms/step - loss: 12.7876 - mse: 12.7876 - mae: 3.5108\n",
            "Epoch 7/1000\n",
            "1/1 [==============================] - 0s 9ms/step - loss: 12.5538 - mse: 12.5538 - mae: 3.4756\n",
            "Epoch 8/1000\n",
            "1/1 [==============================] - 0s 8ms/step - loss: 12.3221 - mse: 12.3221 - mae: 3.4403\n",
            "Epoch 9/1000\n",
            "1/1 [==============================] - 0s 9ms/step - loss: 12.0872 - mse: 12.0872 - mae: 3.4040\n",
            "Epoch 10/1000\n",
            "1/1 [==============================] - 0s 5ms/step - loss: 11.8532 - mse: 11.8532 - mae: 3.3675\n",
            "Epoch 11/1000\n",
            "1/1 [==============================] - 0s 10ms/step - loss: 11.6172 - mse: 11.6172 - mae: 3.3304\n",
            "Epoch 12/1000\n",
            "1/1 [==============================] - 0s 12ms/step - loss: 11.3763 - mse: 11.3763 - mae: 3.2921\n",
            "Epoch 13/1000\n",
            "1/1 [==============================] - 0s 13ms/step - loss: 11.1261 - mse: 11.1261 - mae: 3.2519\n",
            "Epoch 14/1000\n",
            "1/1 [==============================] - 0s 7ms/step - loss: 10.8686 - mse: 10.8686 - mae: 3.2102\n",
            "Epoch 15/1000\n",
            "1/1 [==============================] - 0s 8ms/step - loss: 10.6083 - mse: 10.6083 - mae: 3.1675\n",
            "Epoch 16/1000\n",
            "1/1 [==============================] - 0s 11ms/step - loss: 10.3381 - mse: 10.3381 - mae: 3.1225\n",
            "Epoch 17/1000\n",
            "1/1 [==============================] - 0s 8ms/step - loss: 10.0574 - mse: 10.0574 - mae: 3.0751\n",
            "Epoch 18/1000\n",
            "1/1 [==============================] - 0s 9ms/step - loss: 9.7651 - mse: 9.7651 - mae: 3.0245\n",
            "Epoch 19/1000\n",
            "1/1 [==============================] - 0s 9ms/step - loss: 9.4636 - mse: 9.4636 - mae: 2.9712\n",
            "Epoch 20/1000\n",
            "1/1 [==============================] - 0s 9ms/step - loss: 9.1527 - mse: 9.1527 - mae: 2.9149\n",
            "Epoch 21/1000\n",
            "1/1 [==============================] - 0s 10ms/step - loss: 8.8277 - mse: 8.8277 - mae: 2.8549\n",
            "Epoch 22/1000\n",
            "1/1 [==============================] - 0s 12ms/step - loss: 8.4928 - mse: 8.4928 - mae: 2.7914\n",
            "Epoch 23/1000\n",
            "1/1 [==============================] - 0s 12ms/step - loss: 8.1460 - mse: 8.1460 - mae: 2.7236\n",
            "Epoch 24/1000\n",
            "1/1 [==============================] - 0s 8ms/step - loss: 7.7907 - mse: 7.7907 - mae: 2.6517\n",
            "Epoch 25/1000\n",
            "1/1 [==============================] - 0s 11ms/step - loss: 7.4285 - mse: 7.4285 - mae: 2.5757\n",
            "Epoch 26/1000\n",
            "1/1 [==============================] - 0s 7ms/step - loss: 7.0583 - mse: 7.0583 - mae: 2.4950\n",
            "Epoch 27/1000\n",
            "1/1 [==============================] - 0s 11ms/step - loss: 6.6821 - mse: 6.6821 - mae: 2.4094\n",
            "Epoch 28/1000\n",
            "1/1 [==============================] - 0s 11ms/step - loss: 6.2985 - mse: 6.2985 - mae: 2.3181\n",
            "Epoch 29/1000\n",
            "1/1 [==============================] - 0s 8ms/step - loss: 5.9134 - mse: 5.9134 - mae: 2.2215\n",
            "Epoch 30/1000\n",
            "1/1 [==============================] - 0s 7ms/step - loss: 5.5298 - mse: 5.5298 - mae: 2.1186\n",
            "Epoch 31/1000\n",
            "1/1 [==============================] - 0s 13ms/step - loss: 5.1532 - mse: 5.1532 - mae: 2.0274\n",
            "Epoch 32/1000\n",
            "1/1 [==============================] - 0s 12ms/step - loss: 4.7867 - mse: 4.7867 - mae: 1.9487\n",
            "Epoch 33/1000\n",
            "1/1 [==============================] - 0s 11ms/step - loss: 4.4330 - mse: 4.4330 - mae: 1.8776\n",
            "Epoch 34/1000\n",
            "1/1 [==============================] - 0s 10ms/step - loss: 4.0977 - mse: 4.0977 - mae: 1.8035\n",
            "Epoch 35/1000\n",
            "1/1 [==============================] - 0s 17ms/step - loss: 3.7845 - mse: 3.7845 - mae: 1.7264\n",
            "Epoch 36/1000\n",
            "1/1 [==============================] - 0s 9ms/step - loss: 3.4974 - mse: 3.4974 - mae: 1.6467\n",
            "Epoch 37/1000\n",
            "1/1 [==============================] - 0s 17ms/step - loss: 3.2407 - mse: 3.2407 - mae: 1.5738\n",
            "Epoch 38/1000\n",
            "1/1 [==============================] - 0s 10ms/step - loss: 3.0171 - mse: 3.0171 - mae: 1.5118\n",
            "Epoch 39/1000\n",
            "1/1 [==============================] - 0s 8ms/step - loss: 2.8293 - mse: 2.8293 - mae: 1.4480\n",
            "Epoch 40/1000\n",
            "1/1 [==============================] - 0s 13ms/step - loss: 2.6791 - mse: 2.6791 - mae: 1.3831\n",
            "Epoch 41/1000\n",
            "1/1 [==============================] - 0s 14ms/step - loss: 2.5661 - mse: 2.5661 - mae: 1.3175\n",
            "Epoch 42/1000\n",
            "1/1 [==============================] - 0s 14ms/step - loss: 2.4874 - mse: 2.4874 - mae: 1.2922\n",
            "Epoch 43/1000\n",
            "1/1 [==============================] - 0s 12ms/step - loss: 2.4387 - mse: 2.4387 - mae: 1.2915\n",
            "Epoch 44/1000\n",
            "1/1 [==============================] - 0s 14ms/step - loss: 2.4135 - mse: 2.4135 - mae: 1.2884\n",
            "Epoch 45/1000\n",
            "1/1 [==============================] - 0s 11ms/step - loss: 2.4043 - mse: 2.4043 - mae: 1.3090\n",
            "Epoch 46/1000\n",
            "1/1 [==============================] - 0s 7ms/step - loss: 2.4018 - mse: 2.4018 - mae: 1.3289\n",
            "Epoch 47/1000\n",
            "1/1 [==============================] - 0s 13ms/step - loss: 2.4002 - mse: 2.4002 - mae: 1.3421\n",
            "Epoch 48/1000\n",
            "1/1 [==============================] - 0s 12ms/step - loss: 2.3911 - mse: 2.3911 - mae: 1.3476\n",
            "Epoch 49/1000\n",
            "1/1 [==============================] - 0s 15ms/step - loss: 2.3706 - mse: 2.3706 - mae: 1.3459\n",
            "Epoch 50/1000\n",
            "1/1 [==============================] - 0s 8ms/step - loss: 2.3362 - mse: 2.3362 - mae: 1.3374\n",
            "Epoch 51/1000\n",
            "1/1 [==============================] - 0s 13ms/step - loss: 2.2891 - mse: 2.2891 - mae: 1.3226\n",
            "Epoch 52/1000\n",
            "1/1 [==============================] - 0s 22ms/step - loss: 2.2342 - mse: 2.2342 - mae: 1.3087\n",
            "Epoch 53/1000\n",
            "1/1 [==============================] - 0s 13ms/step - loss: 2.1723 - mse: 2.1723 - mae: 1.2901\n",
            "Epoch 54/1000\n",
            "1/1 [==============================] - 0s 16ms/step - loss: 2.1052 - mse: 2.1052 - mae: 1.2666\n",
            "Epoch 55/1000\n",
            "1/1 [==============================] - 0s 12ms/step - loss: 2.0359 - mse: 2.0359 - mae: 1.2396\n",
            "Epoch 56/1000\n",
            "1/1 [==============================] - 0s 24ms/step - loss: 1.9654 - mse: 1.9654 - mae: 1.2154\n",
            "Epoch 57/1000\n",
            "1/1 [==============================] - 0s 9ms/step - loss: 1.8957 - mse: 1.8957 - mae: 1.1890\n",
            "Epoch 58/1000\n",
            "1/1 [==============================] - 0s 16ms/step - loss: 1.8294 - mse: 1.8294 - mae: 1.1638\n",
            "Epoch 59/1000\n",
            "1/1 [==============================] - 0s 9ms/step - loss: 1.7710 - mse: 1.7710 - mae: 1.1414\n",
            "Epoch 60/1000\n",
            "1/1 [==============================] - 0s 13ms/step - loss: 1.7183 - mse: 1.7183 - mae: 1.1239\n",
            "Epoch 61/1000\n",
            "1/1 [==============================] - 0s 9ms/step - loss: 1.6701 - mse: 1.6701 - mae: 1.1089\n",
            "Epoch 62/1000\n",
            "1/1 [==============================] - 0s 17ms/step - loss: 1.6257 - mse: 1.6257 - mae: 1.0936\n",
            "Epoch 63/1000\n",
            "1/1 [==============================] - 0s 13ms/step - loss: 1.5852 - mse: 1.5852 - mae: 1.0782\n",
            "Epoch 64/1000\n",
            "1/1 [==============================] - 0s 8ms/step - loss: 1.5474 - mse: 1.5474 - mae: 1.0630\n",
            "Epoch 65/1000\n",
            "1/1 [==============================] - 0s 14ms/step - loss: 1.5115 - mse: 1.5115 - mae: 1.0479\n",
            "Epoch 66/1000\n",
            "1/1 [==============================] - 0s 22ms/step - loss: 1.4765 - mse: 1.4765 - mae: 1.0333\n",
            "Epoch 67/1000\n",
            "1/1 [==============================] - 0s 7ms/step - loss: 1.4417 - mse: 1.4417 - mae: 1.0189\n",
            "Epoch 68/1000\n",
            "1/1 [==============================] - 0s 11ms/step - loss: 1.4065 - mse: 1.4065 - mae: 1.0046\n",
            "Epoch 69/1000\n",
            "1/1 [==============================] - 0s 6ms/step - loss: 1.3704 - mse: 1.3704 - mae: 0.9904\n",
            "Epoch 70/1000\n",
            "1/1 [==============================] - 0s 9ms/step - loss: 1.3333 - mse: 1.3333 - mae: 0.9760\n",
            "Epoch 71/1000\n",
            "1/1 [==============================] - 0s 13ms/step - loss: 1.2951 - mse: 1.2951 - mae: 0.9614\n",
            "Epoch 72/1000\n",
            "1/1 [==============================] - 0s 7ms/step - loss: 1.2565 - mse: 1.2565 - mae: 0.9468\n",
            "Epoch 73/1000\n",
            "1/1 [==============================] - 0s 9ms/step - loss: 1.2175 - mse: 1.2175 - mae: 0.9321\n",
            "Epoch 74/1000\n",
            "1/1 [==============================] - 0s 11ms/step - loss: 1.1787 - mse: 1.1787 - mae: 0.9174\n",
            "Epoch 75/1000\n",
            "1/1 [==============================] - 0s 16ms/step - loss: 1.1403 - mse: 1.1403 - mae: 0.9025\n",
            "Epoch 76/1000\n",
            "1/1 [==============================] - 0s 16ms/step - loss: 1.1030 - mse: 1.1030 - mae: 0.8877\n",
            "Epoch 77/1000\n",
            "1/1 [==============================] - 0s 13ms/step - loss: 1.0670 - mse: 1.0670 - mae: 0.8730\n",
            "Epoch 78/1000\n",
            "1/1 [==============================] - 0s 8ms/step - loss: 1.0324 - mse: 1.0324 - mae: 0.8583\n",
            "Epoch 79/1000\n",
            "1/1 [==============================] - 0s 13ms/step - loss: 0.9988 - mse: 0.9988 - mae: 0.8434\n",
            "Epoch 80/1000\n",
            "1/1 [==============================] - 0s 14ms/step - loss: 0.9665 - mse: 0.9665 - mae: 0.8284\n",
            "Epoch 81/1000\n",
            "1/1 [==============================] - 0s 11ms/step - loss: 0.9353 - mse: 0.9353 - mae: 0.8135\n",
            "Epoch 82/1000\n",
            "1/1 [==============================] - 0s 7ms/step - loss: 0.9052 - mse: 0.9052 - mae: 0.7984\n",
            "Epoch 83/1000\n",
            "1/1 [==============================] - 0s 12ms/step - loss: 0.8759 - mse: 0.8759 - mae: 0.7834\n",
            "Epoch 84/1000\n",
            "1/1 [==============================] - 0s 9ms/step - loss: 0.8470 - mse: 0.8470 - mae: 0.7684\n",
            "Epoch 85/1000\n",
            "1/1 [==============================] - 0s 12ms/step - loss: 0.8184 - mse: 0.8184 - mae: 0.7533\n",
            "Epoch 86/1000\n",
            "1/1 [==============================] - 0s 11ms/step - loss: 0.7899 - mse: 0.7899 - mae: 0.7387\n",
            "Epoch 87/1000\n",
            "1/1 [==============================] - 0s 9ms/step - loss: 0.7620 - mse: 0.7620 - mae: 0.7244\n",
            "Epoch 88/1000\n",
            "1/1 [==============================] - 0s 13ms/step - loss: 0.7341 - mse: 0.7341 - mae: 0.7106\n",
            "Epoch 89/1000\n",
            "1/1 [==============================] - 0s 11ms/step - loss: 0.7063 - mse: 0.7063 - mae: 0.6963\n",
            "Epoch 90/1000\n",
            "1/1 [==============================] - 0s 8ms/step - loss: 0.6789 - mse: 0.6789 - mae: 0.6827\n",
            "Epoch 91/1000\n",
            "1/1 [==============================] - 0s 12ms/step - loss: 0.6519 - mse: 0.6519 - mae: 0.6694\n",
            "Epoch 92/1000\n",
            "1/1 [==============================] - 0s 15ms/step - loss: 0.6252 - mse: 0.6252 - mae: 0.6559\n",
            "Epoch 93/1000\n",
            "1/1 [==============================] - 0s 12ms/step - loss: 0.5992 - mse: 0.5992 - mae: 0.6424\n",
            "Epoch 94/1000\n",
            "1/1 [==============================] - 0s 10ms/step - loss: 0.5740 - mse: 0.5740 - mae: 0.6289\n",
            "Epoch 95/1000\n",
            "1/1 [==============================] - 0s 15ms/step - loss: 0.5492 - mse: 0.5492 - mae: 0.6152\n",
            "Epoch 96/1000\n",
            "1/1 [==============================] - 0s 8ms/step - loss: 0.5253 - mse: 0.5253 - mae: 0.6015\n",
            "Epoch 97/1000\n",
            "1/1 [==============================] - 0s 7ms/step - loss: 0.5022 - mse: 0.5022 - mae: 0.5881\n",
            "Epoch 98/1000\n",
            "1/1 [==============================] - 0s 12ms/step - loss: 0.4800 - mse: 0.4800 - mae: 0.5749\n",
            "Epoch 99/1000\n",
            "1/1 [==============================] - 0s 11ms/step - loss: 0.4585 - mse: 0.4585 - mae: 0.5618\n",
            "Epoch 100/1000\n",
            "1/1 [==============================] - 0s 15ms/step - loss: 0.4379 - mse: 0.4379 - mae: 0.5489\n",
            "Epoch 101/1000\n",
            "1/1 [==============================] - 0s 8ms/step - loss: 0.4182 - mse: 0.4182 - mae: 0.5362\n",
            "Epoch 102/1000\n",
            "1/1 [==============================] - 0s 9ms/step - loss: 0.3991 - mse: 0.3991 - mae: 0.5233\n",
            "Epoch 103/1000\n",
            "1/1 [==============================] - 0s 16ms/step - loss: 0.3806 - mse: 0.3806 - mae: 0.5103\n",
            "Epoch 104/1000\n",
            "1/1 [==============================] - 0s 8ms/step - loss: 0.3633 - mse: 0.3633 - mae: 0.4981\n",
            "Epoch 105/1000\n",
            "1/1 [==============================] - 0s 10ms/step - loss: 0.3466 - mse: 0.3466 - mae: 0.4860\n",
            "Epoch 106/1000\n",
            "1/1 [==============================] - 0s 9ms/step - loss: 0.3305 - mse: 0.3305 - mae: 0.4741\n",
            "Epoch 107/1000\n",
            "1/1 [==============================] - 0s 10ms/step - loss: 0.3150 - mse: 0.3150 - mae: 0.4623\n",
            "Epoch 108/1000\n",
            "1/1 [==============================] - 0s 20ms/step - loss: 0.3001 - mse: 0.3001 - mae: 0.4506\n",
            "Epoch 109/1000\n",
            "1/1 [==============================] - 0s 23ms/step - loss: 0.2860 - mse: 0.2860 - mae: 0.4398\n",
            "Epoch 110/1000\n",
            "1/1 [==============================] - 0s 10ms/step - loss: 0.2723 - mse: 0.2723 - mae: 0.4292\n",
            "Epoch 111/1000\n",
            "1/1 [==============================] - 0s 15ms/step - loss: 0.2593 - mse: 0.2593 - mae: 0.4188\n",
            "Epoch 112/1000\n",
            "1/1 [==============================] - 0s 5ms/step - loss: 0.2468 - mse: 0.2468 - mae: 0.4084\n",
            "Epoch 113/1000\n",
            "1/1 [==============================] - 0s 21ms/step - loss: 0.2349 - mse: 0.2349 - mae: 0.3982\n",
            "Epoch 114/1000\n",
            "1/1 [==============================] - 0s 7ms/step - loss: 0.2235 - mse: 0.2235 - mae: 0.3881\n",
            "Epoch 115/1000\n",
            "1/1 [==============================] - 0s 15ms/step - loss: 0.2125 - mse: 0.2125 - mae: 0.3780\n",
            "Epoch 116/1000\n",
            "1/1 [==============================] - 0s 9ms/step - loss: 0.2020 - mse: 0.2020 - mae: 0.3704\n",
            "Epoch 117/1000\n",
            "1/1 [==============================] - 0s 10ms/step - loss: 0.1919 - mse: 0.1919 - mae: 0.3632\n",
            "Epoch 118/1000\n",
            "1/1 [==============================] - 0s 10ms/step - loss: 0.1824 - mse: 0.1824 - mae: 0.3561\n",
            "Epoch 119/1000\n",
            "1/1 [==============================] - 0s 15ms/step - loss: 0.1733 - mse: 0.1733 - mae: 0.3490\n",
            "Epoch 120/1000\n",
            "1/1 [==============================] - 0s 15ms/step - loss: 0.1648 - mse: 0.1648 - mae: 0.3421\n",
            "Epoch 121/1000\n",
            "1/1 [==============================] - 0s 10ms/step - loss: 0.1568 - mse: 0.1568 - mae: 0.3352\n",
            "Epoch 122/1000\n",
            "1/1 [==============================] - 0s 8ms/step - loss: 0.1492 - mse: 0.1492 - mae: 0.3285\n",
            "Epoch 123/1000\n",
            "1/1 [==============================] - 0s 13ms/step - loss: 0.1420 - mse: 0.1420 - mae: 0.3219\n",
            "Epoch 124/1000\n",
            "1/1 [==============================] - 0s 16ms/step - loss: 0.1351 - mse: 0.1351 - mae: 0.3153\n",
            "Epoch 125/1000\n",
            "1/1 [==============================] - 0s 14ms/step - loss: 0.1285 - mse: 0.1285 - mae: 0.3086\n",
            "Epoch 126/1000\n",
            "1/1 [==============================] - 0s 8ms/step - loss: 0.1222 - mse: 0.1222 - mae: 0.3020\n",
            "Epoch 127/1000\n",
            "1/1 [==============================] - 0s 11ms/step - loss: 0.1159 - mse: 0.1159 - mae: 0.2951\n",
            "Epoch 128/1000\n",
            "1/1 [==============================] - 0s 8ms/step - loss: 0.1099 - mse: 0.1099 - mae: 0.2891\n",
            "Epoch 129/1000\n",
            "1/1 [==============================] - 0s 13ms/step - loss: 0.1043 - mse: 0.1043 - mae: 0.2840\n",
            "Epoch 130/1000\n",
            "1/1 [==============================] - 0s 19ms/step - loss: 0.0991 - mse: 0.0991 - mae: 0.2792\n",
            "Epoch 131/1000\n",
            "1/1 [==============================] - 0s 12ms/step - loss: 0.0945 - mse: 0.0945 - mae: 0.2746\n",
            "Epoch 132/1000\n",
            "1/1 [==============================] - 0s 14ms/step - loss: 0.0905 - mse: 0.0905 - mae: 0.2700\n",
            "Epoch 133/1000\n",
            "1/1 [==============================] - 0s 8ms/step - loss: 0.0867 - mse: 0.0867 - mae: 0.2653\n",
            "Epoch 134/1000\n",
            "1/1 [==============================] - 0s 9ms/step - loss: 0.0834 - mse: 0.0834 - mae: 0.2606\n",
            "Epoch 135/1000\n",
            "1/1 [==============================] - 0s 6ms/step - loss: 0.0803 - mse: 0.0803 - mae: 0.2559\n",
            "Epoch 136/1000\n",
            "1/1 [==============================] - 0s 10ms/step - loss: 0.0776 - mse: 0.0776 - mae: 0.2513\n",
            "Epoch 137/1000\n",
            "1/1 [==============================] - 0s 15ms/step - loss: 0.0754 - mse: 0.0754 - mae: 0.2473\n",
            "Epoch 138/1000\n",
            "1/1 [==============================] - 0s 7ms/step - loss: 0.0736 - mse: 0.0736 - mae: 0.2452\n",
            "Epoch 139/1000\n",
            "1/1 [==============================] - 0s 10ms/step - loss: 0.0720 - mse: 0.0720 - mae: 0.2431\n",
            "Epoch 140/1000\n",
            "1/1 [==============================] - 0s 9ms/step - loss: 0.0705 - mse: 0.0705 - mae: 0.2410\n",
            "Epoch 141/1000\n",
            "1/1 [==============================] - 0s 13ms/step - loss: 0.0692 - mse: 0.0692 - mae: 0.2391\n",
            "Epoch 142/1000\n",
            "1/1 [==============================] - 0s 19ms/step - loss: 0.0681 - mse: 0.0681 - mae: 0.2372\n",
            "Epoch 143/1000\n",
            "1/1 [==============================] - 0s 15ms/step - loss: 0.0671 - mse: 0.0671 - mae: 0.2353\n",
            "Epoch 144/1000\n",
            "1/1 [==============================] - 0s 11ms/step - loss: 0.0663 - mse: 0.0663 - mae: 0.2336\n",
            "Epoch 145/1000\n",
            "1/1 [==============================] - 0s 26ms/step - loss: 0.0656 - mse: 0.0656 - mae: 0.2319\n",
            "Epoch 146/1000\n",
            "1/1 [==============================] - 0s 16ms/step - loss: 0.0650 - mse: 0.0650 - mae: 0.2303\n",
            "Epoch 147/1000\n",
            "1/1 [==============================] - 0s 9ms/step - loss: 0.0645 - mse: 0.0645 - mae: 0.2287\n",
            "Epoch 148/1000\n",
            "1/1 [==============================] - 0s 13ms/step - loss: 0.0639 - mse: 0.0639 - mae: 0.2272\n",
            "Epoch 149/1000\n",
            "1/1 [==============================] - 0s 15ms/step - loss: 0.0635 - mse: 0.0635 - mae: 0.2257\n",
            "Epoch 150/1000\n",
            "1/1 [==============================] - 0s 6ms/step - loss: 0.0630 - mse: 0.0630 - mae: 0.2243\n",
            "Epoch 151/1000\n",
            "1/1 [==============================] - 0s 17ms/step - loss: 0.0627 - mse: 0.0627 - mae: 0.2231\n",
            "Epoch 152/1000\n",
            "1/1 [==============================] - 0s 6ms/step - loss: 0.0624 - mse: 0.0624 - mae: 0.2220\n",
            "Epoch 153/1000\n",
            "1/1 [==============================] - 0s 13ms/step - loss: 0.0623 - mse: 0.0623 - mae: 0.2210\n",
            "Epoch 154/1000\n",
            "1/1 [==============================] - 0s 15ms/step - loss: 0.0622 - mse: 0.0622 - mae: 0.2200\n",
            "Epoch 155/1000\n",
            "1/1 [==============================] - 0s 12ms/step - loss: 0.0621 - mse: 0.0621 - mae: 0.2191\n",
            "Epoch 156/1000\n",
            "1/1 [==============================] - 0s 12ms/step - loss: 0.0620 - mse: 0.0620 - mae: 0.2183\n",
            "Epoch 157/1000\n",
            "1/1 [==============================] - 0s 9ms/step - loss: 0.0619 - mse: 0.0619 - mae: 0.2177\n",
            "Epoch 158/1000\n",
            "1/1 [==============================] - 0s 16ms/step - loss: 0.0618 - mse: 0.0618 - mae: 0.2171\n",
            "Epoch 159/1000\n",
            "1/1 [==============================] - 0s 7ms/step - loss: 0.0618 - mse: 0.0618 - mae: 0.2166\n",
            "Epoch 160/1000\n",
            "1/1 [==============================] - 0s 13ms/step - loss: 0.0617 - mse: 0.0617 - mae: 0.2162\n",
            "Epoch 161/1000\n",
            "1/1 [==============================] - 0s 21ms/step - loss: 0.0616 - mse: 0.0616 - mae: 0.2157\n",
            "Epoch 162/1000\n",
            "1/1 [==============================] - 0s 8ms/step - loss: 0.0616 - mse: 0.0616 - mae: 0.2154\n",
            "Epoch 163/1000\n",
            "1/1 [==============================] - 0s 10ms/step - loss: 0.0615 - mse: 0.0615 - mae: 0.2151\n",
            "Epoch 164/1000\n",
            "1/1 [==============================] - 0s 10ms/step - loss: 0.0614 - mse: 0.0614 - mae: 0.2148\n",
            "Epoch 165/1000\n",
            "1/1 [==============================] - 0s 20ms/step - loss: 0.0614 - mse: 0.0614 - mae: 0.2146\n",
            "Epoch 166/1000\n",
            "1/1 [==============================] - 0s 12ms/step - loss: 0.0613 - mse: 0.0613 - mae: 0.2145\n",
            "Epoch 167/1000\n",
            "1/1 [==============================] - 0s 7ms/step - loss: 0.0612 - mse: 0.0612 - mae: 0.2143\n",
            "Epoch 168/1000\n",
            "1/1 [==============================] - 0s 11ms/step - loss: 0.0612 - mse: 0.0612 - mae: 0.2143\n",
            "Epoch 169/1000\n",
            "1/1 [==============================] - 0s 10ms/step - loss: 0.0611 - mse: 0.0611 - mae: 0.2141\n",
            "Epoch 170/1000\n",
            "1/1 [==============================] - 0s 14ms/step - loss: 0.0610 - mse: 0.0610 - mae: 0.2140\n",
            "Epoch 171/1000\n",
            "1/1 [==============================] - 0s 7ms/step - loss: 0.0610 - mse: 0.0610 - mae: 0.2140\n",
            "Epoch 172/1000\n",
            "1/1 [==============================] - 0s 9ms/step - loss: 0.0609 - mse: 0.0609 - mae: 0.2138\n",
            "Epoch 173/1000\n",
            "1/1 [==============================] - 0s 9ms/step - loss: 0.0608 - mse: 0.0608 - mae: 0.2138\n",
            "Epoch 174/1000\n",
            "1/1 [==============================] - 0s 12ms/step - loss: 0.0608 - mse: 0.0608 - mae: 0.2137\n",
            "Epoch 175/1000\n",
            "1/1 [==============================] - 0s 7ms/step - loss: 0.0607 - mse: 0.0607 - mae: 0.2136\n",
            "Epoch 176/1000\n",
            "1/1 [==============================] - 0s 9ms/step - loss: 0.0607 - mse: 0.0607 - mae: 0.2136\n",
            "Epoch 177/1000\n",
            "1/1 [==============================] - 0s 9ms/step - loss: 0.0606 - mse: 0.0606 - mae: 0.2136\n",
            "Epoch 178/1000\n",
            "1/1 [==============================] - 0s 10ms/step - loss: 0.0605 - mse: 0.0605 - mae: 0.2136\n",
            "Epoch 179/1000\n",
            "1/1 [==============================] - 0s 11ms/step - loss: 0.0604 - mse: 0.0604 - mae: 0.2136\n",
            "Epoch 180/1000\n",
            "1/1 [==============================] - 0s 7ms/step - loss: 0.0604 - mse: 0.0604 - mae: 0.2136\n",
            "Epoch 181/1000\n",
            "1/1 [==============================] - 0s 11ms/step - loss: 0.0603 - mse: 0.0603 - mae: 0.2137\n",
            "Epoch 182/1000\n",
            "1/1 [==============================] - 0s 9ms/step - loss: 0.0602 - mse: 0.0602 - mae: 0.2137\n",
            "Epoch 183/1000\n",
            "1/1 [==============================] - 0s 7ms/step - loss: 0.0602 - mse: 0.0602 - mae: 0.2138\n",
            "Epoch 184/1000\n",
            "1/1 [==============================] - 0s 11ms/step - loss: 0.0601 - mse: 0.0601 - mae: 0.2138\n",
            "Epoch 185/1000\n",
            "1/1 [==============================] - 0s 12ms/step - loss: 0.0601 - mse: 0.0601 - mae: 0.2139\n",
            "Epoch 186/1000\n",
            "1/1 [==============================] - 0s 16ms/step - loss: 0.0600 - mse: 0.0600 - mae: 0.2140\n",
            "Epoch 187/1000\n",
            "1/1 [==============================] - 0s 27ms/step - loss: 0.0600 - mse: 0.0600 - mae: 0.2141\n",
            "Epoch 188/1000\n",
            "1/1 [==============================] - 0s 7ms/step - loss: 0.0599 - mse: 0.0599 - mae: 0.2141\n",
            "Epoch 189/1000\n",
            "1/1 [==============================] - 0s 9ms/step - loss: 0.0599 - mse: 0.0599 - mae: 0.2142\n",
            "Epoch 190/1000\n",
            "1/1 [==============================] - 0s 10ms/step - loss: 0.0598 - mse: 0.0598 - mae: 0.2142\n",
            "Epoch 191/1000\n",
            "1/1 [==============================] - 0s 12ms/step - loss: 0.0598 - mse: 0.0598 - mae: 0.2142\n",
            "Epoch 192/1000\n",
            "1/1 [==============================] - 0s 11ms/step - loss: 0.0597 - mse: 0.0597 - mae: 0.2142\n",
            "Epoch 193/1000\n",
            "1/1 [==============================] - 0s 13ms/step - loss: 0.0597 - mse: 0.0597 - mae: 0.2142\n",
            "Epoch 194/1000\n",
            "1/1 [==============================] - 0s 15ms/step - loss: 0.0596 - mse: 0.0596 - mae: 0.2142\n",
            "Epoch 195/1000\n",
            "1/1 [==============================] - 0s 16ms/step - loss: 0.0596 - mse: 0.0596 - mae: 0.2142\n",
            "Epoch 196/1000\n",
            "1/1 [==============================] - 0s 11ms/step - loss: 0.0596 - mse: 0.0596 - mae: 0.2141\n",
            "Epoch 197/1000\n",
            "1/1 [==============================] - 0s 18ms/step - loss: 0.0595 - mse: 0.0595 - mae: 0.2141\n",
            "Epoch 198/1000\n",
            "1/1 [==============================] - 0s 27ms/step - loss: 0.0595 - mse: 0.0595 - mae: 0.2142\n",
            "Epoch 199/1000\n",
            "1/1 [==============================] - 0s 30ms/step - loss: 0.0594 - mse: 0.0594 - mae: 0.2141\n",
            "Epoch 200/1000\n",
            "1/1 [==============================] - 0s 19ms/step - loss: 0.0594 - mse: 0.0594 - mae: 0.2141\n",
            "Epoch 201/1000\n",
            "1/1 [==============================] - 0s 10ms/step - loss: 0.0593 - mse: 0.0593 - mae: 0.2141\n",
            "Epoch 202/1000\n",
            "1/1 [==============================] - 0s 7ms/step - loss: 0.0593 - mse: 0.0593 - mae: 0.2141\n",
            "Epoch 203/1000\n",
            "1/1 [==============================] - 0s 11ms/step - loss: 0.0592 - mse: 0.0592 - mae: 0.2141\n",
            "Epoch 204/1000\n",
            "1/1 [==============================] - 0s 8ms/step - loss: 0.0592 - mse: 0.0592 - mae: 0.2140\n",
            "Epoch 205/1000\n",
            "1/1 [==============================] - 0s 12ms/step - loss: 0.0592 - mse: 0.0592 - mae: 0.2140\n",
            "Epoch 206/1000\n",
            "1/1 [==============================] - 0s 11ms/step - loss: 0.0591 - mse: 0.0591 - mae: 0.2139\n",
            "Epoch 207/1000\n",
            "1/1 [==============================] - 0s 10ms/step - loss: 0.0591 - mse: 0.0591 - mae: 0.2139\n",
            "Epoch 208/1000\n",
            "1/1 [==============================] - 0s 12ms/step - loss: 0.0591 - mse: 0.0591 - mae: 0.2138\n",
            "Epoch 209/1000\n",
            "1/1 [==============================] - 0s 11ms/step - loss: 0.0590 - mse: 0.0590 - mae: 0.2138\n",
            "Epoch 210/1000\n",
            "1/1 [==============================] - 0s 8ms/step - loss: 0.0590 - mse: 0.0590 - mae: 0.2137\n",
            "Epoch 211/1000\n",
            "1/1 [==============================] - 0s 12ms/step - loss: 0.0589 - mse: 0.0589 - mae: 0.2136\n",
            "Epoch 212/1000\n",
            "1/1 [==============================] - 0s 14ms/step - loss: 0.0589 - mse: 0.0589 - mae: 0.2135\n",
            "Epoch 213/1000\n",
            "1/1 [==============================] - 0s 7ms/step - loss: 0.0589 - mse: 0.0589 - mae: 0.2135\n",
            "Epoch 214/1000\n",
            "1/1 [==============================] - 0s 13ms/step - loss: 0.0588 - mse: 0.0588 - mae: 0.2134\n",
            "Epoch 215/1000\n",
            "1/1 [==============================] - 0s 11ms/step - loss: 0.0588 - mse: 0.0588 - mae: 0.2133\n",
            "Epoch 216/1000\n",
            "1/1 [==============================] - 0s 7ms/step - loss: 0.0587 - mse: 0.0587 - mae: 0.2132\n",
            "Epoch 217/1000\n",
            "1/1 [==============================] - 0s 9ms/step - loss: 0.0587 - mse: 0.0587 - mae: 0.2131\n",
            "Epoch 218/1000\n",
            "1/1 [==============================] - 0s 9ms/step - loss: 0.0586 - mse: 0.0586 - mae: 0.2131\n",
            "Epoch 219/1000\n",
            "1/1 [==============================] - 0s 11ms/step - loss: 0.0586 - mse: 0.0586 - mae: 0.2130\n",
            "Epoch 220/1000\n",
            "1/1 [==============================] - 0s 9ms/step - loss: 0.0585 - mse: 0.0585 - mae: 0.2129\n",
            "Epoch 221/1000\n",
            "1/1 [==============================] - 0s 9ms/step - loss: 0.0585 - mse: 0.0585 - mae: 0.2128\n",
            "Epoch 222/1000\n",
            "1/1 [==============================] - 0s 12ms/step - loss: 0.0585 - mse: 0.0585 - mae: 0.2127\n",
            "Epoch 223/1000\n",
            "1/1 [==============================] - 0s 7ms/step - loss: 0.0584 - mse: 0.0584 - mae: 0.2126\n",
            "Epoch 224/1000\n",
            "1/1 [==============================] - 0s 10ms/step - loss: 0.0584 - mse: 0.0584 - mae: 0.2126\n",
            "Epoch 225/1000\n",
            "1/1 [==============================] - 0s 10ms/step - loss: 0.0583 - mse: 0.0583 - mae: 0.2125\n",
            "Epoch 226/1000\n",
            "1/1 [==============================] - 0s 23ms/step - loss: 0.0583 - mse: 0.0583 - mae: 0.2125\n",
            "Epoch 227/1000\n",
            "1/1 [==============================] - 0s 11ms/step - loss: 0.0582 - mse: 0.0582 - mae: 0.2124\n",
            "Epoch 228/1000\n",
            "1/1 [==============================] - 0s 7ms/step - loss: 0.0582 - mse: 0.0582 - mae: 0.2123\n",
            "Epoch 229/1000\n",
            "1/1 [==============================] - 0s 13ms/step - loss: 0.0582 - mse: 0.0582 - mae: 0.2122\n",
            "Epoch 230/1000\n",
            "1/1 [==============================] - 0s 12ms/step - loss: 0.0581 - mse: 0.0581 - mae: 0.2121\n",
            "Epoch 231/1000\n",
            "1/1 [==============================] - 0s 24ms/step - loss: 0.0581 - mse: 0.0581 - mae: 0.2121\n",
            "Epoch 232/1000\n",
            "1/1 [==============================] - 0s 13ms/step - loss: 0.0580 - mse: 0.0580 - mae: 0.2120\n",
            "Epoch 233/1000\n",
            "1/1 [==============================] - 0s 8ms/step - loss: 0.0580 - mse: 0.0580 - mae: 0.2119\n",
            "Epoch 234/1000\n",
            "1/1 [==============================] - 0s 12ms/step - loss: 0.0580 - mse: 0.0580 - mae: 0.2119\n",
            "Epoch 235/1000\n",
            "1/1 [==============================] - 0s 8ms/step - loss: 0.0579 - mse: 0.0579 - mae: 0.2118\n",
            "Epoch 236/1000\n",
            "1/1 [==============================] - 0s 12ms/step - loss: 0.0579 - mse: 0.0579 - mae: 0.2117\n",
            "Epoch 237/1000\n",
            "1/1 [==============================] - 0s 9ms/step - loss: 0.0579 - mse: 0.0579 - mae: 0.2117\n",
            "Epoch 238/1000\n",
            "1/1 [==============================] - 0s 9ms/step - loss: 0.0578 - mse: 0.0578 - mae: 0.2116\n",
            "Epoch 239/1000\n",
            "1/1 [==============================] - 0s 10ms/step - loss: 0.0578 - mse: 0.0578 - mae: 0.2116\n",
            "Epoch 240/1000\n",
            "1/1 [==============================] - 0s 14ms/step - loss: 0.0578 - mse: 0.0578 - mae: 0.2115\n",
            "Epoch 241/1000\n",
            "1/1 [==============================] - 0s 7ms/step - loss: 0.0577 - mse: 0.0577 - mae: 0.2115\n",
            "Epoch 242/1000\n",
            "1/1 [==============================] - 0s 10ms/step - loss: 0.0577 - mse: 0.0577 - mae: 0.2114\n",
            "Epoch 243/1000\n",
            "1/1 [==============================] - 0s 14ms/step - loss: 0.0577 - mse: 0.0577 - mae: 0.2114\n",
            "Epoch 244/1000\n",
            "1/1 [==============================] - 0s 9ms/step - loss: 0.0576 - mse: 0.0576 - mae: 0.2113\n",
            "Epoch 245/1000\n",
            "1/1 [==============================] - 0s 20ms/step - loss: 0.0576 - mse: 0.0576 - mae: 0.2113\n",
            "Epoch 246/1000\n",
            "1/1 [==============================] - 0s 7ms/step - loss: 0.0576 - mse: 0.0576 - mae: 0.2112\n",
            "Epoch 247/1000\n",
            "1/1 [==============================] - 0s 14ms/step - loss: 0.0575 - mse: 0.0575 - mae: 0.2112\n",
            "Epoch 248/1000\n",
            "1/1 [==============================] - 0s 9ms/step - loss: 0.0575 - mse: 0.0575 - mae: 0.2111\n",
            "Epoch 249/1000\n",
            "1/1 [==============================] - 0s 13ms/step - loss: 0.0575 - mse: 0.0575 - mae: 0.2111\n",
            "Epoch 250/1000\n",
            "1/1 [==============================] - 0s 7ms/step - loss: 0.0574 - mse: 0.0574 - mae: 0.2110\n",
            "Epoch 251/1000\n",
            "1/1 [==============================] - 0s 32ms/step - loss: 0.0574 - mse: 0.0574 - mae: 0.2109\n",
            "Epoch 252/1000\n",
            "1/1 [==============================] - 0s 21ms/step - loss: 0.0574 - mse: 0.0574 - mae: 0.2109\n",
            "Epoch 253/1000\n",
            "1/1 [==============================] - 0s 22ms/step - loss: 0.0573 - mse: 0.0573 - mae: 0.2108\n",
            "Epoch 254/1000\n",
            "1/1 [==============================] - 0s 24ms/step - loss: 0.0573 - mse: 0.0573 - mae: 0.2108\n",
            "Epoch 255/1000\n",
            "1/1 [==============================] - 0s 10ms/step - loss: 0.0573 - mse: 0.0573 - mae: 0.2107\n",
            "Epoch 256/1000\n",
            "1/1 [==============================] - 0s 12ms/step - loss: 0.0572 - mse: 0.0572 - mae: 0.2107\n",
            "Epoch 257/1000\n",
            "1/1 [==============================] - 0s 10ms/step - loss: 0.0572 - mse: 0.0572 - mae: 0.2106\n",
            "Epoch 258/1000\n",
            "1/1 [==============================] - 0s 11ms/step - loss: 0.0571 - mse: 0.0571 - mae: 0.2106\n",
            "Epoch 259/1000\n",
            "1/1 [==============================] - 0s 14ms/step - loss: 0.0571 - mse: 0.0571 - mae: 0.2106\n",
            "Epoch 260/1000\n",
            "1/1 [==============================] - 0s 10ms/step - loss: 0.0571 - mse: 0.0571 - mae: 0.2105\n",
            "Epoch 261/1000\n",
            "1/1 [==============================] - 0s 10ms/step - loss: 0.0570 - mse: 0.0570 - mae: 0.2104\n",
            "Epoch 262/1000\n",
            "1/1 [==============================] - 0s 13ms/step - loss: 0.0570 - mse: 0.0570 - mae: 0.2104\n",
            "Epoch 263/1000\n",
            "1/1 [==============================] - 0s 12ms/step - loss: 0.0569 - mse: 0.0569 - mae: 0.2103\n",
            "Epoch 264/1000\n",
            "1/1 [==============================] - 0s 12ms/step - loss: 0.0569 - mse: 0.0569 - mae: 0.2103\n",
            "Epoch 265/1000\n",
            "1/1 [==============================] - 0s 11ms/step - loss: 0.0569 - mse: 0.0569 - mae: 0.2102\n",
            "Epoch 266/1000\n",
            "1/1 [==============================] - 0s 12ms/step - loss: 0.0568 - mse: 0.0568 - mae: 0.2101\n",
            "Epoch 267/1000\n",
            "1/1 [==============================] - 0s 11ms/step - loss: 0.0568 - mse: 0.0568 - mae: 0.2101\n",
            "Epoch 268/1000\n",
            "1/1 [==============================] - 0s 16ms/step - loss: 0.0568 - mse: 0.0568 - mae: 0.2100\n",
            "Epoch 269/1000\n",
            "1/1 [==============================] - 0s 16ms/step - loss: 0.0567 - mse: 0.0567 - mae: 0.2100\n",
            "Epoch 270/1000\n",
            "1/1 [==============================] - 0s 9ms/step - loss: 0.0567 - mse: 0.0567 - mae: 0.2099\n",
            "Epoch 271/1000\n",
            "1/1 [==============================] - 0s 25ms/step - loss: 0.0566 - mse: 0.0566 - mae: 0.2098\n",
            "Epoch 272/1000\n",
            "1/1 [==============================] - 0s 21ms/step - loss: 0.0566 - mse: 0.0566 - mae: 0.2098\n",
            "Epoch 273/1000\n",
            "1/1 [==============================] - 0s 13ms/step - loss: 0.0566 - mse: 0.0566 - mae: 0.2097\n",
            "Epoch 274/1000\n",
            "1/1 [==============================] - 0s 31ms/step - loss: 0.0565 - mse: 0.0565 - mae: 0.2097\n",
            "Epoch 275/1000\n",
            "1/1 [==============================] - 0s 13ms/step - loss: 0.0565 - mse: 0.0565 - mae: 0.2096\n",
            "Epoch 276/1000\n",
            "1/1 [==============================] - 0s 25ms/step - loss: 0.0564 - mse: 0.0564 - mae: 0.2096\n",
            "Epoch 277/1000\n",
            "1/1 [==============================] - 0s 25ms/step - loss: 0.0564 - mse: 0.0564 - mae: 0.2095\n",
            "Epoch 278/1000\n",
            "1/1 [==============================] - 0s 11ms/step - loss: 0.0564 - mse: 0.0564 - mae: 0.2095\n",
            "Epoch 279/1000\n",
            "1/1 [==============================] - 0s 11ms/step - loss: 0.0563 - mse: 0.0563 - mae: 0.2094\n",
            "Epoch 280/1000\n",
            "1/1 [==============================] - 0s 29ms/step - loss: 0.0563 - mse: 0.0563 - mae: 0.2093\n",
            "Epoch 281/1000\n",
            "1/1 [==============================] - 0s 7ms/step - loss: 0.0563 - mse: 0.0563 - mae: 0.2093\n",
            "Epoch 282/1000\n",
            "1/1 [==============================] - 0s 6ms/step - loss: 0.0562 - mse: 0.0562 - mae: 0.2092\n",
            "Epoch 283/1000\n",
            "1/1 [==============================] - 0s 9ms/step - loss: 0.0562 - mse: 0.0562 - mae: 0.2092\n",
            "Epoch 284/1000\n",
            "1/1 [==============================] - 0s 18ms/step - loss: 0.0561 - mse: 0.0561 - mae: 0.2091\n",
            "Epoch 285/1000\n",
            "1/1 [==============================] - 0s 15ms/step - loss: 0.0561 - mse: 0.0561 - mae: 0.2091\n",
            "Epoch 286/1000\n",
            "1/1 [==============================] - 0s 20ms/step - loss: 0.0561 - mse: 0.0561 - mae: 0.2090\n",
            "Epoch 287/1000\n",
            "1/1 [==============================] - 0s 9ms/step - loss: 0.0561 - mse: 0.0561 - mae: 0.2089\n",
            "Epoch 288/1000\n",
            "1/1 [==============================] - 0s 8ms/step - loss: 0.0560 - mse: 0.0560 - mae: 0.2089\n",
            "Epoch 289/1000\n",
            "1/1 [==============================] - 0s 10ms/step - loss: 0.0560 - mse: 0.0560 - mae: 0.2088\n",
            "Epoch 290/1000\n",
            "1/1 [==============================] - 0s 7ms/step - loss: 0.0560 - mse: 0.0560 - mae: 0.2088\n",
            "Epoch 291/1000\n",
            "1/1 [==============================] - 0s 10ms/step - loss: 0.0560 - mse: 0.0560 - mae: 0.2087\n",
            "Epoch 292/1000\n",
            "1/1 [==============================] - 0s 8ms/step - loss: 0.0559 - mse: 0.0559 - mae: 0.2087\n",
            "Epoch 293/1000\n",
            "1/1 [==============================] - 0s 8ms/step - loss: 0.0559 - mse: 0.0559 - mae: 0.2087\n",
            "Epoch 294/1000\n",
            "1/1 [==============================] - 0s 12ms/step - loss: 0.0559 - mse: 0.0559 - mae: 0.2086\n",
            "Epoch 295/1000\n",
            "1/1 [==============================] - 0s 8ms/step - loss: 0.0559 - mse: 0.0559 - mae: 0.2086\n",
            "Epoch 296/1000\n",
            "1/1 [==============================] - 0s 8ms/step - loss: 0.0558 - mse: 0.0558 - mae: 0.2086\n",
            "Epoch 297/1000\n",
            "1/1 [==============================] - 0s 13ms/step - loss: 0.0558 - mse: 0.0558 - mae: 0.2085\n",
            "Epoch 298/1000\n",
            "1/1 [==============================] - 0s 7ms/step - loss: 0.0558 - mse: 0.0558 - mae: 0.2084\n",
            "Epoch 299/1000\n",
            "1/1 [==============================] - 0s 9ms/step - loss: 0.0558 - mse: 0.0558 - mae: 0.2084\n",
            "Epoch 300/1000\n",
            "1/1 [==============================] - 0s 13ms/step - loss: 0.0557 - mse: 0.0557 - mae: 0.2083\n",
            "Epoch 301/1000\n",
            "1/1 [==============================] - 0s 12ms/step - loss: 0.0557 - mse: 0.0557 - mae: 0.2083\n",
            "Epoch 302/1000\n",
            "1/1 [==============================] - 0s 11ms/step - loss: 0.0557 - mse: 0.0557 - mae: 0.2082\n",
            "Epoch 303/1000\n",
            "1/1 [==============================] - 0s 30ms/step - loss: 0.0557 - mse: 0.0557 - mae: 0.2082\n",
            "Epoch 304/1000\n",
            "1/1 [==============================] - 0s 8ms/step - loss: 0.0556 - mse: 0.0556 - mae: 0.2081\n",
            "Epoch 305/1000\n",
            "1/1 [==============================] - 0s 16ms/step - loss: 0.0556 - mse: 0.0556 - mae: 0.2081\n",
            "Epoch 306/1000\n",
            "1/1 [==============================] - 0s 10ms/step - loss: 0.0556 - mse: 0.0556 - mae: 0.2080\n",
            "Epoch 307/1000\n",
            "1/1 [==============================] - 0s 9ms/step - loss: 0.0556 - mse: 0.0556 - mae: 0.2080\n",
            "Epoch 308/1000\n",
            "1/1 [==============================] - 0s 10ms/step - loss: 0.0555 - mse: 0.0555 - mae: 0.2080\n",
            "Epoch 309/1000\n",
            "1/1 [==============================] - 0s 22ms/step - loss: 0.0555 - mse: 0.0555 - mae: 0.2079\n",
            "Epoch 310/1000\n",
            "1/1 [==============================] - 0s 17ms/step - loss: 0.0555 - mse: 0.0555 - mae: 0.2079\n",
            "Epoch 311/1000\n",
            "1/1 [==============================] - 0s 18ms/step - loss: 0.0555 - mse: 0.0555 - mae: 0.2078\n",
            "Epoch 312/1000\n",
            "1/1 [==============================] - 0s 27ms/step - loss: 0.0554 - mse: 0.0554 - mae: 0.2078\n",
            "Epoch 313/1000\n",
            "1/1 [==============================] - 0s 35ms/step - loss: 0.0554 - mse: 0.0554 - mae: 0.2077\n",
            "Epoch 314/1000\n",
            "1/1 [==============================] - 0s 17ms/step - loss: 0.0554 - mse: 0.0554 - mae: 0.2077\n",
            "Epoch 315/1000\n",
            "1/1 [==============================] - 0s 14ms/step - loss: 0.0554 - mse: 0.0554 - mae: 0.2076\n",
            "Epoch 316/1000\n",
            "1/1 [==============================] - 0s 35ms/step - loss: 0.0553 - mse: 0.0553 - mae: 0.2076\n",
            "Epoch 317/1000\n",
            "1/1 [==============================] - 0s 10ms/step - loss: 0.0553 - mse: 0.0553 - mae: 0.2075\n",
            "Epoch 318/1000\n",
            "1/1 [==============================] - 0s 8ms/step - loss: 0.0553 - mse: 0.0553 - mae: 0.2075\n",
            "Epoch 319/1000\n",
            "1/1 [==============================] - 0s 12ms/step - loss: 0.0553 - mse: 0.0553 - mae: 0.2074\n",
            "Epoch 320/1000\n",
            "1/1 [==============================] - 0s 11ms/step - loss: 0.0552 - mse: 0.0552 - mae: 0.2074\n",
            "Epoch 321/1000\n",
            "1/1 [==============================] - 0s 24ms/step - loss: 0.0552 - mse: 0.0552 - mae: 0.2073\n",
            "Epoch 322/1000\n",
            "1/1 [==============================] - 0s 8ms/step - loss: 0.0552 - mse: 0.0552 - mae: 0.2073\n",
            "Epoch 323/1000\n",
            "1/1 [==============================] - 0s 19ms/step - loss: 0.0552 - mse: 0.0552 - mae: 0.2073\n",
            "Epoch 324/1000\n",
            "1/1 [==============================] - 0s 7ms/step - loss: 0.0551 - mse: 0.0551 - mae: 0.2072\n",
            "Epoch 325/1000\n",
            "1/1 [==============================] - 0s 12ms/step - loss: 0.0551 - mse: 0.0551 - mae: 0.2072\n",
            "Epoch 326/1000\n",
            "1/1 [==============================] - 0s 10ms/step - loss: 0.0551 - mse: 0.0551 - mae: 0.2071\n",
            "Epoch 327/1000\n",
            "1/1 [==============================] - 0s 12ms/step - loss: 0.0551 - mse: 0.0551 - mae: 0.2071\n",
            "Epoch 328/1000\n",
            "1/1 [==============================] - 0s 9ms/step - loss: 0.0550 - mse: 0.0550 - mae: 0.2071\n",
            "Epoch 329/1000\n",
            "1/1 [==============================] - 0s 23ms/step - loss: 0.0550 - mse: 0.0550 - mae: 0.2070\n",
            "Epoch 330/1000\n",
            "1/1 [==============================] - 0s 19ms/step - loss: 0.0550 - mse: 0.0550 - mae: 0.2070\n",
            "Epoch 331/1000\n",
            "1/1 [==============================] - 0s 17ms/step - loss: 0.0550 - mse: 0.0550 - mae: 0.2069\n",
            "Epoch 332/1000\n",
            "1/1 [==============================] - 0s 9ms/step - loss: 0.0549 - mse: 0.0549 - mae: 0.2069\n",
            "Epoch 333/1000\n",
            "1/1 [==============================] - 0s 10ms/step - loss: 0.0549 - mse: 0.0549 - mae: 0.2068\n",
            "Epoch 334/1000\n",
            "1/1 [==============================] - 0s 15ms/step - loss: 0.0549 - mse: 0.0549 - mae: 0.2068\n",
            "Epoch 335/1000\n",
            "1/1 [==============================] - 0s 25ms/step - loss: 0.0549 - mse: 0.0549 - mae: 0.2068\n",
            "Epoch 336/1000\n",
            "1/1 [==============================] - 0s 32ms/step - loss: 0.0549 - mse: 0.0549 - mae: 0.2068\n",
            "Epoch 337/1000\n",
            "1/1 [==============================] - 0s 27ms/step - loss: 0.0549 - mse: 0.0549 - mae: 0.2068\n",
            "Epoch 338/1000\n",
            "1/1 [==============================] - 0s 12ms/step - loss: 0.0548 - mse: 0.0548 - mae: 0.2067\n",
            "Epoch 339/1000\n",
            "1/1 [==============================] - 0s 12ms/step - loss: 0.0548 - mse: 0.0548 - mae: 0.2067\n",
            "Epoch 340/1000\n",
            "1/1 [==============================] - 0s 33ms/step - loss: 0.0548 - mse: 0.0548 - mae: 0.2067\n",
            "Epoch 341/1000\n",
            "1/1 [==============================] - 0s 34ms/step - loss: 0.0548 - mse: 0.0548 - mae: 0.2066\n",
            "Epoch 342/1000\n",
            "1/1 [==============================] - 0s 27ms/step - loss: 0.0548 - mse: 0.0548 - mae: 0.2066\n",
            "Epoch 343/1000\n",
            "1/1 [==============================] - 0s 8ms/step - loss: 0.0548 - mse: 0.0548 - mae: 0.2066\n",
            "Epoch 344/1000\n",
            "1/1 [==============================] - 0s 8ms/step - loss: 0.0547 - mse: 0.0547 - mae: 0.2066\n",
            "Epoch 345/1000\n",
            "1/1 [==============================] - 0s 11ms/step - loss: 0.0547 - mse: 0.0547 - mae: 0.2065\n",
            "Epoch 346/1000\n",
            "1/1 [==============================] - 0s 9ms/step - loss: 0.0547 - mse: 0.0547 - mae: 0.2065\n",
            "Epoch 347/1000\n",
            "1/1 [==============================] - 0s 19ms/step - loss: 0.0547 - mse: 0.0547 - mae: 0.2065\n",
            "Epoch 348/1000\n",
            "1/1 [==============================] - 0s 7ms/step - loss: 0.0547 - mse: 0.0547 - mae: 0.2065\n",
            "Epoch 349/1000\n",
            "1/1 [==============================] - 0s 25ms/step - loss: 0.0547 - mse: 0.0547 - mae: 0.2064\n",
            "Epoch 350/1000\n",
            "1/1 [==============================] - 0s 8ms/step - loss: 0.0546 - mse: 0.0546 - mae: 0.2065\n",
            "Epoch 351/1000\n",
            "1/1 [==============================] - 0s 18ms/step - loss: 0.0546 - mse: 0.0546 - mae: 0.2065\n",
            "Epoch 352/1000\n",
            "1/1 [==============================] - 0s 15ms/step - loss: 0.0546 - mse: 0.0546 - mae: 0.2065\n",
            "Epoch 353/1000\n",
            "1/1 [==============================] - 0s 8ms/step - loss: 0.0546 - mse: 0.0546 - mae: 0.2065\n",
            "Epoch 354/1000\n",
            "1/1 [==============================] - 0s 25ms/step - loss: 0.0546 - mse: 0.0546 - mae: 0.2064\n",
            "Epoch 355/1000\n",
            "1/1 [==============================] - 0s 16ms/step - loss: 0.0546 - mse: 0.0546 - mae: 0.2064\n",
            "Epoch 356/1000\n",
            "1/1 [==============================] - 0s 14ms/step - loss: 0.0545 - mse: 0.0545 - mae: 0.2063\n",
            "Epoch 357/1000\n",
            "1/1 [==============================] - 0s 10ms/step - loss: 0.0545 - mse: 0.0545 - mae: 0.2062\n",
            "Epoch 358/1000\n",
            "1/1 [==============================] - 0s 23ms/step - loss: 0.0545 - mse: 0.0545 - mae: 0.2063\n",
            "Epoch 359/1000\n",
            "1/1 [==============================] - 0s 12ms/step - loss: 0.0545 - mse: 0.0545 - mae: 0.2063\n",
            "Epoch 360/1000\n",
            "1/1 [==============================] - 0s 20ms/step - loss: 0.0545 - mse: 0.0545 - mae: 0.2063\n",
            "Epoch 361/1000\n",
            "1/1 [==============================] - 0s 8ms/step - loss: 0.0545 - mse: 0.0545 - mae: 0.2063\n",
            "Epoch 362/1000\n",
            "1/1 [==============================] - 0s 11ms/step - loss: 0.0545 - mse: 0.0545 - mae: 0.2062\n",
            "Epoch 363/1000\n",
            "1/1 [==============================] - 0s 22ms/step - loss: 0.0544 - mse: 0.0544 - mae: 0.2061\n",
            "Epoch 364/1000\n",
            "1/1 [==============================] - 0s 8ms/step - loss: 0.0544 - mse: 0.0544 - mae: 0.2061\n",
            "Epoch 365/1000\n",
            "1/1 [==============================] - 0s 9ms/step - loss: 0.0544 - mse: 0.0544 - mae: 0.2060\n",
            "Epoch 366/1000\n",
            "1/1 [==============================] - 0s 20ms/step - loss: 0.0544 - mse: 0.0544 - mae: 0.2060\n",
            "Epoch 367/1000\n",
            "1/1 [==============================] - 0s 18ms/step - loss: 0.0544 - mse: 0.0544 - mae: 0.2059\n",
            "Epoch 368/1000\n",
            "1/1 [==============================] - 0s 15ms/step - loss: 0.0544 - mse: 0.0544 - mae: 0.2059\n",
            "Epoch 369/1000\n",
            "1/1 [==============================] - 0s 16ms/step - loss: 0.0543 - mse: 0.0543 - mae: 0.2058\n",
            "Epoch 370/1000\n",
            "1/1 [==============================] - 0s 9ms/step - loss: 0.0543 - mse: 0.0543 - mae: 0.2058\n",
            "Epoch 371/1000\n",
            "1/1 [==============================] - 0s 12ms/step - loss: 0.0543 - mse: 0.0543 - mae: 0.2058\n",
            "Epoch 372/1000\n",
            "1/1 [==============================] - 0s 12ms/step - loss: 0.0543 - mse: 0.0543 - mae: 0.2057\n",
            "Epoch 373/1000\n",
            "1/1 [==============================] - 0s 13ms/step - loss: 0.0543 - mse: 0.0543 - mae: 0.2057\n",
            "Epoch 374/1000\n",
            "1/1 [==============================] - 0s 9ms/step - loss: 0.0542 - mse: 0.0542 - mae: 0.2057\n",
            "Epoch 375/1000\n",
            "1/1 [==============================] - 0s 10ms/step - loss: 0.0542 - mse: 0.0542 - mae: 0.2057\n",
            "Epoch 376/1000\n",
            "1/1 [==============================] - 0s 13ms/step - loss: 0.0542 - mse: 0.0542 - mae: 0.2057\n",
            "Epoch 377/1000\n",
            "1/1 [==============================] - 0s 11ms/step - loss: 0.0542 - mse: 0.0542 - mae: 0.2056\n",
            "Epoch 378/1000\n",
            "1/1 [==============================] - 0s 15ms/step - loss: 0.0541 - mse: 0.0541 - mae: 0.2056\n",
            "Epoch 379/1000\n",
            "1/1 [==============================] - 0s 10ms/step - loss: 0.0541 - mse: 0.0541 - mae: 0.2055\n",
            "Epoch 380/1000\n",
            "1/1 [==============================] - 0s 9ms/step - loss: 0.0541 - mse: 0.0541 - mae: 0.2054\n",
            "Epoch 381/1000\n",
            "1/1 [==============================] - 0s 27ms/step - loss: 0.0541 - mse: 0.0541 - mae: 0.2054\n",
            "Epoch 382/1000\n",
            "1/1 [==============================] - 0s 13ms/step - loss: 0.0541 - mse: 0.0541 - mae: 0.2053\n",
            "Epoch 383/1000\n",
            "1/1 [==============================] - 0s 20ms/step - loss: 0.0540 - mse: 0.0540 - mae: 0.2053\n",
            "Epoch 384/1000\n",
            "1/1 [==============================] - 0s 28ms/step - loss: 0.0540 - mse: 0.0540 - mae: 0.2051\n",
            "Epoch 385/1000\n",
            "1/1 [==============================] - 0s 12ms/step - loss: 0.0540 - mse: 0.0540 - mae: 0.2051\n",
            "Epoch 386/1000\n",
            "1/1 [==============================] - 0s 13ms/step - loss: 0.0540 - mse: 0.0540 - mae: 0.2051\n",
            "Epoch 387/1000\n",
            "1/1 [==============================] - 0s 10ms/step - loss: 0.0539 - mse: 0.0539 - mae: 0.2051\n",
            "Epoch 388/1000\n",
            "1/1 [==============================] - 0s 18ms/step - loss: 0.0539 - mse: 0.0539 - mae: 0.2051\n",
            "Epoch 389/1000\n",
            "1/1 [==============================] - 0s 8ms/step - loss: 0.0539 - mse: 0.0539 - mae: 0.2051\n",
            "Epoch 390/1000\n",
            "1/1 [==============================] - 0s 18ms/step - loss: 0.0539 - mse: 0.0539 - mae: 0.2051\n",
            "Epoch 391/1000\n",
            "1/1 [==============================] - 0s 15ms/step - loss: 0.0538 - mse: 0.0538 - mae: 0.2052\n",
            "Epoch 392/1000\n",
            "1/1 [==============================] - 0s 15ms/step - loss: 0.0538 - mse: 0.0538 - mae: 0.2053\n",
            "Epoch 393/1000\n",
            "1/1 [==============================] - 0s 14ms/step - loss: 0.0538 - mse: 0.0538 - mae: 0.2053\n",
            "Epoch 394/1000\n",
            "1/1 [==============================] - 0s 18ms/step - loss: 0.0538 - mse: 0.0538 - mae: 0.2053\n",
            "Epoch 395/1000\n",
            "1/1 [==============================] - 0s 9ms/step - loss: 0.0537 - mse: 0.0537 - mae: 0.2053\n",
            "Epoch 396/1000\n",
            "1/1 [==============================] - 0s 23ms/step - loss: 0.0537 - mse: 0.0537 - mae: 0.2052\n",
            "Epoch 397/1000\n",
            "1/1 [==============================] - 0s 23ms/step - loss: 0.0537 - mse: 0.0537 - mae: 0.2051\n",
            "Epoch 398/1000\n",
            "1/1 [==============================] - 0s 9ms/step - loss: 0.0537 - mse: 0.0537 - mae: 0.2050\n",
            "Epoch 399/1000\n",
            "1/1 [==============================] - 0s 16ms/step - loss: 0.0536 - mse: 0.0536 - mae: 0.2049\n",
            "Epoch 400/1000\n",
            "1/1 [==============================] - 0s 13ms/step - loss: 0.0536 - mse: 0.0536 - mae: 0.2048\n",
            "Epoch 401/1000\n",
            "1/1 [==============================] - 0s 9ms/step - loss: 0.0536 - mse: 0.0536 - mae: 0.2047\n",
            "Epoch 402/1000\n",
            "1/1 [==============================] - 0s 11ms/step - loss: 0.0536 - mse: 0.0536 - mae: 0.2046\n",
            "Epoch 403/1000\n",
            "1/1 [==============================] - 0s 8ms/step - loss: 0.0535 - mse: 0.0535 - mae: 0.2046\n",
            "Epoch 404/1000\n",
            "1/1 [==============================] - 0s 16ms/step - loss: 0.0535 - mse: 0.0535 - mae: 0.2045\n",
            "Epoch 405/1000\n",
            "1/1 [==============================] - 0s 8ms/step - loss: 0.0535 - mse: 0.0535 - mae: 0.2045\n",
            "Epoch 406/1000\n",
            "1/1 [==============================] - 0s 20ms/step - loss: 0.0535 - mse: 0.0535 - mae: 0.2045\n",
            "Epoch 407/1000\n",
            "1/1 [==============================] - 0s 10ms/step - loss: 0.0534 - mse: 0.0534 - mae: 0.2045\n",
            "Epoch 408/1000\n",
            "1/1 [==============================] - 0s 15ms/step - loss: 0.0534 - mse: 0.0534 - mae: 0.2044\n",
            "Epoch 409/1000\n",
            "1/1 [==============================] - 0s 13ms/step - loss: 0.0534 - mse: 0.0534 - mae: 0.2043\n",
            "Epoch 410/1000\n",
            "1/1 [==============================] - 0s 28ms/step - loss: 0.0534 - mse: 0.0534 - mae: 0.2042\n",
            "Epoch 411/1000\n",
            "1/1 [==============================] - 0s 9ms/step - loss: 0.0533 - mse: 0.0533 - mae: 0.2041\n",
            "Epoch 412/1000\n",
            "1/1 [==============================] - 0s 14ms/step - loss: 0.0533 - mse: 0.0533 - mae: 0.2040\n",
            "Epoch 413/1000\n",
            "1/1 [==============================] - 0s 9ms/step - loss: 0.0533 - mse: 0.0533 - mae: 0.2040\n",
            "Epoch 414/1000\n",
            "1/1 [==============================] - 0s 19ms/step - loss: 0.0533 - mse: 0.0533 - mae: 0.2040\n",
            "Epoch 415/1000\n",
            "1/1 [==============================] - 0s 9ms/step - loss: 0.0532 - mse: 0.0532 - mae: 0.2041\n",
            "Epoch 416/1000\n",
            "1/1 [==============================] - 0s 15ms/step - loss: 0.0532 - mse: 0.0532 - mae: 0.2042\n",
            "Epoch 417/1000\n",
            "1/1 [==============================] - 0s 18ms/step - loss: 0.0532 - mse: 0.0532 - mae: 0.2043\n",
            "Epoch 418/1000\n",
            "1/1 [==============================] - 0s 17ms/step - loss: 0.0532 - mse: 0.0532 - mae: 0.2043\n",
            "Epoch 419/1000\n",
            "1/1 [==============================] - 0s 22ms/step - loss: 0.0532 - mse: 0.0532 - mae: 0.2044\n",
            "Epoch 420/1000\n",
            "1/1 [==============================] - 0s 18ms/step - loss: 0.0532 - mse: 0.0532 - mae: 0.2044\n",
            "Epoch 421/1000\n",
            "1/1 [==============================] - 0s 18ms/step - loss: 0.0532 - mse: 0.0532 - mae: 0.2043\n",
            "Epoch 422/1000\n",
            "1/1 [==============================] - 0s 7ms/step - loss: 0.0531 - mse: 0.0531 - mae: 0.2043\n",
            "Epoch 423/1000\n",
            "1/1 [==============================] - 0s 17ms/step - loss: 0.0531 - mse: 0.0531 - mae: 0.2042\n",
            "Epoch 424/1000\n",
            "1/1 [==============================] - 0s 9ms/step - loss: 0.0531 - mse: 0.0531 - mae: 0.2041\n",
            "Epoch 425/1000\n",
            "1/1 [==============================] - 0s 10ms/step - loss: 0.0531 - mse: 0.0531 - mae: 0.2040\n",
            "Epoch 426/1000\n",
            "1/1 [==============================] - 0s 7ms/step - loss: 0.0531 - mse: 0.0531 - mae: 0.2039\n",
            "Epoch 427/1000\n",
            "1/1 [==============================] - 0s 10ms/step - loss: 0.0531 - mse: 0.0531 - mae: 0.2039\n",
            "Epoch 428/1000\n",
            "1/1 [==============================] - 0s 12ms/step - loss: 0.0531 - mse: 0.0531 - mae: 0.2038\n",
            "Epoch 429/1000\n",
            "1/1 [==============================] - 0s 15ms/step - loss: 0.0531 - mse: 0.0531 - mae: 0.2037\n",
            "Epoch 430/1000\n",
            "1/1 [==============================] - 0s 16ms/step - loss: 0.0530 - mse: 0.0530 - mae: 0.2036\n",
            "Epoch 431/1000\n",
            "1/1 [==============================] - 0s 18ms/step - loss: 0.0530 - mse: 0.0530 - mae: 0.2036\n",
            "Epoch 432/1000\n",
            "1/1 [==============================] - 0s 12ms/step - loss: 0.0530 - mse: 0.0530 - mae: 0.2036\n",
            "Epoch 433/1000\n",
            "1/1 [==============================] - 0s 11ms/step - loss: 0.0530 - mse: 0.0530 - mae: 0.2037\n",
            "Epoch 434/1000\n",
            "1/1 [==============================] - 0s 10ms/step - loss: 0.0530 - mse: 0.0530 - mae: 0.2037\n",
            "Epoch 435/1000\n",
            "1/1 [==============================] - 0s 15ms/step - loss: 0.0530 - mse: 0.0530 - mae: 0.2038\n",
            "Epoch 436/1000\n",
            "1/1 [==============================] - 0s 14ms/step - loss: 0.0530 - mse: 0.0530 - mae: 0.2039\n",
            "Epoch 437/1000\n",
            "1/1 [==============================] - 0s 15ms/step - loss: 0.0530 - mse: 0.0530 - mae: 0.2039\n",
            "Epoch 438/1000\n",
            "1/1 [==============================] - 0s 7ms/step - loss: 0.0529 - mse: 0.0529 - mae: 0.2039\n",
            "Epoch 439/1000\n",
            "1/1 [==============================] - 0s 7ms/step - loss: 0.0529 - mse: 0.0529 - mae: 0.2039\n",
            "Epoch 440/1000\n",
            "1/1 [==============================] - 0s 11ms/step - loss: 0.0529 - mse: 0.0529 - mae: 0.2038\n",
            "Epoch 441/1000\n",
            "1/1 [==============================] - 0s 7ms/step - loss: 0.0529 - mse: 0.0529 - mae: 0.2037\n",
            "Epoch 442/1000\n",
            "1/1 [==============================] - 0s 12ms/step - loss: 0.0529 - mse: 0.0529 - mae: 0.2036\n",
            "Epoch 443/1000\n",
            "1/1 [==============================] - 0s 11ms/step - loss: 0.0529 - mse: 0.0529 - mae: 0.2035\n",
            "Epoch 444/1000\n",
            "1/1 [==============================] - 0s 6ms/step - loss: 0.0529 - mse: 0.0529 - mae: 0.2034\n",
            "Epoch 445/1000\n",
            "1/1 [==============================] - 0s 18ms/step - loss: 0.0528 - mse: 0.0528 - mae: 0.2034\n",
            "Epoch 446/1000\n",
            "1/1 [==============================] - 0s 19ms/step - loss: 0.0528 - mse: 0.0528 - mae: 0.2033\n",
            "Epoch 447/1000\n",
            "1/1 [==============================] - 0s 23ms/step - loss: 0.0528 - mse: 0.0528 - mae: 0.2032\n",
            "Epoch 448/1000\n",
            "1/1 [==============================] - 0s 26ms/step - loss: 0.0528 - mse: 0.0528 - mae: 0.2031\n",
            "Epoch 449/1000\n",
            "1/1 [==============================] - 0s 9ms/step - loss: 0.0528 - mse: 0.0528 - mae: 0.2030\n",
            "Epoch 450/1000\n",
            "1/1 [==============================] - 0s 12ms/step - loss: 0.0528 - mse: 0.0528 - mae: 0.2030\n",
            "Epoch 451/1000\n",
            "1/1 [==============================] - 0s 11ms/step - loss: 0.0528 - mse: 0.0528 - mae: 0.2031\n",
            "Epoch 452/1000\n",
            "1/1 [==============================] - 0s 9ms/step - loss: 0.0528 - mse: 0.0528 - mae: 0.2032\n",
            "Epoch 453/1000\n",
            "1/1 [==============================] - 0s 23ms/step - loss: 0.0527 - mse: 0.0527 - mae: 0.2033\n",
            "Epoch 454/1000\n",
            "1/1 [==============================] - 0s 10ms/step - loss: 0.0527 - mse: 0.0527 - mae: 0.2034\n",
            "Epoch 455/1000\n",
            "1/1 [==============================] - 0s 23ms/step - loss: 0.0527 - mse: 0.0527 - mae: 0.2034\n",
            "Epoch 456/1000\n",
            "1/1 [==============================] - 0s 13ms/step - loss: 0.0527 - mse: 0.0527 - mae: 0.2034\n",
            "Epoch 457/1000\n",
            "1/1 [==============================] - 0s 28ms/step - loss: 0.0527 - mse: 0.0527 - mae: 0.2033\n",
            "Epoch 458/1000\n",
            "1/1 [==============================] - 0s 16ms/step - loss: 0.0527 - mse: 0.0527 - mae: 0.2033\n",
            "Epoch 459/1000\n",
            "1/1 [==============================] - 0s 7ms/step - loss: 0.0527 - mse: 0.0527 - mae: 0.2032\n",
            "Epoch 460/1000\n",
            "1/1 [==============================] - 0s 14ms/step - loss: 0.0526 - mse: 0.0526 - mae: 0.2031\n",
            "Epoch 461/1000\n",
            "1/1 [==============================] - 0s 26ms/step - loss: 0.0526 - mse: 0.0526 - mae: 0.2030\n",
            "Epoch 462/1000\n",
            "1/1 [==============================] - 0s 9ms/step - loss: 0.0526 - mse: 0.0526 - mae: 0.2029\n",
            "Epoch 463/1000\n",
            "1/1 [==============================] - 0s 22ms/step - loss: 0.0526 - mse: 0.0526 - mae: 0.2029\n",
            "Epoch 464/1000\n",
            "1/1 [==============================] - 0s 8ms/step - loss: 0.0526 - mse: 0.0526 - mae: 0.2028\n",
            "Epoch 465/1000\n",
            "1/1 [==============================] - 0s 17ms/step - loss: 0.0526 - mse: 0.0526 - mae: 0.2028\n",
            "Epoch 466/1000\n",
            "1/1 [==============================] - 0s 11ms/step - loss: 0.0526 - mse: 0.0526 - mae: 0.2027\n",
            "Epoch 467/1000\n",
            "1/1 [==============================] - 0s 16ms/step - loss: 0.0525 - mse: 0.0525 - mae: 0.2026\n",
            "Epoch 468/1000\n",
            "1/1 [==============================] - 0s 14ms/step - loss: 0.0525 - mse: 0.0525 - mae: 0.2025\n",
            "Epoch 469/1000\n",
            "1/1 [==============================] - 0s 14ms/step - loss: 0.0525 - mse: 0.0525 - mae: 0.2025\n",
            "Epoch 470/1000\n",
            "1/1 [==============================] - 0s 12ms/step - loss: 0.0525 - mse: 0.0525 - mae: 0.2025\n",
            "Epoch 471/1000\n",
            "1/1 [==============================] - 0s 14ms/step - loss: 0.0525 - mse: 0.0525 - mae: 0.2026\n",
            "Epoch 472/1000\n",
            "1/1 [==============================] - 0s 24ms/step - loss: 0.0525 - mse: 0.0525 - mae: 0.2027\n",
            "Epoch 473/1000\n",
            "1/1 [==============================] - 0s 10ms/step - loss: 0.0525 - mse: 0.0525 - mae: 0.2027\n",
            "Epoch 474/1000\n",
            "1/1 [==============================] - 0s 14ms/step - loss: 0.0524 - mse: 0.0524 - mae: 0.2027\n",
            "Epoch 475/1000\n",
            "1/1 [==============================] - 0s 24ms/step - loss: 0.0524 - mse: 0.0524 - mae: 0.2027\n",
            "Epoch 476/1000\n",
            "1/1 [==============================] - 0s 12ms/step - loss: 0.0524 - mse: 0.0524 - mae: 0.2027\n",
            "Epoch 477/1000\n",
            "1/1 [==============================] - 0s 19ms/step - loss: 0.0524 - mse: 0.0524 - mae: 0.2026\n",
            "Epoch 478/1000\n",
            "1/1 [==============================] - 0s 30ms/step - loss: 0.0524 - mse: 0.0524 - mae: 0.2025\n",
            "Epoch 479/1000\n",
            "1/1 [==============================] - 0s 9ms/step - loss: 0.0524 - mse: 0.0524 - mae: 0.2025\n",
            "Epoch 480/1000\n",
            "1/1 [==============================] - 0s 17ms/step - loss: 0.0524 - mse: 0.0524 - mae: 0.2024\n",
            "Epoch 481/1000\n",
            "1/1 [==============================] - 0s 18ms/step - loss: 0.0523 - mse: 0.0523 - mae: 0.2023\n",
            "Epoch 482/1000\n",
            "1/1 [==============================] - 0s 7ms/step - loss: 0.0523 - mse: 0.0523 - mae: 0.2023\n",
            "Epoch 483/1000\n",
            "1/1 [==============================] - 0s 23ms/step - loss: 0.0523 - mse: 0.0523 - mae: 0.2023\n",
            "Epoch 484/1000\n",
            "1/1 [==============================] - 0s 10ms/step - loss: 0.0523 - mse: 0.0523 - mae: 0.2021\n",
            "Epoch 485/1000\n",
            "1/1 [==============================] - 0s 24ms/step - loss: 0.0523 - mse: 0.0523 - mae: 0.2020\n",
            "Epoch 486/1000\n",
            "1/1 [==============================] - 0s 16ms/step - loss: 0.0523 - mse: 0.0523 - mae: 0.2019\n",
            "Epoch 487/1000\n",
            "1/1 [==============================] - 0s 19ms/step - loss: 0.0523 - mse: 0.0523 - mae: 0.2019\n",
            "Epoch 488/1000\n",
            "1/1 [==============================] - 0s 12ms/step - loss: 0.0522 - mse: 0.0522 - mae: 0.2020\n",
            "Epoch 489/1000\n",
            "1/1 [==============================] - 0s 26ms/step - loss: 0.0522 - mse: 0.0522 - mae: 0.2020\n",
            "Epoch 490/1000\n",
            "1/1 [==============================] - 0s 11ms/step - loss: 0.0522 - mse: 0.0522 - mae: 0.2021\n",
            "Epoch 491/1000\n",
            "1/1 [==============================] - 0s 15ms/step - loss: 0.0522 - mse: 0.0522 - mae: 0.2022\n",
            "Epoch 492/1000\n",
            "1/1 [==============================] - 0s 9ms/step - loss: 0.0522 - mse: 0.0522 - mae: 0.2022\n",
            "Epoch 493/1000\n",
            "1/1 [==============================] - 0s 16ms/step - loss: 0.0522 - mse: 0.0522 - mae: 0.2022\n",
            "Epoch 494/1000\n",
            "1/1 [==============================] - 0s 25ms/step - loss: 0.0522 - mse: 0.0522 - mae: 0.2021\n",
            "Epoch 495/1000\n",
            "1/1 [==============================] - 0s 9ms/step - loss: 0.0521 - mse: 0.0521 - mae: 0.2020\n",
            "Epoch 496/1000\n",
            "1/1 [==============================] - 0s 27ms/step - loss: 0.0521 - mse: 0.0521 - mae: 0.2019\n",
            "Epoch 497/1000\n",
            "1/1 [==============================] - 0s 23ms/step - loss: 0.0521 - mse: 0.0521 - mae: 0.2018\n",
            "Epoch 498/1000\n",
            "1/1 [==============================] - 0s 14ms/step - loss: 0.0521 - mse: 0.0521 - mae: 0.2017\n",
            "Epoch 499/1000\n",
            "1/1 [==============================] - 0s 17ms/step - loss: 0.0521 - mse: 0.0521 - mae: 0.2016\n",
            "Epoch 500/1000\n",
            "1/1 [==============================] - 0s 21ms/step - loss: 0.0521 - mse: 0.0521 - mae: 0.2016\n",
            "Epoch 501/1000\n",
            "1/1 [==============================] - 0s 24ms/step - loss: 0.0521 - mse: 0.0521 - mae: 0.2016\n",
            "Epoch 502/1000\n",
            "1/1 [==============================] - 0s 18ms/step - loss: 0.0520 - mse: 0.0520 - mae: 0.2014\n",
            "Epoch 503/1000\n",
            "1/1 [==============================] - 0s 11ms/step - loss: 0.0520 - mse: 0.0520 - mae: 0.2014\n",
            "Epoch 504/1000\n",
            "1/1 [==============================] - 0s 18ms/step - loss: 0.0520 - mse: 0.0520 - mae: 0.2013\n",
            "Epoch 505/1000\n",
            "1/1 [==============================] - 0s 13ms/step - loss: 0.0520 - mse: 0.0520 - mae: 0.2013\n",
            "Epoch 506/1000\n",
            "1/1 [==============================] - 0s 15ms/step - loss: 0.0520 - mse: 0.0520 - mae: 0.2014\n",
            "Epoch 507/1000\n",
            "1/1 [==============================] - 0s 10ms/step - loss: 0.0520 - mse: 0.0520 - mae: 0.2015\n",
            "Epoch 508/1000\n",
            "1/1 [==============================] - 0s 20ms/step - loss: 0.0520 - mse: 0.0520 - mae: 0.2015\n",
            "Epoch 509/1000\n",
            "1/1 [==============================] - 0s 10ms/step - loss: 0.0519 - mse: 0.0519 - mae: 0.2016\n",
            "Epoch 510/1000\n",
            "1/1 [==============================] - 0s 21ms/step - loss: 0.0519 - mse: 0.0519 - mae: 0.2016\n",
            "Epoch 511/1000\n",
            "1/1 [==============================] - 0s 10ms/step - loss: 0.0519 - mse: 0.0519 - mae: 0.2015\n",
            "Epoch 512/1000\n",
            "1/1 [==============================] - 0s 11ms/step - loss: 0.0519 - mse: 0.0519 - mae: 0.2015\n",
            "Epoch 513/1000\n",
            "1/1 [==============================] - 0s 23ms/step - loss: 0.0519 - mse: 0.0519 - mae: 0.2014\n",
            "Epoch 514/1000\n",
            "1/1 [==============================] - 0s 12ms/step - loss: 0.0519 - mse: 0.0519 - mae: 0.2013\n",
            "Epoch 515/1000\n",
            "1/1 [==============================] - 0s 24ms/step - loss: 0.0519 - mse: 0.0519 - mae: 0.2012\n",
            "Epoch 516/1000\n",
            "1/1 [==============================] - 0s 14ms/step - loss: 0.0518 - mse: 0.0518 - mae: 0.2011\n",
            "Epoch 517/1000\n",
            "1/1 [==============================] - 0s 25ms/step - loss: 0.0518 - mse: 0.0518 - mae: 0.2010\n",
            "Epoch 518/1000\n",
            "1/1 [==============================] - 0s 28ms/step - loss: 0.0518 - mse: 0.0518 - mae: 0.2010\n",
            "Epoch 519/1000\n",
            "1/1 [==============================] - 0s 10ms/step - loss: 0.0518 - mse: 0.0518 - mae: 0.2009\n",
            "Epoch 520/1000\n",
            "1/1 [==============================] - 0s 6ms/step - loss: 0.0518 - mse: 0.0518 - mae: 0.2010\n",
            "Epoch 521/1000\n",
            "1/1 [==============================] - 0s 11ms/step - loss: 0.0518 - mse: 0.0518 - mae: 0.2010\n",
            "Epoch 522/1000\n",
            "1/1 [==============================] - 0s 24ms/step - loss: 0.0518 - mse: 0.0518 - mae: 0.2010\n",
            "Epoch 523/1000\n",
            "1/1 [==============================] - 0s 16ms/step - loss: 0.0518 - mse: 0.0518 - mae: 0.2009\n",
            "Epoch 524/1000\n",
            "1/1 [==============================] - 0s 9ms/step - loss: 0.0517 - mse: 0.0517 - mae: 0.2009\n",
            "Epoch 525/1000\n",
            "1/1 [==============================] - 0s 14ms/step - loss: 0.0517 - mse: 0.0517 - mae: 0.2010\n",
            "Epoch 526/1000\n",
            "1/1 [==============================] - 0s 54ms/step - loss: 0.0517 - mse: 0.0517 - mae: 0.2011\n",
            "Epoch 527/1000\n",
            "1/1 [==============================] - 0s 20ms/step - loss: 0.0517 - mse: 0.0517 - mae: 0.2011\n",
            "Epoch 528/1000\n",
            "1/1 [==============================] - 0s 21ms/step - loss: 0.0517 - mse: 0.0517 - mae: 0.2010\n",
            "Epoch 529/1000\n",
            "1/1 [==============================] - 0s 11ms/step - loss: 0.0517 - mse: 0.0517 - mae: 0.2009\n",
            "Epoch 530/1000\n",
            "1/1 [==============================] - 0s 13ms/step - loss: 0.0517 - mse: 0.0517 - mae: 0.2008\n",
            "Epoch 531/1000\n",
            "1/1 [==============================] - 0s 13ms/step - loss: 0.0517 - mse: 0.0517 - mae: 0.2007\n",
            "Epoch 532/1000\n",
            "1/1 [==============================] - 0s 16ms/step - loss: 0.0516 - mse: 0.0516 - mae: 0.2007\n",
            "Epoch 533/1000\n",
            "1/1 [==============================] - 0s 20ms/step - loss: 0.0516 - mse: 0.0516 - mae: 0.2007\n",
            "Epoch 534/1000\n",
            "1/1 [==============================] - 0s 18ms/step - loss: 0.0516 - mse: 0.0516 - mae: 0.2006\n",
            "Epoch 535/1000\n",
            "1/1 [==============================] - 0s 14ms/step - loss: 0.0516 - mse: 0.0516 - mae: 0.2006\n",
            "Epoch 536/1000\n",
            "1/1 [==============================] - 0s 12ms/step - loss: 0.0516 - mse: 0.0516 - mae: 0.2006\n",
            "Epoch 537/1000\n",
            "1/1 [==============================] - 0s 32ms/step - loss: 0.0516 - mse: 0.0516 - mae: 0.2007\n",
            "Epoch 538/1000\n",
            "1/1 [==============================] - 0s 11ms/step - loss: 0.0516 - mse: 0.0516 - mae: 0.2007\n",
            "Epoch 539/1000\n",
            "1/1 [==============================] - 0s 22ms/step - loss: 0.0516 - mse: 0.0516 - mae: 0.2006\n",
            "Epoch 540/1000\n",
            "1/1 [==============================] - 0s 27ms/step - loss: 0.0515 - mse: 0.0515 - mae: 0.2006\n",
            "Epoch 541/1000\n",
            "1/1 [==============================] - 0s 28ms/step - loss: 0.0515 - mse: 0.0515 - mae: 0.2005\n",
            "Epoch 542/1000\n",
            "1/1 [==============================] - 0s 11ms/step - loss: 0.0515 - mse: 0.0515 - mae: 0.2005\n",
            "Epoch 543/1000\n",
            "1/1 [==============================] - 0s 11ms/step - loss: 0.0515 - mse: 0.0515 - mae: 0.2005\n",
            "Epoch 544/1000\n",
            "1/1 [==============================] - 0s 6ms/step - loss: 0.0515 - mse: 0.0515 - mae: 0.2005\n",
            "Epoch 545/1000\n",
            "1/1 [==============================] - 0s 9ms/step - loss: 0.0515 - mse: 0.0515 - mae: 0.2005\n",
            "Epoch 546/1000\n",
            "1/1 [==============================] - 0s 11ms/step - loss: 0.0515 - mse: 0.0515 - mae: 0.2004\n",
            "Epoch 547/1000\n",
            "1/1 [==============================] - 0s 9ms/step - loss: 0.0514 - mse: 0.0514 - mae: 0.2003\n",
            "Epoch 548/1000\n",
            "1/1 [==============================] - 0s 11ms/step - loss: 0.0514 - mse: 0.0514 - mae: 0.2003\n",
            "Epoch 549/1000\n",
            "1/1 [==============================] - 0s 16ms/step - loss: 0.0514 - mse: 0.0514 - mae: 0.2003\n",
            "Epoch 550/1000\n",
            "1/1 [==============================] - 0s 14ms/step - loss: 0.0514 - mse: 0.0514 - mae: 0.2003\n",
            "Epoch 551/1000\n",
            "1/1 [==============================] - 0s 10ms/step - loss: 0.0514 - mse: 0.0514 - mae: 0.2002\n",
            "Epoch 552/1000\n",
            "1/1 [==============================] - 0s 20ms/step - loss: 0.0514 - mse: 0.0514 - mae: 0.2002\n",
            "Epoch 553/1000\n",
            "1/1 [==============================] - 0s 20ms/step - loss: 0.0514 - mse: 0.0514 - mae: 0.2002\n",
            "Epoch 554/1000\n",
            "1/1 [==============================] - 0s 9ms/step - loss: 0.0514 - mse: 0.0514 - mae: 0.2002\n",
            "Epoch 555/1000\n",
            "1/1 [==============================] - 0s 11ms/step - loss: 0.0513 - mse: 0.0513 - mae: 0.2002\n",
            "Epoch 556/1000\n",
            "1/1 [==============================] - 0s 11ms/step - loss: 0.0513 - mse: 0.0513 - mae: 0.2002\n",
            "Epoch 557/1000\n",
            "1/1 [==============================] - 0s 15ms/step - loss: 0.0513 - mse: 0.0513 - mae: 0.2001\n",
            "Epoch 558/1000\n",
            "1/1 [==============================] - 0s 14ms/step - loss: 0.0513 - mse: 0.0513 - mae: 0.2001\n",
            "Epoch 559/1000\n",
            "1/1 [==============================] - 0s 23ms/step - loss: 0.0513 - mse: 0.0513 - mae: 0.2000\n",
            "Epoch 560/1000\n",
            "1/1 [==============================] - 0s 12ms/step - loss: 0.0513 - mse: 0.0513 - mae: 0.2000\n",
            "Epoch 561/1000\n",
            "1/1 [==============================] - 0s 8ms/step - loss: 0.0513 - mse: 0.0513 - mae: 0.2000\n",
            "Epoch 562/1000\n",
            "1/1 [==============================] - 0s 19ms/step - loss: 0.0513 - mse: 0.0513 - mae: 0.2000\n",
            "Epoch 563/1000\n",
            "1/1 [==============================] - 0s 19ms/step - loss: 0.0512 - mse: 0.0512 - mae: 0.1999\n",
            "Epoch 564/1000\n",
            "1/1 [==============================] - 0s 10ms/step - loss: 0.0512 - mse: 0.0512 - mae: 0.1998\n",
            "Epoch 565/1000\n",
            "1/1 [==============================] - 0s 13ms/step - loss: 0.0512 - mse: 0.0512 - mae: 0.1998\n",
            "Epoch 566/1000\n",
            "1/1 [==============================] - 0s 16ms/step - loss: 0.0512 - mse: 0.0512 - mae: 0.1998\n",
            "Epoch 567/1000\n",
            "1/1 [==============================] - 0s 21ms/step - loss: 0.0512 - mse: 0.0512 - mae: 0.1997\n",
            "Epoch 568/1000\n",
            "1/1 [==============================] - 0s 12ms/step - loss: 0.0512 - mse: 0.0512 - mae: 0.1997\n",
            "Epoch 569/1000\n",
            "1/1 [==============================] - 0s 14ms/step - loss: 0.0512 - mse: 0.0512 - mae: 0.1997\n",
            "Epoch 570/1000\n",
            "1/1 [==============================] - 0s 16ms/step - loss: 0.0511 - mse: 0.0511 - mae: 0.1997\n",
            "Epoch 571/1000\n",
            "1/1 [==============================] - 0s 14ms/step - loss: 0.0511 - mse: 0.0511 - mae: 0.1997\n",
            "Epoch 572/1000\n",
            "1/1 [==============================] - 0s 24ms/step - loss: 0.0511 - mse: 0.0511 - mae: 0.1997\n",
            "Epoch 573/1000\n",
            "1/1 [==============================] - 0s 24ms/step - loss: 0.0511 - mse: 0.0511 - mae: 0.1996\n",
            "Epoch 574/1000\n",
            "1/1 [==============================] - 0s 7ms/step - loss: 0.0511 - mse: 0.0511 - mae: 0.1995\n",
            "Epoch 575/1000\n",
            "1/1 [==============================] - 0s 10ms/step - loss: 0.0511 - mse: 0.0511 - mae: 0.1995\n",
            "Epoch 576/1000\n",
            "1/1 [==============================] - 0s 13ms/step - loss: 0.0511 - mse: 0.0511 - mae: 0.1996\n",
            "Epoch 577/1000\n",
            "1/1 [==============================] - 0s 27ms/step - loss: 0.0511 - mse: 0.0511 - mae: 0.1996\n",
            "Epoch 578/1000\n",
            "1/1 [==============================] - 0s 25ms/step - loss: 0.0510 - mse: 0.0510 - mae: 0.1996\n",
            "Epoch 579/1000\n",
            "1/1 [==============================] - 0s 13ms/step - loss: 0.0510 - mse: 0.0510 - mae: 0.1995\n",
            "Epoch 580/1000\n",
            "1/1 [==============================] - 0s 13ms/step - loss: 0.0510 - mse: 0.0510 - mae: 0.1994\n",
            "Epoch 581/1000\n",
            "1/1 [==============================] - 0s 8ms/step - loss: 0.0510 - mse: 0.0510 - mae: 0.1993\n",
            "Epoch 582/1000\n",
            "1/1 [==============================] - 0s 23ms/step - loss: 0.0510 - mse: 0.0510 - mae: 0.1993\n",
            "Epoch 583/1000\n",
            "1/1 [==============================] - 0s 8ms/step - loss: 0.0510 - mse: 0.0510 - mae: 0.1993\n",
            "Epoch 584/1000\n",
            "1/1 [==============================] - 0s 12ms/step - loss: 0.0510 - mse: 0.0510 - mae: 0.1994\n",
            "Epoch 585/1000\n",
            "1/1 [==============================] - 0s 21ms/step - loss: 0.0510 - mse: 0.0510 - mae: 0.1994\n",
            "Epoch 586/1000\n",
            "1/1 [==============================] - 0s 12ms/step - loss: 0.0509 - mse: 0.0509 - mae: 0.1994\n",
            "Epoch 587/1000\n",
            "1/1 [==============================] - 0s 14ms/step - loss: 0.0509 - mse: 0.0509 - mae: 0.1993\n",
            "Epoch 588/1000\n",
            "1/1 [==============================] - 0s 19ms/step - loss: 0.0509 - mse: 0.0509 - mae: 0.1992\n",
            "Epoch 589/1000\n",
            "1/1 [==============================] - 0s 34ms/step - loss: 0.0509 - mse: 0.0509 - mae: 0.1992\n",
            "Epoch 590/1000\n",
            "1/1 [==============================] - 0s 15ms/step - loss: 0.0509 - mse: 0.0509 - mae: 0.1992\n",
            "Epoch 591/1000\n",
            "1/1 [==============================] - 0s 12ms/step - loss: 0.0509 - mse: 0.0509 - mae: 0.1992\n",
            "Epoch 592/1000\n",
            "1/1 [==============================] - 0s 11ms/step - loss: 0.0509 - mse: 0.0509 - mae: 0.1992\n",
            "Epoch 593/1000\n",
            "1/1 [==============================] - 0s 7ms/step - loss: 0.0508 - mse: 0.0508 - mae: 0.1991\n",
            "Epoch 594/1000\n",
            "1/1 [==============================] - 0s 11ms/step - loss: 0.0508 - mse: 0.0508 - mae: 0.1990\n",
            "Epoch 595/1000\n",
            "1/1 [==============================] - 0s 16ms/step - loss: 0.0508 - mse: 0.0508 - mae: 0.1990\n",
            "Epoch 596/1000\n",
            "1/1 [==============================] - 0s 8ms/step - loss: 0.0508 - mse: 0.0508 - mae: 0.1989\n",
            "Epoch 597/1000\n",
            "1/1 [==============================] - 0s 11ms/step - loss: 0.0508 - mse: 0.0508 - mae: 0.1989\n",
            "Epoch 598/1000\n",
            "1/1 [==============================] - 0s 8ms/step - loss: 0.0508 - mse: 0.0508 - mae: 0.1989\n",
            "Epoch 599/1000\n",
            "1/1 [==============================] - 0s 28ms/step - loss: 0.0508 - mse: 0.0508 - mae: 0.1989\n",
            "Epoch 600/1000\n",
            "1/1 [==============================] - 0s 16ms/step - loss: 0.0507 - mse: 0.0507 - mae: 0.1989\n",
            "Epoch 601/1000\n",
            "1/1 [==============================] - 0s 13ms/step - loss: 0.0507 - mse: 0.0507 - mae: 0.1989\n",
            "Epoch 602/1000\n",
            "1/1 [==============================] - 0s 8ms/step - loss: 0.0507 - mse: 0.0507 - mae: 0.1988\n",
            "Epoch 603/1000\n",
            "1/1 [==============================] - 0s 9ms/step - loss: 0.0507 - mse: 0.0507 - mae: 0.1988\n",
            "Epoch 604/1000\n",
            "1/1 [==============================] - 0s 13ms/step - loss: 0.0507 - mse: 0.0507 - mae: 0.1987\n",
            "Epoch 605/1000\n",
            "1/1 [==============================] - 0s 13ms/step - loss: 0.0507 - mse: 0.0507 - mae: 0.1986\n",
            "Epoch 606/1000\n",
            "1/1 [==============================] - 0s 21ms/step - loss: 0.0507 - mse: 0.0507 - mae: 0.1986\n",
            "Epoch 607/1000\n",
            "1/1 [==============================] - 0s 10ms/step - loss: 0.0507 - mse: 0.0507 - mae: 0.1986\n",
            "Epoch 608/1000\n",
            "1/1 [==============================] - 0s 15ms/step - loss: 0.0506 - mse: 0.0506 - mae: 0.1987\n",
            "Epoch 609/1000\n",
            "1/1 [==============================] - 0s 8ms/step - loss: 0.0506 - mse: 0.0506 - mae: 0.1986\n",
            "Epoch 610/1000\n",
            "1/1 [==============================] - 0s 21ms/step - loss: 0.0506 - mse: 0.0506 - mae: 0.1986\n",
            "Epoch 611/1000\n",
            "1/1 [==============================] - 0s 16ms/step - loss: 0.0506 - mse: 0.0506 - mae: 0.1985\n",
            "Epoch 612/1000\n",
            "1/1 [==============================] - 0s 10ms/step - loss: 0.0506 - mse: 0.0506 - mae: 0.1984\n",
            "Epoch 613/1000\n",
            "1/1 [==============================] - 0s 21ms/step - loss: 0.0506 - mse: 0.0506 - mae: 0.1984\n",
            "Epoch 614/1000\n",
            "1/1 [==============================] - 0s 11ms/step - loss: 0.0506 - mse: 0.0506 - mae: 0.1985\n",
            "Epoch 615/1000\n",
            "1/1 [==============================] - 0s 16ms/step - loss: 0.0506 - mse: 0.0506 - mae: 0.1985\n",
            "Epoch 616/1000\n",
            "1/1 [==============================] - 0s 9ms/step - loss: 0.0506 - mse: 0.0506 - mae: 0.1985\n",
            "Epoch 617/1000\n",
            "1/1 [==============================] - 0s 23ms/step - loss: 0.0505 - mse: 0.0505 - mae: 0.1984\n",
            "Epoch 618/1000\n",
            "1/1 [==============================] - 0s 14ms/step - loss: 0.0505 - mse: 0.0505 - mae: 0.1983\n",
            "Epoch 619/1000\n",
            "1/1 [==============================] - 0s 11ms/step - loss: 0.0505 - mse: 0.0505 - mae: 0.1982\n",
            "Epoch 620/1000\n",
            "1/1 [==============================] - 0s 9ms/step - loss: 0.0505 - mse: 0.0505 - mae: 0.1983\n",
            "Epoch 621/1000\n",
            "1/1 [==============================] - 0s 22ms/step - loss: 0.0505 - mse: 0.0505 - mae: 0.1984\n",
            "Epoch 622/1000\n",
            "1/1 [==============================] - 0s 11ms/step - loss: 0.0505 - mse: 0.0505 - mae: 0.1984\n",
            "Epoch 623/1000\n",
            "1/1 [==============================] - 0s 13ms/step - loss: 0.0505 - mse: 0.0505 - mae: 0.1983\n",
            "Epoch 624/1000\n",
            "1/1 [==============================] - 0s 11ms/step - loss: 0.0505 - mse: 0.0505 - mae: 0.1981\n",
            "Epoch 625/1000\n",
            "1/1 [==============================] - 0s 15ms/step - loss: 0.0504 - mse: 0.0504 - mae: 0.1980\n",
            "Epoch 626/1000\n",
            "1/1 [==============================] - 0s 10ms/step - loss: 0.0504 - mse: 0.0504 - mae: 0.1980\n",
            "Epoch 627/1000\n",
            "1/1 [==============================] - 0s 22ms/step - loss: 0.0504 - mse: 0.0504 - mae: 0.1979\n",
            "Epoch 628/1000\n",
            "1/1 [==============================] - 0s 10ms/step - loss: 0.0504 - mse: 0.0504 - mae: 0.1979\n",
            "Epoch 629/1000\n",
            "1/1 [==============================] - 0s 20ms/step - loss: 0.0504 - mse: 0.0504 - mae: 0.1980\n",
            "Epoch 630/1000\n",
            "1/1 [==============================] - 0s 11ms/step - loss: 0.0504 - mse: 0.0504 - mae: 0.1980\n",
            "Epoch 631/1000\n",
            "1/1 [==============================] - 0s 21ms/step - loss: 0.0504 - mse: 0.0504 - mae: 0.1980\n",
            "Epoch 632/1000\n",
            "1/1 [==============================] - 0s 29ms/step - loss: 0.0504 - mse: 0.0504 - mae: 0.1979\n",
            "Epoch 633/1000\n",
            "1/1 [==============================] - 0s 12ms/step - loss: 0.0503 - mse: 0.0503 - mae: 0.1978\n",
            "Epoch 634/1000\n",
            "1/1 [==============================] - 0s 25ms/step - loss: 0.0503 - mse: 0.0503 - mae: 0.1977\n",
            "Epoch 635/1000\n",
            "1/1 [==============================] - 0s 15ms/step - loss: 0.0503 - mse: 0.0503 - mae: 0.1978\n",
            "Epoch 636/1000\n",
            "1/1 [==============================] - 0s 26ms/step - loss: 0.0503 - mse: 0.0503 - mae: 0.1978\n",
            "Epoch 637/1000\n",
            "1/1 [==============================] - 0s 10ms/step - loss: 0.0503 - mse: 0.0503 - mae: 0.1978\n",
            "Epoch 638/1000\n",
            "1/1 [==============================] - 0s 19ms/step - loss: 0.0503 - mse: 0.0503 - mae: 0.1976\n",
            "Epoch 639/1000\n",
            "1/1 [==============================] - 0s 14ms/step - loss: 0.0503 - mse: 0.0503 - mae: 0.1976\n",
            "Epoch 640/1000\n",
            "1/1 [==============================] - 0s 11ms/step - loss: 0.0503 - mse: 0.0503 - mae: 0.1976\n",
            "Epoch 641/1000\n",
            "1/1 [==============================] - 0s 15ms/step - loss: 0.0503 - mse: 0.0503 - mae: 0.1976\n",
            "Epoch 642/1000\n",
            "1/1 [==============================] - 0s 33ms/step - loss: 0.0502 - mse: 0.0502 - mae: 0.1975\n",
            "Epoch 643/1000\n",
            "1/1 [==============================] - 0s 16ms/step - loss: 0.0502 - mse: 0.0502 - mae: 0.1976\n",
            "Epoch 644/1000\n",
            "1/1 [==============================] - 0s 23ms/step - loss: 0.0502 - mse: 0.0502 - mae: 0.1976\n",
            "Epoch 645/1000\n",
            "1/1 [==============================] - 0s 15ms/step - loss: 0.0502 - mse: 0.0502 - mae: 0.1975\n",
            "Epoch 646/1000\n",
            "1/1 [==============================] - 0s 10ms/step - loss: 0.0502 - mse: 0.0502 - mae: 0.1975\n",
            "Epoch 647/1000\n",
            "1/1 [==============================] - 0s 14ms/step - loss: 0.0502 - mse: 0.0502 - mae: 0.1974\n",
            "Epoch 648/1000\n",
            "1/1 [==============================] - 0s 14ms/step - loss: 0.0502 - mse: 0.0502 - mae: 0.1973\n",
            "Epoch 649/1000\n",
            "1/1 [==============================] - 0s 19ms/step - loss: 0.0502 - mse: 0.0502 - mae: 0.1974\n",
            "Epoch 650/1000\n",
            "1/1 [==============================] - 0s 10ms/step - loss: 0.0502 - mse: 0.0502 - mae: 0.1975\n",
            "Epoch 651/1000\n",
            "1/1 [==============================] - 0s 11ms/step - loss: 0.0502 - mse: 0.0502 - mae: 0.1974\n",
            "Epoch 652/1000\n",
            "1/1 [==============================] - 0s 9ms/step - loss: 0.0501 - mse: 0.0501 - mae: 0.1974\n",
            "Epoch 653/1000\n",
            "1/1 [==============================] - 0s 13ms/step - loss: 0.0501 - mse: 0.0501 - mae: 0.1973\n",
            "Epoch 654/1000\n",
            "1/1 [==============================] - 0s 11ms/step - loss: 0.0501 - mse: 0.0501 - mae: 0.1972\n",
            "Epoch 655/1000\n",
            "1/1 [==============================] - 0s 13ms/step - loss: 0.0501 - mse: 0.0501 - mae: 0.1972\n",
            "Epoch 656/1000\n",
            "1/1 [==============================] - 0s 8ms/step - loss: 0.0501 - mse: 0.0501 - mae: 0.1972\n",
            "Epoch 657/1000\n",
            "1/1 [==============================] - 0s 22ms/step - loss: 0.0501 - mse: 0.0501 - mae: 0.1972\n",
            "Epoch 658/1000\n",
            "1/1 [==============================] - 0s 12ms/step - loss: 0.0501 - mse: 0.0501 - mae: 0.1972\n",
            "Epoch 659/1000\n",
            "1/1 [==============================] - 0s 18ms/step - loss: 0.0501 - mse: 0.0501 - mae: 0.1972\n",
            "Epoch 660/1000\n",
            "1/1 [==============================] - 0s 9ms/step - loss: 0.0500 - mse: 0.0500 - mae: 0.1972\n",
            "Epoch 661/1000\n",
            "1/1 [==============================] - 0s 14ms/step - loss: 0.0500 - mse: 0.0500 - mae: 0.1971\n",
            "Epoch 662/1000\n",
            "1/1 [==============================] - 0s 19ms/step - loss: 0.0500 - mse: 0.0500 - mae: 0.1971\n",
            "Epoch 663/1000\n",
            "1/1 [==============================] - 0s 15ms/step - loss: 0.0500 - mse: 0.0500 - mae: 0.1970\n",
            "Epoch 664/1000\n",
            "1/1 [==============================] - 0s 20ms/step - loss: 0.0500 - mse: 0.0500 - mae: 0.1969\n",
            "Epoch 665/1000\n",
            "1/1 [==============================] - 0s 11ms/step - loss: 0.0500 - mse: 0.0500 - mae: 0.1969\n",
            "Epoch 666/1000\n",
            "1/1 [==============================] - 0s 31ms/step - loss: 0.0500 - mse: 0.0500 - mae: 0.1969\n",
            "Epoch 667/1000\n",
            "1/1 [==============================] - 0s 22ms/step - loss: 0.0500 - mse: 0.0500 - mae: 0.1969\n",
            "Epoch 668/1000\n",
            "1/1 [==============================] - 0s 11ms/step - loss: 0.0500 - mse: 0.0500 - mae: 0.1968\n",
            "Epoch 669/1000\n",
            "1/1 [==============================] - 0s 8ms/step - loss: 0.0499 - mse: 0.0499 - mae: 0.1968\n",
            "Epoch 670/1000\n",
            "1/1 [==============================] - 0s 14ms/step - loss: 0.0499 - mse: 0.0499 - mae: 0.1968\n",
            "Epoch 671/1000\n",
            "1/1 [==============================] - 0s 9ms/step - loss: 0.0499 - mse: 0.0499 - mae: 0.1968\n",
            "Epoch 672/1000\n",
            "1/1 [==============================] - 0s 15ms/step - loss: 0.0499 - mse: 0.0499 - mae: 0.1968\n",
            "Epoch 673/1000\n",
            "1/1 [==============================] - 0s 11ms/step - loss: 0.0499 - mse: 0.0499 - mae: 0.1968\n",
            "Epoch 674/1000\n",
            "1/1 [==============================] - 0s 12ms/step - loss: 0.0499 - mse: 0.0499 - mae: 0.1968\n",
            "Epoch 675/1000\n",
            "1/1 [==============================] - 0s 19ms/step - loss: 0.0499 - mse: 0.0499 - mae: 0.1968\n",
            "Epoch 676/1000\n",
            "1/1 [==============================] - 0s 16ms/step - loss: 0.0499 - mse: 0.0499 - mae: 0.1968\n",
            "Epoch 677/1000\n",
            "1/1 [==============================] - 0s 10ms/step - loss: 0.0498 - mse: 0.0498 - mae: 0.1967\n",
            "Epoch 678/1000\n",
            "1/1 [==============================] - 0s 11ms/step - loss: 0.0498 - mse: 0.0498 - mae: 0.1966\n",
            "Epoch 679/1000\n",
            "1/1 [==============================] - 0s 12ms/step - loss: 0.0498 - mse: 0.0498 - mae: 0.1966\n",
            "Epoch 680/1000\n",
            "1/1 [==============================] - 0s 12ms/step - loss: 0.0498 - mse: 0.0498 - mae: 0.1965\n",
            "Epoch 681/1000\n",
            "1/1 [==============================] - 0s 13ms/step - loss: 0.0498 - mse: 0.0498 - mae: 0.1965\n",
            "Epoch 682/1000\n",
            "1/1 [==============================] - 0s 12ms/step - loss: 0.0498 - mse: 0.0498 - mae: 0.1964\n",
            "Epoch 683/1000\n",
            "1/1 [==============================] - 0s 30ms/step - loss: 0.0498 - mse: 0.0498 - mae: 0.1964\n",
            "Epoch 684/1000\n",
            "1/1 [==============================] - 0s 11ms/step - loss: 0.0498 - mse: 0.0498 - mae: 0.1964\n",
            "Epoch 685/1000\n",
            "1/1 [==============================] - 0s 22ms/step - loss: 0.0498 - mse: 0.0498 - mae: 0.1964\n",
            "Epoch 686/1000\n",
            "1/1 [==============================] - 0s 37ms/step - loss: 0.0498 - mse: 0.0498 - mae: 0.1964\n",
            "Epoch 687/1000\n",
            "1/1 [==============================] - 0s 15ms/step - loss: 0.0497 - mse: 0.0497 - mae: 0.1964\n",
            "Epoch 688/1000\n",
            "1/1 [==============================] - 0s 13ms/step - loss: 0.0497 - mse: 0.0497 - mae: 0.1964\n",
            "Epoch 689/1000\n",
            "1/1 [==============================] - 0s 11ms/step - loss: 0.0497 - mse: 0.0497 - mae: 0.1964\n",
            "Epoch 690/1000\n",
            "1/1 [==============================] - 0s 9ms/step - loss: 0.0497 - mse: 0.0497 - mae: 0.1963\n",
            "Epoch 691/1000\n",
            "1/1 [==============================] - 0s 17ms/step - loss: 0.0497 - mse: 0.0497 - mae: 0.1963\n",
            "Epoch 692/1000\n",
            "1/1 [==============================] - 0s 14ms/step - loss: 0.0497 - mse: 0.0497 - mae: 0.1962\n",
            "Epoch 693/1000\n",
            "1/1 [==============================] - 0s 16ms/step - loss: 0.0497 - mse: 0.0497 - mae: 0.1961\n",
            "Epoch 694/1000\n",
            "1/1 [==============================] - 0s 15ms/step - loss: 0.0497 - mse: 0.0497 - mae: 0.1962\n",
            "Epoch 695/1000\n",
            "1/1 [==============================] - 0s 22ms/step - loss: 0.0496 - mse: 0.0496 - mae: 0.1961\n",
            "Epoch 696/1000\n",
            "1/1 [==============================] - 0s 14ms/step - loss: 0.0496 - mse: 0.0496 - mae: 0.1961\n",
            "Epoch 697/1000\n",
            "1/1 [==============================] - 0s 8ms/step - loss: 0.0496 - mse: 0.0496 - mae: 0.1960\n",
            "Epoch 698/1000\n",
            "1/1 [==============================] - 0s 22ms/step - loss: 0.0496 - mse: 0.0496 - mae: 0.1960\n",
            "Epoch 699/1000\n",
            "1/1 [==============================] - 0s 7ms/step - loss: 0.0496 - mse: 0.0496 - mae: 0.1959\n",
            "Epoch 700/1000\n",
            "1/1 [==============================] - 0s 17ms/step - loss: 0.0496 - mse: 0.0496 - mae: 0.1959\n",
            "Epoch 701/1000\n",
            "1/1 [==============================] - 0s 11ms/step - loss: 0.0496 - mse: 0.0496 - mae: 0.1960\n",
            "Epoch 702/1000\n",
            "1/1 [==============================] - 0s 13ms/step - loss: 0.0496 - mse: 0.0496 - mae: 0.1960\n",
            "Epoch 703/1000\n",
            "1/1 [==============================] - 0s 15ms/step - loss: 0.0496 - mse: 0.0496 - mae: 0.1960\n",
            "Epoch 704/1000\n",
            "1/1 [==============================] - 0s 14ms/step - loss: 0.0495 - mse: 0.0495 - mae: 0.1959\n",
            "Epoch 705/1000\n",
            "1/1 [==============================] - 0s 14ms/step - loss: 0.0495 - mse: 0.0495 - mae: 0.1959\n",
            "Epoch 706/1000\n",
            "1/1 [==============================] - 0s 18ms/step - loss: 0.0495 - mse: 0.0495 - mae: 0.1958\n",
            "Epoch 707/1000\n",
            "1/1 [==============================] - 0s 16ms/step - loss: 0.0495 - mse: 0.0495 - mae: 0.1957\n",
            "Epoch 708/1000\n",
            "1/1 [==============================] - 0s 17ms/step - loss: 0.0495 - mse: 0.0495 - mae: 0.1957\n",
            "Epoch 709/1000\n",
            "1/1 [==============================] - 0s 9ms/step - loss: 0.0495 - mse: 0.0495 - mae: 0.1956\n",
            "Epoch 710/1000\n",
            "1/1 [==============================] - 0s 10ms/step - loss: 0.0495 - mse: 0.0495 - mae: 0.1956\n",
            "Epoch 711/1000\n",
            "1/1 [==============================] - 0s 14ms/step - loss: 0.0495 - mse: 0.0495 - mae: 0.1956\n",
            "Epoch 712/1000\n",
            "1/1 [==============================] - 0s 16ms/step - loss: 0.0494 - mse: 0.0494 - mae: 0.1956\n",
            "Epoch 713/1000\n",
            "1/1 [==============================] - 0s 13ms/step - loss: 0.0494 - mse: 0.0494 - mae: 0.1956\n",
            "Epoch 714/1000\n",
            "1/1 [==============================] - 0s 14ms/step - loss: 0.0494 - mse: 0.0494 - mae: 0.1955\n",
            "Epoch 715/1000\n",
            "1/1 [==============================] - 0s 19ms/step - loss: 0.0494 - mse: 0.0494 - mae: 0.1955\n",
            "Epoch 716/1000\n",
            "1/1 [==============================] - 0s 19ms/step - loss: 0.0494 - mse: 0.0494 - mae: 0.1955\n",
            "Epoch 717/1000\n",
            "1/1 [==============================] - 0s 14ms/step - loss: 0.0494 - mse: 0.0494 - mae: 0.1955\n",
            "Epoch 718/1000\n",
            "1/1 [==============================] - 0s 18ms/step - loss: 0.0494 - mse: 0.0494 - mae: 0.1954\n",
            "Epoch 719/1000\n",
            "1/1 [==============================] - 0s 20ms/step - loss: 0.0494 - mse: 0.0494 - mae: 0.1954\n",
            "Epoch 720/1000\n",
            "1/1 [==============================] - 0s 11ms/step - loss: 0.0494 - mse: 0.0494 - mae: 0.1953\n",
            "Epoch 721/1000\n",
            "1/1 [==============================] - 0s 15ms/step - loss: 0.0493 - mse: 0.0493 - mae: 0.1953\n",
            "Epoch 722/1000\n",
            "1/1 [==============================] - 0s 15ms/step - loss: 0.0493 - mse: 0.0493 - mae: 0.1953\n",
            "Epoch 723/1000\n",
            "1/1 [==============================] - 0s 16ms/step - loss: 0.0493 - mse: 0.0493 - mae: 0.1952\n",
            "Epoch 724/1000\n",
            "1/1 [==============================] - 0s 22ms/step - loss: 0.0493 - mse: 0.0493 - mae: 0.1951\n",
            "Epoch 725/1000\n",
            "1/1 [==============================] - 0s 8ms/step - loss: 0.0493 - mse: 0.0493 - mae: 0.1951\n",
            "Epoch 726/1000\n",
            "1/1 [==============================] - 0s 30ms/step - loss: 0.0493 - mse: 0.0493 - mae: 0.1951\n",
            "Epoch 727/1000\n",
            "1/1 [==============================] - 0s 20ms/step - loss: 0.0493 - mse: 0.0493 - mae: 0.1950\n",
            "Epoch 728/1000\n",
            "1/1 [==============================] - 0s 17ms/step - loss: 0.0493 - mse: 0.0493 - mae: 0.1951\n",
            "Epoch 729/1000\n",
            "1/1 [==============================] - 0s 8ms/step - loss: 0.0493 - mse: 0.0493 - mae: 0.1951\n",
            "Epoch 730/1000\n",
            "1/1 [==============================] - 0s 16ms/step - loss: 0.0492 - mse: 0.0492 - mae: 0.1950\n",
            "Epoch 731/1000\n",
            "1/1 [==============================] - 0s 18ms/step - loss: 0.0492 - mse: 0.0492 - mae: 0.1950\n",
            "Epoch 732/1000\n",
            "1/1 [==============================] - 0s 21ms/step - loss: 0.0492 - mse: 0.0492 - mae: 0.1949\n",
            "Epoch 733/1000\n",
            "1/1 [==============================] - 0s 8ms/step - loss: 0.0492 - mse: 0.0492 - mae: 0.1949\n",
            "Epoch 734/1000\n",
            "1/1 [==============================] - 0s 20ms/step - loss: 0.0492 - mse: 0.0492 - mae: 0.1950\n",
            "Epoch 735/1000\n",
            "1/1 [==============================] - 0s 21ms/step - loss: 0.0492 - mse: 0.0492 - mae: 0.1950\n",
            "Epoch 736/1000\n",
            "1/1 [==============================] - 0s 15ms/step - loss: 0.0492 - mse: 0.0492 - mae: 0.1950\n",
            "Epoch 737/1000\n",
            "1/1 [==============================] - 0s 15ms/step - loss: 0.0491 - mse: 0.0491 - mae: 0.1948\n",
            "Epoch 738/1000\n",
            "1/1 [==============================] - 0s 29ms/step - loss: 0.0491 - mse: 0.0491 - mae: 0.1947\n",
            "Epoch 739/1000\n",
            "1/1 [==============================] - 0s 29ms/step - loss: 0.0491 - mse: 0.0491 - mae: 0.1947\n",
            "Epoch 740/1000\n",
            "1/1 [==============================] - 0s 29ms/step - loss: 0.0491 - mse: 0.0491 - mae: 0.1946\n",
            "Epoch 741/1000\n",
            "1/1 [==============================] - 0s 30ms/step - loss: 0.0491 - mse: 0.0491 - mae: 0.1947\n",
            "Epoch 742/1000\n",
            "1/1 [==============================] - 0s 17ms/step - loss: 0.0491 - mse: 0.0491 - mae: 0.1947\n",
            "Epoch 743/1000\n",
            "1/1 [==============================] - 0s 8ms/step - loss: 0.0491 - mse: 0.0491 - mae: 0.1947\n",
            "Epoch 744/1000\n",
            "1/1 [==============================] - 0s 12ms/step - loss: 0.0491 - mse: 0.0491 - mae: 0.1947\n",
            "Epoch 745/1000\n",
            "1/1 [==============================] - 0s 8ms/step - loss: 0.0491 - mse: 0.0491 - mae: 0.1946\n",
            "Epoch 746/1000\n",
            "1/1 [==============================] - 0s 12ms/step - loss: 0.0490 - mse: 0.0490 - mae: 0.1945\n",
            "Epoch 747/1000\n",
            "1/1 [==============================] - 0s 12ms/step - loss: 0.0490 - mse: 0.0490 - mae: 0.1945\n",
            "Epoch 748/1000\n",
            "1/1 [==============================] - 0s 7ms/step - loss: 0.0490 - mse: 0.0490 - mae: 0.1945\n",
            "Epoch 749/1000\n",
            "1/1 [==============================] - 0s 21ms/step - loss: 0.0490 - mse: 0.0490 - mae: 0.1944\n",
            "Epoch 750/1000\n",
            "1/1 [==============================] - 0s 30ms/step - loss: 0.0490 - mse: 0.0490 - mae: 0.1943\n",
            "Epoch 751/1000\n",
            "1/1 [==============================] - 0s 7ms/step - loss: 0.0490 - mse: 0.0490 - mae: 0.1943\n",
            "Epoch 752/1000\n",
            "1/1 [==============================] - 0s 12ms/step - loss: 0.0490 - mse: 0.0490 - mae: 0.1942\n",
            "Epoch 753/1000\n",
            "1/1 [==============================] - 0s 7ms/step - loss: 0.0490 - mse: 0.0490 - mae: 0.1942\n",
            "Epoch 754/1000\n",
            "1/1 [==============================] - 0s 12ms/step - loss: 0.0490 - mse: 0.0490 - mae: 0.1943\n",
            "Epoch 755/1000\n",
            "1/1 [==============================] - 0s 33ms/step - loss: 0.0489 - mse: 0.0489 - mae: 0.1943\n",
            "Epoch 756/1000\n",
            "1/1 [==============================] - 0s 14ms/step - loss: 0.0489 - mse: 0.0489 - mae: 0.1943\n",
            "Epoch 757/1000\n",
            "1/1 [==============================] - 0s 25ms/step - loss: 0.0489 - mse: 0.0489 - mae: 0.1942\n",
            "Epoch 758/1000\n",
            "1/1 [==============================] - 0s 24ms/step - loss: 0.0489 - mse: 0.0489 - mae: 0.1941\n",
            "Epoch 759/1000\n",
            "1/1 [==============================] - 0s 13ms/step - loss: 0.0489 - mse: 0.0489 - mae: 0.1941\n",
            "Epoch 760/1000\n",
            "1/1 [==============================] - 0s 10ms/step - loss: 0.0489 - mse: 0.0489 - mae: 0.1941\n",
            "Epoch 761/1000\n",
            "1/1 [==============================] - 0s 19ms/step - loss: 0.0489 - mse: 0.0489 - mae: 0.1941\n",
            "Epoch 762/1000\n",
            "1/1 [==============================] - 0s 17ms/step - loss: 0.0489 - mse: 0.0489 - mae: 0.1940\n",
            "Epoch 763/1000\n",
            "1/1 [==============================] - 0s 11ms/step - loss: 0.0488 - mse: 0.0488 - mae: 0.1939\n",
            "Epoch 764/1000\n",
            "1/1 [==============================] - 0s 11ms/step - loss: 0.0488 - mse: 0.0488 - mae: 0.1938\n",
            "Epoch 765/1000\n",
            "1/1 [==============================] - 0s 11ms/step - loss: 0.0488 - mse: 0.0488 - mae: 0.1937\n",
            "Epoch 766/1000\n",
            "1/1 [==============================] - 0s 14ms/step - loss: 0.0488 - mse: 0.0488 - mae: 0.1938\n",
            "Epoch 767/1000\n",
            "1/1 [==============================] - 0s 24ms/step - loss: 0.0488 - mse: 0.0488 - mae: 0.1939\n",
            "Epoch 768/1000\n",
            "1/1 [==============================] - 0s 8ms/step - loss: 0.0488 - mse: 0.0488 - mae: 0.1938\n",
            "Epoch 769/1000\n",
            "1/1 [==============================] - 0s 7ms/step - loss: 0.0488 - mse: 0.0488 - mae: 0.1938\n",
            "Epoch 770/1000\n",
            "1/1 [==============================] - 0s 17ms/step - loss: 0.0488 - mse: 0.0488 - mae: 0.1937\n",
            "Epoch 771/1000\n",
            "1/1 [==============================] - 0s 7ms/step - loss: 0.0487 - mse: 0.0487 - mae: 0.1937\n",
            "Epoch 772/1000\n",
            "1/1 [==============================] - 0s 15ms/step - loss: 0.0487 - mse: 0.0487 - mae: 0.1938\n",
            "Epoch 773/1000\n",
            "1/1 [==============================] - 0s 27ms/step - loss: 0.0487 - mse: 0.0487 - mae: 0.1938\n",
            "Epoch 774/1000\n",
            "1/1 [==============================] - 0s 7ms/step - loss: 0.0487 - mse: 0.0487 - mae: 0.1938\n",
            "Epoch 775/1000\n",
            "1/1 [==============================] - 0s 23ms/step - loss: 0.0487 - mse: 0.0487 - mae: 0.1936\n",
            "Epoch 776/1000\n",
            "1/1 [==============================] - 0s 12ms/step - loss: 0.0487 - mse: 0.0487 - mae: 0.1934\n",
            "Epoch 777/1000\n",
            "1/1 [==============================] - 0s 18ms/step - loss: 0.0487 - mse: 0.0487 - mae: 0.1934\n",
            "Epoch 778/1000\n",
            "1/1 [==============================] - 0s 8ms/step - loss: 0.0487 - mse: 0.0487 - mae: 0.1934\n",
            "Epoch 779/1000\n",
            "1/1 [==============================] - 0s 15ms/step - loss: 0.0487 - mse: 0.0487 - mae: 0.1935\n",
            "Epoch 780/1000\n",
            "1/1 [==============================] - 0s 7ms/step - loss: 0.0486 - mse: 0.0486 - mae: 0.1935\n",
            "Epoch 781/1000\n",
            "1/1 [==============================] - 0s 10ms/step - loss: 0.0486 - mse: 0.0486 - mae: 0.1934\n",
            "Epoch 782/1000\n",
            "1/1 [==============================] - 0s 27ms/step - loss: 0.0486 - mse: 0.0486 - mae: 0.1933\n",
            "Epoch 783/1000\n",
            "1/1 [==============================] - 0s 8ms/step - loss: 0.0486 - mse: 0.0486 - mae: 0.1932\n",
            "Epoch 784/1000\n",
            "1/1 [==============================] - 0s 27ms/step - loss: 0.0486 - mse: 0.0486 - mae: 0.1933\n",
            "Epoch 785/1000\n",
            "1/1 [==============================] - 0s 14ms/step - loss: 0.0486 - mse: 0.0486 - mae: 0.1934\n",
            "Epoch 786/1000\n",
            "1/1 [==============================] - 0s 11ms/step - loss: 0.0486 - mse: 0.0486 - mae: 0.1934\n",
            "Epoch 787/1000\n",
            "1/1 [==============================] - 0s 7ms/step - loss: 0.0485 - mse: 0.0485 - mae: 0.1933\n",
            "Epoch 788/1000\n",
            "1/1 [==============================] - 0s 17ms/step - loss: 0.0485 - mse: 0.0485 - mae: 0.1932\n",
            "Epoch 789/1000\n",
            "1/1 [==============================] - 0s 11ms/step - loss: 0.0485 - mse: 0.0485 - mae: 0.1930\n",
            "Epoch 790/1000\n",
            "1/1 [==============================] - 0s 12ms/step - loss: 0.0485 - mse: 0.0485 - mae: 0.1931\n",
            "Epoch 791/1000\n",
            "1/1 [==============================] - 0s 11ms/step - loss: 0.0485 - mse: 0.0485 - mae: 0.1932\n",
            "Epoch 792/1000\n",
            "1/1 [==============================] - 0s 9ms/step - loss: 0.0485 - mse: 0.0485 - mae: 0.1932\n",
            "Epoch 793/1000\n",
            "1/1 [==============================] - 0s 19ms/step - loss: 0.0485 - mse: 0.0485 - mae: 0.1931\n",
            "Epoch 794/1000\n",
            "1/1 [==============================] - 0s 12ms/step - loss: 0.0485 - mse: 0.0485 - mae: 0.1930\n",
            "Epoch 795/1000\n",
            "1/1 [==============================] - 0s 24ms/step - loss: 0.0485 - mse: 0.0485 - mae: 0.1929\n",
            "Epoch 796/1000\n",
            "1/1 [==============================] - 0s 8ms/step - loss: 0.0484 - mse: 0.0484 - mae: 0.1928\n",
            "Epoch 797/1000\n",
            "1/1 [==============================] - 0s 14ms/step - loss: 0.0484 - mse: 0.0484 - mae: 0.1930\n",
            "Epoch 798/1000\n",
            "1/1 [==============================] - 0s 26ms/step - loss: 0.0484 - mse: 0.0484 - mae: 0.1930\n",
            "Epoch 799/1000\n",
            "1/1 [==============================] - 0s 34ms/step - loss: 0.0484 - mse: 0.0484 - mae: 0.1929\n",
            "Epoch 800/1000\n",
            "1/1 [==============================] - 0s 31ms/step - loss: 0.0484 - mse: 0.0484 - mae: 0.1927\n",
            "Epoch 801/1000\n",
            "1/1 [==============================] - 0s 24ms/step - loss: 0.0484 - mse: 0.0484 - mae: 0.1925\n",
            "Epoch 802/1000\n",
            "1/1 [==============================] - 0s 11ms/step - loss: 0.0484 - mse: 0.0484 - mae: 0.1925\n",
            "Epoch 803/1000\n",
            "1/1 [==============================] - 0s 17ms/step - loss: 0.0484 - mse: 0.0484 - mae: 0.1926\n",
            "Epoch 804/1000\n",
            "1/1 [==============================] - 0s 20ms/step - loss: 0.0484 - mse: 0.0484 - mae: 0.1926\n",
            "Epoch 805/1000\n",
            "1/1 [==============================] - 0s 14ms/step - loss: 0.0483 - mse: 0.0483 - mae: 0.1926\n",
            "Epoch 806/1000\n",
            "1/1 [==============================] - 0s 22ms/step - loss: 0.0483 - mse: 0.0483 - mae: 0.1925\n",
            "Epoch 807/1000\n",
            "1/1 [==============================] - 0s 24ms/step - loss: 0.0483 - mse: 0.0483 - mae: 0.1924\n",
            "Epoch 808/1000\n",
            "1/1 [==============================] - 0s 15ms/step - loss: 0.0483 - mse: 0.0483 - mae: 0.1924\n",
            "Epoch 809/1000\n",
            "1/1 [==============================] - 0s 13ms/step - loss: 0.0483 - mse: 0.0483 - mae: 0.1925\n",
            "Epoch 810/1000\n",
            "1/1 [==============================] - 0s 19ms/step - loss: 0.0483 - mse: 0.0483 - mae: 0.1925\n",
            "Epoch 811/1000\n",
            "1/1 [==============================] - 0s 18ms/step - loss: 0.0483 - mse: 0.0483 - mae: 0.1924\n",
            "Epoch 812/1000\n",
            "1/1 [==============================] - 0s 13ms/step - loss: 0.0482 - mse: 0.0482 - mae: 0.1923\n",
            "Epoch 813/1000\n",
            "1/1 [==============================] - 0s 20ms/step - loss: 0.0482 - mse: 0.0482 - mae: 0.1921\n",
            "Epoch 814/1000\n",
            "1/1 [==============================] - 0s 16ms/step - loss: 0.0482 - mse: 0.0482 - mae: 0.1922\n",
            "Epoch 815/1000\n",
            "1/1 [==============================] - 0s 20ms/step - loss: 0.0482 - mse: 0.0482 - mae: 0.1922\n",
            "Epoch 816/1000\n",
            "1/1 [==============================] - 0s 13ms/step - loss: 0.0482 - mse: 0.0482 - mae: 0.1922\n",
            "Epoch 817/1000\n",
            "1/1 [==============================] - 0s 15ms/step - loss: 0.0482 - mse: 0.0482 - mae: 0.1921\n",
            "Epoch 818/1000\n",
            "1/1 [==============================] - 0s 8ms/step - loss: 0.0482 - mse: 0.0482 - mae: 0.1920\n",
            "Epoch 819/1000\n",
            "1/1 [==============================] - 0s 17ms/step - loss: 0.0482 - mse: 0.0482 - mae: 0.1919\n",
            "Epoch 820/1000\n",
            "1/1 [==============================] - 0s 16ms/step - loss: 0.0481 - mse: 0.0481 - mae: 0.1921\n",
            "Epoch 821/1000\n",
            "1/1 [==============================] - 0s 13ms/step - loss: 0.0481 - mse: 0.0481 - mae: 0.1921\n",
            "Epoch 822/1000\n",
            "1/1 [==============================] - 0s 15ms/step - loss: 0.0481 - mse: 0.0481 - mae: 0.1920\n",
            "Epoch 823/1000\n",
            "1/1 [==============================] - 0s 25ms/step - loss: 0.0481 - mse: 0.0481 - mae: 0.1918\n",
            "Epoch 824/1000\n",
            "1/1 [==============================] - 0s 23ms/step - loss: 0.0481 - mse: 0.0481 - mae: 0.1917\n",
            "Epoch 825/1000\n",
            "1/1 [==============================] - 0s 15ms/step - loss: 0.0481 - mse: 0.0481 - mae: 0.1917\n",
            "Epoch 826/1000\n",
            "1/1 [==============================] - 0s 27ms/step - loss: 0.0481 - mse: 0.0481 - mae: 0.1917\n",
            "Epoch 827/1000\n",
            "1/1 [==============================] - 0s 16ms/step - loss: 0.0481 - mse: 0.0481 - mae: 0.1918\n",
            "Epoch 828/1000\n",
            "1/1 [==============================] - 0s 10ms/step - loss: 0.0481 - mse: 0.0481 - mae: 0.1917\n",
            "Epoch 829/1000\n",
            "1/1 [==============================] - 0s 25ms/step - loss: 0.0480 - mse: 0.0480 - mae: 0.1916\n",
            "Epoch 830/1000\n",
            "1/1 [==============================] - 0s 14ms/step - loss: 0.0480 - mse: 0.0480 - mae: 0.1915\n",
            "Epoch 831/1000\n",
            "1/1 [==============================] - 0s 13ms/step - loss: 0.0480 - mse: 0.0480 - mae: 0.1917\n",
            "Epoch 832/1000\n",
            "1/1 [==============================] - 0s 30ms/step - loss: 0.0480 - mse: 0.0480 - mae: 0.1917\n",
            "Epoch 833/1000\n",
            "1/1 [==============================] - 0s 11ms/step - loss: 0.0480 - mse: 0.0480 - mae: 0.1917\n",
            "Epoch 834/1000\n",
            "1/1 [==============================] - 0s 15ms/step - loss: 0.0480 - mse: 0.0480 - mae: 0.1916\n",
            "Epoch 835/1000\n",
            "1/1 [==============================] - 0s 7ms/step - loss: 0.0480 - mse: 0.0480 - mae: 0.1914\n",
            "Epoch 836/1000\n",
            "1/1 [==============================] - 0s 17ms/step - loss: 0.0480 - mse: 0.0480 - mae: 0.1913\n",
            "Epoch 837/1000\n",
            "1/1 [==============================] - 0s 18ms/step - loss: 0.0479 - mse: 0.0479 - mae: 0.1914\n",
            "Epoch 838/1000\n",
            "1/1 [==============================] - 0s 9ms/step - loss: 0.0479 - mse: 0.0479 - mae: 0.1914\n",
            "Epoch 839/1000\n",
            "1/1 [==============================] - 0s 18ms/step - loss: 0.0479 - mse: 0.0479 - mae: 0.1914\n",
            "Epoch 840/1000\n",
            "1/1 [==============================] - 0s 20ms/step - loss: 0.0479 - mse: 0.0479 - mae: 0.1913\n",
            "Epoch 841/1000\n",
            "1/1 [==============================] - 0s 12ms/step - loss: 0.0479 - mse: 0.0479 - mae: 0.1911\n",
            "Epoch 842/1000\n",
            "1/1 [==============================] - 0s 21ms/step - loss: 0.0479 - mse: 0.0479 - mae: 0.1912\n",
            "Epoch 843/1000\n",
            "1/1 [==============================] - 0s 10ms/step - loss: 0.0479 - mse: 0.0479 - mae: 0.1913\n",
            "Epoch 844/1000\n",
            "1/1 [==============================] - 0s 17ms/step - loss: 0.0479 - mse: 0.0479 - mae: 0.1913\n",
            "Epoch 845/1000\n",
            "1/1 [==============================] - 0s 20ms/step - loss: 0.0478 - mse: 0.0478 - mae: 0.1912\n",
            "Epoch 846/1000\n",
            "1/1 [==============================] - 0s 12ms/step - loss: 0.0478 - mse: 0.0478 - mae: 0.1910\n",
            "Epoch 847/1000\n",
            "1/1 [==============================] - 0s 24ms/step - loss: 0.0478 - mse: 0.0478 - mae: 0.1909\n",
            "Epoch 848/1000\n",
            "1/1 [==============================] - 0s 12ms/step - loss: 0.0478 - mse: 0.0478 - mae: 0.1910\n",
            "Epoch 849/1000\n",
            "1/1 [==============================] - 0s 26ms/step - loss: 0.0478 - mse: 0.0478 - mae: 0.1910\n",
            "Epoch 850/1000\n",
            "1/1 [==============================] - 0s 7ms/step - loss: 0.0478 - mse: 0.0478 - mae: 0.1910\n",
            "Epoch 851/1000\n",
            "1/1 [==============================] - 0s 15ms/step - loss: 0.0478 - mse: 0.0478 - mae: 0.1910\n",
            "Epoch 852/1000\n",
            "1/1 [==============================] - 0s 17ms/step - loss: 0.0478 - mse: 0.0478 - mae: 0.1909\n",
            "Epoch 853/1000\n",
            "1/1 [==============================] - 0s 9ms/step - loss: 0.0478 - mse: 0.0478 - mae: 0.1907\n",
            "Epoch 854/1000\n",
            "1/1 [==============================] - 0s 20ms/step - loss: 0.0477 - mse: 0.0477 - mae: 0.1908\n",
            "Epoch 855/1000\n",
            "1/1 [==============================] - 0s 20ms/step - loss: 0.0477 - mse: 0.0477 - mae: 0.1909\n",
            "Epoch 856/1000\n",
            "1/1 [==============================] - 0s 9ms/step - loss: 0.0477 - mse: 0.0477 - mae: 0.1908\n",
            "Epoch 857/1000\n",
            "1/1 [==============================] - 0s 21ms/step - loss: 0.0477 - mse: 0.0477 - mae: 0.1906\n",
            "Epoch 858/1000\n",
            "1/1 [==============================] - 0s 12ms/step - loss: 0.0477 - mse: 0.0477 - mae: 0.1905\n",
            "Epoch 859/1000\n",
            "1/1 [==============================] - 0s 16ms/step - loss: 0.0477 - mse: 0.0477 - mae: 0.1905\n",
            "Epoch 860/1000\n",
            "1/1 [==============================] - 0s 21ms/step - loss: 0.0477 - mse: 0.0477 - mae: 0.1906\n",
            "Epoch 861/1000\n",
            "1/1 [==============================] - 0s 11ms/step - loss: 0.0477 - mse: 0.0477 - mae: 0.1905\n",
            "Epoch 862/1000\n",
            "1/1 [==============================] - 0s 33ms/step - loss: 0.0477 - mse: 0.0477 - mae: 0.1905\n",
            "Epoch 863/1000\n",
            "1/1 [==============================] - 0s 11ms/step - loss: 0.0476 - mse: 0.0476 - mae: 0.1904\n",
            "Epoch 864/1000\n",
            "1/1 [==============================] - 0s 28ms/step - loss: 0.0476 - mse: 0.0476 - mae: 0.1903\n",
            "Epoch 865/1000\n",
            "1/1 [==============================] - 0s 7ms/step - loss: 0.0476 - mse: 0.0476 - mae: 0.1904\n",
            "Epoch 866/1000\n",
            "1/1 [==============================] - 0s 23ms/step - loss: 0.0476 - mse: 0.0476 - mae: 0.1905\n",
            "Epoch 867/1000\n",
            "1/1 [==============================] - 0s 8ms/step - loss: 0.0476 - mse: 0.0476 - mae: 0.1905\n",
            "Epoch 868/1000\n",
            "1/1 [==============================] - 0s 7ms/step - loss: 0.0476 - mse: 0.0476 - mae: 0.1903\n",
            "Epoch 869/1000\n",
            "1/1 [==============================] - 0s 17ms/step - loss: 0.0476 - mse: 0.0476 - mae: 0.1901\n",
            "Epoch 870/1000\n",
            "1/1 [==============================] - 0s 21ms/step - loss: 0.0476 - mse: 0.0476 - mae: 0.1900\n",
            "Epoch 871/1000\n",
            "1/1 [==============================] - 0s 8ms/step - loss: 0.0476 - mse: 0.0476 - mae: 0.1901\n",
            "Epoch 872/1000\n",
            "1/1 [==============================] - 0s 16ms/step - loss: 0.0475 - mse: 0.0475 - mae: 0.1902\n",
            "Epoch 873/1000\n",
            "1/1 [==============================] - 0s 24ms/step - loss: 0.0475 - mse: 0.0475 - mae: 0.1901\n",
            "Epoch 874/1000\n",
            "1/1 [==============================] - 0s 12ms/step - loss: 0.0475 - mse: 0.0475 - mae: 0.1900\n",
            "Epoch 875/1000\n",
            "1/1 [==============================] - 0s 23ms/step - loss: 0.0475 - mse: 0.0475 - mae: 0.1899\n",
            "Epoch 876/1000\n",
            "1/1 [==============================] - 0s 11ms/step - loss: 0.0475 - mse: 0.0475 - mae: 0.1899\n",
            "Epoch 877/1000\n",
            "1/1 [==============================] - 0s 8ms/step - loss: 0.0475 - mse: 0.0475 - mae: 0.1900\n",
            "Epoch 878/1000\n",
            "1/1 [==============================] - 0s 8ms/step - loss: 0.0475 - mse: 0.0475 - mae: 0.1900\n",
            "Epoch 879/1000\n",
            "1/1 [==============================] - 0s 16ms/step - loss: 0.0475 - mse: 0.0475 - mae: 0.1899\n",
            "Epoch 880/1000\n",
            "1/1 [==============================] - 0s 6ms/step - loss: 0.0474 - mse: 0.0474 - mae: 0.1897\n",
            "Epoch 881/1000\n",
            "1/1 [==============================] - 0s 38ms/step - loss: 0.0474 - mse: 0.0474 - mae: 0.1899\n",
            "Epoch 882/1000\n",
            "1/1 [==============================] - 0s 10ms/step - loss: 0.0474 - mse: 0.0474 - mae: 0.1900\n",
            "Epoch 883/1000\n",
            "1/1 [==============================] - 0s 25ms/step - loss: 0.0474 - mse: 0.0474 - mae: 0.1900\n",
            "Epoch 884/1000\n",
            "1/1 [==============================] - 0s 12ms/step - loss: 0.0474 - mse: 0.0474 - mae: 0.1899\n",
            "Epoch 885/1000\n",
            "1/1 [==============================] - 0s 10ms/step - loss: 0.0474 - mse: 0.0474 - mae: 0.1898\n",
            "Epoch 886/1000\n",
            "1/1 [==============================] - 0s 21ms/step - loss: 0.0474 - mse: 0.0474 - mae: 0.1897\n",
            "Epoch 887/1000\n",
            "1/1 [==============================] - 0s 10ms/step - loss: 0.0474 - mse: 0.0474 - mae: 0.1895\n",
            "Epoch 888/1000\n",
            "1/1 [==============================] - 0s 18ms/step - loss: 0.0474 - mse: 0.0474 - mae: 0.1896\n",
            "Epoch 889/1000\n",
            "1/1 [==============================] - 0s 7ms/step - loss: 0.0473 - mse: 0.0473 - mae: 0.1895\n",
            "Epoch 890/1000\n",
            "1/1 [==============================] - 0s 16ms/step - loss: 0.0473 - mse: 0.0473 - mae: 0.1894\n",
            "Epoch 891/1000\n",
            "1/1 [==============================] - 0s 17ms/step - loss: 0.0473 - mse: 0.0473 - mae: 0.1893\n",
            "Epoch 892/1000\n",
            "1/1 [==============================] - 0s 14ms/step - loss: 0.0473 - mse: 0.0473 - mae: 0.1893\n",
            "Epoch 893/1000\n",
            "1/1 [==============================] - 0s 14ms/step - loss: 0.0473 - mse: 0.0473 - mae: 0.1893\n",
            "Epoch 894/1000\n",
            "1/1 [==============================] - 0s 13ms/step - loss: 0.0473 - mse: 0.0473 - mae: 0.1894\n",
            "Epoch 895/1000\n",
            "1/1 [==============================] - 0s 14ms/step - loss: 0.0473 - mse: 0.0473 - mae: 0.1893\n",
            "Epoch 896/1000\n",
            "1/1 [==============================] - 0s 27ms/step - loss: 0.0473 - mse: 0.0473 - mae: 0.1892\n",
            "Epoch 897/1000\n",
            "1/1 [==============================] - 0s 12ms/step - loss: 0.0473 - mse: 0.0473 - mae: 0.1891\n",
            "Epoch 898/1000\n",
            "1/1 [==============================] - 0s 8ms/step - loss: 0.0472 - mse: 0.0472 - mae: 0.1893\n",
            "Epoch 899/1000\n",
            "1/1 [==============================] - 0s 11ms/step - loss: 0.0472 - mse: 0.0472 - mae: 0.1893\n",
            "Epoch 900/1000\n",
            "1/1 [==============================] - 0s 18ms/step - loss: 0.0472 - mse: 0.0472 - mae: 0.1893\n",
            "Epoch 901/1000\n",
            "1/1 [==============================] - 0s 8ms/step - loss: 0.0472 - mse: 0.0472 - mae: 0.1891\n",
            "Epoch 902/1000\n",
            "1/1 [==============================] - 0s 23ms/step - loss: 0.0472 - mse: 0.0472 - mae: 0.1889\n",
            "Epoch 903/1000\n",
            "1/1 [==============================] - 0s 17ms/step - loss: 0.0472 - mse: 0.0472 - mae: 0.1890\n",
            "Epoch 904/1000\n",
            "1/1 [==============================] - 0s 11ms/step - loss: 0.0472 - mse: 0.0472 - mae: 0.1891\n",
            "Epoch 905/1000\n",
            "1/1 [==============================] - 0s 15ms/step - loss: 0.0472 - mse: 0.0472 - mae: 0.1890\n",
            "Epoch 906/1000\n",
            "1/1 [==============================] - 0s 21ms/step - loss: 0.0472 - mse: 0.0472 - mae: 0.1889\n",
            "Epoch 907/1000\n",
            "1/1 [==============================] - 0s 14ms/step - loss: 0.0471 - mse: 0.0471 - mae: 0.1888\n",
            "Epoch 908/1000\n",
            "1/1 [==============================] - 0s 15ms/step - loss: 0.0471 - mse: 0.0471 - mae: 0.1889\n",
            "Epoch 909/1000\n",
            "1/1 [==============================] - 0s 17ms/step - loss: 0.0471 - mse: 0.0471 - mae: 0.1889\n",
            "Epoch 910/1000\n",
            "1/1 [==============================] - 0s 20ms/step - loss: 0.0471 - mse: 0.0471 - mae: 0.1888\n",
            "Epoch 911/1000\n",
            "1/1 [==============================] - 0s 19ms/step - loss: 0.0471 - mse: 0.0471 - mae: 0.1886\n",
            "Epoch 912/1000\n",
            "1/1 [==============================] - 0s 20ms/step - loss: 0.0471 - mse: 0.0471 - mae: 0.1885\n",
            "Epoch 913/1000\n",
            "1/1 [==============================] - 0s 15ms/step - loss: 0.0471 - mse: 0.0471 - mae: 0.1885\n",
            "Epoch 914/1000\n",
            "1/1 [==============================] - 0s 21ms/step - loss: 0.0471 - mse: 0.0471 - mae: 0.1886\n",
            "Epoch 915/1000\n",
            "1/1 [==============================] - 0s 19ms/step - loss: 0.0471 - mse: 0.0471 - mae: 0.1887\n",
            "Epoch 916/1000\n",
            "1/1 [==============================] - 0s 11ms/step - loss: 0.0470 - mse: 0.0470 - mae: 0.1887\n",
            "Epoch 917/1000\n",
            "1/1 [==============================] - 0s 19ms/step - loss: 0.0470 - mse: 0.0470 - mae: 0.1885\n",
            "Epoch 918/1000\n",
            "1/1 [==============================] - 0s 9ms/step - loss: 0.0470 - mse: 0.0470 - mae: 0.1883\n",
            "Epoch 919/1000\n",
            "1/1 [==============================] - 0s 18ms/step - loss: 0.0470 - mse: 0.0470 - mae: 0.1882\n",
            "Epoch 920/1000\n",
            "1/1 [==============================] - 0s 22ms/step - loss: 0.0470 - mse: 0.0470 - mae: 0.1884\n",
            "Epoch 921/1000\n",
            "1/1 [==============================] - 0s 16ms/step - loss: 0.0470 - mse: 0.0470 - mae: 0.1883\n",
            "Epoch 922/1000\n",
            "1/1 [==============================] - 0s 27ms/step - loss: 0.0470 - mse: 0.0470 - mae: 0.1881\n",
            "Epoch 923/1000\n",
            "1/1 [==============================] - 0s 28ms/step - loss: 0.0470 - mse: 0.0470 - mae: 0.1881\n",
            "Epoch 924/1000\n",
            "1/1 [==============================] - 0s 39ms/step - loss: 0.0470 - mse: 0.0470 - mae: 0.1882\n",
            "Epoch 925/1000\n",
            "1/1 [==============================] - 0s 10ms/step - loss: 0.0469 - mse: 0.0469 - mae: 0.1881\n",
            "Epoch 926/1000\n",
            "1/1 [==============================] - 0s 19ms/step - loss: 0.0469 - mse: 0.0469 - mae: 0.1881\n",
            "Epoch 927/1000\n",
            "1/1 [==============================] - 0s 9ms/step - loss: 0.0469 - mse: 0.0469 - mae: 0.1881\n",
            "Epoch 928/1000\n",
            "1/1 [==============================] - 0s 26ms/step - loss: 0.0469 - mse: 0.0469 - mae: 0.1882\n",
            "Epoch 929/1000\n",
            "1/1 [==============================] - 0s 7ms/step - loss: 0.0469 - mse: 0.0469 - mae: 0.1882\n",
            "Epoch 930/1000\n",
            "1/1 [==============================] - 0s 12ms/step - loss: 0.0469 - mse: 0.0469 - mae: 0.1881\n",
            "Epoch 931/1000\n",
            "1/1 [==============================] - 0s 18ms/step - loss: 0.0469 - mse: 0.0469 - mae: 0.1880\n",
            "Epoch 932/1000\n",
            "1/1 [==============================] - 0s 12ms/step - loss: 0.0468 - mse: 0.0468 - mae: 0.1878\n",
            "Epoch 933/1000\n",
            "1/1 [==============================] - 0s 19ms/step - loss: 0.0468 - mse: 0.0468 - mae: 0.1876\n",
            "Epoch 934/1000\n",
            "1/1 [==============================] - 0s 17ms/step - loss: 0.0468 - mse: 0.0468 - mae: 0.1876\n",
            "Epoch 935/1000\n",
            "1/1 [==============================] - 0s 23ms/step - loss: 0.0468 - mse: 0.0468 - mae: 0.1877\n",
            "Epoch 936/1000\n",
            "1/1 [==============================] - 0s 12ms/step - loss: 0.0468 - mse: 0.0468 - mae: 0.1877\n",
            "Epoch 937/1000\n",
            "1/1 [==============================] - 0s 12ms/step - loss: 0.0468 - mse: 0.0468 - mae: 0.1877\n",
            "Epoch 938/1000\n",
            "1/1 [==============================] - 0s 13ms/step - loss: 0.0468 - mse: 0.0468 - mae: 0.1876\n",
            "Epoch 939/1000\n",
            "1/1 [==============================] - 0s 18ms/step - loss: 0.0468 - mse: 0.0468 - mae: 0.1875\n",
            "Epoch 940/1000\n",
            "1/1 [==============================] - 0s 17ms/step - loss: 0.0468 - mse: 0.0468 - mae: 0.1874\n",
            "Epoch 941/1000\n",
            "1/1 [==============================] - 0s 7ms/step - loss: 0.0467 - mse: 0.0467 - mae: 0.1874\n",
            "Epoch 942/1000\n",
            "1/1 [==============================] - 0s 21ms/step - loss: 0.0467 - mse: 0.0467 - mae: 0.1873\n",
            "Epoch 943/1000\n",
            "1/1 [==============================] - 0s 10ms/step - loss: 0.0467 - mse: 0.0467 - mae: 0.1874\n",
            "Epoch 944/1000\n",
            "1/1 [==============================] - 0s 24ms/step - loss: 0.0467 - mse: 0.0467 - mae: 0.1875\n",
            "Epoch 945/1000\n",
            "1/1 [==============================] - 0s 13ms/step - loss: 0.0467 - mse: 0.0467 - mae: 0.1875\n",
            "Epoch 946/1000\n",
            "1/1 [==============================] - 0s 20ms/step - loss: 0.0467 - mse: 0.0467 - mae: 0.1874\n",
            "Epoch 947/1000\n",
            "1/1 [==============================] - 0s 10ms/step - loss: 0.0467 - mse: 0.0467 - mae: 0.1873\n",
            "Epoch 948/1000\n",
            "1/1 [==============================] - 0s 23ms/step - loss: 0.0467 - mse: 0.0467 - mae: 0.1873\n",
            "Epoch 949/1000\n",
            "1/1 [==============================] - 0s 9ms/step - loss: 0.0467 - mse: 0.0467 - mae: 0.1875\n",
            "Epoch 950/1000\n",
            "1/1 [==============================] - 0s 22ms/step - loss: 0.0467 - mse: 0.0467 - mae: 0.1876\n",
            "Epoch 951/1000\n",
            "1/1 [==============================] - 0s 11ms/step - loss: 0.0466 - mse: 0.0466 - mae: 0.1875\n",
            "Epoch 952/1000\n",
            "1/1 [==============================] - 0s 11ms/step - loss: 0.0466 - mse: 0.0466 - mae: 0.1872\n",
            "Epoch 953/1000\n",
            "1/1 [==============================] - 0s 7ms/step - loss: 0.0466 - mse: 0.0466 - mae: 0.1870\n",
            "Epoch 954/1000\n",
            "1/1 [==============================] - 0s 25ms/step - loss: 0.0466 - mse: 0.0466 - mae: 0.1869\n",
            "Epoch 955/1000\n",
            "1/1 [==============================] - 0s 7ms/step - loss: 0.0466 - mse: 0.0466 - mae: 0.1870\n",
            "Epoch 956/1000\n",
            "1/1 [==============================] - 0s 16ms/step - loss: 0.0466 - mse: 0.0466 - mae: 0.1870\n",
            "Epoch 957/1000\n",
            "1/1 [==============================] - 0s 7ms/step - loss: 0.0466 - mse: 0.0466 - mae: 0.1869\n",
            "Epoch 958/1000\n",
            "1/1 [==============================] - 0s 13ms/step - loss: 0.0466 - mse: 0.0466 - mae: 0.1868\n",
            "Epoch 959/1000\n",
            "1/1 [==============================] - 0s 22ms/step - loss: 0.0465 - mse: 0.0465 - mae: 0.1867\n",
            "Epoch 960/1000\n",
            "1/1 [==============================] - 0s 18ms/step - loss: 0.0465 - mse: 0.0465 - mae: 0.1868\n",
            "Epoch 961/1000\n",
            "1/1 [==============================] - 0s 41ms/step - loss: 0.0465 - mse: 0.0465 - mae: 0.1868\n",
            "Epoch 962/1000\n",
            "1/1 [==============================] - 0s 22ms/step - loss: 0.0465 - mse: 0.0465 - mae: 0.1866\n",
            "Epoch 963/1000\n",
            "1/1 [==============================] - 0s 19ms/step - loss: 0.0465 - mse: 0.0465 - mae: 0.1866\n",
            "Epoch 964/1000\n",
            "1/1 [==============================] - 0s 21ms/step - loss: 0.0465 - mse: 0.0465 - mae: 0.1867\n",
            "Epoch 965/1000\n",
            "1/1 [==============================] - 0s 10ms/step - loss: 0.0465 - mse: 0.0465 - mae: 0.1868\n",
            "Epoch 966/1000\n",
            "1/1 [==============================] - 0s 7ms/step - loss: 0.0465 - mse: 0.0465 - mae: 0.1867\n",
            "Epoch 967/1000\n",
            "1/1 [==============================] - 0s 14ms/step - loss: 0.0465 - mse: 0.0465 - mae: 0.1867\n",
            "Epoch 968/1000\n",
            "1/1 [==============================] - 0s 10ms/step - loss: 0.0465 - mse: 0.0465 - mae: 0.1865\n",
            "Epoch 969/1000\n",
            "1/1 [==============================] - 0s 10ms/step - loss: 0.0464 - mse: 0.0464 - mae: 0.1864\n",
            "Epoch 970/1000\n",
            "1/1 [==============================] - 0s 17ms/step - loss: 0.0464 - mse: 0.0464 - mae: 0.1863\n",
            "Epoch 971/1000\n",
            "1/1 [==============================] - 0s 16ms/step - loss: 0.0464 - mse: 0.0464 - mae: 0.1863\n",
            "Epoch 972/1000\n",
            "1/1 [==============================] - 0s 19ms/step - loss: 0.0464 - mse: 0.0464 - mae: 0.1862\n",
            "Epoch 973/1000\n",
            "1/1 [==============================] - 0s 12ms/step - loss: 0.0464 - mse: 0.0464 - mae: 0.1861\n",
            "Epoch 974/1000\n",
            "1/1 [==============================] - 0s 23ms/step - loss: 0.0464 - mse: 0.0464 - mae: 0.1860\n",
            "Epoch 975/1000\n",
            "1/1 [==============================] - 0s 12ms/step - loss: 0.0464 - mse: 0.0464 - mae: 0.1861\n",
            "Epoch 976/1000\n",
            "1/1 [==============================] - 0s 21ms/step - loss: 0.0464 - mse: 0.0464 - mae: 0.1862\n",
            "Epoch 977/1000\n",
            "1/1 [==============================] - 0s 18ms/step - loss: 0.0464 - mse: 0.0464 - mae: 0.1861\n",
            "Epoch 978/1000\n",
            "1/1 [==============================] - 0s 14ms/step - loss: 0.0463 - mse: 0.0463 - mae: 0.1859\n",
            "Epoch 979/1000\n",
            "1/1 [==============================] - 0s 17ms/step - loss: 0.0463 - mse: 0.0463 - mae: 0.1858\n",
            "Epoch 980/1000\n",
            "1/1 [==============================] - 0s 16ms/step - loss: 0.0463 - mse: 0.0463 - mae: 0.1859\n",
            "Epoch 981/1000\n",
            "1/1 [==============================] - 0s 13ms/step - loss: 0.0463 - mse: 0.0463 - mae: 0.1859\n",
            "Epoch 982/1000\n",
            "1/1 [==============================] - 0s 17ms/step - loss: 0.0463 - mse: 0.0463 - mae: 0.1858\n",
            "Epoch 983/1000\n",
            "1/1 [==============================] - 0s 27ms/step - loss: 0.0463 - mse: 0.0463 - mae: 0.1858\n",
            "Epoch 984/1000\n",
            "1/1 [==============================] - 0s 11ms/step - loss: 0.0463 - mse: 0.0463 - mae: 0.1859\n",
            "Epoch 985/1000\n",
            "1/1 [==============================] - 0s 37ms/step - loss: 0.0463 - mse: 0.0463 - mae: 0.1859\n",
            "Epoch 986/1000\n",
            "1/1 [==============================] - 0s 15ms/step - loss: 0.0463 - mse: 0.0463 - mae: 0.1859\n",
            "Epoch 987/1000\n",
            "1/1 [==============================] - 0s 16ms/step - loss: 0.0462 - mse: 0.0462 - mae: 0.1858\n",
            "Epoch 988/1000\n",
            "1/1 [==============================] - 0s 7ms/step - loss: 0.0462 - mse: 0.0462 - mae: 0.1857\n",
            "Epoch 989/1000\n",
            "1/1 [==============================] - 0s 10ms/step - loss: 0.0462 - mse: 0.0462 - mae: 0.1856\n",
            "Epoch 990/1000\n",
            "1/1 [==============================] - 0s 18ms/step - loss: 0.0462 - mse: 0.0462 - mae: 0.1856\n",
            "Epoch 991/1000\n",
            "1/1 [==============================] - 0s 11ms/step - loss: 0.0462 - mse: 0.0462 - mae: 0.1855\n",
            "Epoch 992/1000\n",
            "1/1 [==============================] - 0s 10ms/step - loss: 0.0462 - mse: 0.0462 - mae: 0.1855\n",
            "Epoch 993/1000\n",
            "1/1 [==============================] - 0s 10ms/step - loss: 0.0462 - mse: 0.0462 - mae: 0.1854\n",
            "Epoch 994/1000\n",
            "1/1 [==============================] - 0s 12ms/step - loss: 0.0462 - mse: 0.0462 - mae: 0.1855\n",
            "Epoch 995/1000\n",
            "1/1 [==============================] - 0s 10ms/step - loss: 0.0461 - mse: 0.0461 - mae: 0.1855\n",
            "Epoch 996/1000\n",
            "1/1 [==============================] - 0s 12ms/step - loss: 0.0461 - mse: 0.0461 - mae: 0.1855\n",
            "Epoch 997/1000\n",
            "1/1 [==============================] - 0s 14ms/step - loss: 0.0461 - mse: 0.0461 - mae: 0.1853\n",
            "Epoch 998/1000\n",
            "1/1 [==============================] - 0s 9ms/step - loss: 0.0461 - mse: 0.0461 - mae: 0.1852\n",
            "Epoch 999/1000\n",
            "1/1 [==============================] - 0s 24ms/step - loss: 0.0461 - mse: 0.0461 - mae: 0.1851\n",
            "Epoch 1000/1000\n",
            "1/1 [==============================] - 0s 6ms/step - loss: 0.0461 - mse: 0.0461 - mae: 0.1851\n"
          ],
          "name": "stdout"
        },
        {
          "output_type": "execute_result",
          "data": {
            "text/plain": [
              "<tensorflow.python.keras.callbacks.History at 0x7f5596e01e50>"
            ]
          },
          "metadata": {
            "tags": []
          },
          "execution_count": 42
        }
      ]
    },
    {
      "cell_type": "code",
      "metadata": {
        "colab": {
          "base_uri": "https://localhost:8080/",
          "height": 319
        },
        "id": "J_-zYEwT7PZ6",
        "outputId": "a1e85c4a-2480-4868-d930-88c06e5ce3bc"
      },
      "source": [
        "plt.scatter(x, model.predict(x))"
      ],
      "execution_count": null,
      "outputs": [
        {
          "output_type": "stream",
          "text": [
            "WARNING:tensorflow:6 out of the last 11 calls to <function Model.make_predict_function.<locals>.predict_function at 0x7f559b954a70> triggered tf.function retracing. Tracing is expensive and the excessive number of tracings could be due to (1) creating @tf.function repeatedly in a loop, (2) passing tensors with different shapes, (3) passing Python objects instead of tensors. For (1), please define your @tf.function outside of the loop. For (2), @tf.function has experimental_relax_shapes=True option that relaxes argument shapes that can avoid unnecessary retracing. For (3), please refer to https://www.tensorflow.org/guide/function#controlling_retracing and https://www.tensorflow.org/api_docs/python/tf/function for  more details.\n"
          ],
          "name": "stdout"
        },
        {
          "output_type": "execute_result",
          "data": {
            "text/plain": [
              "<matplotlib.collections.PathCollection at 0x7f559d789cd0>"
            ]
          },
          "metadata": {
            "tags": []
          },
          "execution_count": 43
        },
        {
          "output_type": "display_data",
          "data": {
            "image/png": "[encoded data removed]",
            "text/plain": [
              "<Figure size 432x288 with 1 Axes>"
            ]
          },
          "metadata": {
            "tags": [],
            "needs_background": "light"
          }
        }
      ]
    },
    {
      "cell_type": "code",
      "metadata": {
        "colab": {
          "base_uri": "https://localhost:8080/",
          "height": 282
        },
        "id": "cV_qBvtw734T",
        "outputId": "46654c1b-920b-42e3-a559-f1066ce2b1c0"
      },
      "source": [
        "plt.scatter(x, y)"
      ],
      "execution_count": null,
      "outputs": [
        {
          "output_type": "execute_result",
          "data": {
            "text/plain": [
              "<matplotlib.collections.PathCollection at 0x7f559d7fee90>"
            ]
          },
          "metadata": {
            "tags": []
          },
          "execution_count": 44
        },
        {
          "output_type": "display_data",
          "data": {
            "image/png": "[encoded data removed]",
            "text/plain": [
              "<Figure size 432x288 with 1 Axes>"
            ]
          },
          "metadata": {
            "tags": [],
            "needs_background": "light"
          }
        }
      ]
    },
    {
      "cell_type": "markdown",
      "metadata": {
        "id": "qGFCy85D_dTz"
      },
      "source": [
        "### Summarizing and Visualizing the Model"
      ]
    },
    {
      "cell_type": "markdown",
      "metadata": {
        "id": "q-dxsaWRfSyU"
      },
      "source": [
        "In practice, a typical workflow you'll go through when building neural network is:\n",
        "\n",
        "```\n",
        "Build a model -> fit it -> evaluate it -> tweak a model -> \n",
        "fit it -> evaluate it -> tweak a model -> fit it -> evaluate it ...\n",
        "```"
      ]
    },
    {
      "cell_type": "markdown",
      "metadata": {
        "id": "hUIkfdecDYjZ"
      },
      "source": [
        "A good way to evaluate model is to visualize it. It's generally a good idea to visualize:\n",
        "*  The data - what data are we working with? What does it look like?\n",
        "*  The model - what does our model look like?\n",
        "*  The training of a model - how does a model perform whilte it learns?\n",
        "*  The predictions o the model - how do the predictions of a model line up against the true values?"
      ]
    },
    {
      "cell_type": "code",
      "metadata": {
        "colab": {
          "base_uri": "https://localhost:8080/",
          "height": 265
        },
        "id": "xmhwrT2hgM9e",
        "outputId": "1ef8a732-c3e5-410b-be5b-ef5eb458fe9a"
      },
      "source": [
        "# Let's create a bigger dataset\n",
        "np.random.seed(42)\n",
        "x = np.random.normal(size = 250)\n",
        "y = 5.123 + 1.869 * x + 1.3*np.square(x) + np.random.normal(size = 250, scale = 1.852)\n",
        "plt.scatter(x, y);"
      ],
      "execution_count": null,
      "outputs": [
        {
          "output_type": "display_data",
          "data": {
            "image/png": "[encoded data removed]",
            "text/plain": [
              "<Figure size 432x288 with 1 Axes>"
            ]
          },
          "metadata": {
            "tags": [],
            "needs_background": "light"
          }
        }
      ]
    },
    {
      "cell_type": "code",
      "metadata": {
        "colab": {
          "base_uri": "https://localhost:8080/"
        },
        "id": "1KCEnDlgghnw",
        "outputId": "c27dfc62-f465-4f70-d292-cf7443d96779"
      },
      "source": [
        "# Now let's split x and y into training and testing set (let's skip validation set)\n",
        "print('Length of data:', len(x))\n",
        "\n",
        "# Split the data into train and test sets\n",
        "x_train = x[:200] # The first 200 samples \n",
        "x_test = x[200:] # The last 50 samples\n",
        "\n",
        "y_train = y[:200]\n",
        "y_test = y[200:]\n",
        "\n",
        "print('Length of x train:', len(x_train))\n",
        "print('Length of x test:', len(x_test))\n",
        "print('Length of y train:', len(y_train))\n",
        "print('Length of y test:', len(y_test))"
      ],
      "execution_count": null,
      "outputs": [
        {
          "output_type": "stream",
          "text": [
            "Length of data: 250\n",
            "Length of x train: 200\n",
            "Length of x test: 50\n",
            "Length of y train: 200\n",
            "Length of y test: 50\n"
          ],
          "name": "stdout"
        }
      ]
    },
    {
      "cell_type": "code",
      "metadata": {
        "colab": {
          "base_uri": "https://localhost:8080/",
          "height": 428
        },
        "id": "vkLyUgZiiLOp",
        "outputId": "86226853-d18a-450c-dd9d-935ec92dac13"
      },
      "source": [
        "# Let's plot two sets of data\n",
        "plt.figure(figsize = (10, 7))\n",
        "plt.scatter(x_train, y_train, c = 'b', label = 'Training data')\n",
        "plt.scatter(x_test, y_test, c = 'g', label = 'Testing data')\n",
        "plt.legend()\n",
        "plt.show();"
      ],
      "execution_count": null,
      "outputs": [
        {
          "output_type": "display_data",
          "data": {
            "image/png": "[encoded data removed]",
            "text/plain": [
              "<Figure size 720x504 with 1 Axes>"
            ]
          },
          "metadata": {
            "tags": [],
            "needs_background": "light"
          }
        }
      ]
    },
    {
      "cell_type": "code",
      "metadata": {
        "id": "jG7k-nBojzI1"
      },
      "source": [
        "# Let's build a model in order to figure out the relationship between train and test data\n",
        "# Let's first visualize the model itself before fitting it\n",
        "# We need to define the model and build it or fit it\n",
        "# Alternatively, we can specify input_shape argument in the first layer and it will build automatically\n",
        "\n",
        "model = tf.keras.Sequential(name = 'Network1')\n",
        "model.add(\n",
        "    tf.keras.layers.Dense(\n",
        "        units = 50, \n",
        "        input_shape = [1],  # figure out the input_shape\n",
        "        activation = 'relu', \n",
        "        use_bias = True,\n",
        "        name = 'Layer1'\n",
        "        )\n",
        "    )\n",
        "model.add(\n",
        "    tf.keras.layers.Dense(\n",
        "        50, \n",
        "        activation = 'relu', \n",
        "        use_bias = True, \n",
        "        kernel_regularizer = tf.keras.regularizers.L2(),\n",
        "        name = 'Layer2'\n",
        "        )\n",
        "    ) \n",
        "model.add(tf.keras.layers.Dense(1, name = 'Output'))\n",
        "\n",
        "model.compile(\n",
        "    loss = tf.keras.losses.mse, \n",
        "    optimizer = tf.keras.optimizers.Adam(lr = 0.0001), \n",
        "    metrics = ['mse', 'mae']\n",
        "    )"
      ],
      "execution_count": null,
      "outputs": []
    },
    {
      "cell_type": "code",
      "metadata": {
        "colab": {
          "base_uri": "https://localhost:8080/"
        },
        "id": "gFAKfqNlk6CM",
        "outputId": "de4b4a54-edb7-4e7d-d210-d74ae5c051c1"
      },
      "source": [
        "model.summary()"
      ],
      "execution_count": null,
      "outputs": [
        {
          "output_type": "stream",
          "text": [
            "Model: \"Network1\"\n",
            "_________________________________________________________________\n",
            "Layer (type)                 Output Shape              Param #   \n",
            "=================================================================\n",
            "Layer1 (Dense)               (None, 50)                100       \n",
            "_________________________________________________________________\n",
            "Layer2 (Dense)               (None, 50)                2550      \n",
            "_________________________________________________________________\n",
            "Output (Dense)               (None, 1)                 51        \n",
            "=================================================================\n",
            "Total params: 2,701\n",
            "Trainable params: 2,701\n",
            "Non-trainable params: 0\n",
            "_________________________________________________________________\n"
          ],
          "name": "stdout"
        }
      ]
    },
    {
      "cell_type": "markdown",
      "metadata": {
        "id": "UQr73VONlcAm"
      },
      "source": [
        "In the previous table, the total parameters indicates the total number of parameters in the model. Trainable parameters are those the model can update as it trains. Nontrainable parameters aren't updated during training (this is typicall when we bring in already trained parameters from other models during *transfer learning*). "
      ]
    },
    {
      "cell_type": "code",
      "metadata": {
        "colab": {
          "base_uri": "https://localhost:8080/"
        },
        "id": "d5zjvWl0nX9k",
        "outputId": "03cecdb0-be9b-40b8-b186-e7bc85dc905c"
      },
      "source": [
        "model.fit(x_train, y_train, epochs = 550)"
      ],
      "execution_count": null,
      "outputs": [
        {
          "output_type": "stream",
          "text": [
            "Epoch 1/550\n",
            "7/7 [==============================] - 1s 3ms/step - loss: 49.4863 - mse: 48.9834 - mae: 6.2812\n",
            "Epoch 2/550\n",
            "7/7 [==============================] - 0s 3ms/step - loss: 48.3097 - mse: 47.8096 - mae: 6.2494\n",
            "Epoch 3/550\n",
            "7/7 [==============================] - 0s 3ms/step - loss: 47.1746 - mse: 46.6773 - mae: 6.1475\n",
            "Epoch 4/550\n",
            "7/7 [==============================] - 0s 4ms/step - loss: 47.1112 - mse: 46.6166 - mae: 6.1623\n",
            "Epoch 5/550\n",
            "7/7 [==============================] - 0s 4ms/step - loss: 48.8526 - mse: 48.3607 - mae: 6.3301\n",
            "Epoch 6/550\n",
            "7/7 [==============================] - 0s 3ms/step - loss: 48.3671 - mse: 47.8779 - mae: 6.1786\n",
            "Epoch 7/550\n",
            "7/7 [==============================] - 0s 3ms/step - loss: 47.9566 - mse: 47.4700 - mae: 6.2366\n",
            "Epoch 8/550\n",
            "7/7 [==============================] - 0s 3ms/step - loss: 49.8618 - mse: 49.3777 - mae: 6.3678\n",
            "Epoch 9/550\n",
            "7/7 [==============================] - 0s 3ms/step - loss: 49.8964 - mse: 49.4149 - mae: 6.2896\n",
            "Epoch 10/550\n",
            "7/7 [==============================] - 0s 3ms/step - loss: 49.9040 - mse: 49.4250 - mae: 6.3573\n",
            "Epoch 11/550\n",
            "7/7 [==============================] - 0s 3ms/step - loss: 43.1848 - mse: 42.7083 - mae: 5.9233\n",
            "Epoch 12/550\n",
            "7/7 [==============================] - 0s 3ms/step - loss: 45.4011 - mse: 44.9271 - mae: 6.1271\n",
            "Epoch 13/550\n",
            "7/7 [==============================] - 0s 3ms/step - loss: 49.7125 - mse: 49.2409 - mae: 6.3025\n",
            "Epoch 14/550\n",
            "7/7 [==============================] - 0s 3ms/step - loss: 47.9103 - mse: 47.4411 - mae: 6.2034\n",
            "Epoch 15/550\n",
            "7/7 [==============================] - 0s 3ms/step - loss: 44.3411 - mse: 43.8742 - mae: 6.0226\n",
            "Epoch 16/550\n",
            "7/7 [==============================] - 0s 3ms/step - loss: 44.3482 - mse: 43.8836 - mae: 6.0176\n",
            "Epoch 17/550\n",
            "7/7 [==============================] - 0s 3ms/step - loss: 47.1672 - mse: 46.7049 - mae: 6.1269\n",
            "Epoch 18/550\n",
            "7/7 [==============================] - 0s 3ms/step - loss: 48.7662 - mse: 48.3061 - mae: 6.3018\n",
            "Epoch 19/550\n",
            "7/7 [==============================] - 0s 3ms/step - loss: 47.5497 - mse: 47.0918 - mae: 6.2096\n",
            "Epoch 20/550\n",
            "7/7 [==============================] - 0s 3ms/step - loss: 47.2559 - mse: 46.8002 - mae: 6.1000\n",
            "Epoch 21/550\n",
            "7/7 [==============================] - 0s 3ms/step - loss: 43.2479 - mse: 42.7943 - mae: 5.9250\n",
            "Epoch 22/550\n",
            "7/7 [==============================] - 0s 3ms/step - loss: 46.8725 - mse: 46.4209 - mae: 6.0987\n",
            "Epoch 23/550\n",
            "7/7 [==============================] - 0s 4ms/step - loss: 46.9744 - mse: 46.5249 - mae: 6.1447\n",
            "Epoch 24/550\n",
            "7/7 [==============================] - 0s 4ms/step - loss: 48.7642 - mse: 48.3167 - mae: 6.1816\n",
            "Epoch 25/550\n",
            "7/7 [==============================] - 0s 4ms/step - loss: 43.7771 - mse: 43.3315 - mae: 5.9418\n",
            "Epoch 26/550\n",
            "7/7 [==============================] - 0s 3ms/step - loss: 44.5045 - mse: 44.0608 - mae: 6.0418\n",
            "Epoch 27/550\n",
            "7/7 [==============================] - 0s 3ms/step - loss: 42.3623 - mse: 41.9205 - mae: 5.8605\n",
            "Epoch 28/550\n",
            "7/7 [==============================] - 0s 4ms/step - loss: 43.6307 - mse: 43.1907 - mae: 5.9925\n",
            "Epoch 29/550\n",
            "7/7 [==============================] - 0s 3ms/step - loss: 47.0278 - mse: 46.5896 - mae: 6.0743\n",
            "Epoch 30/550\n",
            "7/7 [==============================] - 0s 3ms/step - loss: 44.6571 - mse: 44.2207 - mae: 5.9928\n",
            "Epoch 31/550\n",
            "7/7 [==============================] - 0s 3ms/step - loss: 47.1850 - mse: 46.7503 - mae: 6.2039\n",
            "Epoch 32/550\n",
            "7/7 [==============================] - 0s 3ms/step - loss: 42.4183 - mse: 41.9853 - mae: 5.8395\n",
            "Epoch 33/550\n",
            "7/7 [==============================] - 0s 3ms/step - loss: 42.9452 - mse: 42.5139 - mae: 5.8539\n",
            "Epoch 34/550\n",
            "7/7 [==============================] - 0s 4ms/step - loss: 42.5823 - mse: 42.1525 - mae: 5.8745\n",
            "Epoch 35/550\n",
            "7/7 [==============================] - 0s 3ms/step - loss: 43.5378 - mse: 43.1096 - mae: 5.9748\n",
            "Epoch 36/550\n",
            "7/7 [==============================] - 0s 4ms/step - loss: 42.0098 - mse: 41.5831 - mae: 5.7610\n",
            "Epoch 37/550\n",
            "7/7 [==============================] - 0s 3ms/step - loss: 40.9915 - mse: 40.5663 - mae: 5.7567\n",
            "Epoch 38/550\n",
            "7/7 [==============================] - 0s 3ms/step - loss: 42.3559 - mse: 41.9322 - mae: 5.8711\n",
            "Epoch 39/550\n",
            "7/7 [==============================] - 0s 2ms/step - loss: 43.3240 - mse: 42.9017 - mae: 5.8496\n",
            "Epoch 40/550\n",
            "7/7 [==============================] - 0s 4ms/step - loss: 44.4061 - mse: 43.9851 - mae: 5.9721\n",
            "Epoch 41/550\n",
            "7/7 [==============================] - 0s 4ms/step - loss: 41.1801 - mse: 40.7604 - mae: 5.8218\n",
            "Epoch 42/550\n",
            "7/7 [==============================] - 0s 5ms/step - loss: 39.1870 - mse: 38.7686 - mae: 5.7136\n",
            "Epoch 43/550\n",
            "7/7 [==============================] - 0s 5ms/step - loss: 39.1739 - mse: 38.7567 - mae: 5.6296\n",
            "Epoch 44/550\n",
            "7/7 [==============================] - 0s 3ms/step - loss: 40.3599 - mse: 39.9439 - mae: 5.7148\n",
            "Epoch 45/550\n",
            "7/7 [==============================] - 0s 4ms/step - loss: 41.0446 - mse: 40.6298 - mae: 5.7115\n",
            "Epoch 46/550\n",
            "7/7 [==============================] - 0s 5ms/step - loss: 44.4496 - mse: 44.0360 - mae: 5.9549\n",
            "Epoch 47/550\n",
            "7/7 [==============================] - 0s 5ms/step - loss: 37.6666 - mse: 37.2540 - mae: 5.5379\n",
            "Epoch 48/550\n",
            "7/7 [==============================] - 0s 4ms/step - loss: 41.3421 - mse: 40.9305 - mae: 5.7063\n",
            "Epoch 49/550\n",
            "7/7 [==============================] - 0s 5ms/step - loss: 38.7406 - mse: 38.3300 - mae: 5.6091\n",
            "Epoch 50/550\n",
            "7/7 [==============================] - 0s 4ms/step - loss: 37.7439 - mse: 37.3343 - mae: 5.5213\n",
            "Epoch 51/550\n",
            "7/7 [==============================] - 0s 4ms/step - loss: 34.9101 - mse: 34.5014 - mae: 5.3509\n",
            "Epoch 52/550\n",
            "7/7 [==============================] - 0s 3ms/step - loss: 34.7292 - mse: 34.3214 - mae: 5.2822\n",
            "Epoch 53/550\n",
            "7/7 [==============================] - 0s 3ms/step - loss: 40.1516 - mse: 39.7448 - mae: 5.7153\n",
            "Epoch 54/550\n",
            "7/7 [==============================] - 0s 4ms/step - loss: 37.8894 - mse: 37.4834 - mae: 5.5326\n",
            "Epoch 55/550\n",
            "7/7 [==============================] - 0s 4ms/step - loss: 38.8667 - mse: 38.4614 - mae: 5.5711\n",
            "Epoch 56/550\n",
            "7/7 [==============================] - 0s 4ms/step - loss: 37.1021 - mse: 36.6976 - mae: 5.5056\n",
            "Epoch 57/550\n",
            "7/7 [==============================] - 0s 5ms/step - loss: 36.1147 - mse: 35.7110 - mae: 5.3958\n",
            "Epoch 58/550\n",
            "7/7 [==============================] - 0s 4ms/step - loss: 37.8678 - mse: 37.4649 - mae: 5.4411\n",
            "Epoch 59/550\n",
            "7/7 [==============================] - 0s 4ms/step - loss: 35.8879 - mse: 35.4856 - mae: 5.3257\n",
            "Epoch 60/550\n",
            "7/7 [==============================] - 0s 4ms/step - loss: 31.7977 - mse: 31.3960 - mae: 5.0504\n",
            "Epoch 61/550\n",
            "7/7 [==============================] - 0s 3ms/step - loss: 33.3643 - mse: 32.9633 - mae: 5.1893\n",
            "Epoch 62/550\n",
            "7/7 [==============================] - 0s 4ms/step - loss: 36.1612 - mse: 35.7608 - mae: 5.4218\n",
            "Epoch 63/550\n",
            "7/7 [==============================] - 0s 4ms/step - loss: 34.1022 - mse: 33.7023 - mae: 5.1773\n",
            "Epoch 64/550\n",
            "7/7 [==============================] - 0s 4ms/step - loss: 31.6553 - mse: 31.2559 - mae: 5.0092\n",
            "Epoch 65/550\n",
            "7/7 [==============================] - 0s 4ms/step - loss: 32.8752 - mse: 32.4764 - mae: 5.1088\n",
            "Epoch 66/550\n",
            "7/7 [==============================] - 0s 4ms/step - loss: 32.9430 - mse: 32.5447 - mae: 5.1720\n",
            "Epoch 67/550\n",
            "7/7 [==============================] - 0s 3ms/step - loss: 30.8979 - mse: 30.5000 - mae: 4.9773\n",
            "Epoch 68/550\n",
            "7/7 [==============================] - 0s 3ms/step - loss: 32.7046 - mse: 32.3071 - mae: 5.0806\n",
            "Epoch 69/550\n",
            "7/7 [==============================] - 0s 3ms/step - loss: 29.5077 - mse: 29.1106 - mae: 4.8312\n",
            "Epoch 70/550\n",
            "7/7 [==============================] - 0s 4ms/step - loss: 29.3688 - mse: 28.9721 - mae: 4.8517\n",
            "Epoch 71/550\n",
            "7/7 [==============================] - 0s 3ms/step - loss: 30.2531 - mse: 29.8568 - mae: 4.9038\n",
            "Epoch 72/550\n",
            "7/7 [==============================] - 0s 3ms/step - loss: 30.6574 - mse: 30.2615 - mae: 4.9121\n",
            "Epoch 73/550\n",
            "7/7 [==============================] - 0s 3ms/step - loss: 28.2606 - mse: 27.8650 - mae: 4.7607\n",
            "Epoch 74/550\n",
            "7/7 [==============================] - 0s 4ms/step - loss: 27.1507 - mse: 26.7554 - mae: 4.6855\n",
            "Epoch 75/550\n",
            "7/7 [==============================] - 0s 3ms/step - loss: 28.8860 - mse: 28.4910 - mae: 4.7870\n",
            "Epoch 76/550\n",
            "7/7 [==============================] - 0s 4ms/step - loss: 27.6262 - mse: 27.2315 - mae: 4.6750\n",
            "Epoch 77/550\n",
            "7/7 [==============================] - 0s 6ms/step - loss: 27.8209 - mse: 27.4264 - mae: 4.6805\n",
            "Epoch 78/550\n",
            "7/7 [==============================] - 0s 4ms/step - loss: 28.5571 - mse: 28.1628 - mae: 4.7574\n",
            "Epoch 79/550\n",
            "7/7 [==============================] - 0s 3ms/step - loss: 26.4772 - mse: 26.0832 - mae: 4.5637\n",
            "Epoch 80/550\n",
            "7/7 [==============================] - 0s 3ms/step - loss: 25.4126 - mse: 25.0188 - mae: 4.4956\n",
            "Epoch 81/550\n",
            "7/7 [==============================] - 0s 3ms/step - loss: 27.5985 - mse: 27.2049 - mae: 4.6500\n",
            "Epoch 82/550\n",
            "7/7 [==============================] - 0s 4ms/step - loss: 25.7471 - mse: 25.3535 - mae: 4.4891\n",
            "Epoch 83/550\n",
            "7/7 [==============================] - 0s 3ms/step - loss: 24.0326 - mse: 23.6392 - mae: 4.3388\n",
            "Epoch 84/550\n",
            "7/7 [==============================] - 0s 4ms/step - loss: 25.5575 - mse: 25.1642 - mae: 4.4555\n",
            "Epoch 85/550\n",
            "7/7 [==============================] - 0s 5ms/step - loss: 22.4263 - mse: 22.0331 - mae: 4.1825\n",
            "Epoch 86/550\n",
            "7/7 [==============================] - 0s 3ms/step - loss: 26.4622 - mse: 26.0691 - mae: 4.5569\n",
            "Epoch 87/550\n",
            "7/7 [==============================] - 0s 3ms/step - loss: 23.0571 - mse: 22.6639 - mae: 4.2359\n",
            "Epoch 88/550\n",
            "7/7 [==============================] - 0s 4ms/step - loss: 22.5032 - mse: 22.1101 - mae: 4.1483\n",
            "Epoch 89/550\n",
            "7/7 [==============================] - 0s 4ms/step - loss: 22.7841 - mse: 22.3910 - mae: 4.2182\n",
            "Epoch 90/550\n",
            "7/7 [==============================] - 0s 3ms/step - loss: 21.9410 - mse: 21.5479 - mae: 4.1365\n",
            "Epoch 91/550\n",
            "7/7 [==============================] - 0s 6ms/step - loss: 24.7975 - mse: 24.4044 - mae: 4.3791\n",
            "Epoch 92/550\n",
            "7/7 [==============================] - 0s 6ms/step - loss: 19.8727 - mse: 19.4795 - mae: 3.8848\n",
            "Epoch 93/550\n",
            "7/7 [==============================] - 0s 4ms/step - loss: 19.3839 - mse: 18.9907 - mae: 3.8658\n",
            "Epoch 94/550\n",
            "7/7 [==============================] - 0s 4ms/step - loss: 19.8701 - mse: 19.4768 - mae: 3.9097\n",
            "Epoch 95/550\n",
            "7/7 [==============================] - 0s 3ms/step - loss: 20.3565 - mse: 19.9632 - mae: 3.9366\n",
            "Epoch 96/550\n",
            "7/7 [==============================] - 0s 4ms/step - loss: 18.9077 - mse: 18.5143 - mae: 3.8050\n",
            "Epoch 97/550\n",
            "7/7 [==============================] - 0s 5ms/step - loss: 19.6476 - mse: 19.2540 - mae: 3.8707\n",
            "Epoch 98/550\n",
            "7/7 [==============================] - 0s 4ms/step - loss: 18.3210 - mse: 17.9272 - mae: 3.7179\n",
            "Epoch 99/550\n",
            "7/7 [==============================] - 0s 3ms/step - loss: 20.2478 - mse: 19.8537 - mae: 3.9358\n",
            "Epoch 100/550\n",
            "7/7 [==============================] - 0s 4ms/step - loss: 18.5455 - mse: 18.1512 - mae: 3.7331\n",
            "Epoch 101/550\n",
            "7/7 [==============================] - 0s 4ms/step - loss: 18.5598 - mse: 18.1653 - mae: 3.7412\n",
            "Epoch 102/550\n",
            "7/7 [==============================] - 0s 4ms/step - loss: 16.2898 - mse: 15.8952 - mae: 3.4716\n",
            "Epoch 103/550\n",
            "7/7 [==============================] - 0s 3ms/step - loss: 15.9911 - mse: 15.5963 - mae: 3.4536\n",
            "Epoch 104/550\n",
            "7/7 [==============================] - 0s 3ms/step - loss: 16.3871 - mse: 15.9921 - mae: 3.5143\n",
            "Epoch 105/550\n",
            "7/7 [==============================] - 0s 5ms/step - loss: 17.0592 - mse: 16.6640 - mae: 3.6189\n",
            "Epoch 106/550\n",
            "7/7 [==============================] - 0s 3ms/step - loss: 15.3532 - mse: 14.9578 - mae: 3.3855\n",
            "Epoch 107/550\n",
            "7/7 [==============================] - 0s 3ms/step - loss: 15.0402 - mse: 14.6445 - mae: 3.3444\n",
            "Epoch 108/550\n",
            "7/7 [==============================] - 0s 3ms/step - loss: 15.7987 - mse: 15.4028 - mae: 3.4197\n",
            "Epoch 109/550\n",
            "7/7 [==============================] - 0s 3ms/step - loss: 16.4595 - mse: 16.0633 - mae: 3.4766\n",
            "Epoch 110/550\n",
            "7/7 [==============================] - 0s 5ms/step - loss: 14.0719 - mse: 13.6755 - mae: 3.1736\n",
            "Epoch 111/550\n",
            "7/7 [==============================] - 0s 5ms/step - loss: 13.3678 - mse: 12.9711 - mae: 3.0877\n",
            "Epoch 112/550\n",
            "7/7 [==============================] - 0s 5ms/step - loss: 12.8620 - mse: 12.4651 - mae: 3.0311\n",
            "Epoch 113/550\n",
            "7/7 [==============================] - 0s 4ms/step - loss: 13.1424 - mse: 12.7453 - mae: 3.0639\n",
            "Epoch 114/550\n",
            "7/7 [==============================] - 0s 4ms/step - loss: 12.8192 - mse: 12.4218 - mae: 3.0338\n",
            "Epoch 115/550\n",
            "7/7 [==============================] - 0s 5ms/step - loss: 12.6312 - mse: 12.2335 - mae: 2.9539\n",
            "Epoch 116/550\n",
            "7/7 [==============================] - 0s 4ms/step - loss: 11.7560 - mse: 11.3581 - mae: 2.9088\n",
            "Epoch 117/550\n",
            "7/7 [==============================] - 0s 6ms/step - loss: 11.8493 - mse: 11.4512 - mae: 2.8638\n",
            "Epoch 118/550\n",
            "7/7 [==============================] - 0s 6ms/step - loss: 11.4490 - mse: 11.0506 - mae: 2.8442\n",
            "Epoch 119/550\n",
            "7/7 [==============================] - 0s 4ms/step - loss: 11.9265 - mse: 11.5278 - mae: 2.8843\n",
            "Epoch 120/550\n",
            "7/7 [==============================] - 0s 5ms/step - loss: 10.3892 - mse: 9.9902 - mae: 2.7000\n",
            "Epoch 121/550\n",
            "7/7 [==============================] - 0s 5ms/step - loss: 11.3123 - mse: 10.9130 - mae: 2.8296\n",
            "Epoch 122/550\n",
            "7/7 [==============================] - 0s 4ms/step - loss: 9.7244 - mse: 9.3248 - mae: 2.5802\n",
            "Epoch 123/550\n",
            "7/7 [==============================] - 0s 4ms/step - loss: 10.2235 - mse: 9.8237 - mae: 2.6376\n",
            "Epoch 124/550\n",
            "7/7 [==============================] - 0s 4ms/step - loss: 9.6538 - mse: 9.2537 - mae: 2.5429\n",
            "Epoch 125/550\n",
            "7/7 [==============================] - 0s 3ms/step - loss: 9.9850 - mse: 9.5847 - mae: 2.5994\n",
            "Epoch 126/550\n",
            "7/7 [==============================] - 0s 4ms/step - loss: 9.1746 - mse: 8.7740 - mae: 2.5061\n",
            "Epoch 127/550\n",
            "7/7 [==============================] - 0s 5ms/step - loss: 8.4135 - mse: 8.0126 - mae: 2.3817\n",
            "Epoch 128/550\n",
            "7/7 [==============================] - 0s 10ms/step - loss: 8.7164 - mse: 8.3154 - mae: 2.4276\n",
            "Epoch 129/550\n",
            "7/7 [==============================] - 0s 4ms/step - loss: 8.2978 - mse: 7.8966 - mae: 2.3556\n",
            "Epoch 130/550\n",
            "7/7 [==============================] - 0s 5ms/step - loss: 8.7089 - mse: 8.3074 - mae: 2.3946\n",
            "Epoch 131/550\n",
            "7/7 [==============================] - 0s 4ms/step - loss: 7.7557 - mse: 7.3539 - mae: 2.2305\n",
            "Epoch 132/550\n",
            "7/7 [==============================] - 0s 4ms/step - loss: 7.7575 - mse: 7.3556 - mae: 2.2541\n",
            "Epoch 133/550\n",
            "7/7 [==============================] - 0s 3ms/step - loss: 7.3989 - mse: 6.9967 - mae: 2.1765\n",
            "Epoch 134/550\n",
            "7/7 [==============================] - 0s 5ms/step - loss: 7.0179 - mse: 6.6155 - mae: 2.1034\n",
            "Epoch 135/550\n",
            "7/7 [==============================] - 0s 5ms/step - loss: 7.2853 - mse: 6.8827 - mae: 2.1285\n",
            "Epoch 136/550\n",
            "7/7 [==============================] - 0s 4ms/step - loss: 6.9152 - mse: 6.5124 - mae: 2.0847\n",
            "Epoch 137/550\n",
            "7/7 [==============================] - 0s 4ms/step - loss: 7.7242 - mse: 7.3211 - mae: 2.1957\n",
            "Epoch 138/550\n",
            "7/7 [==============================] - 0s 6ms/step - loss: 6.7392 - mse: 6.3360 - mae: 2.0648\n",
            "Epoch 139/550\n",
            "7/7 [==============================] - 0s 5ms/step - loss: 7.1747 - mse: 6.7714 - mae: 2.1197\n",
            "Epoch 140/550\n",
            "7/7 [==============================] - 0s 4ms/step - loss: 6.2176 - mse: 5.8141 - mae: 1.9354\n",
            "Epoch 141/550\n",
            "7/7 [==============================] - 0s 4ms/step - loss: 6.3548 - mse: 5.9511 - mae: 1.9848\n",
            "Epoch 142/550\n",
            "7/7 [==============================] - 0s 5ms/step - loss: 6.6209 - mse: 6.2171 - mae: 2.0145\n",
            "Epoch 143/550\n",
            "7/7 [==============================] - 0s 5ms/step - loss: 5.7363 - mse: 5.3324 - mae: 1.8340\n",
            "Epoch 144/550\n",
            "7/7 [==============================] - 0s 5ms/step - loss: 5.7299 - mse: 5.3259 - mae: 1.8538\n",
            "Epoch 145/550\n",
            "7/7 [==============================] - 0s 3ms/step - loss: 5.8810 - mse: 5.4769 - mae: 1.8784\n",
            "Epoch 146/550\n",
            "7/7 [==============================] - 0s 5ms/step - loss: 5.2570 - mse: 4.8527 - mae: 1.7194\n",
            "Epoch 147/550\n",
            "7/7 [==============================] - 0s 3ms/step - loss: 5.3724 - mse: 4.9682 - mae: 1.7667\n",
            "Epoch 148/550\n",
            "7/7 [==============================] - 0s 4ms/step - loss: 5.6915 - mse: 5.2873 - mae: 1.8369\n",
            "Epoch 149/550\n",
            "7/7 [==============================] - 0s 4ms/step - loss: 5.6402 - mse: 5.2358 - mae: 1.8399\n",
            "Epoch 150/550\n",
            "7/7 [==============================] - 0s 4ms/step - loss: 4.9304 - mse: 4.5261 - mae: 1.6830\n",
            "Epoch 151/550\n",
            "7/7 [==============================] - 0s 3ms/step - loss: 5.2939 - mse: 4.8896 - mae: 1.7423\n",
            "Epoch 152/550\n",
            "7/7 [==============================] - 0s 3ms/step - loss: 4.9223 - mse: 4.5180 - mae: 1.6810\n",
            "Epoch 153/550\n",
            "7/7 [==============================] - 0s 4ms/step - loss: 4.9964 - mse: 4.5921 - mae: 1.7163\n",
            "Epoch 154/550\n",
            "7/7 [==============================] - 0s 4ms/step - loss: 4.8683 - mse: 4.4641 - mae: 1.6593\n",
            "Epoch 155/550\n",
            "7/7 [==============================] - 0s 3ms/step - loss: 4.7212 - mse: 4.3170 - mae: 1.6575\n",
            "Epoch 156/550\n",
            "7/7 [==============================] - 0s 5ms/step - loss: 5.5476 - mse: 5.1435 - mae: 1.8155\n",
            "Epoch 157/550\n",
            "7/7 [==============================] - 0s 4ms/step - loss: 4.6668 - mse: 4.2628 - mae: 1.6186\n",
            "Epoch 158/550\n",
            "7/7 [==============================] - 0s 5ms/step - loss: 4.6681 - mse: 4.2642 - mae: 1.6048\n",
            "Epoch 159/550\n",
            "7/7 [==============================] - 0s 4ms/step - loss: 4.4206 - mse: 4.0167 - mae: 1.5376\n",
            "Epoch 160/550\n",
            "7/7 [==============================] - 0s 4ms/step - loss: 4.6815 - mse: 4.2778 - mae: 1.6052\n",
            "Epoch 161/550\n",
            "7/7 [==============================] - 0s 4ms/step - loss: 4.6400 - mse: 4.2364 - mae: 1.5938\n",
            "Epoch 162/550\n",
            "7/7 [==============================] - 0s 4ms/step - loss: 4.7462 - mse: 4.3428 - mae: 1.6209\n",
            "Epoch 163/550\n",
            "7/7 [==============================] - 0s 4ms/step - loss: 3.8271 - mse: 3.4239 - mae: 1.4300\n",
            "Epoch 164/550\n",
            "7/7 [==============================] - 0s 6ms/step - loss: 4.7240 - mse: 4.3210 - mae: 1.6369\n",
            "Epoch 165/550\n",
            "7/7 [==============================] - 0s 5ms/step - loss: 4.4479 - mse: 4.0451 - mae: 1.6038\n",
            "Epoch 166/550\n",
            "7/7 [==============================] - 0s 4ms/step - loss: 4.3922 - mse: 3.9896 - mae: 1.5374\n",
            "Epoch 167/550\n",
            "7/7 [==============================] - 0s 4ms/step - loss: 3.6501 - mse: 3.2479 - mae: 1.3893\n",
            "Epoch 168/550\n",
            "7/7 [==============================] - 0s 4ms/step - loss: 4.3717 - mse: 3.9698 - mae: 1.5683\n",
            "Epoch 169/550\n",
            "7/7 [==============================] - 0s 5ms/step - loss: 4.4553 - mse: 4.0536 - mae: 1.5860\n",
            "Epoch 170/550\n",
            "7/7 [==============================] - 0s 4ms/step - loss: 4.3103 - mse: 3.9090 - mae: 1.5358\n",
            "Epoch 171/550\n",
            "7/7 [==============================] - 0s 4ms/step - loss: 4.5001 - mse: 4.0989 - mae: 1.5777\n",
            "Epoch 172/550\n",
            "7/7 [==============================] - 0s 4ms/step - loss: 4.0725 - mse: 3.6716 - mae: 1.5187\n",
            "Epoch 173/550\n",
            "7/7 [==============================] - 0s 5ms/step - loss: 4.3059 - mse: 3.9053 - mae: 1.5381\n",
            "Epoch 174/550\n",
            "7/7 [==============================] - 0s 3ms/step - loss: 3.6390 - mse: 3.2387 - mae: 1.3815\n",
            "Epoch 175/550\n",
            "7/7 [==============================] - 0s 3ms/step - loss: 3.8741 - mse: 3.4742 - mae: 1.4512\n",
            "Epoch 176/550\n",
            "7/7 [==============================] - 0s 4ms/step - loss: 3.9386 - mse: 3.5390 - mae: 1.4603\n",
            "Epoch 177/550\n",
            "7/7 [==============================] - 0s 4ms/step - loss: 4.0516 - mse: 3.6523 - mae: 1.4899\n",
            "Epoch 178/550\n",
            "7/7 [==============================] - 0s 4ms/step - loss: 4.1507 - mse: 3.7516 - mae: 1.5007\n",
            "Epoch 179/550\n",
            "7/7 [==============================] - 0s 4ms/step - loss: 4.5052 - mse: 4.1064 - mae: 1.6158\n",
            "Epoch 180/550\n",
            "7/7 [==============================] - 0s 4ms/step - loss: 4.1871 - mse: 3.7887 - mae: 1.5235\n",
            "Epoch 181/550\n",
            "7/7 [==============================] - 0s 3ms/step - loss: 3.7873 - mse: 3.3893 - mae: 1.4504\n",
            "Epoch 182/550\n",
            "7/7 [==============================] - 0s 5ms/step - loss: 4.1057 - mse: 3.7080 - mae: 1.4980\n",
            "Epoch 183/550\n",
            "7/7 [==============================] - 0s 5ms/step - loss: 3.9912 - mse: 3.5940 - mae: 1.4990\n",
            "Epoch 184/550\n",
            "7/7 [==============================] - 0s 5ms/step - loss: 3.6036 - mse: 3.2067 - mae: 1.3999\n",
            "Epoch 185/550\n",
            "7/7 [==============================] - 0s 5ms/step - loss: 4.0954 - mse: 3.6989 - mae: 1.5243\n",
            "Epoch 186/550\n",
            "7/7 [==============================] - 0s 6ms/step - loss: 4.0055 - mse: 3.6094 - mae: 1.4701\n",
            "Epoch 187/550\n",
            "7/7 [==============================] - 0s 4ms/step - loss: 3.7383 - mse: 3.3425 - mae: 1.4241\n",
            "Epoch 188/550\n",
            "7/7 [==============================] - 0s 4ms/step - loss: 4.1136 - mse: 3.7182 - mae: 1.4836\n",
            "Epoch 189/550\n",
            "7/7 [==============================] - 0s 3ms/step - loss: 3.7385 - mse: 3.3435 - mae: 1.4214\n",
            "Epoch 190/550\n",
            "7/7 [==============================] - 0s 4ms/step - loss: 3.4732 - mse: 3.0787 - mae: 1.3582\n",
            "Epoch 191/550\n",
            "7/7 [==============================] - 0s 3ms/step - loss: 4.0210 - mse: 3.6270 - mae: 1.5112\n",
            "Epoch 192/550\n",
            "7/7 [==============================] - 0s 4ms/step - loss: 3.9719 - mse: 3.5783 - mae: 1.4920\n",
            "Epoch 193/550\n",
            "7/7 [==============================] - 0s 3ms/step - loss: 4.2062 - mse: 3.8131 - mae: 1.5188\n",
            "Epoch 194/550\n",
            "7/7 [==============================] - 0s 4ms/step - loss: 3.8164 - mse: 3.4236 - mae: 1.4191\n",
            "Epoch 195/550\n",
            "7/7 [==============================] - 0s 3ms/step - loss: 4.1432 - mse: 3.7508 - mae: 1.5025\n",
            "Epoch 196/550\n",
            "7/7 [==============================] - 0s 5ms/step - loss: 4.1580 - mse: 3.7661 - mae: 1.5400\n",
            "Epoch 197/550\n",
            "7/7 [==============================] - 0s 4ms/step - loss: 4.1586 - mse: 3.7671 - mae: 1.5086\n",
            "Epoch 198/550\n",
            "7/7 [==============================] - 0s 5ms/step - loss: 3.9565 - mse: 3.5654 - mae: 1.4871\n",
            "Epoch 199/550\n",
            "7/7 [==============================] - 0s 4ms/step - loss: 3.6813 - mse: 3.2907 - mae: 1.4509\n",
            "Epoch 200/550\n",
            "7/7 [==============================] - 0s 4ms/step - loss: 3.7580 - mse: 3.3679 - mae: 1.4242\n",
            "Epoch 201/550\n",
            "7/7 [==============================] - 0s 3ms/step - loss: 3.9862 - mse: 3.5966 - mae: 1.4754\n",
            "Epoch 202/550\n",
            "7/7 [==============================] - 0s 4ms/step - loss: 3.9343 - mse: 3.5452 - mae: 1.4696\n",
            "Epoch 203/550\n",
            "7/7 [==============================] - 0s 3ms/step - loss: 3.7936 - mse: 3.4050 - mae: 1.4340\n",
            "Epoch 204/550\n",
            "7/7 [==============================] - 0s 3ms/step - loss: 3.8122 - mse: 3.4239 - mae: 1.4796\n",
            "Epoch 205/550\n",
            "7/7 [==============================] - 0s 4ms/step - loss: 4.1142 - mse: 3.7264 - mae: 1.5387\n",
            "Epoch 206/550\n",
            "7/7 [==============================] - 0s 4ms/step - loss: 3.6847 - mse: 3.2974 - mae: 1.4430\n",
            "Epoch 207/550\n",
            "7/7 [==============================] - 0s 3ms/step - loss: 3.7020 - mse: 3.3152 - mae: 1.4160\n",
            "Epoch 208/550\n",
            "7/7 [==============================] - 0s 3ms/step - loss: 3.8011 - mse: 3.4148 - mae: 1.4687\n",
            "Epoch 209/550\n",
            "7/7 [==============================] - 0s 4ms/step - loss: 3.9642 - mse: 3.5783 - mae: 1.4730\n",
            "Epoch 210/550\n",
            "7/7 [==============================] - 0s 4ms/step - loss: 4.1192 - mse: 3.7339 - mae: 1.5283\n",
            "Epoch 211/550\n",
            "7/7 [==============================] - 0s 3ms/step - loss: 3.8688 - mse: 3.4840 - mae: 1.4711\n",
            "Epoch 212/550\n",
            "7/7 [==============================] - 0s 4ms/step - loss: 3.7759 - mse: 3.3916 - mae: 1.4926\n",
            "Epoch 213/550\n",
            "7/7 [==============================] - 0s 5ms/step - loss: 3.9820 - mse: 3.5982 - mae: 1.5080\n",
            "Epoch 214/550\n",
            "7/7 [==============================] - 0s 4ms/step - loss: 3.6193 - mse: 3.2359 - mae: 1.3979\n",
            "Epoch 215/550\n",
            "7/7 [==============================] - 0s 3ms/step - loss: 3.6279 - mse: 3.2449 - mae: 1.4065\n",
            "Epoch 216/550\n",
            "7/7 [==============================] - 0s 4ms/step - loss: 3.7641 - mse: 3.3816 - mae: 1.4277\n",
            "Epoch 217/550\n",
            "7/7 [==============================] - 0s 3ms/step - loss: 4.1028 - mse: 3.7207 - mae: 1.5310\n",
            "Epoch 218/550\n",
            "7/7 [==============================] - 0s 5ms/step - loss: 3.8140 - mse: 3.4323 - mae: 1.4646\n",
            "Epoch 219/550\n",
            "7/7 [==============================] - 0s 4ms/step - loss: 3.5109 - mse: 3.1296 - mae: 1.4037\n",
            "Epoch 220/550\n",
            "7/7 [==============================] - 0s 3ms/step - loss: 3.8996 - mse: 3.5188 - mae: 1.4844\n",
            "Epoch 221/550\n",
            "7/7 [==============================] - 0s 3ms/step - loss: 3.5280 - mse: 3.1477 - mae: 1.4040\n",
            "Epoch 222/550\n",
            "7/7 [==============================] - 0s 4ms/step - loss: 4.1737 - mse: 3.7940 - mae: 1.5623\n",
            "Epoch 223/550\n",
            "7/7 [==============================] - 0s 6ms/step - loss: 3.6231 - mse: 3.2439 - mae: 1.4089\n",
            "Epoch 224/550\n",
            "7/7 [==============================] - 0s 4ms/step - loss: 3.9266 - mse: 3.5479 - mae: 1.5042\n",
            "Epoch 225/550\n",
            "7/7 [==============================] - 0s 5ms/step - loss: 3.5610 - mse: 3.1828 - mae: 1.4258\n",
            "Epoch 226/550\n",
            "7/7 [==============================] - 0s 4ms/step - loss: 3.8744 - mse: 3.4967 - mae: 1.4699\n",
            "Epoch 227/550\n",
            "7/7 [==============================] - 0s 4ms/step - loss: 3.4257 - mse: 3.0486 - mae: 1.3482\n",
            "Epoch 228/550\n",
            "7/7 [==============================] - 0s 3ms/step - loss: 3.8717 - mse: 3.4949 - mae: 1.4684\n",
            "Epoch 229/550\n",
            "7/7 [==============================] - 0s 5ms/step - loss: 3.7924 - mse: 3.4160 - mae: 1.4525\n",
            "Epoch 230/550\n",
            "7/7 [==============================] - 0s 5ms/step - loss: 3.9366 - mse: 3.5607 - mae: 1.4793\n",
            "Epoch 231/550\n",
            "7/7 [==============================] - 0s 4ms/step - loss: 3.9186 - mse: 3.5432 - mae: 1.4912\n",
            "Epoch 232/550\n",
            "7/7 [==============================] - 0s 4ms/step - loss: 3.7704 - mse: 3.3955 - mae: 1.4423\n",
            "Epoch 233/550\n",
            "7/7 [==============================] - 0s 3ms/step - loss: 3.6139 - mse: 3.2395 - mae: 1.4036\n",
            "Epoch 234/550\n",
            "7/7 [==============================] - 0s 3ms/step - loss: 3.7954 - mse: 3.4214 - mae: 1.4839\n",
            "Epoch 235/550\n",
            "7/7 [==============================] - 0s 4ms/step - loss: 3.7313 - mse: 3.3577 - mae: 1.4792\n",
            "Epoch 236/550\n",
            "7/7 [==============================] - 0s 5ms/step - loss: 4.5383 - mse: 4.1652 - mae: 1.6144\n",
            "Epoch 237/550\n",
            "7/7 [==============================] - 0s 4ms/step - loss: 3.7395 - mse: 3.3668 - mae: 1.4452\n",
            "Epoch 238/550\n",
            "7/7 [==============================] - 0s 4ms/step - loss: 3.8395 - mse: 3.4673 - mae: 1.4774\n",
            "Epoch 239/550\n",
            "7/7 [==============================] - 0s 4ms/step - loss: 3.9612 - mse: 3.5894 - mae: 1.4862\n",
            "Epoch 240/550\n",
            "7/7 [==============================] - 0s 4ms/step - loss: 3.2776 - mse: 2.9063 - mae: 1.3631\n",
            "Epoch 241/550\n",
            "7/7 [==============================] - 0s 4ms/step - loss: 4.2311 - mse: 3.8601 - mae: 1.5442\n",
            "Epoch 242/550\n",
            "7/7 [==============================] - 0s 5ms/step - loss: 3.8615 - mse: 3.4909 - mae: 1.4906\n",
            "Epoch 243/550\n",
            "7/7 [==============================] - 0s 4ms/step - loss: 3.5234 - mse: 3.1533 - mae: 1.4186\n",
            "Epoch 244/550\n",
            "7/7 [==============================] - 0s 5ms/step - loss: 3.7150 - mse: 3.3452 - mae: 1.4548\n",
            "Epoch 245/550\n",
            "7/7 [==============================] - 0s 5ms/step - loss: 3.8326 - mse: 3.4632 - mae: 1.4837\n",
            "Epoch 246/550\n",
            "7/7 [==============================] - 0s 4ms/step - loss: 3.6226 - mse: 3.2536 - mae: 1.4074\n",
            "Epoch 247/550\n",
            "7/7 [==============================] - 0s 4ms/step - loss: 3.5237 - mse: 3.1551 - mae: 1.4036\n",
            "Epoch 248/550\n",
            "7/7 [==============================] - 0s 6ms/step - loss: 3.9700 - mse: 3.6018 - mae: 1.5170\n",
            "Epoch 249/550\n",
            "7/7 [==============================] - 0s 5ms/step - loss: 3.9780 - mse: 3.6103 - mae: 1.5289\n",
            "Epoch 250/550\n",
            "7/7 [==============================] - 0s 4ms/step - loss: 3.9323 - mse: 3.5650 - mae: 1.4764\n",
            "Epoch 251/550\n",
            "7/7 [==============================] - 0s 5ms/step - loss: 3.6159 - mse: 3.2490 - mae: 1.4052\n",
            "Epoch 252/550\n",
            "7/7 [==============================] - 0s 4ms/step - loss: 3.7302 - mse: 3.3638 - mae: 1.4648\n",
            "Epoch 253/550\n",
            "7/7 [==============================] - 0s 5ms/step - loss: 3.7102 - mse: 3.3442 - mae: 1.4260\n",
            "Epoch 254/550\n",
            "7/7 [==============================] - 0s 4ms/step - loss: 3.7533 - mse: 3.3876 - mae: 1.4735\n",
            "Epoch 255/550\n",
            "7/7 [==============================] - 0s 4ms/step - loss: 3.8342 - mse: 3.4689 - mae: 1.4739\n",
            "Epoch 256/550\n",
            "7/7 [==============================] - 0s 5ms/step - loss: 3.8745 - mse: 3.5096 - mae: 1.4879\n",
            "Epoch 257/550\n",
            "7/7 [==============================] - 0s 4ms/step - loss: 3.7270 - mse: 3.3624 - mae: 1.4658\n",
            "Epoch 258/550\n",
            "7/7 [==============================] - 0s 5ms/step - loss: 3.5344 - mse: 3.1702 - mae: 1.4167\n",
            "Epoch 259/550\n",
            "7/7 [==============================] - 0s 5ms/step - loss: 3.7262 - mse: 3.3625 - mae: 1.4736\n",
            "Epoch 260/550\n",
            "7/7 [==============================] - 0s 4ms/step - loss: 3.8115 - mse: 3.4482 - mae: 1.4965\n",
            "Epoch 261/550\n",
            "7/7 [==============================] - 0s 4ms/step - loss: 4.1732 - mse: 3.8104 - mae: 1.5810\n",
            "Epoch 262/550\n",
            "7/7 [==============================] - 0s 4ms/step - loss: 3.5498 - mse: 3.1872 - mae: 1.4347\n",
            "Epoch 263/550\n",
            "7/7 [==============================] - 0s 5ms/step - loss: 3.5881 - mse: 3.2259 - mae: 1.3973\n",
            "Epoch 264/550\n",
            "7/7 [==============================] - 0s 3ms/step - loss: 3.5488 - mse: 3.1870 - mae: 1.3908\n",
            "Epoch 265/550\n",
            "7/7 [==============================] - 0s 4ms/step - loss: 3.9404 - mse: 3.5790 - mae: 1.4757\n",
            "Epoch 266/550\n",
            "7/7 [==============================] - 0s 4ms/step - loss: 3.7400 - mse: 3.3789 - mae: 1.4549\n",
            "Epoch 267/550\n",
            "7/7 [==============================] - 0s 4ms/step - loss: 3.6144 - mse: 3.2537 - mae: 1.4511\n",
            "Epoch 268/550\n",
            "7/7 [==============================] - 0s 4ms/step - loss: 3.5840 - mse: 3.2237 - mae: 1.4166\n",
            "Epoch 269/550\n",
            "7/7 [==============================] - 0s 4ms/step - loss: 3.8888 - mse: 3.5287 - mae: 1.5109\n",
            "Epoch 270/550\n",
            "7/7 [==============================] - 0s 4ms/step - loss: 3.7729 - mse: 3.4131 - mae: 1.4820\n",
            "Epoch 271/550\n",
            "7/7 [==============================] - 0s 4ms/step - loss: 3.5099 - mse: 3.1505 - mae: 1.4164\n",
            "Epoch 272/550\n",
            "7/7 [==============================] - 0s 4ms/step - loss: 3.5251 - mse: 3.1661 - mae: 1.4339\n",
            "Epoch 273/550\n",
            "7/7 [==============================] - 0s 5ms/step - loss: 3.7649 - mse: 3.4062 - mae: 1.4729\n",
            "Epoch 274/550\n",
            "7/7 [==============================] - 0s 5ms/step - loss: 3.5381 - mse: 3.1797 - mae: 1.4198\n",
            "Epoch 275/550\n",
            "7/7 [==============================] - 0s 4ms/step - loss: 3.5682 - mse: 3.2102 - mae: 1.4296\n",
            "Epoch 276/550\n",
            "7/7 [==============================] - 0s 4ms/step - loss: 3.8484 - mse: 3.4907 - mae: 1.4761\n",
            "Epoch 277/550\n",
            "7/7 [==============================] - 0s 4ms/step - loss: 3.8015 - mse: 3.4441 - mae: 1.4712\n",
            "Epoch 278/550\n",
            "7/7 [==============================] - 0s 4ms/step - loss: 3.5093 - mse: 3.1523 - mae: 1.4238\n",
            "Epoch 279/550\n",
            "7/7 [==============================] - 0s 4ms/step - loss: 3.8300 - mse: 3.4733 - mae: 1.4975\n",
            "Epoch 280/550\n",
            "7/7 [==============================] - 0s 4ms/step - loss: 3.7185 - mse: 3.3622 - mae: 1.4598\n",
            "Epoch 281/550\n",
            "7/7 [==============================] - 0s 6ms/step - loss: 3.4069 - mse: 3.0508 - mae: 1.3830\n",
            "Epoch 282/550\n",
            "7/7 [==============================] - 0s 4ms/step - loss: 4.0543 - mse: 3.6986 - mae: 1.5551\n",
            "Epoch 283/550\n",
            "7/7 [==============================] - 0s 4ms/step - loss: 4.1885 - mse: 3.8330 - mae: 1.5618\n",
            "Epoch 284/550\n",
            "7/7 [==============================] - 0s 3ms/step - loss: 3.8625 - mse: 3.5073 - mae: 1.4883\n",
            "Epoch 285/550\n",
            "7/7 [==============================] - 0s 5ms/step - loss: 4.0769 - mse: 3.7221 - mae: 1.5312\n",
            "Epoch 286/550\n",
            "7/7 [==============================] - 0s 5ms/step - loss: 3.7914 - mse: 3.4370 - mae: 1.4931\n",
            "Epoch 287/550\n",
            "7/7 [==============================] - 0s 6ms/step - loss: 3.6359 - mse: 3.2818 - mae: 1.4378\n",
            "Epoch 288/550\n",
            "7/7 [==============================] - 0s 4ms/step - loss: 4.1420 - mse: 3.7883 - mae: 1.5652\n",
            "Epoch 289/550\n",
            "7/7 [==============================] - 0s 4ms/step - loss: 3.5693 - mse: 3.2160 - mae: 1.3966\n",
            "Epoch 290/550\n",
            "7/7 [==============================] - 0s 4ms/step - loss: 3.9549 - mse: 3.6018 - mae: 1.5132\n",
            "Epoch 291/550\n",
            "7/7 [==============================] - 0s 4ms/step - loss: 3.7263 - mse: 3.3736 - mae: 1.4999\n",
            "Epoch 292/550\n",
            "7/7 [==============================] - 0s 5ms/step - loss: 3.8553 - mse: 3.5029 - mae: 1.4799\n",
            "Epoch 293/550\n",
            "7/7 [==============================] - 0s 6ms/step - loss: 3.6886 - mse: 3.3364 - mae: 1.4209\n",
            "Epoch 294/550\n",
            "7/7 [==============================] - 0s 3ms/step - loss: 3.5392 - mse: 3.1874 - mae: 1.4238\n",
            "Epoch 295/550\n",
            "7/7 [==============================] - 0s 3ms/step - loss: 3.3896 - mse: 3.0381 - mae: 1.3771\n",
            "Epoch 296/550\n",
            "7/7 [==============================] - 0s 4ms/step - loss: 3.5717 - mse: 3.2206 - mae: 1.4353\n",
            "Epoch 297/550\n",
            "7/7 [==============================] - 0s 4ms/step - loss: 3.6286 - mse: 3.2778 - mae: 1.4232\n",
            "Epoch 298/550\n",
            "7/7 [==============================] - 0s 5ms/step - loss: 3.2213 - mse: 2.8708 - mae: 1.3231\n",
            "Epoch 299/550\n",
            "7/7 [==============================] - 0s 7ms/step - loss: 3.2167 - mse: 2.8665 - mae: 1.3300\n",
            "Epoch 300/550\n",
            "7/7 [==============================] - 0s 4ms/step - loss: 3.6932 - mse: 3.3433 - mae: 1.4221\n",
            "Epoch 301/550\n",
            "7/7 [==============================] - 0s 4ms/step - loss: 3.7720 - mse: 3.4225 - mae: 1.4719\n",
            "Epoch 302/550\n",
            "7/7 [==============================] - 0s 5ms/step - loss: 3.5199 - mse: 3.1707 - mae: 1.4245\n",
            "Epoch 303/550\n",
            "7/7 [==============================] - 0s 4ms/step - loss: 3.5673 - mse: 3.2184 - mae: 1.4077\n",
            "Epoch 304/550\n",
            "7/7 [==============================] - 0s 4ms/step - loss: 3.6486 - mse: 3.3001 - mae: 1.4426\n",
            "Epoch 305/550\n",
            "7/7 [==============================] - 0s 6ms/step - loss: 3.4774 - mse: 3.1293 - mae: 1.3924\n",
            "Epoch 306/550\n",
            "7/7 [==============================] - 0s 5ms/step - loss: 3.8552 - mse: 3.5074 - mae: 1.4954\n",
            "Epoch 307/550\n",
            "7/7 [==============================] - 0s 4ms/step - loss: 3.8459 - mse: 3.4984 - mae: 1.4888\n",
            "Epoch 308/550\n",
            "7/7 [==============================] - 0s 4ms/step - loss: 3.6090 - mse: 3.2618 - mae: 1.4104\n",
            "Epoch 309/550\n",
            "7/7 [==============================] - 0s 5ms/step - loss: 3.4916 - mse: 3.1447 - mae: 1.4331\n",
            "Epoch 310/550\n",
            "7/7 [==============================] - 0s 4ms/step - loss: 3.4872 - mse: 3.1407 - mae: 1.4165\n",
            "Epoch 311/550\n",
            "7/7 [==============================] - 0s 4ms/step - loss: 3.3263 - mse: 2.9800 - mae: 1.3698\n",
            "Epoch 312/550\n",
            "7/7 [==============================] - 0s 4ms/step - loss: 3.9565 - mse: 3.6106 - mae: 1.4842\n",
            "Epoch 313/550\n",
            "7/7 [==============================] - 0s 4ms/step - loss: 4.0765 - mse: 3.7308 - mae: 1.5488\n",
            "Epoch 314/550\n",
            "7/7 [==============================] - 0s 3ms/step - loss: 3.5774 - mse: 3.2320 - mae: 1.4290\n",
            "Epoch 315/550\n",
            "7/7 [==============================] - 0s 4ms/step - loss: 3.5065 - mse: 3.1613 - mae: 1.4011\n",
            "Epoch 316/550\n",
            "7/7 [==============================] - 0s 4ms/step - loss: 3.7015 - mse: 3.3566 - mae: 1.4601\n",
            "Epoch 317/550\n",
            "7/7 [==============================] - 0s 5ms/step - loss: 3.7774 - mse: 3.4329 - mae: 1.4959\n",
            "Epoch 318/550\n",
            "7/7 [==============================] - 0s 4ms/step - loss: 3.5526 - mse: 3.2085 - mae: 1.4359\n",
            "Epoch 319/550\n",
            "7/7 [==============================] - 0s 4ms/step - loss: 3.4665 - mse: 3.1227 - mae: 1.4135\n",
            "Epoch 320/550\n",
            "7/7 [==============================] - 0s 4ms/step - loss: 3.8785 - mse: 3.5350 - mae: 1.4800\n",
            "Epoch 321/550\n",
            "7/7 [==============================] - 0s 5ms/step - loss: 3.7147 - mse: 3.3714 - mae: 1.4686\n",
            "Epoch 322/550\n",
            "7/7 [==============================] - 0s 4ms/step - loss: 3.7156 - mse: 3.3726 - mae: 1.4570\n",
            "Epoch 323/550\n",
            "7/7 [==============================] - 0s 5ms/step - loss: 3.7977 - mse: 3.4549 - mae: 1.4718\n",
            "Epoch 324/550\n",
            "7/7 [==============================] - 0s 4ms/step - loss: 3.7194 - mse: 3.3770 - mae: 1.4519\n",
            "Epoch 325/550\n",
            "7/7 [==============================] - 0s 4ms/step - loss: 3.3824 - mse: 3.0402 - mae: 1.4021\n",
            "Epoch 326/550\n",
            "7/7 [==============================] - 0s 4ms/step - loss: 3.9425 - mse: 3.6006 - mae: 1.5066\n",
            "Epoch 327/550\n",
            "7/7 [==============================] - 0s 4ms/step - loss: 3.4571 - mse: 3.1154 - mae: 1.4198\n",
            "Epoch 328/550\n",
            "7/7 [==============================] - 0s 5ms/step - loss: 3.5245 - mse: 3.1830 - mae: 1.3994\n",
            "Epoch 329/550\n",
            "7/7 [==============================] - 0s 5ms/step - loss: 4.0190 - mse: 3.6778 - mae: 1.5154\n",
            "Epoch 330/550\n",
            "7/7 [==============================] - 0s 5ms/step - loss: 3.3225 - mse: 2.9817 - mae: 1.3889\n",
            "Epoch 331/550\n",
            "7/7 [==============================] - 0s 4ms/step - loss: 3.5279 - mse: 3.1873 - mae: 1.4243\n",
            "Epoch 332/550\n",
            "7/7 [==============================] - 0s 5ms/step - loss: 3.3197 - mse: 2.9794 - mae: 1.3513\n",
            "Epoch 333/550\n",
            "7/7 [==============================] - 0s 4ms/step - loss: 3.6907 - mse: 3.3507 - mae: 1.4666\n",
            "Epoch 334/550\n",
            "7/7 [==============================] - 0s 5ms/step - loss: 3.8119 - mse: 3.4722 - mae: 1.4494\n",
            "Epoch 335/550\n",
            "7/7 [==============================] - 0s 6ms/step - loss: 3.8275 - mse: 3.4881 - mae: 1.5209\n",
            "Epoch 336/550\n",
            "7/7 [==============================] - 0s 3ms/step - loss: 3.4212 - mse: 3.0820 - mae: 1.4088\n",
            "Epoch 337/550\n",
            "7/7 [==============================] - 0s 5ms/step - loss: 3.5030 - mse: 3.1641 - mae: 1.4031\n",
            "Epoch 338/550\n",
            "7/7 [==============================] - 0s 4ms/step - loss: 3.4056 - mse: 3.0670 - mae: 1.4097\n",
            "Epoch 339/550\n",
            "7/7 [==============================] - 0s 4ms/step - loss: 3.9459 - mse: 3.6075 - mae: 1.5066\n",
            "Epoch 340/550\n",
            "7/7 [==============================] - 0s 5ms/step - loss: 3.5409 - mse: 3.2028 - mae: 1.4247\n",
            "Epoch 341/550\n",
            "7/7 [==============================] - 0s 6ms/step - loss: 3.6341 - mse: 3.2962 - mae: 1.4593\n",
            "Epoch 342/550\n",
            "7/7 [==============================] - 0s 4ms/step - loss: 3.4197 - mse: 3.0819 - mae: 1.4012\n",
            "Epoch 343/550\n",
            "7/7 [==============================] - 0s 4ms/step - loss: 3.7082 - mse: 3.3706 - mae: 1.4648\n",
            "Epoch 344/550\n",
            "7/7 [==============================] - 0s 5ms/step - loss: 3.3762 - mse: 3.0389 - mae: 1.3771\n",
            "Epoch 345/550\n",
            "7/7 [==============================] - 0s 6ms/step - loss: 3.4962 - mse: 3.1591 - mae: 1.3869\n",
            "Epoch 346/550\n",
            "7/7 [==============================] - 0s 4ms/step - loss: 3.6223 - mse: 3.2854 - mae: 1.4266\n",
            "Epoch 347/550\n",
            "7/7 [==============================] - 0s 5ms/step - loss: 3.4221 - mse: 3.0856 - mae: 1.3999\n",
            "Epoch 348/550\n",
            "7/7 [==============================] - 0s 5ms/step - loss: 3.8098 - mse: 3.4736 - mae: 1.4991\n",
            "Epoch 349/550\n",
            "7/7 [==============================] - 0s 4ms/step - loss: 3.6545 - mse: 3.3186 - mae: 1.4392\n",
            "Epoch 350/550\n",
            "7/7 [==============================] - 0s 5ms/step - loss: 3.6765 - mse: 3.3409 - mae: 1.4487\n",
            "Epoch 351/550\n",
            "7/7 [==============================] - 0s 3ms/step - loss: 3.8598 - mse: 3.5244 - mae: 1.5160\n",
            "Epoch 352/550\n",
            "7/7 [==============================] - 0s 4ms/step - loss: 3.5898 - mse: 3.2547 - mae: 1.4493\n",
            "Epoch 353/550\n",
            "7/7 [==============================] - 0s 4ms/step - loss: 3.6813 - mse: 3.3464 - mae: 1.4376\n",
            "Epoch 354/550\n",
            "7/7 [==============================] - 0s 4ms/step - loss: 3.5364 - mse: 3.2018 - mae: 1.4407\n",
            "Epoch 355/550\n",
            "7/7 [==============================] - 0s 4ms/step - loss: 3.6101 - mse: 3.2757 - mae: 1.4415\n",
            "Epoch 356/550\n",
            "7/7 [==============================] - 0s 5ms/step - loss: 3.5689 - mse: 3.2347 - mae: 1.4401\n",
            "Epoch 357/550\n",
            "7/7 [==============================] - 0s 4ms/step - loss: 3.6469 - mse: 3.3129 - mae: 1.4469\n",
            "Epoch 358/550\n",
            "7/7 [==============================] - 0s 5ms/step - loss: 3.3016 - mse: 2.9679 - mae: 1.3325\n",
            "Epoch 359/550\n",
            "7/7 [==============================] - 0s 6ms/step - loss: 3.6210 - mse: 3.2876 - mae: 1.4450\n",
            "Epoch 360/550\n",
            "7/7 [==============================] - 0s 4ms/step - loss: 3.4099 - mse: 3.0768 - mae: 1.3972\n",
            "Epoch 361/550\n",
            "7/7 [==============================] - 0s 3ms/step - loss: 3.3549 - mse: 3.0221 - mae: 1.3848\n",
            "Epoch 362/550\n",
            "7/7 [==============================] - 0s 4ms/step - loss: 3.4918 - mse: 3.1594 - mae: 1.4254\n",
            "Epoch 363/550\n",
            "7/7 [==============================] - 0s 6ms/step - loss: 3.6145 - mse: 3.2823 - mae: 1.4388\n",
            "Epoch 364/550\n",
            "7/7 [==============================] - 0s 4ms/step - loss: 3.7709 - mse: 3.4389 - mae: 1.4343\n",
            "Epoch 365/550\n",
            "7/7 [==============================] - 0s 6ms/step - loss: 3.7483 - mse: 3.4166 - mae: 1.4720\n",
            "Epoch 366/550\n",
            "7/7 [==============================] - 0s 4ms/step - loss: 3.8297 - mse: 3.4981 - mae: 1.4692\n",
            "Epoch 367/550\n",
            "7/7 [==============================] - 0s 5ms/step - loss: 3.4153 - mse: 3.0839 - mae: 1.3979\n",
            "Epoch 368/550\n",
            "7/7 [==============================] - 0s 4ms/step - loss: 3.5545 - mse: 3.2233 - mae: 1.4232\n",
            "Epoch 369/550\n",
            "7/7 [==============================] - 0s 5ms/step - loss: 3.4662 - mse: 3.1351 - mae: 1.4461\n",
            "Epoch 370/550\n",
            "7/7 [==============================] - 0s 4ms/step - loss: 3.8504 - mse: 3.5195 - mae: 1.4850\n",
            "Epoch 371/550\n",
            "7/7 [==============================] - 0s 5ms/step - loss: 3.5593 - mse: 3.2286 - mae: 1.4236\n",
            "Epoch 372/550\n",
            "7/7 [==============================] - 0s 4ms/step - loss: 4.1366 - mse: 3.8061 - mae: 1.5789\n",
            "Epoch 373/550\n",
            "7/7 [==============================] - 0s 5ms/step - loss: 3.3891 - mse: 3.0587 - mae: 1.3810\n",
            "Epoch 374/550\n",
            "7/7 [==============================] - 0s 3ms/step - loss: 3.7846 - mse: 3.4542 - mae: 1.4524\n",
            "Epoch 375/550\n",
            "7/7 [==============================] - 0s 4ms/step - loss: 3.6914 - mse: 3.3614 - mae: 1.4361\n",
            "Epoch 376/550\n",
            "7/7 [==============================] - 0s 5ms/step - loss: 3.9050 - mse: 3.5752 - mae: 1.4903\n",
            "Epoch 377/550\n",
            "7/7 [==============================] - 0s 5ms/step - loss: 3.4849 - mse: 3.1553 - mae: 1.4113\n",
            "Epoch 378/550\n",
            "7/7 [==============================] - 0s 5ms/step - loss: 3.8728 - mse: 3.5433 - mae: 1.5306\n",
            "Epoch 379/550\n",
            "7/7 [==============================] - 0s 3ms/step - loss: 3.7556 - mse: 3.4263 - mae: 1.4767\n",
            "Epoch 380/550\n",
            "7/7 [==============================] - 0s 5ms/step - loss: 3.5933 - mse: 3.2643 - mae: 1.4108\n",
            "Epoch 381/550\n",
            "7/7 [==============================] - 0s 4ms/step - loss: 3.6060 - mse: 3.2773 - mae: 1.4213\n",
            "Epoch 382/550\n",
            "7/7 [==============================] - 0s 7ms/step - loss: 3.8618 - mse: 3.5333 - mae: 1.4894\n",
            "Epoch 383/550\n",
            "7/7 [==============================] - 0s 4ms/step - loss: 3.6290 - mse: 3.3007 - mae: 1.4373\n",
            "Epoch 384/550\n",
            "7/7 [==============================] - 0s 4ms/step - loss: 3.5347 - mse: 3.2066 - mae: 1.4282\n",
            "Epoch 385/550\n",
            "7/7 [==============================] - 0s 5ms/step - loss: 3.2103 - mse: 2.8825 - mae: 1.3548\n",
            "Epoch 386/550\n",
            "7/7 [==============================] - 0s 4ms/step - loss: 4.0727 - mse: 3.7452 - mae: 1.5685\n",
            "Epoch 387/550\n",
            "7/7 [==============================] - 0s 4ms/step - loss: 3.9653 - mse: 3.6380 - mae: 1.5317\n",
            "Epoch 388/550\n",
            "7/7 [==============================] - 0s 6ms/step - loss: 4.0065 - mse: 3.6793 - mae: 1.5370\n",
            "Epoch 389/550\n",
            "7/7 [==============================] - 0s 5ms/step - loss: 3.3103 - mse: 2.9833 - mae: 1.3497\n",
            "Epoch 390/550\n",
            "7/7 [==============================] - 0s 4ms/step - loss: 3.6779 - mse: 3.3511 - mae: 1.4891\n",
            "Epoch 391/550\n",
            "7/7 [==============================] - 0s 5ms/step - loss: 3.5800 - mse: 3.2535 - mae: 1.4469\n",
            "Epoch 392/550\n",
            "7/7 [==============================] - 0s 4ms/step - loss: 3.4542 - mse: 3.1280 - mae: 1.4090\n",
            "Epoch 393/550\n",
            "7/7 [==============================] - 0s 4ms/step - loss: 3.5394 - mse: 3.2134 - mae: 1.4322\n",
            "Epoch 394/550\n",
            "7/7 [==============================] - 0s 4ms/step - loss: 3.6199 - mse: 3.2940 - mae: 1.4360\n",
            "Epoch 395/550\n",
            "7/7 [==============================] - 0s 4ms/step - loss: 3.2179 - mse: 2.8923 - mae: 1.3560\n",
            "Epoch 396/550\n",
            "7/7 [==============================] - 0s 3ms/step - loss: 3.6895 - mse: 3.3640 - mae: 1.4864\n",
            "Epoch 397/550\n",
            "7/7 [==============================] - 0s 5ms/step - loss: 3.5887 - mse: 3.2633 - mae: 1.4468\n",
            "Epoch 398/550\n",
            "7/7 [==============================] - 0s 3ms/step - loss: 3.4408 - mse: 3.1155 - mae: 1.4062\n",
            "Epoch 399/550\n",
            "7/7 [==============================] - 0s 5ms/step - loss: 3.6569 - mse: 3.3319 - mae: 1.4376\n",
            "Epoch 400/550\n",
            "7/7 [==============================] - 0s 5ms/step - loss: 3.6711 - mse: 3.3464 - mae: 1.4378\n",
            "Epoch 401/550\n",
            "7/7 [==============================] - 0s 5ms/step - loss: 3.3591 - mse: 3.0345 - mae: 1.4000\n",
            "Epoch 402/550\n",
            "7/7 [==============================] - 0s 4ms/step - loss: 3.7975 - mse: 3.4732 - mae: 1.4689\n",
            "Epoch 403/550\n",
            "7/7 [==============================] - 0s 4ms/step - loss: 3.6121 - mse: 3.2881 - mae: 1.4869\n",
            "Epoch 404/550\n",
            "7/7 [==============================] - 0s 5ms/step - loss: 3.3039 - mse: 2.9801 - mae: 1.3962\n",
            "Epoch 405/550\n",
            "7/7 [==============================] - 0s 4ms/step - loss: 3.7466 - mse: 3.4231 - mae: 1.4839\n",
            "Epoch 406/550\n",
            "7/7 [==============================] - 0s 6ms/step - loss: 3.8018 - mse: 3.4784 - mae: 1.4323\n",
            "Epoch 407/550\n",
            "7/7 [==============================] - 0s 4ms/step - loss: 3.6986 - mse: 3.3754 - mae: 1.4554\n",
            "Epoch 408/550\n",
            "7/7 [==============================] - 0s 4ms/step - loss: 3.5145 - mse: 3.1915 - mae: 1.4087\n",
            "Epoch 409/550\n",
            "7/7 [==============================] - 0s 3ms/step - loss: 3.1683 - mse: 2.8454 - mae: 1.3354\n",
            "Epoch 410/550\n",
            "7/7 [==============================] - 0s 5ms/step - loss: 3.3311 - mse: 3.0084 - mae: 1.3901\n",
            "Epoch 411/550\n",
            "7/7 [==============================] - 0s 4ms/step - loss: 3.4299 - mse: 3.1075 - mae: 1.4239\n",
            "Epoch 412/550\n",
            "7/7 [==============================] - 0s 5ms/step - loss: 3.6623 - mse: 3.3401 - mae: 1.4790\n",
            "Epoch 413/550\n",
            "7/7 [==============================] - 0s 5ms/step - loss: 3.4063 - mse: 3.0844 - mae: 1.3731\n",
            "Epoch 414/550\n",
            "7/7 [==============================] - 0s 4ms/step - loss: 3.3972 - mse: 3.0755 - mae: 1.3979\n",
            "Epoch 415/550\n",
            "7/7 [==============================] - 0s 4ms/step - loss: 3.4190 - mse: 3.0977 - mae: 1.4166\n",
            "Epoch 416/550\n",
            "7/7 [==============================] - 0s 5ms/step - loss: 3.7043 - mse: 3.3833 - mae: 1.4748\n",
            "Epoch 417/550\n",
            "7/7 [==============================] - 0s 5ms/step - loss: 3.4753 - mse: 3.1546 - mae: 1.4363\n",
            "Epoch 418/550\n",
            "7/7 [==============================] - 0s 5ms/step - loss: 3.6296 - mse: 3.3091 - mae: 1.4750\n",
            "Epoch 419/550\n",
            "7/7 [==============================] - 0s 4ms/step - loss: 3.6200 - mse: 3.2998 - mae: 1.4189\n",
            "Epoch 420/550\n",
            "7/7 [==============================] - 0s 8ms/step - loss: 3.9536 - mse: 3.6336 - mae: 1.5103\n",
            "Epoch 421/550\n",
            "7/7 [==============================] - 0s 8ms/step - loss: 3.4249 - mse: 3.1051 - mae: 1.4195\n",
            "Epoch 422/550\n",
            "7/7 [==============================] - 0s 5ms/step - loss: 3.4472 - mse: 3.1276 - mae: 1.4030\n",
            "Epoch 423/550\n",
            "7/7 [==============================] - 0s 5ms/step - loss: 3.5577 - mse: 3.2381 - mae: 1.4450\n",
            "Epoch 424/550\n",
            "7/7 [==============================] - 0s 4ms/step - loss: 3.5963 - mse: 3.2767 - mae: 1.4461\n",
            "Epoch 425/550\n",
            "7/7 [==============================] - 0s 4ms/step - loss: 3.5892 - mse: 3.2696 - mae: 1.4367\n",
            "Epoch 426/550\n",
            "7/7 [==============================] - 0s 3ms/step - loss: 3.6030 - mse: 3.2836 - mae: 1.4639\n",
            "Epoch 427/550\n",
            "7/7 [==============================] - 0s 4ms/step - loss: 3.7540 - mse: 3.4347 - mae: 1.4907\n",
            "Epoch 428/550\n",
            "7/7 [==============================] - 0s 5ms/step - loss: 3.4772 - mse: 3.1579 - mae: 1.4043\n",
            "Epoch 429/550\n",
            "7/7 [==============================] - 0s 6ms/step - loss: 3.8598 - mse: 3.5406 - mae: 1.5293\n",
            "Epoch 430/550\n",
            "7/7 [==============================] - 0s 4ms/step - loss: 3.8648 - mse: 3.5458 - mae: 1.4793\n",
            "Epoch 431/550\n",
            "7/7 [==============================] - 0s 3ms/step - loss: 4.0536 - mse: 3.7348 - mae: 1.5383\n",
            "Epoch 432/550\n",
            "7/7 [==============================] - 0s 5ms/step - loss: 3.3294 - mse: 3.0108 - mae: 1.3889\n",
            "Epoch 433/550\n",
            "7/7 [==============================] - 0s 4ms/step - loss: 3.6739 - mse: 3.3554 - mae: 1.4943\n",
            "Epoch 434/550\n",
            "7/7 [==============================] - 0s 5ms/step - loss: 3.5829 - mse: 3.2647 - mae: 1.4534\n",
            "Epoch 435/550\n",
            "7/7 [==============================] - 0s 5ms/step - loss: 3.3572 - mse: 3.0393 - mae: 1.3750\n",
            "Epoch 436/550\n",
            "7/7 [==============================] - 0s 4ms/step - loss: 3.8586 - mse: 3.5409 - mae: 1.4815\n",
            "Epoch 437/550\n",
            "7/7 [==============================] - 0s 4ms/step - loss: 3.3239 - mse: 3.0065 - mae: 1.3821\n",
            "Epoch 438/550\n",
            "7/7 [==============================] - 0s 4ms/step - loss: 3.5369 - mse: 3.2198 - mae: 1.4468\n",
            "Epoch 439/550\n",
            "7/7 [==============================] - 0s 4ms/step - loss: 3.7171 - mse: 3.4003 - mae: 1.4535\n",
            "Epoch 440/550\n",
            "7/7 [==============================] - 0s 5ms/step - loss: 3.3960 - mse: 3.0795 - mae: 1.3849\n",
            "Epoch 441/550\n",
            "7/7 [==============================] - 0s 6ms/step - loss: 3.7401 - mse: 3.4238 - mae: 1.4551\n",
            "Epoch 442/550\n",
            "7/7 [==============================] - 0s 4ms/step - loss: 3.5959 - mse: 3.2798 - mae: 1.4404\n",
            "Epoch 443/550\n",
            "7/7 [==============================] - 0s 7ms/step - loss: 3.7168 - mse: 3.4009 - mae: 1.4628\n",
            "Epoch 444/550\n",
            "7/7 [==============================] - 0s 5ms/step - loss: 3.0790 - mse: 2.7632 - mae: 1.3142\n",
            "Epoch 445/550\n",
            "7/7 [==============================] - 0s 5ms/step - loss: 3.6071 - mse: 3.2914 - mae: 1.4681\n",
            "Epoch 446/550\n",
            "7/7 [==============================] - 0s 6ms/step - loss: 3.4509 - mse: 3.1353 - mae: 1.4167\n",
            "Epoch 447/550\n",
            "7/7 [==============================] - 0s 5ms/step - loss: 3.6813 - mse: 3.3658 - mae: 1.4309\n",
            "Epoch 448/550\n",
            "7/7 [==============================] - 0s 5ms/step - loss: 3.5034 - mse: 3.1882 - mae: 1.4209\n",
            "Epoch 449/550\n",
            "7/7 [==============================] - 0s 6ms/step - loss: 3.4882 - mse: 3.1732 - mae: 1.4256\n",
            "Epoch 450/550\n",
            "7/7 [==============================] - 0s 5ms/step - loss: 3.5213 - mse: 3.2064 - mae: 1.3994\n",
            "Epoch 451/550\n",
            "7/7 [==============================] - 0s 5ms/step - loss: 3.6535 - mse: 3.3388 - mae: 1.4473\n",
            "Epoch 452/550\n",
            "7/7 [==============================] - 0s 4ms/step - loss: 3.4649 - mse: 3.1504 - mae: 1.4439\n",
            "Epoch 453/550\n",
            "7/7 [==============================] - 0s 4ms/step - loss: 3.2119 - mse: 2.8977 - mae: 1.3591\n",
            "Epoch 454/550\n",
            "7/7 [==============================] - 0s 5ms/step - loss: 3.6092 - mse: 3.2951 - mae: 1.4688\n",
            "Epoch 455/550\n",
            "7/7 [==============================] - 0s 4ms/step - loss: 3.6500 - mse: 3.3361 - mae: 1.4292\n",
            "Epoch 456/550\n",
            "7/7 [==============================] - 0s 4ms/step - loss: 3.6929 - mse: 3.3793 - mae: 1.4389\n",
            "Epoch 457/550\n",
            "7/7 [==============================] - 0s 5ms/step - loss: 3.4229 - mse: 3.1097 - mae: 1.4117\n",
            "Epoch 458/550\n",
            "7/7 [==============================] - 0s 3ms/step - loss: 3.7362 - mse: 3.4231 - mae: 1.4771\n",
            "Epoch 459/550\n",
            "7/7 [==============================] - 0s 4ms/step - loss: 3.4330 - mse: 3.1201 - mae: 1.4071\n",
            "Epoch 460/550\n",
            "7/7 [==============================] - 0s 4ms/step - loss: 3.8166 - mse: 3.5039 - mae: 1.4898\n",
            "Epoch 461/550\n",
            "7/7 [==============================] - 0s 5ms/step - loss: 3.5146 - mse: 3.2019 - mae: 1.4818\n",
            "Epoch 462/550\n",
            "7/7 [==============================] - 0s 5ms/step - loss: 3.8529 - mse: 3.5404 - mae: 1.4834\n",
            "Epoch 463/550\n",
            "7/7 [==============================] - 0s 4ms/step - loss: 3.5712 - mse: 3.2588 - mae: 1.4661\n",
            "Epoch 464/550\n",
            "7/7 [==============================] - 0s 4ms/step - loss: 3.6037 - mse: 3.2914 - mae: 1.4580\n",
            "Epoch 465/550\n",
            "7/7 [==============================] - 0s 4ms/step - loss: 3.4102 - mse: 3.0981 - mae: 1.3733\n",
            "Epoch 466/550\n",
            "7/7 [==============================] - 0s 4ms/step - loss: 3.3357 - mse: 3.0237 - mae: 1.3872\n",
            "Epoch 467/550\n",
            "7/7 [==============================] - 0s 5ms/step - loss: 3.6634 - mse: 3.3515 - mae: 1.4633\n",
            "Epoch 468/550\n",
            "7/7 [==============================] - 0s 5ms/step - loss: 3.6074 - mse: 3.2957 - mae: 1.4562\n",
            "Epoch 469/550\n",
            "7/7 [==============================] - 0s 4ms/step - loss: 3.2935 - mse: 2.9821 - mae: 1.3796\n",
            "Epoch 470/550\n",
            "7/7 [==============================] - 0s 4ms/step - loss: 4.0980 - mse: 3.7867 - mae: 1.5530\n",
            "Epoch 471/550\n",
            "7/7 [==============================] - 0s 4ms/step - loss: 3.5253 - mse: 3.2142 - mae: 1.4411\n",
            "Epoch 472/550\n",
            "7/7 [==============================] - 0s 4ms/step - loss: 3.6239 - mse: 3.3130 - mae: 1.4254\n",
            "Epoch 473/550\n",
            "7/7 [==============================] - 0s 5ms/step - loss: 3.3528 - mse: 3.0420 - mae: 1.3961\n",
            "Epoch 474/550\n",
            "7/7 [==============================] - 0s 6ms/step - loss: 3.3885 - mse: 3.0778 - mae: 1.3952\n",
            "Epoch 475/550\n",
            "7/7 [==============================] - 0s 4ms/step - loss: 3.5385 - mse: 3.2278 - mae: 1.4643\n",
            "Epoch 476/550\n",
            "7/7 [==============================] - 0s 5ms/step - loss: 3.2792 - mse: 2.9686 - mae: 1.3625\n",
            "Epoch 477/550\n",
            "7/7 [==============================] - 0s 4ms/step - loss: 3.5457 - mse: 3.2354 - mae: 1.4216\n",
            "Epoch 478/550\n",
            "7/7 [==============================] - 0s 5ms/step - loss: 3.7654 - mse: 3.4554 - mae: 1.5116\n",
            "Epoch 479/550\n",
            "7/7 [==============================] - 0s 5ms/step - loss: 3.1183 - mse: 2.8085 - mae: 1.3331\n",
            "Epoch 480/550\n",
            "7/7 [==============================] - 0s 4ms/step - loss: 3.4872 - mse: 3.1777 - mae: 1.4431\n",
            "Epoch 481/550\n",
            "7/7 [==============================] - 0s 5ms/step - loss: 3.6679 - mse: 3.3587 - mae: 1.4791\n",
            "Epoch 482/550\n",
            "7/7 [==============================] - 0s 4ms/step - loss: 3.6009 - mse: 3.2920 - mae: 1.4100\n",
            "Epoch 483/550\n",
            "7/7 [==============================] - 0s 5ms/step - loss: 3.4334 - mse: 3.1246 - mae: 1.4088\n",
            "Epoch 484/550\n",
            "7/7 [==============================] - 0s 4ms/step - loss: 3.7947 - mse: 3.4861 - mae: 1.5046\n",
            "Epoch 485/550\n",
            "7/7 [==============================] - 0s 4ms/step - loss: 3.7118 - mse: 3.4035 - mae: 1.4834\n",
            "Epoch 486/550\n",
            "7/7 [==============================] - 0s 4ms/step - loss: 3.4939 - mse: 3.1858 - mae: 1.4114\n",
            "Epoch 487/550\n",
            "7/7 [==============================] - 0s 4ms/step - loss: 3.5540 - mse: 3.2462 - mae: 1.4414\n",
            "Epoch 488/550\n",
            "7/7 [==============================] - 0s 5ms/step - loss: 3.9051 - mse: 3.5974 - mae: 1.4895\n",
            "Epoch 489/550\n",
            "7/7 [==============================] - 0s 4ms/step - loss: 3.2852 - mse: 2.9777 - mae: 1.4068\n",
            "Epoch 490/550\n",
            "7/7 [==============================] - 0s 4ms/step - loss: 3.3329 - mse: 3.0256 - mae: 1.3956\n",
            "Epoch 491/550\n",
            "7/7 [==============================] - 0s 7ms/step - loss: 3.0818 - mse: 2.7747 - mae: 1.3225\n",
            "Epoch 492/550\n",
            "7/7 [==============================] - 0s 4ms/step - loss: 3.6704 - mse: 3.3635 - mae: 1.4873\n",
            "Epoch 493/550\n",
            "7/7 [==============================] - 0s 5ms/step - loss: 3.7857 - mse: 3.4788 - mae: 1.4935\n",
            "Epoch 494/550\n",
            "7/7 [==============================] - 0s 5ms/step - loss: 3.4217 - mse: 3.1149 - mae: 1.4020\n",
            "Epoch 495/550\n",
            "7/7 [==============================] - 0s 4ms/step - loss: 3.1899 - mse: 2.8831 - mae: 1.3647\n",
            "Epoch 496/550\n",
            "7/7 [==============================] - 0s 5ms/step - loss: 3.7354 - mse: 3.4287 - mae: 1.4848\n",
            "Epoch 497/550\n",
            "7/7 [==============================] - 0s 6ms/step - loss: 3.4465 - mse: 3.1398 - mae: 1.4057\n",
            "Epoch 498/550\n",
            "7/7 [==============================] - 0s 5ms/step - loss: 3.4037 - mse: 3.0971 - mae: 1.4183\n",
            "Epoch 499/550\n",
            "7/7 [==============================] - 0s 6ms/step - loss: 3.4698 - mse: 3.1633 - mae: 1.4170\n",
            "Epoch 500/550\n",
            "7/7 [==============================] - 0s 4ms/step - loss: 3.5221 - mse: 3.2158 - mae: 1.3952\n",
            "Epoch 501/550\n",
            "7/7 [==============================] - 0s 4ms/step - loss: 3.9511 - mse: 3.6450 - mae: 1.5166\n",
            "Epoch 502/550\n",
            "7/7 [==============================] - 0s 5ms/step - loss: 3.7081 - mse: 3.4022 - mae: 1.4820\n",
            "Epoch 503/550\n",
            "7/7 [==============================] - 0s 5ms/step - loss: 3.5664 - mse: 3.2608 - mae: 1.4327\n",
            "Epoch 504/550\n",
            "7/7 [==============================] - 0s 5ms/step - loss: 3.3995 - mse: 3.0941 - mae: 1.3786\n",
            "Epoch 505/550\n",
            "7/7 [==============================] - 0s 4ms/step - loss: 3.6114 - mse: 3.3061 - mae: 1.4596\n",
            "Epoch 506/550\n",
            "7/7 [==============================] - 0s 4ms/step - loss: 3.5137 - mse: 3.2087 - mae: 1.4095\n",
            "Epoch 507/550\n",
            "7/7 [==============================] - 0s 4ms/step - loss: 3.6280 - mse: 3.3233 - mae: 1.4260\n",
            "Epoch 508/550\n",
            "7/7 [==============================] - 0s 6ms/step - loss: 3.2297 - mse: 2.9252 - mae: 1.3792\n",
            "Epoch 509/550\n",
            "7/7 [==============================] - 0s 4ms/step - loss: 3.0593 - mse: 2.7550 - mae: 1.3249\n",
            "Epoch 510/550\n",
            "7/7 [==============================] - 0s 4ms/step - loss: 3.8925 - mse: 3.5884 - mae: 1.5273\n",
            "Epoch 511/550\n",
            "7/7 [==============================] - 0s 5ms/step - loss: 3.7249 - mse: 3.4210 - mae: 1.4679\n",
            "Epoch 512/550\n",
            "7/7 [==============================] - 0s 4ms/step - loss: 3.5565 - mse: 3.2527 - mae: 1.4359\n",
            "Epoch 513/550\n",
            "7/7 [==============================] - 0s 5ms/step - loss: 3.4703 - mse: 3.1668 - mae: 1.3896\n",
            "Epoch 514/550\n",
            "7/7 [==============================] - 0s 6ms/step - loss: 3.6988 - mse: 3.3954 - mae: 1.4715\n",
            "Epoch 515/550\n",
            "7/7 [==============================] - 0s 5ms/step - loss: 3.6575 - mse: 3.3541 - mae: 1.4651\n",
            "Epoch 516/550\n",
            "7/7 [==============================] - 0s 5ms/step - loss: 3.3798 - mse: 3.0765 - mae: 1.3902\n",
            "Epoch 517/550\n",
            "7/7 [==============================] - 0s 4ms/step - loss: 3.5136 - mse: 3.2106 - mae: 1.4353\n",
            "Epoch 518/550\n",
            "7/7 [==============================] - 0s 5ms/step - loss: 3.4547 - mse: 3.1520 - mae: 1.4195\n",
            "Epoch 519/550\n",
            "7/7 [==============================] - 0s 4ms/step - loss: 3.4814 - mse: 3.1791 - mae: 1.4408\n",
            "Epoch 520/550\n",
            "7/7 [==============================] - 0s 6ms/step - loss: 3.6050 - mse: 3.3031 - mae: 1.4413\n",
            "Epoch 521/550\n",
            "7/7 [==============================] - 0s 5ms/step - loss: 3.3467 - mse: 3.0451 - mae: 1.4034\n",
            "Epoch 522/550\n",
            "7/7 [==============================] - 0s 4ms/step - loss: 3.4706 - mse: 3.1691 - mae: 1.4207\n",
            "Epoch 523/550\n",
            "7/7 [==============================] - 0s 4ms/step - loss: 3.7905 - mse: 3.4890 - mae: 1.5254\n",
            "Epoch 524/550\n",
            "7/7 [==============================] - 0s 6ms/step - loss: 3.5924 - mse: 3.2909 - mae: 1.4397\n",
            "Epoch 525/550\n",
            "7/7 [==============================] - 0s 4ms/step - loss: 3.4492 - mse: 3.1479 - mae: 1.4374\n",
            "Epoch 526/550\n",
            "7/7 [==============================] - 0s 5ms/step - loss: 3.6438 - mse: 3.3427 - mae: 1.4734\n",
            "Epoch 527/550\n",
            "7/7 [==============================] - 0s 5ms/step - loss: 3.5215 - mse: 3.2207 - mae: 1.4146\n",
            "Epoch 528/550\n",
            "7/7 [==============================] - 0s 4ms/step - loss: 3.4564 - mse: 3.1558 - mae: 1.4051\n",
            "Epoch 529/550\n",
            "7/7 [==============================] - 0s 4ms/step - loss: 3.5097 - mse: 3.2091 - mae: 1.4344\n",
            "Epoch 530/550\n",
            "7/7 [==============================] - 0s 4ms/step - loss: 3.5886 - mse: 3.2880 - mae: 1.4203\n",
            "Epoch 531/550\n",
            "7/7 [==============================] - 0s 6ms/step - loss: 3.3911 - mse: 3.0905 - mae: 1.3981\n",
            "Epoch 532/550\n",
            "7/7 [==============================] - 0s 5ms/step - loss: 3.3339 - mse: 3.0334 - mae: 1.3919\n",
            "Epoch 533/550\n",
            "7/7 [==============================] - 0s 6ms/step - loss: 3.4482 - mse: 3.1478 - mae: 1.4504\n",
            "Epoch 534/550\n",
            "7/7 [==============================] - 0s 5ms/step - loss: 3.5561 - mse: 3.2560 - mae: 1.4542\n",
            "Epoch 535/550\n",
            "7/7 [==============================] - 0s 4ms/step - loss: 3.4969 - mse: 3.1971 - mae: 1.3959\n",
            "Epoch 536/550\n",
            "7/7 [==============================] - 0s 4ms/step - loss: 3.2780 - mse: 2.9784 - mae: 1.3705\n",
            "Epoch 537/550\n",
            "7/7 [==============================] - 0s 7ms/step - loss: 3.4566 - mse: 3.1570 - mae: 1.4279\n",
            "Epoch 538/550\n",
            "7/7 [==============================] - 0s 5ms/step - loss: 3.5357 - mse: 3.2363 - mae: 1.4566\n",
            "Epoch 539/550\n",
            "7/7 [==============================] - 0s 7ms/step - loss: 3.4173 - mse: 3.1181 - mae: 1.4024\n",
            "Epoch 540/550\n",
            "7/7 [==============================] - 0s 5ms/step - loss: 3.7931 - mse: 3.4942 - mae: 1.4816\n",
            "Epoch 541/550\n",
            "7/7 [==============================] - 0s 5ms/step - loss: 3.6218 - mse: 3.3231 - mae: 1.4781\n",
            "Epoch 542/550\n",
            "7/7 [==============================] - 0s 5ms/step - loss: 3.6026 - mse: 3.3041 - mae: 1.4614\n",
            "Epoch 543/550\n",
            "7/7 [==============================] - 0s 5ms/step - loss: 3.2021 - mse: 2.9038 - mae: 1.3706\n",
            "Epoch 544/550\n",
            "7/7 [==============================] - 0s 5ms/step - loss: 3.4829 - mse: 3.1846 - mae: 1.4209\n",
            "Epoch 545/550\n",
            "7/7 [==============================] - 0s 6ms/step - loss: 3.5764 - mse: 3.2783 - mae: 1.4515\n",
            "Epoch 546/550\n",
            "7/7 [==============================] - 0s 4ms/step - loss: 3.9270 - mse: 3.6291 - mae: 1.5398\n",
            "Epoch 547/550\n",
            "7/7 [==============================] - 0s 4ms/step - loss: 3.9150 - mse: 3.6173 - mae: 1.4964\n",
            "Epoch 548/550\n",
            "7/7 [==============================] - 0s 4ms/step - loss: 3.5248 - mse: 3.2273 - mae: 1.4272\n",
            "Epoch 549/550\n",
            "7/7 [==============================] - 0s 4ms/step - loss: 3.8491 - mse: 3.5517 - mae: 1.4920\n",
            "Epoch 550/550\n",
            "7/7 [==============================] - 0s 4ms/step - loss: 3.4370 - mse: 3.1400 - mae: 1.4228\n"
          ],
          "name": "stdout"
        },
        {
          "output_type": "execute_result",
          "data": {
            "text/plain": [
              "<tensorflow.python.keras.callbacks.History at 0x7f558c9d35d0>"
            ]
          },
          "metadata": {
            "tags": []
          },
          "execution_count": 148
        }
      ]
    },
    {
      "cell_type": "code",
      "metadata": {
        "colab": {
          "base_uri": "https://localhost:8080/",
          "height": 302
        },
        "id": "zFBQZ79ontDV",
        "outputId": "6aba0b5f-b53e-4e6e-dc65-8e928f8f9ede"
      },
      "source": [
        "plt.scatter(x_test, model.predict(x_test));"
      ],
      "execution_count": null,
      "outputs": [
        {
          "output_type": "stream",
          "text": [
            "WARNING:tensorflow:6 out of the last 15 calls to <function Model.make_predict_function.<locals>.predict_function at 0x7f5595057f80> triggered tf.function retracing. Tracing is expensive and the excessive number of tracings could be due to (1) creating @tf.function repeatedly in a loop, (2) passing tensors with different shapes, (3) passing Python objects instead of tensors. For (1), please define your @tf.function outside of the loop. For (2), @tf.function has experimental_relax_shapes=True option that relaxes argument shapes that can avoid unnecessary retracing. For (3), please refer to https://www.tensorflow.org/guide/function#controlling_retracing and https://www.tensorflow.org/api_docs/python/tf/function for  more details.\n"
          ],
          "name": "stdout"
        },
        {
          "output_type": "display_data",
          "data": {
            "image/png": "[encoded data removed]",
            "text/plain": [
              "<Figure size 432x288 with 1 Axes>"
            ]
          },
          "metadata": {
            "tags": [],
            "needs_background": "light"
          }
        }
      ]
    },
    {
      "cell_type": "code",
      "metadata": {
        "colab": {
          "base_uri": "https://localhost:8080/",
          "height": 265
        },
        "id": "gOvhyGHvpWKE",
        "outputId": "82876604-6281-4148-a00e-ed75fc1356cc"
      },
      "source": [
        "plt.scatter(x_test, y_test);"
      ],
      "execution_count": null,
      "outputs": [
        {
          "output_type": "display_data",
          "data": {
            "image/png": "[encoded data removed]",
            "text/plain": [
              "<Figure size 432x288 with 1 Axes>"
            ]
          },
          "metadata": {
            "tags": [],
            "needs_background": "light"
          }
        }
      ]
    },
    {
      "cell_type": "code",
      "metadata": {
        "colab": {
          "base_uri": "https://localhost:8080/",
          "height": 422
        },
        "id": "Cpnr9saSvhVk",
        "outputId": "7a2a9e79-5f07-47d2-8895-8a7f448b162d"
      },
      "source": [
        "# Another way to visualize the mode\n",
        "from tensorflow.keras.utils import plot_model, Progbar\n",
        "plot_model(model, show_shapes = True, show_dtype = True, )"
      ],
      "execution_count": null,
      "outputs": [
        {
          "output_type": "execute_result",
          "data": {
            "image/png": "[encoded data removed]",
            "text/plain": [
              "<IPython.core.display.Image object>"
            ]
          },
          "metadata": {
            "tags": []
          },
          "execution_count": 151
        }
      ]
    },
    {
      "cell_type": "markdown",
      "metadata": {
        "id": "gsNbS_Fnx8fk"
      },
      "source": [
        "### Visualizing Model's Predictions"
      ]
    },
    {
      "cell_type": "markdown",
      "metadata": {
        "id": "ToRAMsj8ystn"
      },
      "source": [
        "To visualize predictions, it's a good idea to plot them against the ground truth labels. \n",
        "\n",
        "Often you'll see this in the form of `y_test` or `y_true` versus `y_pred` (ground truth versus our model's predictions). "
      ]
    },
    {
      "cell_type": "code",
      "metadata": {
        "colab": {
          "base_uri": "https://localhost:8080/"
        },
        "id": "j07A0_pmFV9m",
        "outputId": "0d3a8dfa-a9c2-435c-e1b1-8a417e700e09"
      },
      "source": [
        "# Make some predictions\n",
        "y_pred = model.predict(x_test)\n",
        "y_pred.T"
      ],
      "execution_count": null,
      "outputs": [
        {
          "output_type": "execute_result",
          "data": {
            "text/plain": [
              "array([[ 6.018944 ,  6.7575703,  9.205224 ,  9.05406  ,  5.308652 ,\n",
              "         4.626414 ,  6.5623927,  6.5572686,  6.5624437, 23.555267 ,\n",
              "         6.800959 ,  9.477144 ,  8.5488405,  7.153636 ,  4.2891984,\n",
              "         7.6400847,  4.3919516,  4.464624 ,  4.112087 ,  5.288908 ,\n",
              "        15.581341 ,  6.312966 ,  7.309915 ,  5.752566 ,  4.1096497,\n",
              "         9.23577  ,  5.2430296,  4.825238 ,  4.3158793,  7.280054 ,\n",
              "         4.3345203,  5.639849 ,  5.194246 ,  4.2399487, 14.697645 ,\n",
              "         7.0753274,  6.6604266,  5.5616107,  4.2506666,  8.07337  ,\n",
              "         4.4199386,  4.776226 ,  6.521178 ,  8.135127 ,  4.9993825,\n",
              "         4.2538857,  4.1091623,  4.241768 , 12.738414 ,  6.1540365]],\n",
              "      dtype=float32)"
            ]
          },
          "metadata": {
            "tags": []
          },
          "execution_count": 155
        }
      ]
    },
    {
      "cell_type": "code",
      "metadata": {
        "id": "BxHD2vYSFn7p"
      },
      "source": [
        "def plot_predictions(train_data, train_labels, test_data, test_labels, predictions):\n",
        "  \"\"\"\n",
        "  Plots training data, test data and compares predictions to ground truth labels.\n",
        "  \"\"\"\n",
        "  plt.figure(figsize = (10, 7))\n",
        "  # Plot training data in blue\n",
        "  plt.scatter(train_data, train_labels, c = 'b', label = 'Train data')\n",
        "  # Plot test data in green\n",
        "  plt.scatter(test_data, test_labels, c = 'g', label = 'Test data')\n",
        "  # Plot model's predictions\n",
        "  plt.scatter(test_data, predictions, c = 'r', label = 'Predictions')\n",
        "  # show the legend\n",
        "  plt.legend()\n",
        "  return plt"
      ],
      "execution_count": null,
      "outputs": []
    },
    {
      "cell_type": "code",
      "metadata": {
        "colab": {
          "base_uri": "https://localhost:8080/",
          "height": 428
        },
        "id": "-kojgwQoG2-Z",
        "outputId": "9a743d55-0a7d-4449-ee6f-0b98f0931bd8"
      },
      "source": [
        "plot_predictions(x_train, y_train, x_test, y_test, y_pred);"
      ],
      "execution_count": null,
      "outputs": [
        {
          "output_type": "display_data",
          "data": {
            "image/png": "[encoded data removed]",
            "text/plain": [
              "<Figure size 720x504 with 1 Axes>"
            ]
          },
          "metadata": {
            "tags": [],
            "needs_background": "light"
          }
        }
      ]
    },
    {
      "cell_type": "markdown",
      "metadata": {
        "id": "cLOZqq7CG7Vn"
      },
      "source": [
        "### Evaluating the Model with Evaluation Metrics"
      ]
    },
    {
      "cell_type": "markdown",
      "metadata": {
        "id": "6ipaQfBoHhfn"
      },
      "source": [
        "Depending on the problem we are working on, there will be different evaluation metrics to evaluate the model's performance.\n",
        "\n",
        "In the regression problems, three most frequently used metrics are:\n",
        "\n",
        "\n",
        "*   Mean Absolute Error (MAE)\n",
        "*   Mean Squared Error (MSE)\n",
        "*   Huber (combination of MAE and MSE; less sensitive to outliers)\n",
        "  *  Huber approaches MSE when $\\delta$ aproaches 0, while it approaches MAE when $\\delta\\$ approaches infinity \n",
        "\n",
        "\n",
        "The MAE is given by:\n",
        "\n",
        "$$\n",
        "\\begin{aligned}\n",
        "MAE = \\frac{1}{N}\\sum_{i = 1}^{N}|y_{i} - \\hat{y_{i}}|\n",
        "\\end{aligned}\n",
        "$$\n",
        "\n",
        "The MSE is given by:\n",
        "\n",
        "$$\n",
        "\\begin{aligned}\n",
        "MSE = \\frac{1}{N}\\sum_{i = 1}^{N}(y_{i} - \\hat{y_{i}})^{2}\n",
        "\\end{aligned}\n",
        "$$\n",
        "\n",
        "The Huber is given by:\n",
        "\n",
        "$$\n",
        "\\begin{equation}\n",
        "    L_{\\delta}(y, f(x)) =\n",
        "    \\left\\{\n",
        "        \\begin{array}{cc}\n",
        "                \\frac{1}{2}(y - f(x))^2 & \\mathrm{if\\ } |y - f(X)| \\le \\delta \\\\\n",
        "                \\delta|y - f(x)|-\\frac{1}{2}\\delta^2 & \\mathrm{otherwise\\ } \\\\\n",
        "        \\end{array} \n",
        "    \\right.\n",
        "\\end{equation}\n",
        "$$\n",
        "<br>\n",
        "MAE in TF is represented by `tf.keras.losses.MAE()` or `tf.metrics.mean_absolute_error()`. MSE is represented by `tf.keras.losses.MSE()` or `tf.metrics.mean_squared_error()`. Huber is represented by `tf.keras.losses.huber()`.\n"
      ]
    },
    {
      "cell_type": "code",
      "metadata": {
        "colab": {
          "base_uri": "https://localhost:8080/"
        },
        "id": "z6FlhlfmJEhP",
        "outputId": "f9092f81-8236-4c69-8ca6-4443aa4eb1fd"
      },
      "source": [
        "# Evaluate the model on the test set the quick way\n",
        "model.evaluate(x_test, y_test)"
      ],
      "execution_count": null,
      "outputs": [
        {
          "output_type": "stream",
          "text": [
            "2/2 [==============================] - 0s 9ms/step - loss: 4.9634 - mse: 4.6664 - mae: 1.6783\n"
          ],
          "name": "stdout"
        },
        {
          "output_type": "execute_result",
          "data": {
            "text/plain": [
              "[4.963352203369141, 4.666411399841309, 1.6782803535461426]"
            ]
          },
          "metadata": {
            "tags": []
          },
          "execution_count": 163
        }
      ]
    },
    {
      "cell_type": "code",
      "metadata": {
        "colab": {
          "base_uri": "https://localhost:8080/"
        },
        "id": "F8jP8jaFLbDs",
        "outputId": "1dac25b6-2323-467c-95c9-eabd8fb5cc0a"
      },
      "source": [
        "model_mae = tf.keras.losses.MAE(y_test, tf.squeeze(y_pred)) # you need to squeeze the predictions because of the dimensions problem\n",
        "model_mse = tf.keras.losses.MSE(y_test, tf.squeeze(y_pred))\n",
        "model_huber = tf.keras.losses.huber(y_test, tf.squeeze(y_pred), delta = 1.0)\n",
        "\n",
        "for i in [model_mae, model_mse, model_huber]:\n",
        "  print(i)\n",
        "  print(i.numpy())\n",
        "  print('--------')"
      ],
      "execution_count": null,
      "outputs": [
        {
          "output_type": "stream",
          "text": [
            "tf.Tensor(1.6782802, shape=(), dtype=float32)\n",
            "1.6782802\n",
            "--------\n",
            "tf.Tensor(4.6664114, shape=(), dtype=float32)\n",
            "4.6664114\n",
            "--------\n",
            "tf.Tensor(1.2569238, shape=(), dtype=float32)\n",
            "1.2569238\n",
            "--------\n"
          ],
          "name": "stdout"
        }
      ]
    },
    {
      "cell_type": "markdown",
      "metadata": {
        "id": "F_90o9UZNOmV"
      },
      "source": [
        "### Experimenting with the Model"
      ]
    },
    {
      "cell_type": "code",
      "metadata": {
        "id": "ZVJiibXRijHg"
      },
      "source": [
        ""
      ],
      "execution_count": null,
      "outputs": []
    },
    {
      "cell_type": "code",
      "metadata": {
        "id": "F3SMpmT0inva"
      },
      "source": [
        ""
      ],
      "execution_count": null,
      "outputs": []
    }
  ]
}