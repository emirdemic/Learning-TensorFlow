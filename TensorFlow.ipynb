{
  "nbformat": 4,
  "nbformat_minor": 0,
  "metadata": {
    "colab": {
      "name": "TensorFlow.ipynb",
      "provenance": [],
      "collapsed_sections": [
        "FpAFduYWbqjH"
      ],
      "toc_visible": true,
      "authorship_tag": "ABX9TyNw4DQvqpwz3fe2+oNLcHsc",
      "include_colab_link": true
    },
    "kernelspec": {
      "name": "python3",
      "display_name": "Python 3"
    },
    "language_info": {
      "name": "python"
    }
  },
  "cells": [
    {
      "cell_type": "markdown",
      "metadata": {
        "id": "view-in-github",
        "colab_type": "text"
      },
      "source": [
        "<a href=\"https://colab.research.google.com/github/emirdemic/Learning-TensorFlow/blob/main/TensorFlow.ipynb\" target=\"_parent\"><img src=\"https://colab.research.google.com/assets/colab-badge.svg\" alt=\"Open In Colab\"/></a>"
      ]
    },
    {
      "cell_type": "markdown",
      "metadata": {
        "id": "LW4TltI3ZTTk"
      },
      "source": [
        "# **TensorFlow Tutorial**\n",
        "\n",
        "\n",
        "\n",
        "This notebook contains practices and notes from Daniel Bourke's 14 hours long tutorial on TensorFlow 2.0. This notebook is separated into different parts in accordance to how Daniel's video is split. \n",
        "\n",
        "Note that this notebook also contains some trivial theory and/or code, but I've decided to insert that as well since I wanted the notebook to be as representative of the tutorial as possible.\n",
        "\n",
        "If you want to run some chunk of code, please run all the code included in that section.\n",
        "\n",
        "\n",
        "---\n",
        "\n",
        "\n",
        "\n",
        "\n"
      ]
    },
    {
      "cell_type": "markdown",
      "metadata": {
        "id": "W__oxrb8cS1_"
      },
      "source": [
        "## Introduction to DL"
      ]
    },
    {
      "cell_type": "markdown",
      "metadata": {
        "id": "-Adb-jnSaES1"
      },
      "source": [
        "### Deap Learning\n",
        "\n",
        "\n",
        "Deep learning is a type of machine learning based on artificial neural networks in which multiple layers of processing are used to extract progressively higher level features from data. \n",
        "\n",
        "So what is the difference between a traditional programming and machine learning programmings? In a traditional programming, we have some inputs, then we establish some rules in order to get the output. However, in machine learning, we start with inputs and the ideal outputs and then we try to find some rules between inputs and outputs. How do we find those rules? Well, we use machine learning algorithms such as linear regression, logistic regression, SVM, etc. "
      ]
    },
    {
      "cell_type": "markdown",
      "metadata": {
        "id": "FpAFduYWbqjH"
      },
      "source": [
        "### Why Should We Use Deep learning?\n",
        "\n",
        "For complex problems, thinking about all the rules is nearly impossible. Furthermore, when we take into account that those rule might change in different situations, it becomes impossible to solve some problems using traditional programming paradigms. However, if we can build a simple rule-based system that doesn't require deep learning, then don't use deep learning. If a problem is completely deterministic with a finite set of rules, deep learning is a over-kill or could even underperform in comparison to a traditional programming paradigm. \n",
        "\n",
        "Deep learning is useful when we have problems with long lists of rules, when we are continually chaning environments, or when we want to discover insights within large collections of data.\n",
        "\n",
        "In which situations *deep learning* is typically not that good for? The first one is when we need explainability of our model. Futhermore, deep learning is probably not a best option when the traditional approach is a better option, when errors are unacceptable, or when we don't have much data. \n",
        "<br></br>\n",
        "So, when to use traditional ML algorithms and when to use DL algorithms? Traditional ML algorithms are often the best choice for structured data, while DL algorithms often outperform traditional ML algorithms on unstructured data (pictures, videos, sentences, etc.). "
      ]
    },
    {
      "cell_type": "markdown",
      "metadata": {
        "id": "E6wFK_L7rWDC"
      },
      "source": [
        "### What are Neural Networks?\n",
        "\n"
      ]
    },
    {
      "cell_type": "markdown",
      "metadata": {
        "id": "-PYKDD9-jsfc"
      },
      "source": [
        "A neural network is a network or circuit of neurons, or in a modern sense, an artificial neural network composed of artificial neurons or nodes. \n",
        "<br></br>\n",
        "\n",
        "<div style=\"text-align:center\"><img src=\"https://www.nicepng.com/png/detail/880-8805864_neural-networks-are-a-set-of-algorithms-which.png\" /></div>\n",
        "\n",
        "\n",
        "In the picture above, the first column represent the input data, while the last column represent the output. Everything in between those columns are *hideen layers*. Each node in a hidden layer is an activation of combination of nodes in the previous layer. \n",
        "\n",
        "What does that mean? Let's say that in this example, we have four input variables. All those four input variables are combined in order to get the first node of the first hidden layer, as well as the second, third and fourth node of the first hidden layer.\n",
        "\n",
        "How do we combine nodes from the previous layer? We use a simple linear combination. For example, the linear combination for the first node in the first hidden layer is given by:\n",
        "\n",
        "$$\n",
        "\\begin{aligned}\n",
        "z_{1}^{[1]} = w_{1}^{[1]T}x + b_{1}^{[1]}\n",
        "\\end{aligned}\n",
        "$$\n",
        "\n",
        "where $w_{1}^{[1]T}$ is the vector with adequate weights, $x$ are features from the previous layer, and $b_{1}^{[1]}$ is the bias for that node. In this notation, subscripts refer to the specific node, while the superscripts refer to the specific hidden layer. After we get the linear combination, we need to have some kind of *activation function* in order to approximate more complicated function. If we do not apply some activation function, our neural network will always approcimate linear functions regardless of the number of hidden layers.\n",
        "\n",
        "Some popular choices for activation functions are sigmoid function, hyperbolic tangent function, rectified lienar unit (ReLU), and leaky rectified linear unit (LReLU):\n",
        "\n",
        "$$\n",
        "\\begin{aligned}\n",
        "sigmoid = \\frac{1}{1 + e^{-z}}\n",
        "\\end{aligned}\n",
        "$$\n",
        "<br>\n",
        "$$\n",
        "\\begin{aligned}\n",
        "hyperbolic = \\frac{e^z - e^{-z}}{e^z + e^{-z}}\n",
        "\\end{aligned}\n",
        "$$\n",
        "<br>\n",
        "$$\n",
        "\\begin{aligned}\n",
        "ReLU = max(0, z)\n",
        "\\end{aligned}\n",
        "$$\n",
        "<br>\n",
        "$$\n",
        "\\begin{aligned}\n",
        "LReLU = max(0.01 * z, z)\n",
        "\\end{aligned}\n",
        "$$\n",
        "<br>\n",
        "After we choose a specific activation function, all that we need to do for the specific node of the specific hidden layer is to calculate:\n",
        "\n",
        "$$\n",
        "\\begin{aligned}\n",
        "a_{1}^{[1]} = g(z)\n",
        "\\end{aligned}\n",
        "$$\n",
        "\n",
        "where *g* is the activation function. After that, we do the same calculation for each node of the first hidden layer and we get the activation of the first hidden layer. Now, combinations of activations of the first hidden layers are inputs for the second layer, and so on until we get to the final layer - the output layer.\n",
        "\n",
        "Having that in mind, the first thing that we would be tempted to do is to create a `for loop` in order to calculate the activations of the first hidden layer. However, that would be computationally inefficient since we can combine all nodes of one hidden layer, weights, and biases into a matrix representation which significantly speeds up our process. In this case, the activation of one *whole* hidden layer $l$ is given by:\n",
        "\n",
        "\n",
        "$$\n",
        "\\begin{aligned}\n",
        "A^{[l]} = g(W^{[l]}A^{l-1} + b^{[l]})\n",
        "\\end{aligned}\n",
        "$$\n",
        "\n",
        "where superscript $l$ refers to the specific hidden layer, and $A^{l-1}$ are the activations from the previous layer. This means that we have only one computation per one hidden layer, instead of $n$ computations, where $n$ is the number of nodes in a hidden layer. \n",
        "\n",
        "In order to train a neural network, we firstly initiate some random values for $W^{[l]}$ and $b^{[l]}$, and go through the first step of *forward propagation*, until we come to the final output. This means that we will go through the process of calcualting the activation of each hidden layer with some randomly intitiated numbers until we come to the output, i.e. until we produce some numbers as the output. Since (in supervised learning) our data already has the correct output values, we can compare the predictions of our neural network with the correct output values and determine how bad is our neural network. We formalize how bad the neural network is by defining a *loss function* which entirely depends on the nature of the problem. For example, if our output is a binary variable, then we model output with Bernoulli distribution and apply Maximum Likelihood Estimation which gives us:\n",
        "\n",
        "$$\n",
        "\\begin{aligned}\n",
        "L(\\hat{y}, y) = -(ylog\\hat{y} + (1-y)log(1-\\hat{y}))\n",
        "\\end{aligned}\n",
        "$$\n",
        "\n",
        "Now we have a way to formalize the error of our neural network. Now, in order to improve our neural network, we would apply a *gradient descent algorithm* which changes weights and biases so that the loss function is smaller. The gradient descent algorithm is not that complicated, although it is really elegant. However, I am not going to show it here."
      ]
    },
    {
      "cell_type": "markdown",
      "metadata": {
        "id": "g2tF-H0muVj2"
      },
      "source": [
        "### What is DL Actually Used For?"
      ]
    },
    {
      "cell_type": "markdown",
      "metadata": {
        "id": "Y-jfcQfouYYQ"
      },
      "source": [
        "Let's take a look at some common deep learning use cases. \n",
        "Some of them are recommendation systems, language translations, computer vision, speech recognition, natural language processing, etc. Language translation and speech recognition are oftern referred to as *sequence to sequence* problems. "
      ]
    },
    {
      "cell_type": "markdown",
      "metadata": {
        "id": "qxKH1ol7wlZE"
      },
      "source": [
        "## Introduction to TensorFlow"
      ]
    },
    {
      "cell_type": "markdown",
      "metadata": {
        "id": "8t4iK2m5wrOo"
      },
      "source": [
        "### What is TensorFlow? What are Tensors?"
      ]
    },
    {
      "cell_type": "markdown",
      "metadata": {
        "id": "igzewRtRw8Z4"
      },
      "source": [
        "TensorFlow (TF) is end-to-end platform for machine learning. We can write fast deep learning code in Python and run it on GPU. With TF we are also able to access many pre-built deep learning models. Furthermore, it offers a whole stack: preprocessing data, model data, and deploy the model in your application. In the end, TF was originally designed and used in-house by Google and is now open-source. \n",
        "<br></br>\n",
        "What exactly is a tensor? In mathematics, a tensor is an algebraic object that describes a relationship between sets of algebraic objects related to a vector space. Objects that tensors may map between include vectors and scalars, and even other tensors. "
      ]
    },
    {
      "cell_type": "markdown",
      "metadata": {
        "id": "85ZeSrbo0qT-"
      },
      "source": [
        "A TF workflow typically includes:\n",
        "\n",
        "\n",
        "1.   Getting data ready\n",
        "2.   Building or picking a pretrained model\n",
        "3.   Fitting the model to the data and making predictions\n",
        "4.   Evaluating the model\n",
        "5.   Improving the model through the experimentation\n",
        "6.   Saving and reloading trained models \n",
        "\n"
      ]
    },
    {
      "cell_type": "markdown",
      "metadata": {
        "id": "HJyI4vxC1CRk"
      },
      "source": [
        "## Tensors in TensorFlow"
      ]
    },
    {
      "cell_type": "markdown",
      "metadata": {
        "id": "aRNzDzru2VTl"
      },
      "source": [
        "In this part, we are going to cover some of the most fundamental concepts of tensors using TensorFlow. \n",
        "\n",
        "More specifically, this part will cover:\n",
        "* Introduction to tensors\n",
        "* Getting information from tensors\n",
        "* Maniuplating tensors\n",
        "* Tensors and NumPy\n",
        "* Using @tf.function\n",
        "* Using GPUs with TensorFlow (or TPUs)\n",
        "* A few exercises"
      ]
    },
    {
      "cell_type": "markdown",
      "metadata": {
        "id": "OExcAoxQ2gdY"
      },
      "source": [
        "### Introduction to Tensors"
      ]
    },
    {
      "cell_type": "code",
      "metadata": {
        "colab": {
          "base_uri": "https://localhost:8080/"
        },
        "id": "xNUS_rEy3QxP",
        "outputId": "6eae24c9-ee22-4224-97b3-bdc7162add54"
      },
      "source": [
        "# Import TensorFlow\n",
        "import tensorflow as tf \n",
        "import numpy as np\n",
        "print(tf.__version__)"
      ],
      "execution_count": null,
      "outputs": [
        {
          "output_type": "stream",
          "text": [
            "2.4.1\n"
          ],
          "name": "stdout"
        }
      ]
    },
    {
      "cell_type": "code",
      "metadata": {
        "colab": {
          "base_uri": "https://localhost:8080/"
        },
        "id": "A6n-6vr93h93",
        "outputId": "51e0d139-837f-4ed9-d85d-8af49fb8e04b"
      },
      "source": [
        "# Create tensor with tf.constant()\n",
        "scalar = tf.constant(7)\n",
        "print(scalar)"
      ],
      "execution_count": null,
      "outputs": [
        {
          "output_type": "stream",
          "text": [
            "tf.Tensor(7, shape=(), dtype=int32)\n"
          ],
          "name": "stdout"
        }
      ]
    },
    {
      "cell_type": "code",
      "metadata": {
        "colab": {
          "base_uri": "https://localhost:8080/"
        },
        "id": "dVhscXJo3ykn",
        "outputId": "f35a71fe-ac66-419a-b654-ec81b028da09"
      },
      "source": [
        "# Check the number of dimensions of a tensor\n",
        "print(\"Dimensions of scalar:\\n\", scalar.ndim)"
      ],
      "execution_count": null,
      "outputs": [
        {
          "output_type": "stream",
          "text": [
            "Dimensions of scalar:\n",
            " 0\n"
          ],
          "name": "stdout"
        }
      ]
    },
    {
      "cell_type": "code",
      "metadata": {
        "colab": {
          "base_uri": "https://localhost:8080/"
        },
        "id": "NyksXL134R-e",
        "outputId": "0a6baeea-1aae-4c82-8edf-c7bb7a41fabb"
      },
      "source": [
        "# Create a vector\n",
        "vector = tf.constant([1, 2, 3, 4, 5])\n",
        "print(\"Vector:\\n\", vector)\n",
        "print(\"\\nDimensions:\\n\", vector.ndim)"
      ],
      "execution_count": null,
      "outputs": [
        {
          "output_type": "stream",
          "text": [
            "Vector:\n",
            " tf.Tensor([1 2 3 4 5], shape=(5,), dtype=int32)\n",
            "\n",
            "Dimensions:\n",
            " 1\n"
          ],
          "name": "stdout"
        }
      ]
    },
    {
      "cell_type": "code",
      "metadata": {
        "colab": {
          "base_uri": "https://localhost:8080/"
        },
        "id": "cs-f20YG4fQH",
        "outputId": "93e50b11-00d4-4551-f911-a509ac678123"
      },
      "source": [
        "# Create a matrix\n",
        "matrix = tf.constant([\n",
        "                      [1, 2, 3, 4, 5], \n",
        "                      [3, 4, 5, 6, 7]\n",
        "                      ]\n",
        "                     )\n",
        "print(\"Matrix:\\n\", matrix)\n",
        "print(\"\\nDimensions:\\n\", matrix.ndim)"
      ],
      "execution_count": null,
      "outputs": [
        {
          "output_type": "stream",
          "text": [
            "Matrix:\n",
            " tf.Tensor(\n",
            "[[1 2 3 4 5]\n",
            " [3 4 5 6 7]], shape=(2, 5), dtype=int32)\n",
            "\n",
            "Dimensions:\n",
            " 2\n"
          ],
          "name": "stdout"
        }
      ]
    },
    {
      "cell_type": "code",
      "metadata": {
        "colab": {
          "base_uri": "https://localhost:8080/"
        },
        "id": "KFtNTPYL4zXY",
        "outputId": "0184ccbd-6fa5-4870-8c71-c1d8cb4934b6"
      },
      "source": [
        "# Let's formally use args of tf.constant()\n",
        "matrix1 = tf.constant(value = [[1, 2, 3, 4], [2, 2, 2, 2]], dtype = tf.float16)\n",
        "print(\"Matrix:\\n\", matrix1)\n",
        "print(\"\\nDimensions:\\n\", matrix1.ndim)\n",
        "print(\"\\nType:\\n\", matrix1.dtype)\n",
        "print(\"\\nShape:\\n\", matrix1.shape)"
      ],
      "execution_count": null,
      "outputs": [
        {
          "output_type": "stream",
          "text": [
            "Matrix:\n",
            " tf.Tensor(\n",
            "[[1. 2. 3. 4.]\n",
            " [2. 2. 2. 2.]], shape=(2, 4), dtype=float16)\n",
            "\n",
            "Dimensions:\n",
            " 2\n",
            "\n",
            "Type:\n",
            " <dtype: 'float16'>\n",
            "\n",
            "Shape:\n",
            " (2, 4)\n"
          ],
          "name": "stdout"
        }
      ]
    },
    {
      "cell_type": "code",
      "metadata": {
        "colab": {
          "base_uri": "https://localhost:8080/"
        },
        "id": "AjTaG5yK5dJk",
        "outputId": "b261ebb4-6c1c-4b67-b045-4bf84ade0987"
      },
      "source": [
        "tensor = tf.constant([[\n",
        "                       [1, 2, 3], \n",
        "                       [4, 5, 6]], \n",
        "                      [[7, 8, 9], \n",
        "                       [10, 11, 12]],\n",
        "                      [[13, 14, 15], \n",
        "                       [16, 17, 18]]] ,dtype = tf.float16)\n",
        "print(\"Tensor:\\n\", tensor)\n",
        "print(\"\\nDimensions:\\n\", tensor.ndim)\n",
        "print(\"\\nShape:\\n\", tensor.shape)"
      ],
      "execution_count": null,
      "outputs": [
        {
          "output_type": "stream",
          "text": [
            "Tensor:\n",
            " tf.Tensor(\n",
            "[[[ 1.  2.  3.]\n",
            "  [ 4.  5.  6.]]\n",
            "\n",
            " [[ 7.  8.  9.]\n",
            "  [10. 11. 12.]]\n",
            "\n",
            " [[13. 14. 15.]\n",
            "  [16. 17. 18.]]], shape=(3, 2, 3), dtype=float16)\n",
            "\n",
            "Dimensions:\n",
            " 3\n",
            "\n",
            "Shape:\n",
            " (3, 2, 3)\n"
          ],
          "name": "stdout"
        }
      ]
    },
    {
      "cell_type": "markdown",
      "metadata": {
        "id": "UV_H-Eme6Tos"
      },
      "source": [
        "What have we created so far?\n",
        "* Scalar: a single number\n",
        "* Vector: a number with direction\n",
        "* Matrix: a 2-dimensional array of numbers\n",
        "* Tensor: an n-dimensional array of numbers (where $n\\ge 0$)"
      ]
    },
    {
      "cell_type": "markdown",
      "metadata": {
        "id": "0W6brOEW75YQ"
      },
      "source": [
        "### Creating Tensors with tf.Variable()"
      ]
    },
    {
      "cell_type": "code",
      "metadata": {
        "colab": {
          "base_uri": "https://localhost:8080/"
        },
        "id": "HMJZYWbg7mLu",
        "outputId": "3b2b1816-bbb6-4561-9b9f-9bbda10d2933"
      },
      "source": [
        "# So far, we have created tensors with tf.constant(), but we can do it with tf.Variable() as well\n",
        "# The difference between tf.Variable() and tf.constant() is that tf.Variable() creates a changeable tensor\n",
        "changeable_tensor = tf.Variable([10, 7])\n",
        "unchangeable_tensor = tf.constant([10, 7])\n",
        "print(changeable_tensor)\n",
        "print(unchangeable_tensor)"
      ],
      "execution_count": null,
      "outputs": [
        {
          "output_type": "stream",
          "text": [
            "<tf.Variable 'Variable:0' shape=(2,) dtype=int32, numpy=array([10,  7], dtype=int32)>\n",
            "tf.Tensor([10  7], shape=(2,), dtype=int32)\n"
          ],
          "name": "stdout"
        }
      ]
    },
    {
      "cell_type": "code",
      "metadata": {
        "colab": {
          "base_uri": "https://localhost:8080/"
        },
        "id": "n03IcMA_8bVA",
        "outputId": "7d9573c6-29ef-4a39-96b7-d183d0415a17"
      },
      "source": [
        "# Try to change one of the elements in our changeable tensor\n",
        "try:\n",
        "  changeable_tensor[0].assign(99)\n",
        "  print('Changing value was successful')\n",
        "  print(changeable_tensor)\n",
        "except:\n",
        "  print('Changing value was not succesful')"
      ],
      "execution_count": null,
      "outputs": [
        {
          "output_type": "stream",
          "text": [
            "Changing value was successful\n",
            "<tf.Variable 'Variable:0' shape=(2,) dtype=int32, numpy=array([99,  7], dtype=int32)>\n"
          ],
          "name": "stdout"
        }
      ]
    },
    {
      "cell_type": "code",
      "metadata": {
        "colab": {
          "base_uri": "https://localhost:8080/"
        },
        "id": "YzhZncCz8yj-",
        "outputId": "40dc0669-3908-4321-dd28-448babb24655"
      },
      "source": [
        "# Now let's try to change value in unchangeable tensor\n",
        "try:\n",
        "  unchangeable_tensor[0].assign(99)\n",
        "  print('Changing value was successful')\n",
        "  print(unchangeable_tensor)\n",
        "except Exception as e:\n",
        "  print('Changing value was not succesful')\n",
        "  print(e)"
      ],
      "execution_count": null,
      "outputs": [
        {
          "output_type": "stream",
          "text": [
            "Changing value was not succesful\n",
            "'tensorflow.python.framework.ops.EagerTensor' object has no attribute 'assign'\n"
          ],
          "name": "stdout"
        }
      ]
    },
    {
      "cell_type": "markdown",
      "metadata": {
        "id": "aj9eRs8W9Yln"
      },
      "source": [
        "### Creating Random Tensors "
      ]
    },
    {
      "cell_type": "markdown",
      "metadata": {
        "id": "AR_CFLtX9CYl"
      },
      "source": [
        "Random tensors are tensors of some arbitrary size which contain random numbers. We need random tensors when initializing weights and biasis in neural networks (or, more generally, in any other machine learning algorithm which requires some beginning random numbers). "
      ]
    },
    {
      "cell_type": "code",
      "metadata": {
        "colab": {
          "base_uri": "https://localhost:8080/"
        },
        "id": "IZN-0uMV3dvR",
        "outputId": "b344be93-ffef-4c06-9618-40f27aa8955b"
      },
      "source": [
        "# Let's create two random (but same) tensors\n",
        "random1 = tf.random.Generator.from_seed(42) # set seed for reproducibility\n",
        "random1 = random1.normal(shape = (3, 2))\n",
        "print(random1)"
      ],
      "execution_count": null,
      "outputs": [
        {
          "output_type": "stream",
          "text": [
            "tf.Tensor(\n",
            "[[-0.7565803  -0.06854702]\n",
            " [ 0.07595026 -1.2573844 ]\n",
            " [-0.23193763 -1.8107855 ]], shape=(3, 2), dtype=float32)\n"
          ],
          "name": "stdout"
        }
      ]
    },
    {
      "cell_type": "code",
      "metadata": {
        "colab": {
          "base_uri": "https://localhost:8080/"
        },
        "id": "hjuQkEeW5oox",
        "outputId": "e389a1e2-f2bb-47a4-b38f-4b93a785fe4a"
      },
      "source": [
        "random_2 = tf.random.Generator.from_seed(41)\n",
        "random_2 = random_2.normal(shape = (3, 2))\n",
        "print(random_2)"
      ],
      "execution_count": null,
      "outputs": [
        {
          "output_type": "stream",
          "text": [
            "tf.Tensor(\n",
            "[[ 0.31662667 -1.4391748 ]\n",
            " [ 0.58923835 -1.4268045 ]\n",
            " [-0.7565803  -0.06854702]], shape=(3, 2), dtype=float32)\n"
          ],
          "name": "stdout"
        }
      ]
    },
    {
      "cell_type": "code",
      "metadata": {
        "colab": {
          "base_uri": "https://localhost:8080/"
        },
        "id": "VMJeERMJ6GUX",
        "outputId": "a3cd6c2e-f306-4162-f8de-500a1d1c4b9d"
      },
      "source": [
        "# Are they equal?\n",
        "print(random1 == random_2)"
      ],
      "execution_count": null,
      "outputs": [
        {
          "output_type": "stream",
          "text": [
            "tf.Tensor(\n",
            "[[False False]\n",
            " [False False]\n",
            " [False False]], shape=(3, 2), dtype=bool)\n"
          ],
          "name": "stdout"
        }
      ]
    },
    {
      "cell_type": "code",
      "metadata": {
        "colab": {
          "base_uri": "https://localhost:8080/"
        },
        "id": "bfF9zjcs6cKW",
        "outputId": "43f0a185-df9c-4051-d3db-ea4dc7bb595f"
      },
      "source": [
        "# What if we want to shuffle the order of rows?\n",
        "tf.random.set_seed(42) # setting a general? seed\n",
        "print(tf.random.shuffle(random1)) # It doesn't shuffle inplace, you have to assign to a variable\n",
        "print(\"\\n\", random1)"
      ],
      "execution_count": null,
      "outputs": [
        {
          "output_type": "stream",
          "text": [
            "tf.Tensor(\n",
            "[[ 0.07595026 -1.2573844 ]\n",
            " [-0.23193763 -1.8107855 ]\n",
            " [-0.7565803  -0.06854702]], shape=(3, 2), dtype=float32)\n",
            "\n",
            " tf.Tensor(\n",
            "[[-0.7565803  -0.06854702]\n",
            " [ 0.07595026 -1.2573844 ]\n",
            " [-0.23193763 -1.8107855 ]], shape=(3, 2), dtype=float32)\n"
          ],
          "name": "stdout"
        }
      ]
    },
    {
      "cell_type": "code",
      "metadata": {
        "colab": {
          "base_uri": "https://localhost:8080/"
        },
        "id": "X94BXpnJ6vcu",
        "outputId": "02f4106b-7e25-4603-dc34-6663d6b5e5ff"
      },
      "source": [
        "# Creating a transpose of a tensor\n",
        "print(tf.transpose(random1))"
      ],
      "execution_count": null,
      "outputs": [
        {
          "output_type": "stream",
          "text": [
            "tf.Tensor(\n",
            "[[-0.7565803   0.07595026 -0.23193763]\n",
            " [-0.06854702 -1.2573844  -1.8107855 ]], shape=(2, 3), dtype=float32)\n"
          ],
          "name": "stdout"
        }
      ]
    },
    {
      "cell_type": "markdown",
      "metadata": {
        "id": "AhYKDTPx_V9i"
      },
      "source": [
        "### Other Ways to Create Tensors"
      ]
    },
    {
      "cell_type": "code",
      "metadata": {
        "colab": {
          "base_uri": "https://localhost:8080/"
        },
        "id": "6SL5rwbf_c1K",
        "outputId": "e4053a5b-dc3e-42e6-f4cd-87ed00a830a4"
      },
      "source": [
        "np_x = np.random.normal(size = (5, 5))\n",
        "print(np_x)"
      ],
      "execution_count": null,
      "outputs": [
        {
          "output_type": "stream",
          "text": [
            "[[ 0.61376625  0.17567101 -0.37463976 -0.57743222 -1.25069587]\n",
            " [-0.76320526  1.50980614 -1.25074362 -0.33863673  0.40279063]\n",
            " [-0.5509734   0.39784563 -1.95222535 -1.28737578 -0.20740423]\n",
            " [-0.56241199  1.31378423  0.91515086  0.07982129  1.28257355]\n",
            " [ 0.58298645  0.82893871  0.04984181 -1.62783812 -1.41289967]]\n"
          ],
          "name": "stdout"
        }
      ]
    },
    {
      "cell_type": "code",
      "metadata": {
        "colab": {
          "base_uri": "https://localhost:8080/"
        },
        "id": "WLH34KxX_ic6",
        "outputId": "3effcc26-5be8-496d-bd1c-059a2b16c2dd"
      },
      "source": [
        "tensor_np = tf.convert_to_tensor(np_x)\n",
        "print(tensor_np)"
      ],
      "execution_count": null,
      "outputs": [
        {
          "output_type": "stream",
          "text": [
            "tf.Tensor(\n",
            "[[ 0.61376625  0.17567101 -0.37463976 -0.57743222 -1.25069587]\n",
            " [-0.76320526  1.50980614 -1.25074362 -0.33863673  0.40279063]\n",
            " [-0.5509734   0.39784563 -1.95222535 -1.28737578 -0.20740423]\n",
            " [-0.56241199  1.31378423  0.91515086  0.07982129  1.28257355]\n",
            " [ 0.58298645  0.82893871  0.04984181 -1.62783812 -1.41289967]], shape=(5, 5), dtype=float64)\n"
          ],
          "name": "stdout"
        }
      ]
    },
    {
      "cell_type": "markdown",
      "metadata": {
        "id": "xXJnhJnrB0rz"
      },
      "source": [
        "> But you can also just input NumPy array into tf.constant() or tf.Variable()!"
      ]
    },
    {
      "cell_type": "code",
      "metadata": {
        "colab": {
          "base_uri": "https://localhost:8080/"
        },
        "id": "jq9VBGZv_z9i",
        "outputId": "873b21d7-1e89-44cd-8772-be5ed1802cf4"
      },
      "source": [
        "ones = tf.ones(shape = (7, 6), dtype = tf.int32)\n",
        "zeros = tf.zeros(shape = (3, 3), dtype = tf.int16)\n",
        "print(\"Tensor of ones:\\n\", ones)\n",
        "print(\"\\nTensor of zeros:\\n\", zeros)"
      ],
      "execution_count": null,
      "outputs": [
        {
          "output_type": "stream",
          "text": [
            "Tensor of ones:\n",
            " tf.Tensor(\n",
            "[[1 1 1 1 1 1]\n",
            " [1 1 1 1 1 1]\n",
            " [1 1 1 1 1 1]\n",
            " [1 1 1 1 1 1]\n",
            " [1 1 1 1 1 1]\n",
            " [1 1 1 1 1 1]\n",
            " [1 1 1 1 1 1]], shape=(7, 6), dtype=int32)\n",
            "\n",
            "Tensor of zeros:\n",
            " tf.Tensor(\n",
            "[[0 0 0]\n",
            " [0 0 0]\n",
            " [0 0 0]], shape=(3, 3), dtype=int16)\n"
          ],
          "name": "stdout"
        }
      ]
    },
    {
      "cell_type": "markdown",
      "metadata": {
        "id": "EdBGqgy9AqW9"
      },
      "source": [
        "> The main difference between NumPy arrays and TensorFlow tensors is that tensors can be run on a GPU (much faster for numerical computing)."
      ]
    },
    {
      "cell_type": "markdown",
      "metadata": {
        "id": "0dZk7avkBKF3"
      },
      "source": [
        "### Getting Information from Tensors"
      ]
    },
    {
      "cell_type": "markdown",
      "metadata": {
        "id": "VeKrt_1BDOJv"
      },
      "source": [
        "The most frequently used information from tensors are:\n",
        "* shape\n",
        "* rank (n of dimensinos)\n",
        "* axis or dimension\n",
        "* size"
      ]
    },
    {
      "cell_type": "code",
      "metadata": {
        "id": "DnRqr_1iEQIF"
      },
      "source": [
        "tensor_A = tf.constant([\n",
        "                        [1, 2, 3, 4],\n",
        "                        [3, 2, 2, 2],\n",
        "                        [3, 2, 1, 3],\n",
        "                        [5, 4, 3, 2]\n",
        "                        ])"
      ],
      "execution_count": null,
      "outputs": []
    },
    {
      "cell_type": "code",
      "metadata": {
        "colab": {
          "base_uri": "https://localhost:8080/"
        },
        "id": "difCmsx5EYm0",
        "outputId": "ce79fbf1-21a0-4faa-e19c-d033d5a20c9c"
      },
      "source": [
        "print('Shape of tensor:', tensor_A.shape)\n",
        "print('Rank of tensor:', tensor_A.ndim)\n",
        "print('Size of tensor:', tf.size(tensor_A))"
      ],
      "execution_count": null,
      "outputs": [
        {
          "output_type": "stream",
          "text": [
            "Shape of tensor: (4, 4)\n",
            "Rank of tensor: 2\n",
            "Size of tensor: tf.Tensor(16, shape=(), dtype=int32)\n"
          ],
          "name": "stdout"
        }
      ]
    },
    {
      "cell_type": "code",
      "metadata": {
        "colab": {
          "base_uri": "https://localhost:8080/"
        },
        "id": "FC7kJCY9ElOE",
        "outputId": "ab441cdc-9c4d-4c7d-d840-130fb13d387d"
      },
      "source": [
        "print('The first column:')\n",
        "print(tensor_A[:, 0])"
      ],
      "execution_count": null,
      "outputs": [
        {
          "output_type": "stream",
          "text": [
            "The first column:\n",
            "tf.Tensor([1 3 3 5], shape=(4,), dtype=int32)\n"
          ],
          "name": "stdout"
        }
      ]
    },
    {
      "cell_type": "code",
      "metadata": {
        "colab": {
          "base_uri": "https://localhost:8080/"
        },
        "id": "2pvSu0XpFVBc",
        "outputId": "ccc59c24-43b4-4ba4-b133-217a0ce60553"
      },
      "source": [
        "# Get various attributes of our tensor\n",
        "print(\"Datatype of every element:\", tensor_A.dtype)\n",
        "print(\"Number of dimensions:\", tensor_A.ndim)\n",
        "print(\"The size of tensor:\", tf.size(tensor_A))\n",
        "print(\"The shape of tensor:\", tensor_A.shape)\n",
        "print(\"Elements along 0 axis:\", tensor_A.shape[0])\n",
        "print(\"Elements along 1 axis:\", tensor_A.shape[1])"
      ],
      "execution_count": null,
      "outputs": [
        {
          "output_type": "stream",
          "text": [
            "Datatype of every element: <dtype: 'int32'>\n",
            "Number of dimensions: 2\n",
            "The size of tensor: tf.Tensor(16, shape=(), dtype=int32)\n",
            "The shape of tensor: (4, 4)\n",
            "Elements along 0 axis: 4\n",
            "Elements along 1 axis: 4\n"
          ],
          "name": "stdout"
        }
      ]
    },
    {
      "cell_type": "markdown",
      "metadata": {
        "id": "buPnfGknMuNE"
      },
      "source": [
        "### Indexing Tensors"
      ]
    },
    {
      "cell_type": "markdown",
      "metadata": {
        "id": "yJlraNG9MLQB"
      },
      "source": [
        "> Tensors can be indexed just like NumPy arrays."
      ]
    },
    {
      "cell_type": "code",
      "metadata": {
        "colab": {
          "base_uri": "https://localhost:8080/"
        },
        "id": "ZyLoeH3b-Lhy",
        "outputId": "b07e14c3-eb1c-4ae9-d137-2646cafdd585"
      },
      "source": [
        "# Get the first 2 elements of each dimension\n",
        "print(tensor_A[:2, :2])"
      ],
      "execution_count": null,
      "outputs": [
        {
          "output_type": "stream",
          "text": [
            "tf.Tensor(\n",
            "[[1 2]\n",
            " [3 2]], shape=(2, 2), dtype=int32)\n"
          ],
          "name": "stdout"
        }
      ]
    },
    {
      "cell_type": "code",
      "metadata": {
        "colab": {
          "base_uri": "https://localhost:8080/"
        },
        "id": "gV61vpDK-V1q",
        "outputId": "5eb4d2cf-5210-4327-e4c0-336a31ef49e1"
      },
      "source": [
        "# Get the first element from each dimencion from each index except for the final one\n",
        "print(tensor_A[:1, :])"
      ],
      "execution_count": null,
      "outputs": [
        {
          "output_type": "stream",
          "text": [
            "tf.Tensor([[1 2 3 4]], shape=(1, 4), dtype=int32)\n"
          ],
          "name": "stdout"
        }
      ]
    },
    {
      "cell_type": "code",
      "metadata": {
        "colab": {
          "base_uri": "https://localhost:8080/"
        },
        "id": "kCQm5tH6-zQB",
        "outputId": "6bbf1b64-e47a-433b-8fa8-5b2de251a780"
      },
      "source": [
        "# Let's create a rank 2 tensor (2 dimensions)\n",
        "rank_2_tensor = tf.constant(np.random.normal(size = (3, 4)))\n",
        "print(rank_2_tensor)"
      ],
      "execution_count": null,
      "outputs": [
        {
          "output_type": "stream",
          "text": [
            "tf.Tensor(\n",
            "[[ 1.1199121  -0.77232915 -0.00597473 -0.02029698]\n",
            " [-0.64639537 -0.43004214  2.32853803 -0.65769914]\n",
            " [ 0.59995455  0.79706359  0.51199312  0.26268593]], shape=(3, 4), dtype=float64)\n"
          ],
          "name": "stdout"
        }
      ]
    },
    {
      "cell_type": "code",
      "metadata": {
        "colab": {
          "base_uri": "https://localhost:8080/"
        },
        "id": "VnEueHSe_9la",
        "outputId": "8aaffa34-83cd-407e-ede3-77cda10fc5bf"
      },
      "source": [
        "# Get the last item of each row of our tensor\n",
        "print(rank_2_tensor[:, -1])"
      ],
      "execution_count": null,
      "outputs": [
        {
          "output_type": "stream",
          "text": [
            "tf.Tensor([-0.02029698 -0.65769914  0.26268593], shape=(3,), dtype=float64)\n"
          ],
          "name": "stdout"
        }
      ]
    },
    {
      "cell_type": "code",
      "metadata": {
        "colab": {
          "base_uri": "https://localhost:8080/"
        },
        "id": "3SXpHQGtAJHT",
        "outputId": "91de6233-16ec-4e18-90dd-f664a4b1f956"
      },
      "source": [
        "# Add in extra dimension to our rank 2 tensor\n",
        "rank_3_tensor = rank_2_tensor[..., tf.newaxis] # three dots mean include all other axes\n",
        "print(rank_3_tensor)"
      ],
      "execution_count": null,
      "outputs": [
        {
          "output_type": "stream",
          "text": [
            "tf.Tensor(\n",
            "[[[ 1.1199121 ]\n",
            "  [-0.77232915]\n",
            "  [-0.00597473]\n",
            "  [-0.02029698]]\n",
            "\n",
            " [[-0.64639537]\n",
            "  [-0.43004214]\n",
            "  [ 2.32853803]\n",
            "  [-0.65769914]]\n",
            "\n",
            " [[ 0.59995455]\n",
            "  [ 0.79706359]\n",
            "  [ 0.51199312]\n",
            "  [ 0.26268593]]], shape=(3, 4, 1), dtype=float64)\n"
          ],
          "name": "stdout"
        }
      ]
    },
    {
      "cell_type": "code",
      "metadata": {
        "colab": {
          "base_uri": "https://localhost:8080/"
        },
        "id": "khbfM-ZlJuAB",
        "outputId": "3f683fe9-7b6a-4c2b-95c8-5cc5030c9750"
      },
      "source": [
        "# Alternative to tf.newaxis\n",
        "tf.expand_dims(rank_2_tensor, axis = - 1) # expand on final axis"
      ],
      "execution_count": null,
      "outputs": [
        {
          "output_type": "execute_result",
          "data": {
            "text/plain": [
              "<tf.Tensor: shape=(3, 4, 1), dtype=float64, numpy=\n",
              "array([[[ 1.1199121 ],\n",
              "        [-0.77232915],\n",
              "        [-0.00597473],\n",
              "        [-0.02029698]],\n",
              "\n",
              "       [[-0.64639537],\n",
              "        [-0.43004214],\n",
              "        [ 2.32853803],\n",
              "        [-0.65769914]],\n",
              "\n",
              "       [[ 0.59995455],\n",
              "        [ 0.79706359],\n",
              "        [ 0.51199312],\n",
              "        [ 0.26268593]]])>"
            ]
          },
          "metadata": {
            "tags": []
          },
          "execution_count": 16
        }
      ]
    },
    {
      "cell_type": "code",
      "metadata": {
        "colab": {
          "base_uri": "https://localhost:8080/"
        },
        "id": "8iaJox-LKHsX",
        "outputId": "408a7287-477a-4d05-a328-d14043d2ddf5"
      },
      "source": [
        "tf.expand_dims(rank_2_tensor, axis = 0)"
      ],
      "execution_count": null,
      "outputs": [
        {
          "output_type": "execute_result",
          "data": {
            "text/plain": [
              "<tf.Tensor: shape=(1, 3, 4), dtype=float64, numpy=\n",
              "array([[[ 1.1199121 , -0.77232915, -0.00597473, -0.02029698],\n",
              "        [-0.64639537, -0.43004214,  2.32853803, -0.65769914],\n",
              "        [ 0.59995455,  0.79706359,  0.51199312,  0.26268593]]])>"
            ]
          },
          "metadata": {
            "tags": []
          },
          "execution_count": 17
        }
      ]
    },
    {
      "cell_type": "markdown",
      "metadata": {
        "id": "k-bvO3TvKU1Z"
      },
      "source": [
        "Note that the numbers always stay the same, but the shape of a tensor is changed."
      ]
    },
    {
      "cell_type": "markdown",
      "metadata": {
        "id": "56icp9QuKk09"
      },
      "source": [
        "### Tensor Operations"
      ]
    },
    {
      "cell_type": "markdown",
      "metadata": {
        "id": "7wWPResf5vle"
      },
      "source": [
        "**Basic Operations**"
      ]
    },
    {
      "cell_type": "code",
      "metadata": {
        "colab": {
          "base_uri": "https://localhost:8080/"
        },
        "id": "HqNiN_tF52jc",
        "outputId": "9a2e6086-54bb-4a5d-88cf-b41aa1369ca3"
      },
      "source": [
        "# We can add values to a tensor using the addition operators\n",
        "tensor = tf.constant(np.arange(10), shape = (2, 5))\n",
        "print(tensor)\n",
        "print('Addition')\n",
        "print(tensor + 10) # the original tensor is not changed, we didn't assign the values"
      ],
      "execution_count": null,
      "outputs": [
        {
          "output_type": "stream",
          "text": [
            "tf.Tensor(\n",
            "[[0 1 2 3 4]\n",
            " [5 6 7 8 9]], shape=(2, 5), dtype=int64)\n",
            "Addition\n",
            "tf.Tensor(\n",
            "[[10 11 12 13 14]\n",
            " [15 16 17 18 19]], shape=(2, 5), dtype=int64)\n"
          ],
          "name": "stdout"
        }
      ]
    },
    {
      "cell_type": "code",
      "metadata": {
        "colab": {
          "base_uri": "https://localhost:8080/"
        },
        "id": "YPHfM-KN6ABt",
        "outputId": "3a78eb75-9579-47b4-8d7d-f76999800127"
      },
      "source": [
        "# Multiplication\n",
        "print(tensor * 7)"
      ],
      "execution_count": null,
      "outputs": [
        {
          "output_type": "stream",
          "text": [
            "tf.Tensor(\n",
            "[[ 0  7 14 21 28]\n",
            " [35 42 49 56 63]], shape=(2, 5), dtype=int64)\n"
          ],
          "name": "stdout"
        }
      ]
    },
    {
      "cell_type": "code",
      "metadata": {
        "colab": {
          "base_uri": "https://localhost:8080/"
        },
        "id": "pAGXrFgN6Tf0",
        "outputId": "8e4530e1-ac7d-459c-e2e6-312dfb8fe5b2"
      },
      "source": [
        "# Substraction\n",
        "print(tensor - 5)"
      ],
      "execution_count": null,
      "outputs": [
        {
          "output_type": "stream",
          "text": [
            "tf.Tensor(\n",
            "[[-5 -4 -3 -2 -1]\n",
            " [ 0  1  2  3  4]], shape=(2, 5), dtype=int64)\n"
          ],
          "name": "stdout"
        }
      ]
    },
    {
      "cell_type": "code",
      "metadata": {
        "colab": {
          "base_uri": "https://localhost:8080/"
        },
        "id": "wdjDUy2N6XAF",
        "outputId": "bc3df3cc-a60d-4b06-80b7-47b673170110"
      },
      "source": [
        "# We can also use TensorFlow functions for addition, substraction, division and multiplication (like in NumPy)\n",
        "print('Multiplication')\n",
        "print(tf.multiply(tensor, 5))\n",
        "print('Addition')\n",
        "print(tf.add(tensor, 10))"
      ],
      "execution_count": null,
      "outputs": [
        {
          "output_type": "stream",
          "text": [
            "Multiplication\n",
            "tf.Tensor(\n",
            "[[ 0  5 10 15 20]\n",
            " [25 30 35 40 45]], shape=(2, 5), dtype=int64)\n",
            "Addition\n",
            "tf.Tensor(\n",
            "[[10 11 12 13 14]\n",
            " [15 16 17 18 19]], shape=(2, 5), dtype=int64)\n"
          ],
          "name": "stdout"
        }
      ]
    },
    {
      "cell_type": "markdown",
      "metadata": {
        "id": "krxZ8dQM6fsF"
      },
      "source": [
        "**Matrix Multiplication**"
      ]
    },
    {
      "cell_type": "code",
      "metadata": {
        "colab": {
          "base_uri": "https://localhost:8080/"
        },
        "id": "yaGJ0xv7688j",
        "outputId": "9a78c570-42cc-4326-ab20-b6ca8a5c857e"
      },
      "source": [
        "# Matrix multiplication\n",
        "A = tf.constant([[3, 2, 2], [3, 1, 7]])\n",
        "B = tf.constant([[1, 2], [3, 3], [4, 5]])\n",
        "print(tf.linalg.matmul(A, B))"
      ],
      "execution_count": null,
      "outputs": [
        {
          "output_type": "stream",
          "text": [
            "tf.Tensor(\n",
            "[[17 22]\n",
            " [34 44]], shape=(2, 2), dtype=int32)\n"
          ],
          "name": "stdout"
        }
      ]
    },
    {
      "cell_type": "markdown",
      "metadata": {
        "id": "oUt2z_XC7esc"
      },
      "source": [
        "As a quick reminder, in order to multiply matrices, the first matrix should be \n",
        "$A^{m_{*}n}$, while the second should be $B^{n_{*}p}$. The resulting matrix is then of shape $m*p$.\n",
        "\n",
        "There are multiple ways to multiply matrices. One of them is to use dot product of rows of first matrix and columns of the second matrix. In other words, for matrices $A \\in {\\rm I\\!R}^{m*n}, B \\in {\\rm I\\!R}^{n*p}$, the elements $c_{ij}$ of the product $ C=AB \\in  {\\rm I\\!R}^{m*p}$ are computed as:\n",
        "\n",
        "$$\n",
        "\\begin{aligned}\n",
        "c_{ij} = \\sum_{l = 1}^{n}a_{il}b_{lj}\\\\\n",
        "i = 1, ..., m\\\\ \n",
        "j = 1, ..., k\n",
        "\\end{aligned}\n",
        "$$"
      ]
    },
    {
      "cell_type": "code",
      "metadata": {
        "colab": {
          "base_uri": "https://localhost:8080/"
        },
        "id": "VrY5mR1P9wwh",
        "outputId": "886e7a4e-d547-4038-b2a7-dd84f23dad9c"
      },
      "source": [
        "# Python has operator @ for matrix multiplication, but it is slower\n",
        "print(A@B)"
      ],
      "execution_count": null,
      "outputs": [
        {
          "output_type": "stream",
          "text": [
            "tf.Tensor(\n",
            "[[17 22]\n",
            " [34 44]], shape=(2, 2), dtype=int32)\n"
          ],
          "name": "stdout"
        }
      ]
    },
    {
      "cell_type": "markdown",
      "metadata": {
        "id": "-iXPgHxq91Hi"
      },
      "source": [
        "Let's find a inverse of a matrix. Remember that only square matrices can have regular inverses, but not all of them will actually have it. Rectangular matrices (more frequent than square matrices in practice) have pseudo-inverse. \n",
        "First of all, let's define the regular inverse of a matrix:\n",
        "\n",
        "$$\n",
        "\\begin{aligned}\n",
        "AA^{-1} = I\n",
        "\\end{aligned}\n",
        "$$\n",
        "\n",
        "In other words, the matrix multiplied by its inverse gives us the identity matrix, i.e. we are back to the beginning. In other words, if we multiply some vector with a matrix, and then multiply it with the matrix inverse, we get to the starting point. The inverse of a matrix can be found using different algorithms, but the most simple one is Gaussian elimination.\n",
        "\n",
        "Now, as we have said, rectangular matrices do not have regular inverse. For them, we often use *Moore-Penrose pseudo-inverse*, which is $(A^{T}A)^{-1}A^{T}$. How do we get that? Well, let's consider a linear equation given by $Ax = b$. We get to the pseudo-inverse by doing a bit of algebra:\n",
        "\n",
        "$$\n",
        "\\begin{aligned}\n",
        "Ax = b \\iff A^{T}Ax = A^{T}b \\iff x = (A^{T}A)^{-1}A^{T}b\n",
        "\\end{aligned}\n",
        "$$\n",
        "\n",
        "This equation is actually used to get the optimal parameters for linear regression."
      ]
    },
    {
      "cell_type": "code",
      "metadata": {
        "colab": {
          "base_uri": "https://localhost:8080/"
        },
        "id": "4n36WS0gCLb9",
        "outputId": "158405ee-bc90-4203-8afb-59ae96793daa"
      },
      "source": [
        "A"
      ],
      "execution_count": null,
      "outputs": [
        {
          "output_type": "execute_result",
          "data": {
            "text/plain": [
              "<tf.Tensor: shape=(2, 3), dtype=int32, numpy=\n",
              "array([[3, 2, 2],\n",
              "       [3, 1, 7]], dtype=int32)>"
            ]
          },
          "metadata": {
            "tags": []
          },
          "execution_count": 34
        }
      ]
    },
    {
      "cell_type": "code",
      "metadata": {
        "colab": {
          "base_uri": "https://localhost:8080/"
        },
        "id": "j1Idr-XI_hug",
        "outputId": "c32cfcd2-24f4-4c4f-bbb1-05bd4f8986c4"
      },
      "source": [
        "# Finding the inverse of a matrix\n",
        "# You must have float32 or float64 dtypes, cannot be calculated on int dtypes\n",
        "A = tf.constant([\n",
        "                 [1, 0, 2, 0], \n",
        "                 [1, 1, 0, 0],\n",
        "                 [1, 2, 0, 1],\n",
        "                 [1, 1, 1, 1]\n",
        "                 ], \n",
        "                dtype = tf.float32\n",
        "                )\n",
        "\n",
        "print(tf.linalg.inv(A))"
      ],
      "execution_count": null,
      "outputs": [
        {
          "output_type": "stream",
          "text": [
            "tf.Tensor(\n",
            "[[-1.  2. -2.  2.]\n",
            " [ 1. -1.  2. -2.]\n",
            " [ 1. -1.  1. -1.]\n",
            " [-1.  0. -1.  2.]], shape=(4, 4), dtype=float32)\n"
          ],
          "name": "stdout"
        }
      ]
    },
    {
      "cell_type": "code",
      "metadata": {
        "colab": {
          "base_uri": "https://localhost:8080/"
        },
        "id": "y_0QZdozCHnu",
        "outputId": "b0bdda4e-10dc-47c7-a975-a47afa86b57d"
      },
      "source": [
        "# Now let's get pseudo-inverse with the tf.linalg.pinv() functino\n",
        "A = tf.constant([\n",
        "                 [1, 0, 1, 2],\n",
        "                 [1, 1, 0, 0],\n",
        "                 [1, 2, 0, 1]\n",
        "                 ],\n",
        "                dtype = tf.float64)\n",
        "\n",
        "print(tf.linalg.pinv(A))"
      ],
      "execution_count": null,
      "outputs": [
        {
          "output_type": "stream",
          "text": [
            "tf.Tensor(\n",
            "[[ 0.25        1.25       -0.58333333]\n",
            " [-0.25       -0.25        0.58333333]\n",
            " [ 0.25        0.25       -0.25      ]\n",
            " [ 0.25       -0.75        0.41666667]], shape=(4, 3), dtype=float64)\n"
          ],
          "name": "stdout"
        }
      ]
    },
    {
      "cell_type": "markdown",
      "metadata": {
        "id": "f-PqrLOGDXht"
      },
      "source": [
        "In a nutshell, we can perform matrix multiplication using:\n",
        "\n",
        "\n",
        "*   `tf.matmul()`\n",
        "*   `tf.tensordot()`\n",
        "\n"
      ]
    },
    {
      "cell_type": "markdown",
      "metadata": {
        "id": "Tmyq8FXcgxoO"
      },
      "source": [
        "### Changing the Datatype of a Tensor"
      ]
    },
    {
      "cell_type": "code",
      "metadata": {
        "id": "gDM8IJ6mE_nK",
        "colab": {
          "base_uri": "https://localhost:8080/"
        },
        "outputId": "02d7f8d1-f258-4997-b1c1-ad0ef62f77af"
      },
      "source": [
        "B = tf.constant([1, 3]) # if we populate the function with integers, dtype will be int32\n",
        "print(B.dtype)"
      ],
      "execution_count": null,
      "outputs": [
        {
          "output_type": "stream",
          "text": [
            "<dtype: 'int32'>\n"
          ],
          "name": "stdout"
        }
      ]
    },
    {
      "cell_type": "code",
      "metadata": {
        "colab": {
          "base_uri": "https://localhost:8080/"
        },
        "id": "WLwbAeuAg3jZ",
        "outputId": "102092c3-4fc1-4671-b74b-7beeb813d8be"
      },
      "source": [
        "# Let's change it to int16 (reduced precision)\n",
        "B = tf.cast(B, dtype = tf.int16)\n",
        "print(B.dtype)"
      ],
      "execution_count": null,
      "outputs": [
        {
          "output_type": "stream",
          "text": [
            "<dtype: 'int16'>\n"
          ],
          "name": "stdout"
        }
      ]
    },
    {
      "cell_type": "code",
      "metadata": {
        "colab": {
          "base_uri": "https://localhost:8080/"
        },
        "id": "oCHuT4hOhm1M",
        "outputId": "5474689d-0d55-4eb0-a507-ed94867928d8"
      },
      "source": [
        "# Change from int16 to float32\n",
        "B = tf.cast(B, dtype = tf.float32)\n",
        "print(B.numpy(), B.dtype)"
      ],
      "execution_count": null,
      "outputs": [
        {
          "output_type": "stream",
          "text": [
            "[1. 3.] <dtype: 'float32'>\n"
          ],
          "name": "stdout"
        }
      ]
    },
    {
      "cell_type": "markdown",
      "metadata": {
        "id": "jBbCnp4oiOkU"
      },
      "source": [
        "### Aggregating Tensors"
      ]
    },
    {
      "cell_type": "markdown",
      "metadata": {
        "id": "1KrevdBsjOtj"
      },
      "source": [
        "Aggregating tensors means condensing them from multiple values down to a smaller amount of values.\n",
        "\n",
        "*   Get the minimum\n",
        "*   Get the maximum\n",
        "*   Get the mean\n",
        "*   Get the sum\n",
        "*   Get the variance\n",
        "*   Get the standard deviation\n",
        "\n"
      ]
    },
    {
      "cell_type": "code",
      "metadata": {
        "colab": {
          "base_uri": "https://localhost:8080/"
        },
        "id": "xNc5Eembh-9t",
        "outputId": "ab47cbfa-9d1a-4914-8c27-21b8f8469542"
      },
      "source": [
        "# Get the absolute values\n",
        "D = tf.constant([-7, -10, -3], dtype = tf.float16)\n",
        "print(tf.abs(D))"
      ],
      "execution_count": null,
      "outputs": [
        {
          "output_type": "stream",
          "text": [
            "tf.Tensor([ 7. 10.  3.], shape=(3,), dtype=float16)\n"
          ],
          "name": "stdout"
        }
      ]
    },
    {
      "cell_type": "code",
      "metadata": {
        "colab": {
          "base_uri": "https://localhost:8080/"
        },
        "id": "gpQgnME_jhLp",
        "outputId": "5833734d-071e-4731-a302-f4c7c1566868"
      },
      "source": [
        "# Aggregation measures\n",
        "# TF puts reduce_ before the actual agg measure\n",
        "D = tf.constant(np.random.normal(size = (10, 30)))\n",
        "print('Minimum value:', tf.reduce_min(D, axis = 1))\n",
        "print('\\mMaximum value:', tf.reduce_max(D, axis = 1))\n",
        "print('\\mMean value:', tf.reduce_mean(D, axis = 1))\n",
        "print('\\mSum:', tf.reduce_sum(D, axis = 1))\n",
        "print('\\nStandard deviation:', tf.math.reduce_std(D, axis = 1))\n",
        "print('\\nVariance:', tf.math.reduce_variance(D, axis = 1))"
      ],
      "execution_count": null,
      "outputs": [
        {
          "output_type": "stream",
          "text": [
            "Minimum value: tf.Tensor(\n",
            "[-2.17696675 -2.47799107 -1.89561998 -2.64350557 -2.39673651 -2.53152494\n",
            " -2.87685239 -2.35533785 -1.82363282 -2.83924328], shape=(10,), dtype=float64)\n",
            "\\mMaximum value: tf.Tensor(\n",
            "[1.97744048 1.62590541 1.68575292 2.30097726 2.13002513 1.70544056\n",
            " 2.89826085 2.22187413 2.43368277 2.65404179], shape=(10,), dtype=float64)\n",
            "\\mMean value: tf.Tensor(\n",
            "[ 0.06484969 -0.20251058 -0.14801486 -0.12010113 -0.01909641  0.2058323\n",
            " -0.08053196 -0.10432362  0.02662925  0.0316522 ], shape=(10,), dtype=float64)\n",
            "\\mSum: tf.Tensor(\n",
            "[ 1.94549081 -6.07531731 -4.44044589 -3.60303376 -0.57289234  6.17496896\n",
            " -2.41595869 -3.12970873  0.79887754  0.94956612], shape=(10,), dtype=float64)\n",
            "\n",
            "Standard deviation: tf.Tensor(\n",
            "[0.96806799 0.94715972 0.93983136 1.18008852 1.12927685 0.93201016\n",
            " 1.1897983  1.05433726 0.95927192 1.34017171], shape=(10,), dtype=float64)\n",
            "\n",
            "Variance: tf.Tensor(\n",
            "[0.93715562 0.89711153 0.88328298 1.39260891 1.27526619 0.86864293\n",
            " 1.41562    1.11162705 0.92020261 1.79606021], shape=(10,), dtype=float64)\n"
          ],
          "name": "stdout"
        }
      ]
    },
    {
      "cell_type": "markdown",
      "metadata": {
        "id": "ZJJFnisCmJcL"
      },
      "source": [
        "### Indices of Minimum and Maximum; Squeezing a Tensor"
      ]
    },
    {
      "cell_type": "code",
      "metadata": {
        "colab": {
          "base_uri": "https://localhost:8080/"
        },
        "id": "JEQBU2u6kCLz",
        "outputId": "0c996256-4781-442b-e893-703378af0a12"
      },
      "source": [
        "x = tf.constant([3, 2, 1, 5, 4, 2], dtype = tf.float16)\n",
        "print ('Index of minimum:', tf.argmin(x))\n",
        "print('The minimum value:', x[tf.argmin(x)])\n",
        "print('\\nIndex of maximum:', tf.argmax(x))\n",
        "print('The maximum value:', x[tf.argmax(x)])"
      ],
      "execution_count": null,
      "outputs": [
        {
          "output_type": "stream",
          "text": [
            "Index of minimum: tf.Tensor(2, shape=(), dtype=int64)\n",
            "The minimum value: tf.Tensor(1.0, shape=(), dtype=float16)\n",
            "\n",
            "Index of maximum: tf.Tensor(3, shape=(), dtype=int64)\n",
            "The maximum value: tf.Tensor(5.0, shape=(), dtype=float16)\n"
          ],
          "name": "stdout"
        }
      ]
    },
    {
      "cell_type": "code",
      "metadata": {
        "id": "JyO-ujFen4qs",
        "colab": {
          "base_uri": "https://localhost:8080/"
        },
        "outputId": "1147daca-f46b-4735-f8df-bb9e70128e91"
      },
      "source": [
        "# Squeezing a tensor - removes dimensions of size 1 from tensor!\n",
        "x = tf.constant([3, 2, 1, 4, 2, 1], shape = (6, 1, 1, 1, 1))\n",
        "print(x.ndim)\n",
        "print(tf.squeeze(x))\n",
        "print(tf.squeeze(x).ndim)"
      ],
      "execution_count": null,
      "outputs": [
        {
          "output_type": "stream",
          "text": [
            "5\n",
            "tf.Tensor([3 2 1 4 2 1], shape=(6,), dtype=int32)\n",
            "1\n"
          ],
          "name": "stdout"
        }
      ]
    },
    {
      "cell_type": "markdown",
      "metadata": {
        "id": "IQwByCs3reSI"
      },
      "source": [
        "### One-Hot Encoding with Tensors"
      ]
    },
    {
      "cell_type": "code",
      "metadata": {
        "colab": {
          "base_uri": "https://localhost:8080/"
        },
        "id": "pn82XQitq4YT",
        "outputId": "f7c047c4-96c0-4096-f33b-35cab3fb9f8d"
      },
      "source": [
        "# We need to define indices of values which will take values of 1 in each row\n",
        "some_list = [0, 1, 2, 1, 3, 2, 3, 0] \n",
        "tf.one_hot(some_list, depth = 4) # depth is the number of unique values"
      ],
      "execution_count": null,
      "outputs": [
        {
          "output_type": "execute_result",
          "data": {
            "text/plain": [
              "<tf.Tensor: shape=(8, 4), dtype=float32, numpy=\n",
              "array([[1., 0., 0., 0.],\n",
              "       [0., 1., 0., 0.],\n",
              "       [0., 0., 1., 0.],\n",
              "       [0., 1., 0., 0.],\n",
              "       [0., 0., 0., 1.],\n",
              "       [0., 0., 1., 0.],\n",
              "       [0., 0., 0., 1.],\n",
              "       [1., 0., 0., 0.]], dtype=float32)>"
            ]
          },
          "metadata": {
            "tags": []
          },
          "execution_count": 36
        }
      ]
    },
    {
      "cell_type": "code",
      "metadata": {
        "colab": {
          "base_uri": "https://localhost:8080/"
        },
        "id": "w3BaIG9isNHa",
        "outputId": "6b37b46c-c081-4564-ed60-e52ee20abe41"
      },
      "source": [
        "# Specify custom values for one hot encoding, but you'll rarely use this\n",
        "tf.one_hot(some_list, depth = 4, on_value = 'huehue', off_value = 'auau')"
      ],
      "execution_count": null,
      "outputs": [
        {
          "output_type": "execute_result",
          "data": {
            "text/plain": [
              "<tf.Tensor: shape=(8, 4), dtype=string, numpy=\n",
              "array([[b'huehue', b'auau', b'auau', b'auau'],\n",
              "       [b'auau', b'huehue', b'auau', b'auau'],\n",
              "       [b'auau', b'auau', b'huehue', b'auau'],\n",
              "       [b'auau', b'huehue', b'auau', b'auau'],\n",
              "       [b'auau', b'auau', b'auau', b'huehue'],\n",
              "       [b'auau', b'auau', b'huehue', b'auau'],\n",
              "       [b'auau', b'auau', b'auau', b'huehue'],\n",
              "       [b'huehue', b'auau', b'auau', b'auau']], dtype=object)>"
            ]
          },
          "metadata": {
            "tags": []
          },
          "execution_count": 38
        }
      ]
    },
    {
      "cell_type": "markdown",
      "metadata": {
        "id": "K1ZvLqBCtBQk"
      },
      "source": [
        "### Square, log, Square Root"
      ]
    },
    {
      "cell_type": "code",
      "metadata": {
        "colab": {
          "base_uri": "https://localhost:8080/"
        },
        "id": "OAq6EbxysgEB",
        "outputId": "c8f0bfc3-c659-4526-a237-36ac290dae24"
      },
      "source": [
        "h = tf.range(1, 10, dtype = tf.float32)\n",
        "print(h)"
      ],
      "execution_count": null,
      "outputs": [
        {
          "output_type": "stream",
          "text": [
            "tf.Tensor([1. 2. 3. 4. 5. 6. 7. 8. 9.], shape=(9,), dtype=float32)\n"
          ],
          "name": "stdout"
        }
      ]
    },
    {
      "cell_type": "code",
      "metadata": {
        "colab": {
          "base_uri": "https://localhost:8080/"
        },
        "id": "RkbGtAVOtIOA",
        "outputId": "7e58a9f2-c397-44ad-bd35-9118db2f7313"
      },
      "source": [
        "print('Squared:', tf.square(h))\n",
        "print('\\nSquare root:', tf.math.sqrt(h))\n",
        "print('\\nLog:', tf.math.log(h))"
      ],
      "execution_count": null,
      "outputs": [
        {
          "output_type": "stream",
          "text": [
            "Squared: tf.Tensor([ 1.  4.  9. 16. 25. 36. 49. 64. 81.], shape=(9,), dtype=float32)\n",
            "\n",
            "Square root: tf.Tensor(\n",
            "[0.99999994 1.4142134  1.7320508  1.9999999  2.236068   2.4494896\n",
            " 2.6457512  2.8284268  3.        ], shape=(9,), dtype=float32)\n",
            "\n",
            "Log: tf.Tensor(\n",
            "[0.        0.6931472 1.0986123 1.3862944 1.609438  1.7917595 1.9459102\n",
            " 2.0794415 2.1972246], shape=(9,), dtype=float32)\n"
          ],
          "name": "stdout"
        }
      ]
    },
    {
      "cell_type": "markdown",
      "metadata": {
        "id": "sFDHBCWzt9kJ"
      },
      "source": [
        "### Tensors and NumPy"
      ]
    },
    {
      "cell_type": "markdown",
      "metadata": {
        "id": "At8uYDSNuFPf"
      },
      "source": [
        "> TensorFlow interacts beautifully and naturally with NumPy arrays."
      ]
    },
    {
      "cell_type": "code",
      "metadata": {
        "colab": {
          "base_uri": "https://localhost:8080/"
        },
        "id": "4DTlyWYLtL83",
        "outputId": "b5cf6541-91d8-4850-dd8a-3b81af71246c"
      },
      "source": [
        "# Create a tensor directly from a NumPy array\n",
        "print(tf.constant(np.arange(12, dtype = np.float32)))"
      ],
      "execution_count": null,
      "outputs": [
        {
          "output_type": "stream",
          "text": [
            "tf.Tensor([ 0.  1.  2.  3.  4.  5.  6.  7.  8.  9. 10. 11.], shape=(12,), dtype=float32)\n"
          ],
          "name": "stdout"
        }
      ]
    },
    {
      "cell_type": "code",
      "metadata": {
        "colab": {
          "base_uri": "https://localhost:8080/"
        },
        "id": "K33HezwTuMXP",
        "outputId": "84b6a8a1-d558-4606-ce36-e1f41790c42a"
      },
      "source": [
        "# Convert a tensor into a NumPy array\n",
        "x = tf.constant([1, 3, 2])\n",
        "x.numpy()"
      ],
      "execution_count": null,
      "outputs": [
        {
          "output_type": "execute_result",
          "data": {
            "text/plain": [
              "array([1, 3, 2], dtype=int32)"
            ]
          },
          "metadata": {
            "tags": []
          },
          "execution_count": 53
        }
      ]
    },
    {
      "cell_type": "markdown",
      "metadata": {
        "id": "XCQc_cEWvTVe"
      },
      "source": [
        "---------\n"
      ]
    },
    {
      "cell_type": "markdown",
      "metadata": {
        "id": "_bp4lmLTvVZZ"
      },
      "source": [
        "## Neural Networks for Regression Problems"
      ]
    },
    {
      "cell_type": "code",
      "metadata": {
        "id": "uzwXgUtIwK9A"
      },
      "source": [
        "import tensorflow as tf \n",
        "import numpy as np \n",
        "import matplotlib.pyplot as plt "
      ],
      "execution_count": 26,
      "outputs": []
    },
    {
      "cell_type": "code",
      "metadata": {
        "id": "YF0OLx-2crO_"
      },
      "source": [
        "x = np.random.normal(size = 15)\n",
        "y = 0.56*x + 3.85 + np.random.normal(size = 15, scale = 0.5)"
      ],
      "execution_count": 27,
      "outputs": []
    },
    {
      "cell_type": "code",
      "metadata": {
        "colab": {
          "base_uri": "https://localhost:8080/",
          "height": 265
        },
        "id": "NF-Jab7tcyMi",
        "outputId": "6d1de997-7f10-40d3-f621-e44b4092c849"
      },
      "source": [
        "plt.scatter(x, y);"
      ],
      "execution_count": 28,
      "outputs": [
        {
          "output_type": "display_data",
          "data": {
            "image/png": "[encoded data removed]",
            "text/plain": [
              "<Figure size 432x288 with 1 Axes>"
            ]
          },
          "metadata": {
            "tags": [],
            "needs_background": "light"
          }
        }
      ]
    },
    {
      "cell_type": "code",
      "metadata": {
        "colab": {
          "base_uri": "https://localhost:8080/"
        },
        "id": "Fcb_V7MBc7BA",
        "outputId": "c660e318-c457-47d7-fc4c-58e28ca86f0e"
      },
      "source": [
        "# Let's take a look at input and output shapes\n",
        "print('Shape of x:', np.shape(x))\n",
        "print('Shape of y:', np.shape(y))"
      ],
      "execution_count": 29,
      "outputs": [
        {
          "output_type": "stream",
          "text": [
            "Shape of x: (15,)\n",
            "Shape of y: (15,)\n"
          ],
          "name": "stdout"
        }
      ]
    },
    {
      "cell_type": "code",
      "metadata": {
        "colab": {
          "base_uri": "https://localhost:8080/"
        },
        "id": "ezAASEvVfYDc",
        "outputId": "7222e8e3-5e45-4e0d-cdea-ade3095b938a"
      },
      "source": [
        "x = tf.constant(x)\n",
        "y = tf.constant(y)\n",
        "x"
      ],
      "execution_count": 30,
      "outputs": [
        {
          "output_type": "execute_result",
          "data": {
            "text/plain": [
              "<tf.Tensor: shape=(15,), dtype=float64, numpy=\n",
              "array([ 0.92617755,  1.90941664, -1.39856757,  0.56296924, -0.65064257,\n",
              "       -0.48712538, -0.59239392, -0.86399077,  0.04852163, -0.83095012,\n",
              "        0.27045683, -0.05023811, -0.23894805, -0.90756366, -0.57677133])>"
            ]
          },
          "metadata": {
            "tags": []
          },
          "execution_count": 30
        }
      ]
    },
    {
      "cell_type": "markdown",
      "metadata": {
        "id": "H340jvJNg2Bj"
      },
      "source": [
        "### Steps in Modelling with TensorFlow"
      ]
    },
    {
      "cell_type": "markdown",
      "metadata": {
        "id": "9ZpDQBQ0giCB"
      },
      "source": [
        "We have a few steps in modelling the relationship between input and output variables. The steps are:\n",
        "\n",
        "\n",
        "1.   Create a model - define the input, hidden, and output layers\n",
        "2.   Compile a model - define the loss function, the optimizer, and evaluation metric\n",
        "3.   Fitting a model\n",
        "\n"
      ]
    },
    {
      "cell_type": "code",
      "metadata": {
        "colab": {
          "base_uri": "https://localhost:8080/"
        },
        "id": "C5v2dTLWgosJ",
        "outputId": "4ae0a601-318c-4ad6-cf9e-ec34f4504442"
      },
      "source": [
        "# Set random seed\n",
        "tf.random.set_seed(42)\n",
        "\n",
        "# 1. Create a model using the sequential API\n",
        "model = tf.keras.Sequential(\n",
        "    layers = [tf.keras.layers.Dense(1)]  # the output layer, outputs one number\n",
        "    )\n",
        "\n",
        "# 2. Compile the model\n",
        "model.compile(\n",
        "    loss = tf.keras.losses.mse, \n",
        "    optimizer = tf.keras.optimizers.SGD(), \n",
        "    metrics = ['mse']\n",
        "    )\n",
        "\n",
        "# 3. Fit the model\n",
        "model.fit(x, y, epochs = 10) # ten runs through the dataset"
      ],
      "execution_count": 31,
      "outputs": [
        {
          "output_type": "stream",
          "text": [
            "Epoch 1/10\n",
            "1/1 [==============================] - 0s 296ms/step - loss: 13.8082 - mse: 13.8082\n",
            "Epoch 2/10\n",
            "1/1 [==============================] - 0s 5ms/step - loss: 13.2549 - mse: 13.2549\n",
            "Epoch 3/10\n",
            "1/1 [==============================] - 0s 10ms/step - loss: 12.7247 - mse: 12.7247\n",
            "Epoch 4/10\n",
            "1/1 [==============================] - 0s 10ms/step - loss: 12.2166 - mse: 12.2166\n",
            "Epoch 5/10\n",
            "1/1 [==============================] - 0s 6ms/step - loss: 11.7297 - mse: 11.7297\n",
            "Epoch 6/10\n",
            "1/1 [==============================] - 0s 7ms/step - loss: 11.2630 - mse: 11.2630\n",
            "Epoch 7/10\n",
            "1/1 [==============================] - 0s 8ms/step - loss: 10.8157 - mse: 10.8157\n",
            "Epoch 8/10\n",
            "1/1 [==============================] - 0s 5ms/step - loss: 10.3869 - mse: 10.3869\n",
            "Epoch 9/10\n",
            "1/1 [==============================] - 0s 21ms/step - loss: 9.9760 - mse: 9.9760\n",
            "Epoch 10/10\n",
            "1/1 [==============================] - 0s 8ms/step - loss: 9.5821 - mse: 9.5821\n"
          ],
          "name": "stdout"
        },
        {
          "output_type": "execute_result",
          "data": {
            "text/plain": [
              "<tensorflow.python.keras.callbacks.History at 0x7fc415493250>"
            ]
          },
          "metadata": {
            "tags": []
          },
          "execution_count": 31
        }
      ]
    },
    {
      "cell_type": "code",
      "metadata": {
        "colab": {
          "base_uri": "https://localhost:8080/"
        },
        "id": "pt7bk9HIuHSz",
        "outputId": "52bb26a4-8762-4008-f5a8-380ae1fce29c"
      },
      "source": [
        "model.predict(x)"
      ],
      "execution_count": 32,
      "outputs": [
        {
          "output_type": "execute_result",
          "data": {
            "text/plain": [
              "array([[1.1062592 ],\n",
              "       [1.5661414 ],\n",
              "       [0.01892579],\n",
              "       [0.93637884],\n",
              "       [0.36874646],\n",
              "       [0.44522697],\n",
              "       [0.39599058],\n",
              "       [0.2689589 ],\n",
              "       [0.6957606 ],\n",
              "       [0.2844127 ],\n",
              "       [0.7995645 ],\n",
              "       [0.64956856],\n",
              "       [0.56130487],\n",
              "       [0.2485789 ],\n",
              "       [0.40329763]], dtype=float32)"
            ]
          },
          "metadata": {
            "tags": []
          },
          "execution_count": 32
        }
      ]
    },
    {
      "cell_type": "markdown",
      "metadata": {
        "id": "VkquIZb020dn"
      },
      "source": [
        "### Improving the Model"
      ]
    },
    {
      "cell_type": "markdown",
      "metadata": {
        "id": "N1lZ5i-L5mux"
      },
      "source": [
        "The previous model was not that good - predictions were significantly off. However, we can improve the model by adding new hidden layers, apply different activation functions, increasing the number of epochs, etc."
      ]
    },
    {
      "cell_type": "code",
      "metadata": {
        "id": "lf_cUqgq3FbW",
        "colab": {
          "base_uri": "https://localhost:8080/"
        },
        "outputId": "a5c7ff82-304f-4e09-bf74-c2d0bcf5d998"
      },
      "source": [
        "tf.random.set_seed(42)\n",
        "\n",
        "model = tf.keras.Sequential()\n",
        "model.add(tf.keras.layers.Dense(100, activation = 'relu')) # First hidden layes has 100 neurons\n",
        "model.add(tf.keras.layers.Dense(50, activation = 'relu')) # The second hidden layer has 50 neurons\n",
        "model.add(tf.keras.layers.Dense(50, activation = 'relu')) # The third hidden layer has 30 neurons\n",
        "model.add(tf.keras.layers.Dense(1)) # default activation is linear activation\n",
        "\n",
        "# adam optimizer; you can experiment with learning rate as well\n",
        "model.compile(optimizer = tf.keras.optimizers.Adam(), loss = 'mse', metrics = ['mse', 'mae']) \n",
        "\n",
        "model.fit(x, y, epochs = 100) # 100 epochs"
      ],
      "execution_count": 33,
      "outputs": [
        {
          "output_type": "stream",
          "text": [
            "Epoch 1/100\n",
            "1/1 [==============================] - 0s 466ms/step - loss: 13.2735 - mse: 13.2735 - mae: 3.5764\n",
            "Epoch 2/100\n",
            "1/1 [==============================] - 0s 10ms/step - loss: 13.0601 - mse: 13.0601 - mae: 3.5458\n",
            "Epoch 3/100\n",
            "1/1 [==============================] - 0s 8ms/step - loss: 12.8651 - mse: 12.8651 - mae: 3.5179\n",
            "Epoch 4/100\n",
            "1/1 [==============================] - 0s 7ms/step - loss: 12.6730 - mse: 12.6730 - mae: 3.4900\n",
            "Epoch 5/100\n",
            "1/1 [==============================] - 0s 6ms/step - loss: 12.4825 - mse: 12.4825 - mae: 3.4622\n",
            "Epoch 6/100\n",
            "1/1 [==============================] - 0s 6ms/step - loss: 12.2907 - mse: 12.2907 - mae: 3.4342\n",
            "Epoch 7/100\n",
            "1/1 [==============================] - 0s 7ms/step - loss: 12.0970 - mse: 12.0970 - mae: 3.4057\n",
            "Epoch 8/100\n",
            "1/1 [==============================] - 0s 5ms/step - loss: 11.9043 - mse: 11.9043 - mae: 3.3771\n",
            "Epoch 9/100\n",
            "1/1 [==============================] - 0s 7ms/step - loss: 11.7113 - mse: 11.7113 - mae: 3.3482\n",
            "Epoch 10/100\n",
            "1/1 [==============================] - 0s 6ms/step - loss: 11.5166 - mse: 11.5166 - mae: 3.3189\n",
            "Epoch 11/100\n",
            "1/1 [==============================] - 0s 8ms/step - loss: 11.3174 - mse: 11.3174 - mae: 3.2887\n",
            "Epoch 12/100\n",
            "1/1 [==============================] - 0s 13ms/step - loss: 11.1126 - mse: 11.1126 - mae: 3.2574\n",
            "Epoch 13/100\n",
            "1/1 [==============================] - 0s 10ms/step - loss: 10.9052 - mse: 10.9052 - mae: 3.2255\n",
            "Epoch 14/100\n",
            "1/1 [==============================] - 0s 9ms/step - loss: 10.6915 - mse: 10.6915 - mae: 3.1923\n",
            "Epoch 15/100\n",
            "1/1 [==============================] - 0s 11ms/step - loss: 10.4679 - mse: 10.4679 - mae: 3.1572\n",
            "Epoch 16/100\n",
            "1/1 [==============================] - 0s 9ms/step - loss: 10.2302 - mse: 10.2302 - mae: 3.1195\n",
            "Epoch 17/100\n",
            "1/1 [==============================] - 0s 7ms/step - loss: 9.9779 - mse: 9.9779 - mae: 3.0788\n",
            "Epoch 18/100\n",
            "1/1 [==============================] - 0s 10ms/step - loss: 9.7117 - mse: 9.7117 - mae: 3.0351\n",
            "Epoch 19/100\n",
            "1/1 [==============================] - 0s 7ms/step - loss: 9.4362 - mse: 9.4362 - mae: 2.9891\n",
            "Epoch 20/100\n",
            "1/1 [==============================] - 0s 10ms/step - loss: 9.1490 - mse: 9.1490 - mae: 2.9401\n",
            "Epoch 21/100\n",
            "1/1 [==============================] - 0s 9ms/step - loss: 8.8500 - mse: 8.8500 - mae: 2.8881\n",
            "Epoch 22/100\n",
            "1/1 [==============================] - 0s 9ms/step - loss: 8.5384 - mse: 8.5384 - mae: 2.8327\n",
            "Epoch 23/100\n",
            "1/1 [==============================] - 0s 8ms/step - loss: 8.2137 - mse: 8.2137 - mae: 2.7737\n",
            "Epoch 24/100\n",
            "1/1 [==============================] - 0s 14ms/step - loss: 7.8746 - mse: 7.8746 - mae: 2.7104\n",
            "Epoch 25/100\n",
            "1/1 [==============================] - 0s 8ms/step - loss: 7.5200 - mse: 7.5200 - mae: 2.6423\n",
            "Epoch 26/100\n",
            "1/1 [==============================] - 0s 5ms/step - loss: 7.1520 - mse: 7.1520 - mae: 2.5694\n",
            "Epoch 27/100\n",
            "1/1 [==============================] - 0s 5ms/step - loss: 6.7736 - mse: 6.7736 - mae: 2.4915\n",
            "Epoch 28/100\n",
            "1/1 [==============================] - 0s 5ms/step - loss: 6.3868 - mse: 6.3868 - mae: 2.4086\n",
            "Epoch 29/100\n",
            "1/1 [==============================] - 0s 6ms/step - loss: 5.9940 - mse: 5.9940 - mae: 2.3208\n",
            "Epoch 30/100\n",
            "1/1 [==============================] - 0s 7ms/step - loss: 5.5975 - mse: 5.5975 - mae: 2.2279\n",
            "Epoch 31/100\n",
            "1/1 [==============================] - 0s 7ms/step - loss: 5.1984 - mse: 5.1984 - mae: 2.1297\n",
            "Epoch 32/100\n",
            "1/1 [==============================] - 0s 14ms/step - loss: 4.8003 - mse: 4.8003 - mae: 2.0276\n",
            "Epoch 33/100\n",
            "1/1 [==============================] - 0s 6ms/step - loss: 4.4051 - mse: 4.4051 - mae: 1.9421\n",
            "Epoch 34/100\n",
            "1/1 [==============================] - 0s 6ms/step - loss: 4.0196 - mse: 4.0196 - mae: 1.8526\n",
            "Epoch 35/100\n",
            "1/1 [==============================] - 0s 6ms/step - loss: 3.6468 - mse: 3.6468 - mae: 1.7591\n",
            "Epoch 36/100\n",
            "1/1 [==============================] - 0s 8ms/step - loss: 3.2898 - mse: 3.2898 - mae: 1.6610\n",
            "Epoch 37/100\n",
            "1/1 [==============================] - 0s 17ms/step - loss: 2.9519 - mse: 2.9519 - mae: 1.5581\n",
            "Epoch 38/100\n",
            "1/1 [==============================] - 0s 8ms/step - loss: 2.6394 - mse: 2.6394 - mae: 1.4508\n",
            "Epoch 39/100\n",
            "1/1 [==============================] - 0s 9ms/step - loss: 2.3571 - mse: 2.3571 - mae: 1.3395\n",
            "Epoch 40/100\n",
            "1/1 [==============================] - 0s 10ms/step - loss: 2.1105 - mse: 2.1105 - mae: 1.2252\n",
            "Epoch 41/100\n",
            "1/1 [==============================] - 0s 16ms/step - loss: 1.9046 - mse: 1.9046 - mae: 1.1293\n",
            "Epoch 42/100\n",
            "1/1 [==============================] - 0s 14ms/step - loss: 1.7425 - mse: 1.7425 - mae: 1.0918\n",
            "Epoch 43/100\n",
            "1/1 [==============================] - 0s 12ms/step - loss: 1.6253 - mse: 1.6253 - mae: 1.0641\n",
            "Epoch 44/100\n",
            "1/1 [==============================] - 0s 6ms/step - loss: 1.5514 - mse: 1.5514 - mae: 1.0458\n",
            "Epoch 45/100\n",
            "1/1 [==============================] - 0s 8ms/step - loss: 1.5164 - mse: 1.5164 - mae: 1.0266\n",
            "Epoch 46/100\n",
            "1/1 [==============================] - 0s 8ms/step - loss: 1.5127 - mse: 1.5127 - mae: 1.0111\n",
            "Epoch 47/100\n",
            "1/1 [==============================] - 0s 10ms/step - loss: 1.5311 - mse: 1.5311 - mae: 1.0058\n",
            "Epoch 48/100\n",
            "1/1 [==============================] - 0s 8ms/step - loss: 1.5623 - mse: 1.5623 - mae: 1.0045\n",
            "Epoch 49/100\n",
            "1/1 [==============================] - 0s 8ms/step - loss: 1.5933 - mse: 1.5933 - mae: 0.9992\n",
            "Epoch 50/100\n",
            "1/1 [==============================] - 0s 9ms/step - loss: 1.6137 - mse: 1.6137 - mae: 0.9900\n",
            "Epoch 51/100\n",
            "1/1 [==============================] - 0s 8ms/step - loss: 1.6170 - mse: 1.6170 - mae: 0.9774\n",
            "Epoch 52/100\n",
            "1/1 [==============================] - 0s 6ms/step - loss: 1.6007 - mse: 1.6007 - mae: 0.9622\n",
            "Epoch 53/100\n",
            "1/1 [==============================] - 0s 9ms/step - loss: 1.5649 - mse: 1.5649 - mae: 0.9447\n",
            "Epoch 54/100\n",
            "1/1 [==============================] - 0s 10ms/step - loss: 1.5126 - mse: 1.5126 - mae: 0.9256\n",
            "Epoch 55/100\n",
            "1/1 [==============================] - 0s 8ms/step - loss: 1.4486 - mse: 1.4486 - mae: 0.9055\n",
            "Epoch 56/100\n",
            "1/1 [==============================] - 0s 8ms/step - loss: 1.3780 - mse: 1.3780 - mae: 0.8850\n",
            "Epoch 57/100\n",
            "1/1 [==============================] - 0s 7ms/step - loss: 1.3084 - mse: 1.3084 - mae: 0.8649\n",
            "Epoch 58/100\n",
            "1/1 [==============================] - 0s 8ms/step - loss: 1.2424 - mse: 1.2424 - mae: 0.8470\n",
            "Epoch 59/100\n",
            "1/1 [==============================] - 0s 10ms/step - loss: 1.1816 - mse: 1.1816 - mae: 0.8348\n",
            "Epoch 60/100\n",
            "1/1 [==============================] - 0s 35ms/step - loss: 1.1279 - mse: 1.1279 - mae: 0.8232\n",
            "Epoch 61/100\n",
            "1/1 [==============================] - 0s 9ms/step - loss: 1.0821 - mse: 1.0821 - mae: 0.8125\n",
            "Epoch 62/100\n",
            "1/1 [==============================] - 0s 22ms/step - loss: 1.0436 - mse: 1.0436 - mae: 0.8070\n",
            "Epoch 63/100\n",
            "1/1 [==============================] - 0s 15ms/step - loss: 1.0115 - mse: 1.0115 - mae: 0.8012\n",
            "Epoch 64/100\n",
            "1/1 [==============================] - 0s 16ms/step - loss: 0.9848 - mse: 0.9848 - mae: 0.7977\n",
            "Epoch 65/100\n",
            "1/1 [==============================] - 0s 8ms/step - loss: 0.9619 - mse: 0.9619 - mae: 0.7973\n",
            "Epoch 66/100\n",
            "1/1 [==============================] - 0s 24ms/step - loss: 0.9416 - mse: 0.9416 - mae: 0.7954\n",
            "Epoch 67/100\n",
            "1/1 [==============================] - 0s 14ms/step - loss: 0.9226 - mse: 0.9226 - mae: 0.7918\n",
            "Epoch 68/100\n",
            "1/1 [==============================] - 0s 32ms/step - loss: 0.9038 - mse: 0.9038 - mae: 0.7864\n",
            "Epoch 69/100\n",
            "1/1 [==============================] - 0s 6ms/step - loss: 0.8844 - mse: 0.8844 - mae: 0.7792\n",
            "Epoch 70/100\n",
            "1/1 [==============================] - 0s 6ms/step - loss: 0.8641 - mse: 0.8641 - mae: 0.7705\n",
            "Epoch 71/100\n",
            "1/1 [==============================] - 0s 7ms/step - loss: 0.8430 - mse: 0.8430 - mae: 0.7606\n",
            "Epoch 72/100\n",
            "1/1 [==============================] - 0s 8ms/step - loss: 0.8207 - mse: 0.8207 - mae: 0.7491\n",
            "Epoch 73/100\n",
            "1/1 [==============================] - 0s 8ms/step - loss: 0.7979 - mse: 0.7979 - mae: 0.7364\n",
            "Epoch 74/100\n",
            "1/1 [==============================] - 0s 14ms/step - loss: 0.7743 - mse: 0.7743 - mae: 0.7226\n",
            "Epoch 75/100\n",
            "1/1 [==============================] - 0s 9ms/step - loss: 0.7502 - mse: 0.7502 - mae: 0.7075\n",
            "Epoch 76/100\n",
            "1/1 [==============================] - 0s 10ms/step - loss: 0.7263 - mse: 0.7263 - mae: 0.6915\n",
            "Epoch 77/100\n",
            "1/1 [==============================] - 0s 7ms/step - loss: 0.7032 - mse: 0.7032 - mae: 0.6750\n",
            "Epoch 78/100\n",
            "1/1 [==============================] - 0s 10ms/step - loss: 0.6817 - mse: 0.6817 - mae: 0.6611\n",
            "Epoch 79/100\n",
            "1/1 [==============================] - 0s 9ms/step - loss: 0.6621 - mse: 0.6621 - mae: 0.6485\n",
            "Epoch 80/100\n",
            "1/1 [==============================] - 0s 11ms/step - loss: 0.6441 - mse: 0.6441 - mae: 0.6357\n",
            "Epoch 81/100\n",
            "1/1 [==============================] - 0s 10ms/step - loss: 0.6277 - mse: 0.6277 - mae: 0.6231\n",
            "Epoch 82/100\n",
            "1/1 [==============================] - 0s 6ms/step - loss: 0.6126 - mse: 0.6126 - mae: 0.6107\n",
            "Epoch 83/100\n",
            "1/1 [==============================] - 0s 9ms/step - loss: 0.5991 - mse: 0.5991 - mae: 0.5987\n",
            "Epoch 84/100\n",
            "1/1 [==============================] - 0s 8ms/step - loss: 0.5865 - mse: 0.5865 - mae: 0.5878\n",
            "Epoch 85/100\n",
            "1/1 [==============================] - 0s 8ms/step - loss: 0.5745 - mse: 0.5745 - mae: 0.5790\n",
            "Epoch 86/100\n",
            "1/1 [==============================] - 0s 5ms/step - loss: 0.5629 - mse: 0.5629 - mae: 0.5733\n",
            "Epoch 87/100\n",
            "1/1 [==============================] - 0s 9ms/step - loss: 0.5512 - mse: 0.5512 - mae: 0.5676\n",
            "Epoch 88/100\n",
            "1/1 [==============================] - 0s 7ms/step - loss: 0.5394 - mse: 0.5394 - mae: 0.5630\n",
            "Epoch 89/100\n",
            "1/1 [==============================] - 0s 8ms/step - loss: 0.5275 - mse: 0.5275 - mae: 0.5594\n",
            "Epoch 90/100\n",
            "1/1 [==============================] - 0s 6ms/step - loss: 0.5153 - mse: 0.5153 - mae: 0.5557\n",
            "Epoch 91/100\n",
            "1/1 [==============================] - 0s 8ms/step - loss: 0.5029 - mse: 0.5029 - mae: 0.5513\n",
            "Epoch 92/100\n",
            "1/1 [==============================] - 0s 9ms/step - loss: 0.4906 - mse: 0.4906 - mae: 0.5462\n",
            "Epoch 93/100\n",
            "1/1 [==============================] - 0s 16ms/step - loss: 0.4786 - mse: 0.4786 - mae: 0.5418\n",
            "Epoch 94/100\n",
            "1/1 [==============================] - 0s 6ms/step - loss: 0.4670 - mse: 0.4670 - mae: 0.5380\n",
            "Epoch 95/100\n",
            "1/1 [==============================] - 0s 7ms/step - loss: 0.4558 - mse: 0.4558 - mae: 0.5341\n",
            "Epoch 96/100\n",
            "1/1 [==============================] - 0s 11ms/step - loss: 0.4450 - mse: 0.4450 - mae: 0.5301\n",
            "Epoch 97/100\n",
            "1/1 [==============================] - 0s 6ms/step - loss: 0.4347 - mse: 0.4347 - mae: 0.5261\n",
            "Epoch 98/100\n",
            "1/1 [==============================] - 0s 13ms/step - loss: 0.4250 - mse: 0.4250 - mae: 0.5226\n",
            "Epoch 99/100\n",
            "1/1 [==============================] - 0s 6ms/step - loss: 0.4159 - mse: 0.4159 - mae: 0.5196\n",
            "Epoch 100/100\n",
            "1/1 [==============================] - 0s 5ms/step - loss: 0.4071 - mse: 0.4071 - mae: 0.5166\n"
          ],
          "name": "stdout"
        },
        {
          "output_type": "execute_result",
          "data": {
            "text/plain": [
              "<tensorflow.python.keras.callbacks.History at 0x7fc459f8fe10>"
            ]
          },
          "metadata": {
            "tags": []
          },
          "execution_count": 33
        }
      ]
    },
    {
      "cell_type": "code",
      "metadata": {
        "colab": {
          "base_uri": "https://localhost:8080/",
          "height": 319
        },
        "id": "J_-zYEwT7PZ6",
        "outputId": "520aae5a-a004-4265-ebaf-e35adef13be5"
      },
      "source": [
        "plt.scatter(x, model.predict(x))"
      ],
      "execution_count": 34,
      "outputs": [
        {
          "output_type": "stream",
          "text": [
            "WARNING:tensorflow:5 out of the last 8 calls to <function Model.make_predict_function.<locals>.predict_function at 0x7fc459e3b8c0> triggered tf.function retracing. Tracing is expensive and the excessive number of tracings could be due to (1) creating @tf.function repeatedly in a loop, (2) passing tensors with different shapes, (3) passing Python objects instead of tensors. For (1), please define your @tf.function outside of the loop. For (2), @tf.function has experimental_relax_shapes=True option that relaxes argument shapes that can avoid unnecessary retracing. For (3), please refer to https://www.tensorflow.org/guide/function#controlling_retracing and https://www.tensorflow.org/api_docs/python/tf/function for  more details.\n"
          ],
          "name": "stdout"
        },
        {
          "output_type": "execute_result",
          "data": {
            "text/plain": [
              "<matplotlib.collections.PathCollection at 0x7fc41546aad0>"
            ]
          },
          "metadata": {
            "tags": []
          },
          "execution_count": 34
        },
        {
          "output_type": "display_data",
          "data": {
            "image/png": "[encoded data removed]",
            "text/plain": [
              "<Figure size 432x288 with 1 Axes>"
            ]
          },
          "metadata": {
            "tags": [],
            "needs_background": "light"
          }
        }
      ]
    },
    {
      "cell_type": "code",
      "metadata": {
        "colab": {
          "base_uri": "https://localhost:8080/",
          "height": 282
        },
        "id": "cV_qBvtw734T",
        "outputId": "3a5ab38f-4132-47a6-cd18-7db3a2aa8ec9"
      },
      "source": [
        "plt.scatter(x, y)"
      ],
      "execution_count": 35,
      "outputs": [
        {
          "output_type": "execute_result",
          "data": {
            "text/plain": [
              "<matplotlib.collections.PathCollection at 0x7fc41458afd0>"
            ]
          },
          "metadata": {
            "tags": []
          },
          "execution_count": 35
        },
        {
          "output_type": "display_data",
          "data": {
            "image/png": "[encoded data removed]",
            "text/plain": [
              "<Figure size 432x288 with 1 Axes>"
            ]
          },
          "metadata": {
            "tags": [],
            "needs_background": "light"
          }
        }
      ]
    },
    {
      "cell_type": "markdown",
      "metadata": {
        "id": "qGFCy85D_dTz"
      },
      "source": [
        "### Summarizing and Visualizing the Model"
      ]
    },
    {
      "cell_type": "markdown",
      "metadata": {
        "id": "q-dxsaWRfSyU"
      },
      "source": [
        "In practice, a typical workflow you'll go through when building neural network is:\n",
        "\n",
        "```\n",
        "Build a model -> fit it -> evaluate it -> tweak a model -> \n",
        "fit it -> evaluate it -> tweak a model -> fit it -> evaluate it ...\n",
        "```"
      ]
    },
    {
      "cell_type": "markdown",
      "metadata": {
        "id": "hUIkfdecDYjZ"
      },
      "source": [
        "A good way to evaluate model is to visualize it. It's generally a good idea to visualize:\n",
        "*  The data - what data are we working with? What does it look like?\n",
        "*  The model - what does our model look like?\n",
        "*  The training of a model - how does a model perform whilte it learns?\n",
        "*  The predictions o the model - how do the predictions of a model line up against the true values?"
      ]
    },
    {
      "cell_type": "code",
      "metadata": {
        "colab": {
          "base_uri": "https://localhost:8080/",
          "height": 265
        },
        "id": "xmhwrT2hgM9e",
        "outputId": "77c976f0-d3b7-43f8-cabb-da3620897d6a"
      },
      "source": [
        "# Let's create a bigger dataset\n",
        "np.random.seed(42)\n",
        "x = np.random.normal(size = 250)\n",
        "y = 5.123 + 1.869 * x + 1.3*np.square(x) + np.random.normal(size = 250, scale = 1.852)\n",
        "plt.scatter(x, y);"
      ],
      "execution_count": 36,
      "outputs": [
        {
          "output_type": "display_data",
          "data": {
            "image/png": "[encoded data removed]",
            "text/plain": [
              "<Figure size 432x288 with 1 Axes>"
            ]
          },
          "metadata": {
            "tags": [],
            "needs_background": "light"
          }
        }
      ]
    },
    {
      "cell_type": "code",
      "metadata": {
        "colab": {
          "base_uri": "https://localhost:8080/"
        },
        "id": "1KCEnDlgghnw",
        "outputId": "504fedf9-51b0-4635-8ab2-e7aed566e3e3"
      },
      "source": [
        "# Now let's split x and y into training and testing set (let's skip validation set)\n",
        "print('Length of data:', len(x))\n",
        "\n",
        "# Split the data into train and test sets\n",
        "x_train = x[:200] # The first 200 samples \n",
        "x_test = x[200:] # The last 50 samples\n",
        "\n",
        "y_train = y[:200]\n",
        "y_test = y[200:]\n",
        "\n",
        "print('Length of x train:', len(x_train))\n",
        "print('Length of x test:', len(x_test))\n",
        "print('Length of y train:', len(y_train))\n",
        "print('Length of y test:', len(y_test))"
      ],
      "execution_count": 37,
      "outputs": [
        {
          "output_type": "stream",
          "text": [
            "Length of data: 250\n",
            "Length of x train: 200\n",
            "Length of x test: 50\n",
            "Length of y train: 200\n",
            "Length of y test: 50\n"
          ],
          "name": "stdout"
        }
      ]
    },
    {
      "cell_type": "code",
      "metadata": {
        "colab": {
          "base_uri": "https://localhost:8080/",
          "height": 428
        },
        "id": "vkLyUgZiiLOp",
        "outputId": "7364a855-fa72-49e0-8ea0-704a11211f94"
      },
      "source": [
        "# Let's plot two sets of data\n",
        "plt.figure(figsize = (10, 7))\n",
        "plt.scatter(x_train, y_train, c = 'b', label = 'Training data')\n",
        "plt.scatter(x_test, y_test, c = 'g', label = 'Testing data')\n",
        "plt.legend()\n",
        "plt.show();"
      ],
      "execution_count": 38,
      "outputs": [
        {
          "output_type": "display_data",
          "data": {
            "image/png": "[encoded data removed]",
            "text/plain": [
              "<Figure size 720x504 with 1 Axes>"
            ]
          },
          "metadata": {
            "tags": [],
            "needs_background": "light"
          }
        }
      ]
    },
    {
      "cell_type": "code",
      "metadata": {
        "id": "jG7k-nBojzI1"
      },
      "source": [
        "# Let's build a model in order to figure out the relationship between train and test data\n",
        "# Let's first visualize the model itself before fitting it\n",
        "# We need to define the model and build it or fit it\n",
        "# Alternatively, we can specify input_shape argument in the first layer and it will build automatically\n",
        "\n",
        "model = tf.keras.Sequential(name = 'Network1')\n",
        "model.add(\n",
        "    tf.keras.layers.Dense(\n",
        "        units = 50, \n",
        "        input_shape = [1],  # figure out the input_shape\n",
        "        activation = 'relu', \n",
        "        use_bias = True,\n",
        "        name = 'Layer1'\n",
        "        )\n",
        "    )\n",
        "model.add(\n",
        "    tf.keras.layers.Dense(\n",
        "        50, \n",
        "        activation = 'relu', \n",
        "        use_bias = True, \n",
        "        kernel_regularizer = tf.keras.regularizers.L2(),\n",
        "        name = 'Layer2'\n",
        "        )\n",
        "    ) \n",
        "model.add(tf.keras.layers.Dense(1, name = 'Output'))\n",
        "\n",
        "model.compile(\n",
        "    loss = tf.keras.losses.mse, \n",
        "    optimizer = tf.keras.optimizers.Adam(lr = 0.0001), \n",
        "    metrics = ['mse', 'mae']\n",
        "    )"
      ],
      "execution_count": 39,
      "outputs": []
    },
    {
      "cell_type": "code",
      "metadata": {
        "colab": {
          "base_uri": "https://localhost:8080/"
        },
        "id": "gFAKfqNlk6CM",
        "outputId": "c8c7bd95-d6bc-4700-d028-2328870d795c"
      },
      "source": [
        "model.summary()"
      ],
      "execution_count": 40,
      "outputs": [
        {
          "output_type": "stream",
          "text": [
            "Model: \"Network1\"\n",
            "_________________________________________________________________\n",
            "Layer (type)                 Output Shape              Param #   \n",
            "=================================================================\n",
            "Layer1 (Dense)               (None, 50)                100       \n",
            "_________________________________________________________________\n",
            "Layer2 (Dense)               (None, 50)                2550      \n",
            "_________________________________________________________________\n",
            "Output (Dense)               (None, 1)                 51        \n",
            "=================================================================\n",
            "Total params: 2,701\n",
            "Trainable params: 2,701\n",
            "Non-trainable params: 0\n",
            "_________________________________________________________________\n"
          ],
          "name": "stdout"
        }
      ]
    },
    {
      "cell_type": "markdown",
      "metadata": {
        "id": "UQr73VONlcAm"
      },
      "source": [
        "In the previous table, the total parameters indicates the total number of parameters in the model. Trainable parameters are those the model can update as it trains. Nontrainable parameters aren't updated during training (this is typicall when we bring in already trained parameters from other models during *transfer learning*). "
      ]
    },
    {
      "cell_type": "code",
      "metadata": {
        "colab": {
          "base_uri": "https://localhost:8080/"
        },
        "id": "d5zjvWl0nX9k",
        "outputId": "f8449ba2-1c66-4db1-fd2c-b8e21463e53e"
      },
      "source": [
        "model.fit(x_train, y_train, epochs = 200)"
      ],
      "execution_count": 41,
      "outputs": [
        {
          "output_type": "stream",
          "text": [
            "Epoch 1/200\n",
            "7/7 [==============================] - 0s 3ms/step - loss: 48.8328 - mse: 48.3271 - mae: 6.2444\n",
            "Epoch 2/200\n",
            "7/7 [==============================] - 0s 2ms/step - loss: 47.6184 - mse: 47.1151 - mae: 6.2070\n",
            "Epoch 3/200\n",
            "7/7 [==============================] - 0s 2ms/step - loss: 46.4226 - mse: 45.9216 - mae: 6.1003\n",
            "Epoch 4/200\n",
            "7/7 [==============================] - 0s 2ms/step - loss: 46.2813 - mse: 45.7826 - mae: 6.1084\n",
            "Epoch 5/200\n",
            "7/7 [==============================] - 0s 3ms/step - loss: 47.9337 - mse: 47.4373 - mae: 6.2708\n",
            "Epoch 6/200\n",
            "7/7 [==============================] - 0s 3ms/step - loss: 47.3536 - mse: 46.8595 - mae: 6.1135\n",
            "Epoch 7/200\n",
            "7/7 [==============================] - 0s 2ms/step - loss: 46.8866 - mse: 46.3948 - mae: 6.1635\n",
            "Epoch 8/200\n",
            "7/7 [==============================] - 0s 3ms/step - loss: 48.6287 - mse: 48.1390 - mae: 6.2848\n",
            "Epoch 9/200\n",
            "7/7 [==============================] - 0s 3ms/step - loss: 48.6016 - mse: 48.1140 - mae: 6.2029\n",
            "Epoch 10/200\n",
            "7/7 [==============================] - 0s 2ms/step - loss: 48.6026 - mse: 48.1170 - mae: 6.2673\n",
            "Epoch 11/200\n",
            "7/7 [==============================] - 0s 3ms/step - loss: 41.9024 - mse: 41.4187 - mae: 5.8239\n",
            "Epoch 12/200\n",
            "7/7 [==============================] - 0s 3ms/step - loss: 43.9487 - mse: 43.4670 - mae: 6.0196\n",
            "Epoch 13/200\n",
            "7/7 [==============================] - 0s 3ms/step - loss: 48.0052 - mse: 47.5253 - mae: 6.1821\n",
            "Epoch 14/200\n",
            "7/7 [==============================] - 0s 3ms/step - loss: 46.2428 - mse: 45.7647 - mae: 6.0802\n",
            "Epoch 15/200\n",
            "7/7 [==============================] - 0s 3ms/step - loss: 42.6687 - mse: 42.1924 - mae: 5.8945\n",
            "Epoch 16/200\n",
            "7/7 [==============================] - 0s 3ms/step - loss: 42.5980 - mse: 42.1235 - mae: 5.8821\n",
            "Epoch 17/200\n",
            "7/7 [==============================] - 0s 4ms/step - loss: 45.1512 - mse: 44.6783 - mae: 5.9750\n",
            "Epoch 18/200\n",
            "7/7 [==============================] - 0s 3ms/step - loss: 46.5921 - mse: 46.1209 - mae: 6.1416\n",
            "Epoch 19/200\n",
            "7/7 [==============================] - 0s 3ms/step - loss: 45.3340 - mse: 44.8644 - mae: 6.0414\n",
            "Epoch 20/200\n",
            "7/7 [==============================] - 0s 3ms/step - loss: 44.9250 - mse: 44.4570 - mae: 5.9209\n",
            "Epoch 21/200\n",
            "7/7 [==============================] - 0s 3ms/step - loss: 41.0054 - mse: 40.5389 - mae: 5.7444\n",
            "Epoch 22/200\n",
            "7/7 [==============================] - 0s 3ms/step - loss: 44.2687 - mse: 43.8037 - mae: 5.8975\n",
            "Epoch 23/200\n",
            "7/7 [==============================] - 0s 3ms/step - loss: 44.4244 - mse: 43.9608 - mae: 5.9487\n",
            "Epoch 24/200\n",
            "7/7 [==============================] - 0s 3ms/step - loss: 46.0182 - mse: 45.5561 - mae: 5.9714\n",
            "Epoch 25/200\n",
            "7/7 [==============================] - 0s 3ms/step - loss: 41.0878 - mse: 40.6270 - mae: 5.7212\n",
            "Epoch 26/200\n",
            "7/7 [==============================] - 0s 3ms/step - loss: 41.6950 - mse: 41.2355 - mae: 5.8153\n",
            "Epoch 27/200\n",
            "7/7 [==============================] - 0s 3ms/step - loss: 39.6295 - mse: 39.1713 - mae: 5.6282\n",
            "Epoch 28/200\n",
            "7/7 [==============================] - 0s 3ms/step - loss: 40.7728 - mse: 40.3158 - mae: 5.7550\n",
            "Epoch 29/200\n",
            "7/7 [==============================] - 0s 3ms/step - loss: 43.8604 - mse: 43.4045 - mae: 5.8250\n",
            "Epoch 30/200\n",
            "7/7 [==============================] - 0s 3ms/step - loss: 41.3943 - mse: 40.9396 - mae: 5.7243\n",
            "Epoch 31/200\n",
            "7/7 [==============================] - 0s 3ms/step - loss: 43.7318 - mse: 43.2781 - mae: 5.9327\n",
            "Epoch 32/200\n",
            "7/7 [==============================] - 0s 3ms/step - loss: 39.0298 - mse: 38.5771 - mae: 5.5502\n",
            "Epoch 33/200\n",
            "7/7 [==============================] - 0s 3ms/step - loss: 39.3853 - mse: 38.9336 - mae: 5.5553\n",
            "Epoch 34/200\n",
            "7/7 [==============================] - 0s 4ms/step - loss: 38.9720 - mse: 38.5212 - mae: 5.5671\n",
            "Epoch 35/200\n",
            "7/7 [==============================] - 0s 3ms/step - loss: 39.7059 - mse: 39.2561 - mae: 5.6504\n",
            "Epoch 36/200\n",
            "7/7 [==============================] - 0s 3ms/step - loss: 38.2478 - mse: 37.7987 - mae: 5.4396\n",
            "Epoch 37/200\n",
            "7/7 [==============================] - 0s 3ms/step - loss: 37.1163 - mse: 36.6681 - mae: 5.4164\n",
            "Epoch 38/200\n",
            "7/7 [==============================] - 0s 4ms/step - loss: 38.2997 - mse: 37.8523 - mae: 5.5272\n",
            "Epoch 39/200\n",
            "7/7 [==============================] - 0s 3ms/step - loss: 38.9161 - mse: 38.4694 - mae: 5.4847\n",
            "Epoch 40/200\n",
            "7/7 [==============================] - 0s 3ms/step - loss: 39.9535 - mse: 39.5075 - mae: 5.6020\n",
            "Epoch 41/200\n",
            "7/7 [==============================] - 0s 5ms/step - loss: 36.8176 - mse: 36.3722 - mae: 5.4424\n",
            "Epoch 42/200\n",
            "7/7 [==============================] - 0s 3ms/step - loss: 34.5193 - mse: 34.0745 - mae: 5.2924\n",
            "Epoch 43/200\n",
            "7/7 [==============================] - 0s 3ms/step - loss: 34.7750 - mse: 34.3307 - mae: 5.2384\n",
            "Epoch 44/200\n",
            "7/7 [==============================] - 0s 3ms/step - loss: 35.6233 - mse: 35.1796 - mae: 5.2981\n",
            "Epoch 45/200\n",
            "7/7 [==============================] - 0s 3ms/step - loss: 36.3592 - mse: 35.9159 - mae: 5.3025\n",
            "Epoch 46/200\n",
            "7/7 [==============================] - 0s 3ms/step - loss: 39.0837 - mse: 38.6409 - mae: 5.5061\n",
            "Epoch 47/200\n",
            "7/7 [==============================] - 0s 3ms/step - loss: 32.5877 - mse: 32.1454 - mae: 5.0799\n",
            "Epoch 48/200\n",
            "7/7 [==============================] - 0s 3ms/step - loss: 35.9490 - mse: 35.5070 - mae: 5.2505\n",
            "Epoch 49/200\n",
            "7/7 [==============================] - 0s 3ms/step - loss: 33.5237 - mse: 33.0821 - mae: 5.1418\n",
            "Epoch 50/200\n",
            "7/7 [==============================] - 0s 3ms/step - loss: 32.4005 - mse: 31.9594 - mae: 5.0295\n",
            "Epoch 51/200\n",
            "7/7 [==============================] - 0s 3ms/step - loss: 29.7535 - mse: 29.3126 - mae: 4.8528\n",
            "Epoch 52/200\n",
            "7/7 [==============================] - 0s 4ms/step - loss: 29.4290 - mse: 28.9885 - mae: 4.7713\n",
            "Epoch 53/200\n",
            "7/7 [==============================] - 0s 3ms/step - loss: 34.2610 - mse: 33.8208 - mae: 5.1864\n",
            "Epoch 54/200\n",
            "7/7 [==============================] - 0s 2ms/step - loss: 32.0712 - mse: 31.6312 - mae: 5.0019\n",
            "Epoch 55/200\n",
            "7/7 [==============================] - 0s 3ms/step - loss: 33.0804 - mse: 32.6406 - mae: 5.0494\n",
            "Epoch 56/200\n",
            "7/7 [==============================] - 0s 3ms/step - loss: 31.0838 - mse: 30.6442 - mae: 4.9389\n",
            "Epoch 57/200\n",
            "7/7 [==============================] - 0s 3ms/step - loss: 30.3566 - mse: 29.9172 - mae: 4.8483\n",
            "Epoch 58/200\n",
            "7/7 [==============================] - 0s 2ms/step - loss: 31.7789 - mse: 31.3397 - mae: 4.8897\n",
            "Epoch 59/200\n",
            "7/7 [==============================] - 0s 3ms/step - loss: 29.8291 - mse: 29.3900 - mae: 4.7547\n",
            "Epoch 60/200\n",
            "7/7 [==============================] - 0s 2ms/step - loss: 25.9363 - mse: 25.4972 - mae: 4.4693\n",
            "Epoch 61/200\n",
            "7/7 [==============================] - 0s 4ms/step - loss: 27.3818 - mse: 26.9428 - mae: 4.6074\n",
            "Epoch 62/200\n",
            "7/7 [==============================] - 0s 3ms/step - loss: 29.8986 - mse: 29.4596 - mae: 4.8318\n",
            "Epoch 63/200\n",
            "7/7 [==============================] - 0s 3ms/step - loss: 27.7903 - mse: 27.3513 - mae: 4.5627\n",
            "Epoch 64/200\n",
            "7/7 [==============================] - 0s 3ms/step - loss: 25.8926 - mse: 25.4536 - mae: 4.4404\n",
            "Epoch 65/200\n",
            "7/7 [==============================] - 0s 3ms/step - loss: 26.4448 - mse: 26.0058 - mae: 4.4595\n",
            "Epoch 66/200\n",
            "7/7 [==============================] - 0s 3ms/step - loss: 26.3621 - mse: 25.9230 - mae: 4.5013\n",
            "Epoch 67/200\n",
            "7/7 [==============================] - 0s 3ms/step - loss: 24.5698 - mse: 24.1307 - mae: 4.3291\n",
            "Epoch 68/200\n",
            "7/7 [==============================] - 0s 3ms/step - loss: 26.2457 - mse: 25.8064 - mae: 4.4550\n",
            "Epoch 69/200\n",
            "7/7 [==============================] - 0s 3ms/step - loss: 22.9902 - mse: 22.5508 - mae: 4.1352\n",
            "Epoch 70/200\n",
            "7/7 [==============================] - 0s 3ms/step - loss: 22.9132 - mse: 22.4737 - mae: 4.1507\n",
            "Epoch 71/200\n",
            "7/7 [==============================] - 0s 3ms/step - loss: 23.5784 - mse: 23.1387 - mae: 4.1630\n",
            "Epoch 72/200\n",
            "7/7 [==============================] - 0s 3ms/step - loss: 24.0222 - mse: 23.5824 - mae: 4.2178\n",
            "Epoch 73/200\n",
            "7/7 [==============================] - 0s 3ms/step - loss: 21.6324 - mse: 21.1925 - mae: 4.0259\n",
            "Epoch 74/200\n",
            "7/7 [==============================] - 0s 5ms/step - loss: 20.4116 - mse: 19.9715 - mae: 3.9196\n",
            "Epoch 75/200\n",
            "7/7 [==============================] - 0s 3ms/step - loss: 22.0314 - mse: 21.5911 - mae: 4.0364\n",
            "Epoch 76/200\n",
            "7/7 [==============================] - 0s 3ms/step - loss: 20.5638 - mse: 20.1234 - mae: 3.8681\n",
            "Epoch 77/200\n",
            "7/7 [==============================] - 0s 5ms/step - loss: 20.9460 - mse: 20.5053 - mae: 3.9010\n",
            "Epoch 78/200\n",
            "7/7 [==============================] - 0s 3ms/step - loss: 21.4042 - mse: 20.9633 - mae: 3.9753\n",
            "Epoch 79/200\n",
            "7/7 [==============================] - 0s 4ms/step - loss: 19.5222 - mse: 19.0812 - mae: 3.7423\n",
            "Epoch 80/200\n",
            "7/7 [==============================] - 0s 3ms/step - loss: 18.5329 - mse: 18.0916 - mae: 3.6689\n",
            "Epoch 81/200\n",
            "7/7 [==============================] - 0s 3ms/step - loss: 20.6297 - mse: 20.1881 - mae: 3.8615\n",
            "Epoch 82/200\n",
            "7/7 [==============================] - 0s 4ms/step - loss: 19.0825 - mse: 18.6407 - mae: 3.6950\n",
            "Epoch 83/200\n",
            "7/7 [==============================] - 0s 4ms/step - loss: 17.1441 - mse: 16.7021 - mae: 3.4720\n",
            "Epoch 84/200\n",
            "7/7 [==============================] - 0s 3ms/step - loss: 18.6122 - mse: 18.1699 - mae: 3.6143\n",
            "Epoch 85/200\n",
            "7/7 [==============================] - 0s 3ms/step - loss: 15.9538 - mse: 15.5112 - mae: 3.3715\n",
            "Epoch 86/200\n",
            "7/7 [==============================] - 0s 2ms/step - loss: 19.1804 - mse: 18.7374 - mae: 3.6850\n",
            "Epoch 87/200\n",
            "7/7 [==============================] - 0s 4ms/step - loss: 16.6316 - mse: 16.1884 - mae: 3.4213\n",
            "Epoch 88/200\n",
            "7/7 [==============================] - 0s 3ms/step - loss: 16.0977 - mse: 15.6542 - mae: 3.3210\n",
            "Epoch 89/200\n",
            "7/7 [==============================] - 0s 3ms/step - loss: 16.1181 - mse: 15.6742 - mae: 3.3775\n",
            "Epoch 90/200\n",
            "7/7 [==============================] - 0s 4ms/step - loss: 15.5771 - mse: 15.1329 - mae: 3.3084\n",
            "Epoch 91/200\n",
            "7/7 [==============================] - 0s 3ms/step - loss: 17.6172 - mse: 17.1727 - mae: 3.5068\n",
            "Epoch 92/200\n",
            "7/7 [==============================] - 0s 3ms/step - loss: 13.7616 - mse: 13.3168 - mae: 3.0533\n",
            "Epoch 93/200\n",
            "7/7 [==============================] - 0s 7ms/step - loss: 13.2214 - mse: 12.7763 - mae: 3.0140\n",
            "Epoch 94/200\n",
            "7/7 [==============================] - 0s 4ms/step - loss: 13.7117 - mse: 13.2663 - mae: 3.0565\n",
            "Epoch 95/200\n",
            "7/7 [==============================] - 0s 3ms/step - loss: 13.9201 - mse: 13.4744 - mae: 3.0534\n",
            "Epoch 96/200\n",
            "7/7 [==============================] - 0s 3ms/step - loss: 12.8424 - mse: 12.3963 - mae: 2.9364\n",
            "Epoch 97/200\n",
            "7/7 [==============================] - 0s 4ms/step - loss: 13.5687 - mse: 13.1223 - mae: 3.0311\n",
            "Epoch 98/200\n",
            "7/7 [==============================] - 0s 3ms/step - loss: 12.2159 - mse: 11.7690 - mae: 2.8396\n",
            "Epoch 99/200\n",
            "7/7 [==============================] - 0s 3ms/step - loss: 13.9257 - mse: 13.4785 - mae: 3.1012\n",
            "Epoch 100/200\n",
            "7/7 [==============================] - 0s 3ms/step - loss: 12.6954 - mse: 12.2478 - mae: 2.8931\n",
            "Epoch 101/200\n",
            "7/7 [==============================] - 0s 2ms/step - loss: 12.6759 - mse: 12.2280 - mae: 2.8954\n",
            "Epoch 102/200\n",
            "7/7 [==============================] - 0s 4ms/step - loss: 11.0048 - mse: 10.5565 - mae: 2.6822\n",
            "Epoch 103/200\n",
            "7/7 [==============================] - 0s 4ms/step - loss: 10.7941 - mse: 10.3455 - mae: 2.6659\n",
            "Epoch 104/200\n",
            "7/7 [==============================] - 0s 4ms/step - loss: 10.9039 - mse: 10.4551 - mae: 2.6524\n",
            "Epoch 105/200\n",
            "7/7 [==============================] - 0s 4ms/step - loss: 11.2669 - mse: 10.8178 - mae: 2.7106\n",
            "Epoch 106/200\n",
            "7/7 [==============================] - 0s 3ms/step - loss: 10.3265 - mse: 9.8771 - mae: 2.6038\n",
            "Epoch 107/200\n",
            "7/7 [==============================] - 0s 3ms/step - loss: 9.7076 - mse: 9.2579 - mae: 2.4854\n",
            "Epoch 108/200\n",
            "7/7 [==============================] - 0s 3ms/step - loss: 10.6093 - mse: 10.1593 - mae: 2.5792\n",
            "Epoch 109/200\n",
            "7/7 [==============================] - 0s 4ms/step - loss: 10.9594 - mse: 10.5090 - mae: 2.6299\n",
            "Epoch 110/200\n",
            "7/7 [==============================] - 0s 3ms/step - loss: 9.6838 - mse: 9.2332 - mae: 2.4629\n",
            "Epoch 111/200\n",
            "7/7 [==============================] - 0s 4ms/step - loss: 8.8626 - mse: 8.4117 - mae: 2.3096\n",
            "Epoch 112/200\n",
            "7/7 [==============================] - 0s 3ms/step - loss: 8.5295 - mse: 8.0784 - mae: 2.2847\n",
            "Epoch 113/200\n",
            "7/7 [==============================] - 0s 3ms/step - loss: 8.6208 - mse: 8.1695 - mae: 2.3138\n",
            "Epoch 114/200\n",
            "7/7 [==============================] - 0s 3ms/step - loss: 8.7178 - mse: 8.2664 - mae: 2.3546\n",
            "Epoch 115/200\n",
            "7/7 [==============================] - 0s 3ms/step - loss: 8.4856 - mse: 8.0340 - mae: 2.2552\n",
            "Epoch 116/200\n",
            "7/7 [==============================] - 0s 4ms/step - loss: 7.7118 - mse: 7.2600 - mae: 2.1657\n",
            "Epoch 117/200\n",
            "7/7 [==============================] - 0s 4ms/step - loss: 8.0910 - mse: 7.6391 - mae: 2.2120\n",
            "Epoch 118/200\n",
            "7/7 [==============================] - 0s 3ms/step - loss: 7.5041 - mse: 7.0520 - mae: 2.1309\n",
            "Epoch 119/200\n",
            "7/7 [==============================] - 0s 3ms/step - loss: 8.1953 - mse: 7.7430 - mae: 2.2622\n",
            "Epoch 120/200\n",
            "7/7 [==============================] - 0s 3ms/step - loss: 6.9618 - mse: 6.5094 - mae: 2.0474\n",
            "Epoch 121/200\n",
            "7/7 [==============================] - 0s 4ms/step - loss: 7.6265 - mse: 7.1739 - mae: 2.1728\n",
            "Epoch 122/200\n",
            "7/7 [==============================] - 0s 3ms/step - loss: 6.7849 - mse: 6.3322 - mae: 2.0133\n",
            "Epoch 123/200\n",
            "7/7 [==============================] - 0s 3ms/step - loss: 7.0973 - mse: 6.6445 - mae: 2.0516\n",
            "Epoch 124/200\n",
            "7/7 [==============================] - 0s 3ms/step - loss: 6.5888 - mse: 6.1360 - mae: 1.9642\n",
            "Epoch 125/200\n",
            "7/7 [==============================] - 0s 3ms/step - loss: 6.9252 - mse: 6.4723 - mae: 2.0368\n",
            "Epoch 126/200\n",
            "7/7 [==============================] - 0s 3ms/step - loss: 6.3363 - mse: 5.8832 - mae: 1.9394\n",
            "Epoch 127/200\n",
            "7/7 [==============================] - 0s 3ms/step - loss: 5.8419 - mse: 5.3888 - mae: 1.8394\n",
            "Epoch 128/200\n",
            "7/7 [==============================] - 0s 3ms/step - loss: 6.1680 - mse: 5.7149 - mae: 1.9017\n",
            "Epoch 129/200\n",
            "7/7 [==============================] - 0s 3ms/step - loss: 6.0351 - mse: 5.5820 - mae: 1.8828\n",
            "Epoch 130/200\n",
            "7/7 [==============================] - 0s 3ms/step - loss: 6.1832 - mse: 5.7300 - mae: 1.8816\n",
            "Epoch 131/200\n",
            "7/7 [==============================] - 0s 3ms/step - loss: 5.6915 - mse: 5.2383 - mae: 1.8111\n",
            "Epoch 132/200\n",
            "7/7 [==============================] - 0s 3ms/step - loss: 5.8068 - mse: 5.3536 - mae: 1.8596\n",
            "Epoch 133/200\n",
            "7/7 [==============================] - 0s 5ms/step - loss: 5.3665 - mse: 4.9133 - mae: 1.7350\n",
            "Epoch 134/200\n",
            "7/7 [==============================] - 0s 3ms/step - loss: 5.3927 - mse: 4.9395 - mae: 1.7330\n",
            "Epoch 135/200\n",
            "7/7 [==============================] - 0s 3ms/step - loss: 5.3310 - mse: 4.8777 - mae: 1.7130\n",
            "Epoch 136/200\n",
            "7/7 [==============================] - 0s 3ms/step - loss: 5.1450 - mse: 4.6918 - mae: 1.6876\n",
            "Epoch 137/200\n",
            "7/7 [==============================] - 0s 3ms/step - loss: 5.8877 - mse: 5.4346 - mae: 1.8230\n",
            "Epoch 138/200\n",
            "7/7 [==============================] - 0s 3ms/step - loss: 5.0870 - mse: 4.6339 - mae: 1.7084\n",
            "Epoch 139/200\n",
            "7/7 [==============================] - 0s 3ms/step - loss: 5.4908 - mse: 5.0378 - mae: 1.7623\n",
            "Epoch 140/200\n",
            "7/7 [==============================] - 0s 3ms/step - loss: 4.7184 - mse: 4.2655 - mae: 1.6318\n",
            "Epoch 141/200\n",
            "7/7 [==============================] - 0s 4ms/step - loss: 5.0439 - mse: 4.5910 - mae: 1.6832\n",
            "Epoch 142/200\n",
            "7/7 [==============================] - 0s 3ms/step - loss: 5.2202 - mse: 4.7675 - mae: 1.7215\n",
            "Epoch 143/200\n",
            "7/7 [==============================] - 0s 3ms/step - loss: 4.8213 - mse: 4.3687 - mae: 1.6412\n",
            "Epoch 144/200\n",
            "7/7 [==============================] - 0s 3ms/step - loss: 4.6141 - mse: 4.1617 - mae: 1.5995\n",
            "Epoch 145/200\n",
            "7/7 [==============================] - 0s 3ms/step - loss: 4.9330 - mse: 4.4807 - mae: 1.6639\n",
            "Epoch 146/200\n",
            "7/7 [==============================] - 0s 5ms/step - loss: 4.3710 - mse: 3.9189 - mae: 1.5093\n",
            "Epoch 147/200\n",
            "7/7 [==============================] - 0s 4ms/step - loss: 4.4331 - mse: 3.9813 - mae: 1.5299\n",
            "Epoch 148/200\n",
            "7/7 [==============================] - 0s 3ms/step - loss: 4.8202 - mse: 4.3686 - mae: 1.6334\n",
            "Epoch 149/200\n",
            "7/7 [==============================] - 0s 4ms/step - loss: 4.8747 - mse: 4.4232 - mae: 1.6570\n",
            "Epoch 150/200\n",
            "7/7 [==============================] - 0s 4ms/step - loss: 4.2640 - mse: 3.8128 - mae: 1.5124\n",
            "Epoch 151/200\n",
            "7/7 [==============================] - 0s 3ms/step - loss: 4.6364 - mse: 4.1855 - mae: 1.5807\n",
            "Epoch 152/200\n",
            "7/7 [==============================] - 0s 5ms/step - loss: 4.2824 - mse: 3.8316 - mae: 1.5032\n",
            "Epoch 153/200\n",
            "7/7 [==============================] - 0s 2ms/step - loss: 4.3119 - mse: 3.8614 - mae: 1.5305\n",
            "Epoch 154/200\n",
            "7/7 [==============================] - 0s 3ms/step - loss: 4.2604 - mse: 3.8102 - mae: 1.5223\n",
            "Epoch 155/200\n",
            "7/7 [==============================] - 0s 3ms/step - loss: 4.2403 - mse: 3.7905 - mae: 1.5136\n",
            "Epoch 156/200\n",
            "7/7 [==============================] - 0s 3ms/step - loss: 4.9636 - mse: 4.5140 - mae: 1.6698\n",
            "Epoch 157/200\n",
            "7/7 [==============================] - 0s 3ms/step - loss: 4.1155 - mse: 3.6662 - mae: 1.4695\n",
            "Epoch 158/200\n",
            "7/7 [==============================] - 0s 3ms/step - loss: 4.2506 - mse: 3.8016 - mae: 1.5009\n",
            "Epoch 159/200\n",
            "7/7 [==============================] - 0s 3ms/step - loss: 4.0750 - mse: 3.6264 - mae: 1.4640\n",
            "Epoch 160/200\n",
            "7/7 [==============================] - 0s 3ms/step - loss: 4.3908 - mse: 3.9424 - mae: 1.5307\n",
            "Epoch 161/200\n",
            "7/7 [==============================] - 0s 4ms/step - loss: 4.4219 - mse: 3.9738 - mae: 1.5387\n",
            "Epoch 162/200\n",
            "7/7 [==============================] - 0s 3ms/step - loss: 4.4418 - mse: 3.9941 - mae: 1.5669\n",
            "Epoch 163/200\n",
            "7/7 [==============================] - 0s 3ms/step - loss: 3.5618 - mse: 3.1145 - mae: 1.3476\n",
            "Epoch 164/200\n",
            "7/7 [==============================] - 0s 3ms/step - loss: 4.3552 - mse: 3.9083 - mae: 1.5417\n",
            "Epoch 165/200\n",
            "7/7 [==============================] - 0s 3ms/step - loss: 4.1681 - mse: 3.7215 - mae: 1.5300\n",
            "Epoch 166/200\n",
            "7/7 [==============================] - 0s 3ms/step - loss: 4.1321 - mse: 3.6859 - mae: 1.4647\n",
            "Epoch 167/200\n",
            "7/7 [==============================] - 0s 3ms/step - loss: 3.4875 - mse: 3.0418 - mae: 1.3354\n",
            "Epoch 168/200\n",
            "7/7 [==============================] - 0s 3ms/step - loss: 4.1062 - mse: 3.6610 - mae: 1.5113\n",
            "Epoch 169/200\n",
            "7/7 [==============================] - 0s 3ms/step - loss: 4.2454 - mse: 3.8006 - mae: 1.5415\n",
            "Epoch 170/200\n",
            "7/7 [==============================] - 0s 3ms/step - loss: 4.0593 - mse: 3.6148 - mae: 1.4737\n",
            "Epoch 171/200\n",
            "7/7 [==============================] - 0s 5ms/step - loss: 4.2705 - mse: 3.8263 - mae: 1.5281\n",
            "Epoch 172/200\n",
            "7/7 [==============================] - 0s 3ms/step - loss: 3.8897 - mse: 3.4459 - mae: 1.4646\n",
            "Epoch 173/200\n",
            "7/7 [==============================] - 0s 5ms/step - loss: 4.1224 - mse: 3.6790 - mae: 1.4938\n",
            "Epoch 174/200\n",
            "7/7 [==============================] - 0s 3ms/step - loss: 3.5160 - mse: 3.0731 - mae: 1.3472\n",
            "Epoch 175/200\n",
            "7/7 [==============================] - 0s 3ms/step - loss: 3.7425 - mse: 3.2999 - mae: 1.4202\n",
            "Epoch 176/200\n",
            "7/7 [==============================] - 0s 3ms/step - loss: 3.8400 - mse: 3.3977 - mae: 1.4299\n",
            "Epoch 177/200\n",
            "7/7 [==============================] - 0s 5ms/step - loss: 3.9869 - mse: 3.5449 - mae: 1.4708\n",
            "Epoch 178/200\n",
            "7/7 [==============================] - 0s 4ms/step - loss: 4.0343 - mse: 3.5927 - mae: 1.4808\n",
            "Epoch 179/200\n",
            "7/7 [==============================] - 0s 3ms/step - loss: 4.3647 - mse: 3.9235 - mae: 1.5888\n",
            "Epoch 180/200\n",
            "7/7 [==============================] - 0s 3ms/step - loss: 4.1146 - mse: 3.6737 - mae: 1.5122\n",
            "Epoch 181/200\n",
            "7/7 [==============================] - 0s 4ms/step - loss: 3.7113 - mse: 3.2709 - mae: 1.4362\n",
            "Epoch 182/200\n",
            "7/7 [==============================] - 0s 3ms/step - loss: 4.0205 - mse: 3.5805 - mae: 1.4765\n",
            "Epoch 183/200\n",
            "7/7 [==============================] - 0s 3ms/step - loss: 3.8928 - mse: 3.4532 - mae: 1.4789\n",
            "Epoch 184/200\n",
            "7/7 [==============================] - 0s 4ms/step - loss: 3.5527 - mse: 3.1134 - mae: 1.3909\n",
            "Epoch 185/200\n",
            "7/7 [==============================] - 0s 5ms/step - loss: 4.0345 - mse: 3.5956 - mae: 1.5110\n",
            "Epoch 186/200\n",
            "7/7 [==============================] - 0s 4ms/step - loss: 3.9859 - mse: 3.5474 - mae: 1.4639\n",
            "Epoch 187/200\n",
            "7/7 [==============================] - 0s 3ms/step - loss: 3.6647 - mse: 3.2265 - mae: 1.4104\n",
            "Epoch 188/200\n",
            "7/7 [==============================] - 0s 3ms/step - loss: 4.0711 - mse: 3.6333 - mae: 1.4809\n",
            "Epoch 189/200\n",
            "7/7 [==============================] - 0s 3ms/step - loss: 3.6842 - mse: 3.2468 - mae: 1.4104\n",
            "Epoch 190/200\n",
            "7/7 [==============================] - 0s 3ms/step - loss: 3.4156 - mse: 2.9787 - mae: 1.3449\n",
            "Epoch 191/200\n",
            "7/7 [==============================] - 0s 3ms/step - loss: 3.9544 - mse: 3.5179 - mae: 1.4965\n",
            "Epoch 192/200\n",
            "7/7 [==============================] - 0s 3ms/step - loss: 3.9409 - mse: 3.5049 - mae: 1.4806\n",
            "Epoch 193/200\n",
            "7/7 [==============================] - 0s 3ms/step - loss: 4.1705 - mse: 3.7349 - mae: 1.5132\n",
            "Epoch 194/200\n",
            "7/7 [==============================] - 0s 3ms/step - loss: 3.8380 - mse: 3.4028 - mae: 1.4249\n",
            "Epoch 195/200\n",
            "7/7 [==============================] - 0s 3ms/step - loss: 4.0958 - mse: 3.6609 - mae: 1.4966\n",
            "Epoch 196/200\n",
            "7/7 [==============================] - 0s 3ms/step - loss: 4.0907 - mse: 3.6562 - mae: 1.5280\n",
            "Epoch 197/200\n",
            "7/7 [==============================] - 0s 3ms/step - loss: 4.1258 - mse: 3.6917 - mae: 1.5078\n",
            "Epoch 198/200\n",
            "7/7 [==============================] - 0s 3ms/step - loss: 3.9365 - mse: 3.5028 - mae: 1.4877\n",
            "Epoch 199/200\n",
            "7/7 [==============================] - 0s 3ms/step - loss: 3.6447 - mse: 3.2114 - mae: 1.4434\n",
            "Epoch 200/200\n",
            "7/7 [==============================] - 0s 3ms/step - loss: 3.7347 - mse: 3.3019 - mae: 1.4203\n"
          ],
          "name": "stdout"
        },
        {
          "output_type": "execute_result",
          "data": {
            "text/plain": [
              "<tensorflow.python.keras.callbacks.History at 0x7fc41587a250>"
            ]
          },
          "metadata": {
            "tags": []
          },
          "execution_count": 41
        }
      ]
    },
    {
      "cell_type": "code",
      "metadata": {
        "colab": {
          "base_uri": "https://localhost:8080/",
          "height": 302
        },
        "id": "zFBQZ79ontDV",
        "outputId": "6dd9504a-4773-4b88-edb0-76a8fda64bd4"
      },
      "source": [
        "plt.scatter(x_test, model.predict(x_test));"
      ],
      "execution_count": 42,
      "outputs": [
        {
          "output_type": "stream",
          "text": [
            "WARNING:tensorflow:6 out of the last 9 calls to <function Model.make_predict_function.<locals>.predict_function at 0x7fc41583c170> triggered tf.function retracing. Tracing is expensive and the excessive number of tracings could be due to (1) creating @tf.function repeatedly in a loop, (2) passing tensors with different shapes, (3) passing Python objects instead of tensors. For (1), please define your @tf.function outside of the loop. For (2), @tf.function has experimental_relax_shapes=True option that relaxes argument shapes that can avoid unnecessary retracing. For (3), please refer to https://www.tensorflow.org/guide/function#controlling_retracing and https://www.tensorflow.org/api_docs/python/tf/function for  more details.\n"
          ],
          "name": "stdout"
        },
        {
          "output_type": "display_data",
          "data": {
            "image/png": "[encoded data removed]",
            "text/plain": [
              "<Figure size 432x288 with 1 Axes>"
            ]
          },
          "metadata": {
            "tags": [],
            "needs_background": "light"
          }
        }
      ]
    },
    {
      "cell_type": "code",
      "metadata": {
        "colab": {
          "base_uri": "https://localhost:8080/",
          "height": 265
        },
        "id": "gOvhyGHvpWKE",
        "outputId": "fa90c93f-4bd1-402b-dd60-4bda4b78c2f5"
      },
      "source": [
        "plt.scatter(x_test, y_test);"
      ],
      "execution_count": 43,
      "outputs": [
        {
          "output_type": "display_data",
          "data": {
            "image/png": "[encoded data removed]",
            "text/plain": [
              "<Figure size 432x288 with 1 Axes>"
            ]
          },
          "metadata": {
            "tags": [],
            "needs_background": "light"
          }
        }
      ]
    },
    {
      "cell_type": "code",
      "metadata": {
        "colab": {
          "base_uri": "https://localhost:8080/",
          "height": 422
        },
        "id": "Cpnr9saSvhVk",
        "outputId": "7c3d07a6-4ba5-40f2-f1b0-5dc9a7dc5ae2"
      },
      "source": [
        "# Another way to visualize the mode\n",
        "from tensorflow.keras.utils import plot_model, Progbar\n",
        "plot_model(model, show_shapes = True, show_dtype = True, )"
      ],
      "execution_count": 44,
      "outputs": [
        {
          "output_type": "execute_result",
          "data": {
            "image/png": "[encoded data removed]",
            "text/plain": [
              "<IPython.core.display.Image object>"
            ]
          },
          "metadata": {
            "tags": []
          },
          "execution_count": 44
        }
      ]
    },
    {
      "cell_type": "markdown",
      "metadata": {
        "id": "gsNbS_Fnx8fk"
      },
      "source": [
        "### Visualizing Model's Predictions"
      ]
    },
    {
      "cell_type": "markdown",
      "metadata": {
        "id": "ToRAMsj8ystn"
      },
      "source": [
        "To visualize predictions, it's a good idea to plot them against the ground truth labels. \n",
        "\n",
        "Often you'll see this in the form of `y_test` or `y_true` versus `y_pred` (ground truth versus our model's predictions). "
      ]
    },
    {
      "cell_type": "code",
      "metadata": {
        "colab": {
          "base_uri": "https://localhost:8080/"
        },
        "id": "j07A0_pmFV9m",
        "outputId": "e715f8d6-b87e-49c1-faea-ffe393d2828f"
      },
      "source": [
        "# Make some predictions\n",
        "y_pred = model.predict(x_test)\n",
        "y_pred.T"
      ],
      "execution_count": 45,
      "outputs": [
        {
          "output_type": "execute_result",
          "data": {
            "text/plain": [
              "array([[ 5.717956 ,  6.598944 ,  9.324403 ,  9.166467 ,  5.7066064,\n",
              "         4.676074 ,  6.381048 ,  6.3750978,  6.381108 , 24.559025 ,\n",
              "         6.647077 ,  9.607966 ,  8.629879 ,  7.0536933,  3.827784 ,\n",
              "         7.6097975,  4.307942 ,  4.0103793,  3.822743 ,  4.8910975,\n",
              "        16.034634 ,  6.9313803,  7.231827 ,  6.294599 ,  3.8146334,\n",
              "         9.356259 ,  4.8408656,  4.987948 ,  4.1804194,  7.1977906,\n",
              "         4.213164 ,  5.2782826,  4.787457 ,  4.0470285, 15.091164 ,\n",
              "         6.964433 ,  7.326327 ,  5.191854 ,  4.0683575,  8.098561 ,\n",
              "         4.3519063,  4.34045  ,  6.3331914,  8.168226 ,  5.2705827,\n",
              "         3.7985678,  3.816453 ,  4.050648 , 13.015759 ,  5.8992724]],\n",
              "      dtype=float32)"
            ]
          },
          "metadata": {
            "tags": []
          },
          "execution_count": 45
        }
      ]
    },
    {
      "cell_type": "code",
      "metadata": {
        "id": "BxHD2vYSFn7p"
      },
      "source": [
        "def plot_predictions(train_data, train_labels, test_data, test_labels, predictions):\n",
        "  \"\"\"\n",
        "  Plots training data, test data and compares predictions to ground truth labels.\n",
        "  \"\"\"\n",
        "  plt.figure(figsize = (10, 7))\n",
        "  # Plot training data in blue\n",
        "  plt.scatter(train_data, train_labels, c = 'b', label = 'Train data')\n",
        "  # Plot test data in green\n",
        "  plt.scatter(test_data, test_labels, c = 'g', label = 'Test data')\n",
        "  # Plot model's predictions\n",
        "  plt.scatter(test_data, predictions, c = 'r', label = 'Predictions')\n",
        "  # show the legend\n",
        "  plt.legend()\n",
        "  return plt"
      ],
      "execution_count": 46,
      "outputs": []
    },
    {
      "cell_type": "code",
      "metadata": {
        "colab": {
          "base_uri": "https://localhost:8080/",
          "height": 428
        },
        "id": "-kojgwQoG2-Z",
        "outputId": "ab86d9c9-2bbc-459f-f76d-d003ba0618f1"
      },
      "source": [
        "plot_predictions(x_train, y_train, x_test, y_test, y_pred);"
      ],
      "execution_count": 47,
      "outputs": [
        {
          "output_type": "display_data",
          "data": {
            "image/png": "[encoded data removed]",
            "text/plain": [
              "<Figure size 720x504 with 1 Axes>"
            ]
          },
          "metadata": {
            "tags": [],
            "needs_background": "light"
          }
        }
      ]
    },
    {
      "cell_type": "markdown",
      "metadata": {
        "id": "cLOZqq7CG7Vn"
      },
      "source": [
        "### Evaluating the Model with Evaluation Metrics"
      ]
    },
    {
      "cell_type": "markdown",
      "metadata": {
        "id": "6ipaQfBoHhfn"
      },
      "source": [
        "Depending on the problem we are working on, there will be different evaluation metrics to evaluate the model's performance.\n",
        "\n",
        "In the regression problems, three most frequently used metrics are:\n",
        "\n",
        "\n",
        "*   Mean Absolute Error (MAE)\n",
        "*   Mean Squared Error (MSE)\n",
        "*   Huber (combination of MAE and MSE; less sensitive to outliers)\n",
        "  *  Huber approaches MSE when $\\delta$ aproaches 0, while it approaches MAE when $\\delta\\$ approaches infinity \n",
        "\n",
        "\n",
        "The MAE is given by:\n",
        "\n",
        "$$\n",
        "\\begin{aligned}\n",
        "MAE = \\frac{1}{N}\\sum_{i = 1}^{N}|y_{i} - \\hat{y_{i}}|\n",
        "\\end{aligned}\n",
        "$$\n",
        "\n",
        "The MSE is given by:\n",
        "\n",
        "$$\n",
        "\\begin{aligned}\n",
        "MSE = \\frac{1}{N}\\sum_{i = 1}^{N}(y_{i} - \\hat{y_{i}})^{2}\n",
        "\\end{aligned}\n",
        "$$\n",
        "\n",
        "The Huber is given by:\n",
        "\n",
        "$$\n",
        "\\begin{equation}\n",
        "    L_{\\delta}(y, f(x)) =\n",
        "    \\left\\{\n",
        "        \\begin{array}{cc}\n",
        "                \\frac{1}{2}(y - f(x))^2 & \\mathrm{if\\ } |y - f(X)| \\le \\delta \\\\\n",
        "                \\delta|y - f(x)|-\\frac{1}{2}\\delta^2 & \\mathrm{otherwise\\ } \\\\\n",
        "        \\end{array} \n",
        "    \\right.\n",
        "\\end{equation}\n",
        "$$\n",
        "<br>\n",
        "MAE in TF is represented by `tf.keras.losses.MAE()` or `tf.metrics.mean_absolute_error()`. MSE is represented by `tf.keras.losses.MSE()` or `tf.metrics.mean_squared_error()`. Huber is represented by `tf.keras.losses.huber()`.\n"
      ]
    },
    {
      "cell_type": "code",
      "metadata": {
        "colab": {
          "base_uri": "https://localhost:8080/"
        },
        "id": "z6FlhlfmJEhP",
        "outputId": "6955c451-c016-4f68-cfdb-428f4098239f"
      },
      "source": [
        "# Evaluate the model on the test set the quick way\n",
        "model.evaluate(x_test, y_test)"
      ],
      "execution_count": 48,
      "outputs": [
        {
          "output_type": "stream",
          "text": [
            "2/2 [==============================] - 0s 8ms/step - loss: 5.1528 - mse: 4.7203 - mae: 1.6990\n"
          ],
          "name": "stdout"
        },
        {
          "output_type": "execute_result",
          "data": {
            "text/plain": [
              "[5.152801513671875, 4.720340251922607, 1.6989610195159912]"
            ]
          },
          "metadata": {
            "tags": []
          },
          "execution_count": 48
        }
      ]
    },
    {
      "cell_type": "code",
      "metadata": {
        "colab": {
          "base_uri": "https://localhost:8080/"
        },
        "id": "F8jP8jaFLbDs",
        "outputId": "a6145073-a140-480a-b841-7731616fb64f"
      },
      "source": [
        "model_mae = tf.keras.losses.MAE(y_test, tf.squeeze(y_pred)) # you need to squeeze the predictions because of the dimensions problem\n",
        "model_mse = tf.keras.losses.MSE(y_test, tf.squeeze(y_pred))\n",
        "model_huber = tf.keras.losses.huber(y_test, tf.squeeze(y_pred), delta = 1.0)\n",
        "\n",
        "for i in [model_mae, model_mse, model_huber]:\n",
        "  print(i)\n",
        "  print(i.numpy())\n",
        "  print('--------')"
      ],
      "execution_count": 49,
      "outputs": [
        {
          "output_type": "stream",
          "text": [
            "tf.Tensor(1.698961, shape=(), dtype=float32)\n",
            "1.698961\n",
            "--------\n",
            "tf.Tensor(4.7203403, shape=(), dtype=float32)\n",
            "4.7203403\n",
            "--------\n",
            "tf.Tensor(1.2821245, shape=(), dtype=float32)\n",
            "1.2821245\n",
            "--------\n"
          ],
          "name": "stdout"
        }
      ]
    },
    {
      "cell_type": "markdown",
      "metadata": {
        "id": "F_90o9UZNOmV"
      },
      "source": [
        "### Experimenting with the Model"
      ]
    },
    {
      "cell_type": "markdown",
      "metadata": {
        "id": "36Dz35EWkt4g"
      },
      "source": [
        "In essence, in order to improve the model, we should make it bigger or train it for longer time. Let's do three \"experiments\". The first one should be the base model with only one layer and trained for 300 epochs. The second one could be with two layers and trained for 300 epochs. The final one could have two layers and be trained for 500 epochs. \n",
        "\n",
        "Let's create some data and try it!"
      ]
    },
    {
      "cell_type": "code",
      "metadata": {
        "id": "6XTw7cKQnCu6"
      },
      "source": [
        "# Before tackling \"experiments\", let's create some quick functions for getting evaluation metrics\n",
        "\n",
        "def evaluate_nn(y_test, y_pred):\n",
        "  mae = tf.keras.losses.MAE(y_test, y_pred).numpy()\n",
        "  mse = tf.keras.losses.MSE(y_test, y_pred).numpy()\n",
        "  huber = tf.keras.losses.huber(y_test, y_pred, delta = 1.0).numpy()\n",
        "  return mae, mse, huber"
      ],
      "execution_count": 67,
      "outputs": []
    },
    {
      "cell_type": "code",
      "metadata": {
        "id": "ZVJiibXRijHg"
      },
      "source": [
        "# First experiment\n",
        "tf.random.set_seed(42)\n",
        "model1 = tf.keras.Sequential()\n",
        "model1.add(tf.keras.layers.Dense(1))\n",
        "\n",
        "model1.compile(\n",
        "    loss = tf.keras.losses.mse,\n",
        "    optimizer = tf.keras.optimizers.SGD(),\n",
        "    metrics = ['mse', 'mae']\n",
        ")\n",
        "\n",
        "model1.fit(x_train, y_train, epochs = 300, verbose = 0);"
      ],
      "execution_count": 72,
      "outputs": []
    },
    {
      "cell_type": "code",
      "metadata": {
        "id": "F3SMpmT0inva",
        "colab": {
          "base_uri": "https://localhost:8080/",
          "height": 428
        },
        "outputId": "2f28207d-1e4d-4408-e328-6f45ef37113f"
      },
      "source": [
        "model1_pred = model1.predict(x_test)\n",
        "plot_predictions(x_train, y_train, x_test, y_test, model1_pred);"
      ],
      "execution_count": 73,
      "outputs": [
        {
          "output_type": "display_data",
          "data": {
            "image/png": "[encoded data removed]",
            "text/plain": [
              "<Figure size 720x504 with 1 Axes>"
            ]
          },
          "metadata": {
            "tags": [],
            "needs_background": "light"
          }
        }
      ]
    },
    {
      "cell_type": "markdown",
      "metadata": {
        "id": "5Vk9OKC_mMP1"
      },
      "source": [
        "We can see that the learned relationship is linear since we have only one layer and it's activation is linear activation. Let's evaluate it and try another model."
      ]
    },
    {
      "cell_type": "code",
      "metadata": {
        "colab": {
          "base_uri": "https://localhost:8080/"
        },
        "id": "REgQSZjZnYhp",
        "outputId": "fe2cd35f-42e2-434d-dde4-df2284bc7909"
      },
      "source": [
        "results1 = evaluate_nn(y_test, tf.squeeze(model1_pred))\n",
        "print('MAE:', results1[0])\n",
        "print('MSE:', results1[1])\n",
        "print('Huber:', results1[2])"
      ],
      "execution_count": 74,
      "outputs": [
        {
          "output_type": "stream",
          "text": [
            "MAE: 2.1142788\n",
            "MSE: 9.882532\n",
            "Huber: 1.6682762\n"
          ],
          "name": "stdout"
        }
      ]
    },
    {
      "cell_type": "code",
      "metadata": {
        "id": "j3DJNBKqmb7L"
      },
      "source": [
        "# Experiment 2\n",
        "model2 = tf.keras.Sequential()\n",
        "model2.add(tf.keras.layers.Dense(100, activation = 'relu'))\n",
        "model2.add(tf.keras.layers.Dense(100, activation = 'relu'))\n",
        "model2.add(tf.keras.layers.Dense(1))\n",
        "\n",
        "model2.compile(loss = tf.keras.losses.mse,\n",
        "               optimizer = tf.keras.optimizers.SGD(),\n",
        "               metrics = ['mse', 'mae'])\n",
        "\n",
        "model2.fit(x_train, y_train, epochs = 300, verbose = 0);"
      ],
      "execution_count": 75,
      "outputs": []
    },
    {
      "cell_type": "code",
      "metadata": {
        "colab": {
          "base_uri": "https://localhost:8080/",
          "height": 428
        },
        "id": "q6bOBpkDm1x8",
        "outputId": "46ca2de0-e137-4982-971b-af053d2c731a"
      },
      "source": [
        "model2_pred = model2.predict(x_test)\n",
        "plot_predictions(x_train, y_train, x_test, y_test, model2_pred);"
      ],
      "execution_count": 76,
      "outputs": [
        {
          "output_type": "display_data",
          "data": {
            "image/png": "[encoded data removed]",
            "text/plain": [
              "<Figure size 720x504 with 1 Axes>"
            ]
          },
          "metadata": {
            "tags": [],
            "needs_background": "light"
          }
        }
      ]
    },
    {
      "cell_type": "code",
      "metadata": {
        "colab": {
          "base_uri": "https://localhost:8080/"
        },
        "id": "SK7aDdqam7Iq",
        "outputId": "13b1b8cb-390f-41f6-a48c-3c40169ef6bd"
      },
      "source": [
        "results2 = evaluate_nn(y_test, tf.squeeze(model2_pred))\n",
        "print('MAE:', results2[0])\n",
        "print('MSE:', results2[1])\n",
        "print('Huber:', results2[2])"
      ],
      "execution_count": 77,
      "outputs": [
        {
          "output_type": "stream",
          "text": [
            "MAE: 1.7854687\n",
            "MSE: 4.648294\n",
            "Huber: 1.3296442\n"
          ],
          "name": "stdout"
        }
      ]
    },
    {
      "cell_type": "markdown",
      "metadata": {
        "id": "88YMy4j_oMkK"
      },
      "source": [
        "> We can see this model is actually better than the previous one! Let's try the third experiment with 500 epochs, Adam optimizer and learning rate of 0.0001."
      ]
    },
    {
      "cell_type": "code",
      "metadata": {
        "id": "sE70JEtBoYCa"
      },
      "source": [
        "# Third experiment\n",
        "model3 = tf.keras.Sequential()\n",
        "\n",
        "model3.add(tf.keras.layers.Dense(100, activation = 'relu'))\n",
        "model3.add(tf.keras.layers.Dense(100, activation = 'relu'))\n",
        "model3.add(tf.keras.layers.Dense(1))\n",
        "\n",
        "model3.compile(\n",
        "    loss = tf.keras.losses.mse,\n",
        "    optimizer = tf.keras.optimizers.Adam(lr = 0.0001),\n",
        "    metrics = ['mse', 'mae']\n",
        ")\n",
        "\n",
        "model3.fit(x_train, y_train, epochs = 500, verbose = 0);"
      ],
      "execution_count": 83,
      "outputs": []
    },
    {
      "cell_type": "code",
      "metadata": {
        "colab": {
          "base_uri": "https://localhost:8080/",
          "height": 428
        },
        "id": "J0FIBVOzpDly",
        "outputId": "23ef3790-c0e5-4d24-bcb4-4b0d5614192d"
      },
      "source": [
        "model3_pred = model3.predict(x_test);\n",
        "plot_predictions(x_train, y_train, x_test, y_test, model3_pred);"
      ],
      "execution_count": 85,
      "outputs": [
        {
          "output_type": "display_data",
          "data": {
            "image/png": "[encoded data removed]",
            "text/plain": [
              "<Figure size 720x504 with 1 Axes>"
            ]
          },
          "metadata": {
            "tags": [],
            "needs_background": "light"
          }
        }
      ]
    },
    {
      "cell_type": "code",
      "metadata": {
        "colab": {
          "base_uri": "https://localhost:8080/"
        },
        "id": "zZFt9ICRpJ75",
        "outputId": "1e3cedf8-34f2-4ae2-b68e-ca43829efe61"
      },
      "source": [
        "results3 = evaluate_nn(y_test, tf.squeeze(model3_pred))\n",
        "print('MAE:', results3[0])\n",
        "print('MSE:', results3[1])\n",
        "print('Huber:', results3[2])"
      ],
      "execution_count": 87,
      "outputs": [
        {
          "output_type": "stream",
          "text": [
            "MAE: 1.6700377\n",
            "MSE: 4.555373\n",
            "Huber: 1.2456819\n"
          ],
          "name": "stdout"
        }
      ]
    },
    {
      "cell_type": "markdown",
      "metadata": {
        "id": "Ho8HKzGkpfE5"
      },
      "source": [
        "> This model is also very good. Let us compare the metrics of all three models next to each others."
      ]
    },
    {
      "cell_type": "code",
      "metadata": {
        "colab": {
          "base_uri": "https://localhost:8080/"
        },
        "id": "sW59FrkSpo1A",
        "outputId": "e9ebfcd1-e3e4-4631-c314-5c70b7ac5d8a"
      },
      "source": [
        "print('MAE Model1:', results1[0], '   MAE Model2:', results2[0], '   MAE Model3:', results3[0])\n",
        "print('MSE Model1:', results1[1], '   MSE Model2:', results2[1], '   MSE Model3:', results3[1])\n",
        "print('Huber Model1:', results1[2], '   Huber Model2:', results2[2], '   Huber Model3:', results3[2])"
      ],
      "execution_count": 88,
      "outputs": [
        {
          "output_type": "stream",
          "text": [
            "MAE Model1: 2.1142788    MAE Model2: 1.7854687    MAE Model3: 1.6700377\n",
            "MSE Model1: 9.882532    MSE Model2: 4.648294    MSE Model3: 4.555373\n",
            "Huber Model1: 1.6682762    Huber Model2: 1.3296442    Huber Model3: 1.2456819\n"
          ],
          "name": "stdout"
        }
      ]
    },
    {
      "cell_type": "markdown",
      "metadata": {
        "id": "2zl6OFWAp584"
      },
      "source": [
        "Base on the previous results, we can conclude that Model 3 is the best one. However, note that the difference is practically negligible. Furthermore, we didn't use validation set as well, which could mean that the possibility of overfitting on the test data exists."
      ]
    },
    {
      "cell_type": "code",
      "metadata": {
        "id": "m7frvhytqRzI"
      },
      "source": [
        "# Let's just create a new model with 5000 epochs, just for fun \n",
        "# although we already approcimated the function really well with model2 and model3 :) \n",
        "\n",
        "model4 = tf.keras.Sequential()\n",
        "\n",
        "model4.add(tf.keras.layers.Dense(100, activation = 'relu'))\n",
        "model4.add(tf.keras.layers.Dense(100, activation = 'relu'))\n",
        "model4.add(tf.keras.layers.Dense(1))\n",
        "\n",
        "model4.compile(\n",
        "    loss = tf.keras.losses.mse,\n",
        "    optimizer = tf.keras.optimizers.Adam(lr = 0.0001),\n",
        "    metrics = ['mse', 'mae']\n",
        ")\n",
        "\n",
        "model4.fit(x_train, y_train, epochs = 5000, verbose = 0);"
      ],
      "execution_count": 89,
      "outputs": []
    },
    {
      "cell_type": "code",
      "metadata": {
        "colab": {
          "base_uri": "https://localhost:8080/",
          "height": 428
        },
        "id": "hKWdHBujrEBp",
        "outputId": "dd6c4346-7f92-485f-b410-67f04d956e51"
      },
      "source": [
        "model4_pred = model4.predict(x_test)\n",
        "plot_predictions(x_train, y_train, x_test, y_test, model4_pred);"
      ],
      "execution_count": 91,
      "outputs": [
        {
          "output_type": "display_data",
          "data": {
            "image/png": "[encoded data removed]",
            "text/plain": [
              "<Figure size 720x504 with 1 Axes>"
            ]
          },
          "metadata": {
            "tags": [],
            "needs_background": "light"
          }
        }
      ]
    },
    {
      "cell_type": "code",
      "metadata": {
        "colab": {
          "base_uri": "https://localhost:8080/"
        },
        "id": "no2qepD8rMR_",
        "outputId": "6930f315-e5be-466f-929a-9617514604c9"
      },
      "source": [
        "results4 = evaluate_nn(y_test, tf.squeeze(model4_pred))\n",
        "print('MAE:', results4[0])\n",
        "print('MSE:', results4[1])\n",
        "print('Huber:', results4[2])"
      ],
      "execution_count": 92,
      "outputs": [
        {
          "output_type": "stream",
          "text": [
            "MAE: 1.624366\n",
            "MSE: 4.280773\n",
            "Huber: 1.1900197\n"
          ],
          "name": "stdout"
        }
      ]
    },
    {
      "cell_type": "markdown",
      "metadata": {
        "id": "SG77nrifrVHh"
      },
      "source": [
        "Based on these results, we can conclude that training our model for longer will not always lead to better results. In essence, if we can approximate the function really well with 300 or 500 epochs, there is no need to go over that since the results will be the same. Therefore, we can always start with smaller models in order to see if they work and increase the complexity of the model only if it is necessary. "
      ]
    },
    {
      "cell_type": "code",
      "metadata": {
        "colab": {
          "base_uri": "https://localhost:8080/"
        },
        "id": "1lkLybOlrlT-",
        "outputId": "1d47f70e-c321-491b-d023-e8c6387d4713"
      },
      "source": [
        "# Let's put evaluation metrics into a pandas dataframe\n",
        "import pandas as pd \n",
        "\n",
        "model_results = [['model1', results1[0], results1[1], results1[2]],\n",
        "                 ['model2', results2[0], results2[1], results2[2]],\n",
        "                 ['model3', results3[0], results3[1], results3[2]],\n",
        "                 ['model4', results4[0], results4[1], results4[2]]\n",
        "                 ]\n",
        "\n",
        "result_metrics = pd.DataFrame(model_results, columns = ['Model', 'MAE', 'MSE', \"HUBER\"])\n",
        "print(result_metrics)"
      ],
      "execution_count": 95,
      "outputs": [
        {
          "output_type": "stream",
          "text": [
            "    Model       MAE       MSE     HUBER\n",
            "0  model1  2.114279  9.882532  1.668276\n",
            "1  model2  1.785469  4.648294  1.329644\n",
            "2  model3  1.670038  4.555373  1.245682\n",
            "3  model4  1.624366  4.280773  1.190020\n"
          ],
          "name": "stdout"
        }
      ]
    },
    {
      "cell_type": "markdown",
      "metadata": {
        "id": "HvMb1stsszs4"
      },
      "source": [
        "<br><br/>\n",
        "Of course, whitle tackling a real-world problem we would experiment with a lot of different models, so tracking their losses this way could become tedious. Obviously, we woudln't do that (this was just for the sake of learning) - we would use some better ways to track our experiments.\n",
        "Those tools are:\n",
        "\n",
        "\n",
        "*   TensorBoard - a component of the TF library to help track modelling experiments\n",
        "*   Weights & Biases - a tool for tracking all kinds of machine learning experimens (plugs straight into TensorBoard)\n",
        "\n",
        "We will cover these soon enough.\n",
        "\n"
      ]
    },
    {
      "cell_type": "markdown",
      "metadata": {
        "id": "zp_ZtxEyuSPC"
      },
      "source": [
        "### Saving and Loading the Model"
      ]
    },
    {
      "cell_type": "markdown",
      "metadata": {
        "id": "bsitvlKaujFl"
      },
      "source": [
        "Let's say that we have tried a few models and we want to save/export the specific one (model3 in this case, since it proved to be the most optimal one). In essence, how do we export a model from Google Colab or Jupyter Notebook?\n",
        "\n",
        "There are a [few ways to save our model](https://www.tensorflow.org/tutorials/keras/save_and_load). \n",
        "\n",
        "\n",
        "1.   We can save checkpoints during training and if something interrupts the training we can pick up where we left off\n",
        "2.   With the SavedModel format (also useful for continuing with training)\n",
        "3.   With HDF5 format (also useful for continuing with training)\n",
        "\n"
      ]
    },
    {
      "cell_type": "code",
      "metadata": {
        "colab": {
          "base_uri": "https://localhost:8080/"
        },
        "id": "c8kGZOohucPs",
        "outputId": "0989d4ec-acc5-4a28-a8b6-559f66f04e64"
      },
      "source": [
        "# Save the model using the savedmodel format\n",
        "# It saves it in Google Colab!\n",
        "model3.save('best_model')\n",
        "\n",
        "# Let's save it as HDF5 format \n",
        "model3.save('best_modelh5.h5')"
      ],
      "execution_count": 104,
      "outputs": [
        {
          "output_type": "stream",
          "text": [
            "INFO:tensorflow:Assets written to: best_model/assets\n"
          ],
          "name": "stdout"
        }
      ]
    },
    {
      "cell_type": "markdown",
      "metadata": {
        "id": "UyeJJdHqxQcE"
      },
      "source": [
        "As a rule of a thumb, if we want to use the model inside TF, when it is better to save it in a SavedModel format, while HDF5 is more suitable for other purposses."
      ]
    },
    {
      "cell_type": "code",
      "metadata": {
        "id": "Hwh76RZAv5-E"
      },
      "source": [
        "# Let's try to load the model, we can load it from both formats\n",
        "loaded_model = tf.keras.models.load_model('best_model.h5')"
      ],
      "execution_count": 106,
      "outputs": []
    },
    {
      "cell_type": "code",
      "metadata": {
        "colab": {
          "base_uri": "https://localhost:8080/"
        },
        "id": "TBm9mJYow7-J",
        "outputId": "7360c1fc-39d8-4c00-f92c-17a1302bfc26"
      },
      "source": [
        "loaded_model.summary()"
      ],
      "execution_count": 107,
      "outputs": [
        {
          "output_type": "stream",
          "text": [
            "Model: \"sequential_15\"\n",
            "_________________________________________________________________\n",
            "Layer (type)                 Output Shape              Param #   \n",
            "=================================================================\n",
            "dense_31 (Dense)             (None, 100)               200       \n",
            "_________________________________________________________________\n",
            "dense_32 (Dense)             (None, 100)               10100     \n",
            "_________________________________________________________________\n",
            "dense_33 (Dense)             (None, 1)                 101       \n",
            "=================================================================\n",
            "Total params: 10,401\n",
            "Trainable params: 10,401\n",
            "Non-trainable params: 0\n",
            "_________________________________________________________________\n"
          ],
          "name": "stdout"
        }
      ]
    },
    {
      "cell_type": "code",
      "metadata": {
        "colab": {
          "base_uri": "https://localhost:8080/",
          "height": 422
        },
        "id": "2NmaFStlw9Sy",
        "outputId": "54bba7ce-77ad-4094-cf75-f2aeca3f3a10"
      },
      "source": [
        "from tensorflow.keras.utils import plot_model\n",
        "plot_model(loaded_model, show_shapes = True)"
      ],
      "execution_count": 111,
      "outputs": [
        {
          "output_type": "execute_result",
          "data": {
            "image/png": "[encoded data removed]",
            "text/plain": [
              "<IPython.core.display.Image object>"
            ]
          },
          "metadata": {
            "tags": []
          },
          "execution_count": 111
        }
      ]
    },
    {
      "cell_type": "code",
      "metadata": {
        "id": "0vhSE_-NxiFO"
      },
      "source": [
        ""
      ],
      "execution_count": null,
      "outputs": []
    }
  ]
}